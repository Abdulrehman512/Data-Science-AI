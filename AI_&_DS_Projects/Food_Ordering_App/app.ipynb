{
 "cells": [
  {
   "cell_type": "code",
   "execution_count": 4,
   "metadata": {},
   "outputs": [
    {
     "data": {
      "text/plain": [
       "str"
      ]
     },
     "execution_count": 4,
     "metadata": {},
     "output_type": "execute_result"
    }
   ],
   "source": [
    "type(input(\"Please Give some Number:\"))"
   ]
  },
  {
   "cell_type": "code",
   "execution_count": 5,
   "metadata": {},
   "outputs": [],
   "source": [
    "restaurant_name = \"Buddies Inn\"\n",
    "\n",
    "menu = menu = {\n",
    "    'SKU1': {'name': 'Burger', 'price': 5.99},\n",
    "    'SKU2': {'name': 'Pizza', 'price': 8.99},\n",
    "    'SKU3': {'name': 'Pasta', 'price': 7.49},\n",
    "    'SKU4': {'name': 'Salad', 'price': 4.99},\n",
    "    'SKU5': {'name': 'Steak', 'price': 12.99},\n",
    "    'SKU6': {'name': 'Sushi', 'price': 10.49},\n",
    "    'SKU7': {'name': 'Chicken Wings', 'price': 6.99},\n",
    "    'SKU8': {'name': 'Sandwich', 'price': 4.49},\n",
    "    'SKU9': {'name': 'Tacos', 'price': 5.49},\n",
    "    'SKU10': {'name': 'Ice Cream', 'price': 3.99}\n",
    "}\n",
    "\n",
    "cart = {}\n",
    "\n",
    "actions = {\n",
    "    \"1\" : \"Add Items to the Cart\",\n",
    "    \"2\" : \"Remove Items to the Cart\",\n",
    "    \"3\" : \"Modify Items quantity in the Cart\",\n",
    "    \"4\" : \"View Items in the Cart\",\n",
    "    \"5\" : \"Checkout\",\n",
    "    \"6\" : \"Exit\"\n",
    "           }\n",
    "\n",
    "gst = 0.07"
   ]
  },
  {
   "cell_type": "code",
   "execution_count": 14,
   "metadata": {},
   "outputs": [
    {
     "name": "stdout",
     "output_type": "stream",
     "text": [
      "1 Burger 5.99\n",
      "2 Pizza 8.99\n",
      "3 Pasta 7.49\n",
      "4 Salad 4.99\n",
      "5 Steak 12.99\n",
      "6 Sushi 10.49\n",
      "7 Chicken Wings 6.99\n",
      "8 Sandwich 4.49\n",
      "9 Tacos 5.49\n",
      "10 Ice Cream 3.99\n"
     ]
    }
   ],
   "source": [
    "for sku in menu:\n",
    "    stock = sku[3:]\n",
    "    name = menu[sku][\"name\"]\n",
    "    price = menu[sku][\"price\"]\n",
    "\n",
    "    print(stock, name, price)"
   ]
  },
  {
   "cell_type": "code",
   "execution_count": 15,
   "metadata": {},
   "outputs": [
    {
     "name": "stdout",
     "output_type": "stream",
     "text": [
      "(1) Burger $5.99 \n",
      "(2) Pizza $8.99 \n",
      "(3) Pasta $7.49 \n",
      "(4) Salad $4.99 \n",
      "(5) Steak $12.99 \n",
      "(6) Sushi $10.49 \n",
      "(7) Chicken Wings $6.99 \n",
      "(8) Sandwich $4.49 \n",
      "(9) Tacos $5.49 \n",
      "(10) Ice Cream $3.99 \n"
     ]
    }
   ],
   "source": [
    "for sku in menu:\n",
    "    stock = sku[3:]\n",
    "    name = menu[sku][\"name\"]\n",
    "    price = menu[sku][\"price\"]\n",
    "\n",
    "    print(f\"({stock}) {name} ${price} \")"
   ]
  },
  {
   "cell_type": "code",
   "execution_count": 16,
   "metadata": {},
   "outputs": [],
   "source": [
    "def display_menu():\n",
    "    \"\"\"Displays all menu items SKU's , names and prices \"\"\"\n",
    "    print(\"\\n *** Buddies Inn Menu *** \\n\")\n",
    "\n",
    "    for sku in menu:\n",
    "        stock = sku[3:]\n",
    "        name = menu[sku][\"name\"]\n",
    "        price = menu[sku][\"price\"]\n",
    "\n",
    "        print(f\" ({stock}) {name} ${price}\")\n",
    "    print(\"\\n\")    "
   ]
  },
  {
   "cell_type": "code",
   "execution_count": 19,
   "metadata": {},
   "outputs": [
    {
     "name": "stdout",
     "output_type": "stream",
     "text": [
      "\n",
      " *** Buddies Inn Menu *** \n",
      "\n",
      " (1) Burger $5.99\n",
      " (2) Pizza $8.99\n",
      " (3) Pasta $7.49\n",
      " (4) Salad $4.99\n",
      " (5) Steak $12.99\n",
      " (6) Sushi $10.49\n",
      " (7) Chicken Wings $6.99\n",
      " (8) Sandwich $4.49\n",
      " (9) Tacos $5.49\n",
      " (10) Ice Cream $3.99\n",
      "\n",
      "\n"
     ]
    }
   ],
   "source": [
    "display_menu()"
   ]
  },
  {
   "cell_type": "code",
   "execution_count": 20,
   "metadata": {},
   "outputs": [
    {
     "data": {
      "text/plain": [
       "{}"
      ]
     },
     "execution_count": 20,
     "metadata": {},
     "output_type": "execute_result"
    }
   ],
   "source": [
    "cart"
   ]
  },
  {
   "cell_type": "code",
   "execution_count": null,
   "metadata": {},
   "outputs": [],
   "source": []
  }
 ],
 "metadata": {
  "kernelspec": {
   "display_name": "base",
   "language": "python",
   "name": "python3"
  },
  "language_info": {
   "codemirror_mode": {
    "name": "ipython",
    "version": 3
   },
   "file_extension": ".py",
   "mimetype": "text/x-python",
   "name": "python",
   "nbconvert_exporter": "python",
   "pygments_lexer": "ipython3",
   "version": "3.11.5"
  }
 },
 "nbformat": 4,
 "nbformat_minor": 2
}
