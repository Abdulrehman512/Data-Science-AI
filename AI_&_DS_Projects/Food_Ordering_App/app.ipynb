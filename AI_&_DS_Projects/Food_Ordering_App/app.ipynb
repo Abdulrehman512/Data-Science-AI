{
 "cells": [
  {
   "cell_type": "code",
   "execution_count": 137,
   "metadata": {},
   "outputs": [
    {
     "data": {
      "text/plain": [
       "str"
      ]
     },
     "execution_count": 137,
     "metadata": {},
     "output_type": "execute_result"
    }
   ],
   "source": [
    "type(input(\"Please Give some Number:\"))"
   ]
  },
  {
   "cell_type": "code",
   "execution_count": 138,
   "metadata": {},
   "outputs": [],
   "source": [
    "restaurant_name = \"Buddies Inn\"\n",
    "\n",
    "menu = menu = {\n",
    "    'SKU1': {'name': 'Burger', 'price': 5.99},\n",
    "    'SKU2': {'name': 'Pizza', 'price': 8.99},\n",
    "    'SKU3': {'name': 'Pasta', 'price': 7.49},\n",
    "    'SKU4': {'name': 'Salad', 'price': 4.99},\n",
    "    'SKU5': {'name': 'Steak', 'price': 12.99},\n",
    "    'SKU6': {'name': 'Sushi', 'price': 10.49},\n",
    "    'SKU7': {'name': 'Chicken Wings', 'price': 6.99},\n",
    "    'SKU8': {'name': 'Sandwich', 'price': 4.49},\n",
    "    'SKU9': {'name': 'Tacos', 'price': 5.49},\n",
    "    'SKU10': {'name': 'Ice Cream', 'price': 3.99}\n",
    "}\n",
    "\n",
    "cart = {}\n",
    "\n",
    "actions = {\n",
    "    \"1\" : \"Add Items to the Cart\",\n",
    "    \"2\" : \"Remove Items to the Cart\",\n",
    "    \"3\" : \"Modify Items quantity in the Cart\",\n",
    "    \"4\" : \"View Items in the Cart\",\n",
    "    \"5\" : \"Checkout\",\n",
    "    \"6\" : \"Exit\"\n",
    "           }\n",
    "\n",
    "gst = 0.07"
   ]
  },
  {
   "cell_type": "code",
   "execution_count": 139,
   "metadata": {},
   "outputs": [
    {
     "name": "stdout",
     "output_type": "stream",
     "text": [
      "1 Burger 5.99\n",
      "2 Pizza 8.99\n",
      "3 Pasta 7.49\n",
      "4 Salad 4.99\n",
      "5 Steak 12.99\n",
      "6 Sushi 10.49\n",
      "7 Chicken Wings 6.99\n",
      "8 Sandwich 4.49\n",
      "9 Tacos 5.49\n",
      "10 Ice Cream 3.99\n"
     ]
    }
   ],
   "source": [
    "for sku in menu:\n",
    "    stock = sku[3:]\n",
    "    name = menu[sku][\"name\"]\n",
    "    price = menu[sku][\"price\"]\n",
    "\n",
    "    print(stock, name, price)"
   ]
  },
  {
   "cell_type": "code",
   "execution_count": 140,
   "metadata": {},
   "outputs": [
    {
     "name": "stdout",
     "output_type": "stream",
     "text": [
      "(1) Burger $5.99 \n",
      "(2) Pizza $8.99 \n",
      "(3) Pasta $7.49 \n",
      "(4) Salad $4.99 \n",
      "(5) Steak $12.99 \n",
      "(6) Sushi $10.49 \n",
      "(7) Chicken Wings $6.99 \n",
      "(8) Sandwich $4.49 \n",
      "(9) Tacos $5.49 \n",
      "(10) Ice Cream $3.99 \n"
     ]
    }
   ],
   "source": [
    "for sku in menu:\n",
    "    stock = sku[3:]\n",
    "    name = menu[sku][\"name\"]\n",
    "    price = menu[sku][\"price\"]\n",
    "\n",
    "    print(f\"({stock}) {name} ${price} \")"
   ]
  },
  {
   "cell_type": "code",
   "execution_count": 141,
   "metadata": {},
   "outputs": [],
   "source": [
    "def display_menu():\n",
    "    \"\"\"Displays all menu items SKU's , names and prices \"\"\"\n",
    "    print(\"\\n *** Buddies Inn Menu *** \\n\")\n",
    "\n",
    "    for sku in menu:\n",
    "        stock = sku[3:]\n",
    "        name = menu[sku][\"name\"]\n",
    "        price = menu[sku][\"price\"]\n",
    "\n",
    "        print(f\" ({stock}) {name} ${price}\")\n",
    "    print(\"\\n\")    "
   ]
  },
  {
   "cell_type": "code",
   "execution_count": 142,
   "metadata": {},
   "outputs": [
    {
     "name": "stdout",
     "output_type": "stream",
     "text": [
      "\n",
      " *** Buddies Inn Menu *** \n",
      "\n",
      " (1) Burger $5.99\n",
      " (2) Pizza $8.99\n",
      " (3) Pasta $7.49\n",
      " (4) Salad $4.99\n",
      " (5) Steak $12.99\n",
      " (6) Sushi $10.49\n",
      " (7) Chicken Wings $6.99\n",
      " (8) Sandwich $4.49\n",
      " (9) Tacos $5.49\n",
      " (10) Ice Cream $3.99\n",
      "\n",
      "\n"
     ]
    }
   ],
   "source": [
    "display_menu()"
   ]
  },
  {
   "cell_type": "code",
   "execution_count": 143,
   "metadata": {},
   "outputs": [
    {
     "data": {
      "text/plain": [
       "{}"
      ]
     },
     "execution_count": 143,
     "metadata": {},
     "output_type": "execute_result"
    }
   ],
   "source": [
    "cart"
   ]
  },
  {
   "cell_type": "code",
   "execution_count": 144,
   "metadata": {},
   "outputs": [],
   "source": [
    "order = \"SKU\" + \"3\""
   ]
  },
  {
   "cell_type": "code",
   "execution_count": 145,
   "metadata": {},
   "outputs": [],
   "source": [
    "# order"
   ]
  },
  {
   "cell_type": "code",
   "execution_count": 146,
   "metadata": {},
   "outputs": [
    {
     "data": {
      "text/plain": [
       "{'SKU1': {'name': 'Burger', 'price': 5.99},\n",
       " 'SKU2': {'name': 'Pizza', 'price': 8.99},\n",
       " 'SKU3': {'name': 'Pasta', 'price': 7.49},\n",
       " 'SKU4': {'name': 'Salad', 'price': 4.99},\n",
       " 'SKU5': {'name': 'Steak', 'price': 12.99},\n",
       " 'SKU6': {'name': 'Sushi', 'price': 10.49},\n",
       " 'SKU7': {'name': 'Chicken Wings', 'price': 6.99},\n",
       " 'SKU8': {'name': 'Sandwich', 'price': 4.49},\n",
       " 'SKU9': {'name': 'Tacos', 'price': 5.49},\n",
       " 'SKU10': {'name': 'Ice Cream', 'price': 3.99}}"
      ]
     },
     "execution_count": 146,
     "metadata": {},
     "output_type": "execute_result"
    }
   ],
   "source": [
    "menu"
   ]
  },
  {
   "cell_type": "code",
   "execution_count": 147,
   "metadata": {},
   "outputs": [],
   "source": [
    "d = {}\n",
    "\n",
    "d[\"item\"] = 1"
   ]
  },
  {
   "cell_type": "code",
   "execution_count": 148,
   "metadata": {},
   "outputs": [
    {
     "data": {
      "text/plain": [
       "{'item': 1}"
      ]
     },
     "execution_count": 148,
     "metadata": {},
     "output_type": "execute_result"
    }
   ],
   "source": [
    "d"
   ]
  },
  {
   "cell_type": "code",
   "execution_count": 149,
   "metadata": {},
   "outputs": [],
   "source": [
    "d[\"item\"] += 2"
   ]
  },
  {
   "cell_type": "code",
   "execution_count": 150,
   "metadata": {},
   "outputs": [
    {
     "data": {
      "text/plain": [
       "{'item': 3}"
      ]
     },
     "execution_count": 150,
     "metadata": {},
     "output_type": "execute_result"
    }
   ],
   "source": [
    "d"
   ]
  },
  {
   "cell_type": "code",
   "execution_count": 151,
   "metadata": {},
   "outputs": [
    {
     "data": {
      "text/plain": [
       "True"
      ]
     },
     "execution_count": 151,
     "metadata": {},
     "output_type": "execute_result"
    }
   ],
   "source": [
    "order in menu"
   ]
  },
  {
   "cell_type": "code",
   "execution_count": 152,
   "metadata": {},
   "outputs": [],
   "source": [
    "if order in menu:\n",
    "    if order in cart:\n",
    "        cart[order] +=1\n",
    "    else:\n",
    "        cart[order] = 1    "
   ]
  },
  {
   "cell_type": "code",
   "execution_count": 153,
   "metadata": {},
   "outputs": [],
   "source": [
    "order = \"SKU\" +\"15\""
   ]
  },
  {
   "cell_type": "code",
   "execution_count": 154,
   "metadata": {},
   "outputs": [],
   "source": [
    "# if order in menu:\n",
    "#     if order not in cart:\n",
    "#         cart[order] = 1\n",
    "#     else:\n",
    "#         cart[order] += 1\n",
    "        \n",
    "#     print(\"Item has been added in your cart\")\n",
    "    \n",
    "# else:\n",
    "#     print(\"Sorry! This item is not available\")"
   ]
  },
  {
   "cell_type": "code",
   "execution_count": 155,
   "metadata": {},
   "outputs": [
    {
     "data": {
      "text/plain": [
       "{'SKU3': 1}"
      ]
     },
     "execution_count": 155,
     "metadata": {},
     "output_type": "execute_result"
    }
   ],
   "source": [
    "cart"
   ]
  },
  {
   "cell_type": "code",
   "execution_count": 156,
   "metadata": {},
   "outputs": [],
   "source": [
    "def add_to_cart(sku, quantity=1):\n",
    "    \"\"\"\n",
    "     Add an item and its quantity to cart\n",
    "\n",
    "    :param1 string sku: The input SKU number being ordered\n",
    "    :param2 int quantity: The input qunatity being ordered\n",
    "       \"\"\"\n",
    "    if sku in menu:\n",
    "        if sku not in cart:\n",
    "            cart[sku] = quantity\n",
    "        else:\n",
    "            cart[sku] += quantity\n",
    "        print(f\"Added {quantity} {menu[sku]['name']} in your cart\")\n",
    "\n",
    "    else:\n",
    "        print(\"Sorry! The ordered item is not available in the menu\")\n",
    "    \n"
   ]
  },
  {
   "cell_type": "code",
   "execution_count": 157,
   "metadata": {},
   "outputs": [
    {
     "name": "stdout",
     "output_type": "stream",
     "text": [
      "Added 5 Chicken Wings in your cart\n"
     ]
    },
    {
     "data": {
      "text/plain": [
       "{'SKU3': 1, 'SKU7': 5}"
      ]
     },
     "execution_count": 157,
     "metadata": {},
     "output_type": "execute_result"
    }
   ],
   "source": [
    "add_to_cart(\"SKU7\",5)\n",
    "cart\n"
   ]
  },
  {
   "cell_type": "code",
   "execution_count": 158,
   "metadata": {},
   "outputs": [
    {
     "data": {
      "text/plain": [
       "{'1': 'Add Items to the Cart',\n",
       " '2': 'Remove Items to the Cart',\n",
       " '3': 'Modify Items quantity in the Cart',\n",
       " '4': 'View Items in the Cart',\n",
       " '5': 'Checkout',\n",
       " '6': 'Exit'}"
      ]
     },
     "execution_count": 158,
     "metadata": {},
     "output_type": "execute_result"
    }
   ],
   "source": [
    "actions"
   ]
  },
  {
   "cell_type": "code",
   "execution_count": 159,
   "metadata": {},
   "outputs": [
    {
     "data": {
      "text/plain": [
       "{'SKU3': 1, 'SKU7': 5}"
      ]
     },
     "execution_count": 159,
     "metadata": {},
     "output_type": "execute_result"
    }
   ],
   "source": [
    "cart"
   ]
  },
  {
   "cell_type": "code",
   "execution_count": 160,
   "metadata": {},
   "outputs": [],
   "source": [
    "removed_item = \"SKU7\""
   ]
  },
  {
   "cell_type": "code",
   "execution_count": 161,
   "metadata": {},
   "outputs": [
    {
     "data": {
      "text/plain": [
       "True"
      ]
     },
     "execution_count": 161,
     "metadata": {},
     "output_type": "execute_result"
    }
   ],
   "source": [
    "removed_item in cart"
   ]
  },
  {
   "cell_type": "code",
   "execution_count": 162,
   "metadata": {},
   "outputs": [
    {
     "name": "stdout",
     "output_type": "stream",
     "text": [
      "Removed item from the cart\n"
     ]
    }
   ],
   "source": [
    "if removed_item in cart:\n",
    "    removed = cart.pop(removed_item)\n",
    "    print(f\"Removed item from the cart\")\n",
    "else:\n",
    "    print(\"Sorry! item is not available in the cart\")    "
   ]
  },
  {
   "cell_type": "code",
   "execution_count": 163,
   "metadata": {},
   "outputs": [
    {
     "name": "stdout",
     "output_type": "stream",
     "text": [
      "Sorry! item is not available in the cart\n"
     ]
    }
   ],
   "source": [
    "if removed_item in cart:\n",
    "    removed = cart.pop(removed_item)\n",
    "    print(f\"Removed item from the cart\")\n",
    "else:\n",
    "    print(\"Sorry! item is not available in the cart\") "
   ]
  },
  {
   "cell_type": "code",
   "execution_count": 164,
   "metadata": {},
   "outputs": [],
   "source": [
    "removed_item = \"SKU3\""
   ]
  },
  {
   "cell_type": "code",
   "execution_count": 165,
   "metadata": {},
   "outputs": [],
   "source": [
    "def remove_from_cart(sku):\n",
    "    \"\"\"\n",
    "     Remove an item from the cart\n",
    "    \n",
    "    :param string sku: The input SKU number to remove from the cart.\n",
    "    \"\"\"\n",
    "    if sku in cart:\n",
    "        removed_val = cart.pop(sku)\n",
    "        print(f\"Removed {menu[sku]['name']} from the cart.\")\n",
    "    else:\n",
    "        print(f\"Sorry! This item is not available in the cart\")    \n"
   ]
  },
  {
   "cell_type": "code",
   "execution_count": 166,
   "metadata": {},
   "outputs": [
    {
     "name": "stdout",
     "output_type": "stream",
     "text": [
      "Removed Pasta from the cart.\n"
     ]
    }
   ],
   "source": [
    "remove_from_cart(removed_item)"
   ]
  },
  {
   "cell_type": "code",
   "execution_count": 167,
   "metadata": {},
   "outputs": [
    {
     "name": "stdout",
     "output_type": "stream",
     "text": [
      "Sorry! This item is not available in the cart\n"
     ]
    }
   ],
   "source": [
    "remove_from_cart(removed_item)"
   ]
  },
  {
   "cell_type": "code",
   "execution_count": 168,
   "metadata": {},
   "outputs": [
    {
     "data": {
      "text/plain": [
       "{'1': 'Add Items to the Cart',\n",
       " '2': 'Remove Items to the Cart',\n",
       " '3': 'Modify Items quantity in the Cart',\n",
       " '4': 'View Items in the Cart',\n",
       " '5': 'Checkout',\n",
       " '6': 'Exit'}"
      ]
     },
     "execution_count": 168,
     "metadata": {},
     "output_type": "execute_result"
    }
   ],
   "source": [
    "actions"
   ]
  },
  {
   "cell_type": "code",
   "execution_count": 169,
   "metadata": {},
   "outputs": [],
   "source": [
    "def modify_cart(sku, quantity):\n",
    "    \"\"\"\n",
    "    Modify an item's qunatity in the cart\n",
    "    \n",
    "    :param1 string sku: The input SKU number being ordered\n",
    "    :param2 int qunatity: The input new quantity to be modified for SKU.\n",
    "    \"\"\"\n",
    "    \n",
    "    if sku in cart:\n",
    "        if quantity > 0:\n",
    "            cart[sku] = quantity\n",
    "            print(f\"Modified {menu[sku]['name']}\\'s quantity to {quantity}\")\n",
    "        else:\n",
    "            remove_from_cart(sku)\n",
    "    else:      \n",
    "        print(\"Sorry! This item is not available in the cart\")\n"
   ]
  },
  {
   "cell_type": "code",
   "execution_count": 170,
   "metadata": {},
   "outputs": [],
   "source": [
    "cart[\"SKU3\"] = 7\n",
    "cart[\"SKU10\"] = 5"
   ]
  },
  {
   "cell_type": "code",
   "execution_count": 171,
   "metadata": {},
   "outputs": [
    {
     "data": {
      "text/plain": [
       "{'SKU3': 7, 'SKU10': 5}"
      ]
     },
     "execution_count": 171,
     "metadata": {},
     "output_type": "execute_result"
    }
   ],
   "source": [
    "cart"
   ]
  },
  {
   "cell_type": "code",
   "execution_count": 172,
   "metadata": {},
   "outputs": [
    {
     "name": "stdout",
     "output_type": "stream",
     "text": [
      "Modified Pasta's quantity to 4\n"
     ]
    }
   ],
   "source": [
    "modify_cart(\"SKU3\", 4)"
   ]
  },
  {
   "cell_type": "code",
   "execution_count": 173,
   "metadata": {},
   "outputs": [
    {
     "data": {
      "text/plain": [
       "{'SKU3': 4, 'SKU10': 5}"
      ]
     },
     "execution_count": 173,
     "metadata": {},
     "output_type": "execute_result"
    }
   ],
   "source": [
    "cart"
   ]
  },
  {
   "cell_type": "code",
   "execution_count": 174,
   "metadata": {},
   "outputs": [
    {
     "name": "stdout",
     "output_type": "stream",
     "text": [
      "Removed Pasta from the cart.\n"
     ]
    }
   ],
   "source": [
    "modify_cart(\"SKU3\", 0)"
   ]
  },
  {
   "cell_type": "code",
   "execution_count": 175,
   "metadata": {},
   "outputs": [
    {
     "name": "stdout",
     "output_type": "stream",
     "text": [
      "Removed Ice Cream from the cart.\n"
     ]
    }
   ],
   "source": [
    "modify_cart(\"SKU10\", 0)"
   ]
  },
  {
   "cell_type": "code",
   "execution_count": 176,
   "metadata": {},
   "outputs": [
    {
     "name": "stdout",
     "output_type": "stream",
     "text": [
      "Sorry! This item is not available in the cart\n"
     ]
    }
   ],
   "source": [
    "modify_cart(\"SKU15\", 3)"
   ]
  },
  {
   "cell_type": "code",
   "execution_count": 177,
   "metadata": {},
   "outputs": [],
   "source": [
    "cart[\"SKU3\"] = 7\n",
    "cart[\"SKU10\"] = 5"
   ]
  },
  {
   "cell_type": "code",
   "execution_count": 178,
   "metadata": {},
   "outputs": [
    {
     "data": {
      "text/plain": [
       "{'SKU3': 7, 'SKU10': 5}"
      ]
     },
     "execution_count": 178,
     "metadata": {},
     "output_type": "execute_result"
    }
   ],
   "source": [
    "cart"
   ]
  },
  {
   "cell_type": "code",
   "execution_count": 179,
   "metadata": {},
   "outputs": [
    {
     "name": "stdout",
     "output_type": "stream",
     "text": [
      "7 x Pasta\n",
      "5 x Ice Cream\n",
      "Total: $ 77.45\n"
     ]
    }
   ],
   "source": [
    "subtotal = 0\n",
    "\n",
    "for sku in cart:\n",
    "    quantity = cart[sku]\n",
    "    price = menu[sku]['price']\n",
    "    \n",
    "    subtotal+= quantity*price\n",
    "    \n",
    "    print(f\"{quantity} x {menu[sku]['name']}\")\n",
    "          \n",
    "tax = subtotal*gst\n",
    "    \n",
    "total = subtotal + tax\n",
    "          \n",
    "print(\"Total: $\", round(total,2))"
   ]
  },
  {
   "cell_type": "code",
   "execution_count": 180,
   "metadata": {},
   "outputs": [
    {
     "name": "stdout",
     "output_type": "stream",
     "text": [
      "7 x Pasta\n",
      "5 x Ice Cream\n"
     ]
    }
   ],
   "source": [
    "subtotal = 0\n",
    "\n",
    "for sku in cart:\n",
    "    quantity = cart[sku]\n",
    "    price = menu[sku]['price']\n",
    "    \n",
    "    subtotal+= quantity*price\n",
    "    \n",
    "    print(f\"{quantity} x {menu[sku]['name']}\")\n",
    "          \n",
    "tax = subtotal*gst\n",
    "    \n",
    "total = subtotal + tax"
   ]
  },
  {
   "cell_type": "code",
   "execution_count": 181,
   "metadata": {},
   "outputs": [],
   "source": [
    "def view_cart():\n",
    "    \"Display the menu names, quatity and total amount\"\n",
    "    \n",
    "    print(\"\\n***Your Order***\\n\")\n",
    "    subtotal = 0\n",
    "\n",
    "    for sku in cart:\n",
    "        quantity = cart[sku]\n",
    "        price = menu[sku]['price']\n",
    "\n",
    "        subtotal+= quantity*price\n",
    "\n",
    "        print(f\"{quantity} x {menu[sku]['name']}\")\n",
    "\n",
    "    tax = subtotal*gst\n",
    "\n",
    "    total = subtotal + tax\n",
    "    print(f\"Total: ${total: .2f}\")\n",
    "    print(\"\\n\")"
   ]
  },
  {
   "cell_type": "code",
   "execution_count": 182,
   "metadata": {},
   "outputs": [
    {
     "name": "stdout",
     "output_type": "stream",
     "text": [
      "\n",
      "***Your Order***\n",
      "\n",
      "7 x Pasta\n",
      "5 x Ice Cream\n",
      "Total: $ 77.45\n",
      "\n",
      "\n"
     ]
    }
   ],
   "source": [
    "view_cart()"
   ]
  },
  {
   "cell_type": "code",
   "execution_count": null,
   "metadata": {},
   "outputs": [],
   "source": []
  }
 ],
 "metadata": {
  "kernelspec": {
   "display_name": "base",
   "language": "python",
   "name": "python3"
  },
  "language_info": {
   "codemirror_mode": {
    "name": "ipython",
    "version": 3
   },
   "file_extension": ".py",
   "mimetype": "text/x-python",
   "name": "python",
   "nbconvert_exporter": "python",
   "pygments_lexer": "ipython3",
   "version": "3.11.5"
  }
 },
 "nbformat": 4,
 "nbformat_minor": 2
}
