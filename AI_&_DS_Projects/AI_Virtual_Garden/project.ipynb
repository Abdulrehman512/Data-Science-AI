{
 "cells": [
  {
   "cell_type": "markdown",
   "metadata": {},
   "source": [
    "## Virtual Garden"
   ]
  },
  {
   "cell_type": "code",
   "execution_count": 8,
   "metadata": {},
   "outputs": [],
   "source": [
    "class Plant:\n",
    "    def __init__(self,name,harvest_yield):\n",
    "       self.name = name\n",
    "       self.harvest_yield = harvest_yield\n",
    "       self.growth_stages = [\"seed\", \"sprout\", \"mature\", \"flower\", \"fruit\", \"harvest_ready\"]\n",
    "       self.current_stage = self.growth_stages[0]\n",
    "       self.harvestable = False\n",
    "\n",
    "    def grow(self):\n",
    "        current_index = self.growth_stages.index(self.current_stage)\n",
    "        \n",
    "        if current_index < len(self.growth_stages)-1:\n",
    "            self.current_stage = self.growth_stages[current_index + 1]\n",
    "            if self.current_stage == self.growth_stages[-1]:\n",
    "                self.harvestable = True\n",
    "                \n",
    "        elif self.current_stage == self.growth_stages[-1]:\n",
    "            print(f\"{self.name} is already full grown\")\n",
    "            \n",
    "    def harvest(self):\n",
    "        if self.harvestable:\n",
    "            self.harvestable = False\n",
    "            return self.harvest_yield\n",
    "        else:\n",
    "            print(f\"Your {self.name} is not haravestable\")"
   ]
  },
  {
   "cell_type": "code",
   "execution_count": 9,
   "metadata": {},
   "outputs": [],
   "source": [
    "tomato = Plant(\"tomato\", 10)"
   ]
  },
  {
   "cell_type": "code",
   "execution_count": 10,
   "metadata": {},
   "outputs": [
    {
     "name": "stdout",
     "output_type": "stream",
     "text": [
      "Your tomato is not haravestable\n"
     ]
    }
   ],
   "source": [
    "tomato.harvest()"
   ]
  },
  {
   "cell_type": "code",
   "execution_count": 11,
   "metadata": {},
   "outputs": [
    {
     "data": {
      "text/plain": [
       "'seed'"
      ]
     },
     "execution_count": 11,
     "metadata": {},
     "output_type": "execute_result"
    }
   ],
   "source": [
    "tomato.current_stage"
   ]
  },
  {
   "cell_type": "code",
   "execution_count": 12,
   "metadata": {},
   "outputs": [],
   "source": [
    "tomato.grow()"
   ]
  },
  {
   "cell_type": "code",
   "execution_count": 13,
   "metadata": {},
   "outputs": [
    {
     "data": {
      "text/plain": [
       "'sprout'"
      ]
     },
     "execution_count": 13,
     "metadata": {},
     "output_type": "execute_result"
    }
   ],
   "source": [
    "tomato.current_stage"
   ]
  },
  {
   "cell_type": "code",
   "execution_count": 14,
   "metadata": {},
   "outputs": [
    {
     "data": {
      "text/plain": [
       "'mature'"
      ]
     },
     "execution_count": 14,
     "metadata": {},
     "output_type": "execute_result"
    }
   ],
   "source": [
    "tomato.grow()\n",
    "tomato.current_stage"
   ]
  },
  {
   "cell_type": "code",
   "execution_count": 15,
   "metadata": {},
   "outputs": [
    {
     "data": {
      "text/plain": [
       "'flower'"
      ]
     },
     "execution_count": 15,
     "metadata": {},
     "output_type": "execute_result"
    }
   ],
   "source": [
    "tomato.grow()\n",
    "tomato.current_stage"
   ]
  },
  {
   "cell_type": "code",
   "execution_count": 16,
   "metadata": {},
   "outputs": [
    {
     "data": {
      "text/plain": [
       "'fruit'"
      ]
     },
     "execution_count": 16,
     "metadata": {},
     "output_type": "execute_result"
    }
   ],
   "source": [
    "tomato.grow()\n",
    "tomato.current_stage"
   ]
  },
  {
   "cell_type": "code",
   "execution_count": 17,
   "metadata": {},
   "outputs": [
    {
     "data": {
      "text/plain": [
       "'harvest_ready'"
      ]
     },
     "execution_count": 17,
     "metadata": {},
     "output_type": "execute_result"
    }
   ],
   "source": [
    "tomato.grow()\n",
    "tomato.current_stage"
   ]
  },
  {
   "cell_type": "code",
   "execution_count": 18,
   "metadata": {},
   "outputs": [
    {
     "name": "stdout",
     "output_type": "stream",
     "text": [
      "tomato is already full grown\n"
     ]
    },
    {
     "data": {
      "text/plain": [
       "'harvest_ready'"
      ]
     },
     "execution_count": 18,
     "metadata": {},
     "output_type": "execute_result"
    }
   ],
   "source": [
    "tomato.grow()\n",
    "tomato.current_stage"
   ]
  },
  {
   "cell_type": "code",
   "execution_count": 19,
   "metadata": {},
   "outputs": [],
   "source": [
    "# class Tomato(Plant):\n",
    "#     def __init__(self, name, harvest_yield):\n",
    "#         super().__init__(name, harvest_yield)\n",
    "\n",
    "\n",
    "class Tomato(Plant):\n",
    "    def __init__(self):\n",
    "        super().__init__(\"Tomato\", 10)\n",
    "        \n",
    "\n",
    "class Potato(Plant):\n",
    "    def __init__(self):\n",
    "        super().__init__(\"Potato\", 10)\n",
    "        self.growth_stages = [\"seed\", \"sprout\", \"mature\", \"harvest_ready\"]\n",
    "        \n",
    "class Carrot(Plant):\n",
    "    def __init__(self):\n",
    "        super().__init__(\"Carrot\", 10)\n",
    "        self.growth_stages = [\"seed\", \"sprout\", \"mature\", \"harvest_ready\"]"
   ]
  },
  {
   "cell_type": "code",
   "execution_count": 20,
   "metadata": {},
   "outputs": [],
   "source": [
    "import random\n",
    "\n",
    "seeds = [\"tomato\", \"potato\", \"carrot\"]\n",
    "\n",
    "# random.choice(seeds)"
   ]
  },
  {
   "cell_type": "code",
   "execution_count": 21,
   "metadata": {},
   "outputs": [],
   "source": [
    "class Gardner:\n",
    "    \"\"\"Represent a gardner who can plant and harvest plants.\"\"\"\n",
    "    \n",
    "    def __init__(self, name):\n",
    "        self.name = name\n",
    "        self.inventory = {} # seed name and quantity\n",
    "        \n",
    "    def get_seed(self):\n",
    "        seed = random.choice(seeds)\n",
    "        \n",
    "        if seed not in self.inventory:\n",
    "            self.inventory[seed] = 1\n",
    "        else:\n",
    "            self.inventory[seed] += 1\n",
    "            \n",
    "        print(f\"[self.name] has found the {seed} seed!\")\n",
    "        \n",
    "    def plant(self):\n",
    "        # selected_plant = \n",
    "        pass\n",
    "        "
   ]
  },
  {
   "cell_type": "code",
   "execution_count": 22,
   "metadata": {},
   "outputs": [
    {
     "data": {
      "text/plain": [
       "['tomato', 'carrot', 'potato']"
      ]
     },
     "execution_count": 22,
     "metadata": {},
     "output_type": "execute_result"
    }
   ],
   "source": [
    "inventory = {\"tomato\": 4, \"carrot\":9, \"potato\":5}\n",
    "\n",
    "\n",
    "inventory.keys()\n",
    "\n",
    "list(inventory.keys())"
   ]
  },
  {
   "cell_type": "code",
   "execution_count": 23,
   "metadata": {},
   "outputs": [
    {
     "data": {
      "text/plain": [
       "4"
      ]
     },
     "execution_count": 23,
     "metadata": {},
     "output_type": "execute_result"
    }
   ],
   "source": [
    "inventory[\"tomato\"]"
   ]
  },
  {
   "cell_type": "code",
   "execution_count": 24,
   "metadata": {},
   "outputs": [],
   "source": [
    "def select_seed(items): # here items will replace with an inventory dictionary\n",
    "    item_list = list(items.keys())\n",
    "    \n",
    "    for i in range(len(item_list)):\n",
    "        item_name = item_list[i]\n",
    "        print(f\"{i+1}. {item_name}\")"
   ]
  },
  {
   "cell_type": "code",
   "execution_count": 25,
   "metadata": {},
   "outputs": [
    {
     "name": "stdout",
     "output_type": "stream",
     "text": [
      "1. tomato\n",
      "2. carrot\n",
      "3. potato\n"
     ]
    }
   ],
   "source": [
    "select_seed(inventory)"
   ]
  },
  {
   "cell_type": "code",
   "execution_count": 26,
   "metadata": {},
   "outputs": [],
   "source": [
    "def select_seed(items): # here items will replace with an inventory dictionary\n",
    "    item_list = list(items.keys())\n",
    "    \n",
    "    for i in range(len(item_list)):\n",
    "        item_name = item_list[i]\n",
    "        print(f\"{i+1}. {item_name}\")\n",
    "        \n",
    "    while True:\n",
    "        user_input = input(\"Select your seed! number \")\n",
    "        try:\n",
    "            user_input = int(user_input)\n",
    "            if 0 <user_input <= len(item_list):\n",
    "                return item_list[user_input -1]\n",
    "            else:\n",
    "                print(\"Invalid Input\")\n",
    "        except:\n",
    "            print(\"Invalid Input\")"
   ]
  },
  {
   "cell_type": "code",
   "execution_count": 27,
   "metadata": {},
   "outputs": [],
   "source": [
    "class Gardner:\n",
    "    \"\"\"Represent a gardner who can plant and harvest plants.\"\"\"\n",
    "    \n",
    "    plant_dict = {\"tomato\":Tomato, \"potato\": Potato, \"carrot\": Carrot}\n",
    "    \n",
    "    def __init__(self, name):\n",
    "        self.name = name\n",
    "        self.inventory = {} # seed name and quantity\n",
    "        self.planted_plant = []\n",
    "        \n",
    "    def get_seed(self):\n",
    "        seed = random.choice(seeds)\n",
    "        \n",
    "        if seed not in self.inventory:\n",
    "            self.inventory[seed] = 1\n",
    "        else:\n",
    "            self.inventory[seed] += 1\n",
    "            \n",
    "        print(f\"{self.name} has found the {seed} seed!\")\n",
    "        \n",
    "    def plant(self):\n",
    "        selected_plant = select_seed(self.inventory)\n",
    "        \n",
    "        if selected_plant in self.inventory and self.inventory[selected_plant] > 0:\n",
    "            self.inventory[selected_plant] -= 1\n",
    "            if self.inventory[selected_plant] == 0:\n",
    "                del self.inventory[selected_plant]\n",
    "            new_plant = self.plant_dict[selected_plant]()\n",
    "            \n",
    "            self.planted_plant.append(new_plant)\n",
    "            print(f\"{self.name} has planted a {selected_plant} plant!\")\n",
    "            \n",
    "        else:\n",
    "            print(f\"{self.name} does not have any {selected_plant} plant!\")"
   ]
  },
  {
   "cell_type": "code",
   "execution_count": 28,
   "metadata": {},
   "outputs": [],
   "source": [
    "abdul = Gardner(\"abdul\")"
   ]
  },
  {
   "cell_type": "code",
   "execution_count": 29,
   "metadata": {},
   "outputs": [
    {
     "data": {
      "text/plain": [
       "'abdul'"
      ]
     },
     "execution_count": 29,
     "metadata": {},
     "output_type": "execute_result"
    }
   ],
   "source": [
    "abdul.name"
   ]
  },
  {
   "cell_type": "code",
   "execution_count": 30,
   "metadata": {},
   "outputs": [
    {
     "data": {
      "text/plain": [
       "{}"
      ]
     },
     "execution_count": 30,
     "metadata": {},
     "output_type": "execute_result"
    }
   ],
   "source": [
    "abdul.inventory"
   ]
  },
  {
   "cell_type": "code",
   "execution_count": 31,
   "metadata": {},
   "outputs": [
    {
     "data": {
      "text/plain": [
       "[]"
      ]
     },
     "execution_count": 31,
     "metadata": {},
     "output_type": "execute_result"
    }
   ],
   "source": [
    "abdul.planted_plant"
   ]
  },
  {
   "cell_type": "code",
   "execution_count": 32,
   "metadata": {},
   "outputs": [
    {
     "name": "stdout",
     "output_type": "stream",
     "text": [
      "abdul has found the tomato seed!\n"
     ]
    }
   ],
   "source": [
    "abdul.get_seed()"
   ]
  },
  {
   "cell_type": "code",
   "execution_count": 33,
   "metadata": {},
   "outputs": [
    {
     "data": {
      "text/plain": [
       "{'tomato': 1}"
      ]
     },
     "execution_count": 33,
     "metadata": {},
     "output_type": "execute_result"
    }
   ],
   "source": [
    "abdul.inventory"
   ]
  },
  {
   "cell_type": "code",
   "execution_count": 34,
   "metadata": {},
   "outputs": [
    {
     "name": "stdout",
     "output_type": "stream",
     "text": [
      "abdul has found the carrot seed!\n"
     ]
    }
   ],
   "source": [
    "abdul.get_seed()"
   ]
  },
  {
   "cell_type": "code",
   "execution_count": 35,
   "metadata": {},
   "outputs": [
    {
     "data": {
      "text/plain": [
       "{'tomato': 1, 'carrot': 1}"
      ]
     },
     "execution_count": 35,
     "metadata": {},
     "output_type": "execute_result"
    }
   ],
   "source": [
    "abdul.inventory"
   ]
  },
  {
   "cell_type": "code",
   "execution_count": 36,
   "metadata": {},
   "outputs": [
    {
     "name": "stdout",
     "output_type": "stream",
     "text": [
      "abdul has found the potato seed!\n"
     ]
    }
   ],
   "source": [
    "abdul.get_seed()"
   ]
  },
  {
   "cell_type": "code",
   "execution_count": 37,
   "metadata": {},
   "outputs": [
    {
     "data": {
      "text/plain": [
       "{'tomato': 1, 'carrot': 1, 'potato': 1}"
      ]
     },
     "execution_count": 37,
     "metadata": {},
     "output_type": "execute_result"
    }
   ],
   "source": [
    "abdul.inventory"
   ]
  },
  {
   "cell_type": "code",
   "execution_count": 38,
   "metadata": {},
   "outputs": [
    {
     "name": "stdout",
     "output_type": "stream",
     "text": [
      "abdul has found the carrot seed!\n"
     ]
    }
   ],
   "source": [
    "abdul.get_seed()"
   ]
  },
  {
   "cell_type": "code",
   "execution_count": 39,
   "metadata": {},
   "outputs": [
    {
     "data": {
      "text/plain": [
       "{'tomato': 1, 'carrot': 2, 'potato': 1}"
      ]
     },
     "execution_count": 39,
     "metadata": {},
     "output_type": "execute_result"
    }
   ],
   "source": [
    "abdul.inventory"
   ]
  },
  {
   "cell_type": "code",
   "execution_count": 40,
   "metadata": {},
   "outputs": [
    {
     "name": "stdout",
     "output_type": "stream",
     "text": [
      "1. tomato\n",
      "2. carrot\n",
      "3. potato\n",
      "abdul has planted a potato plant!\n"
     ]
    }
   ],
   "source": [
    "abdul.plant()"
   ]
  },
  {
   "cell_type": "code",
   "execution_count": 41,
   "metadata": {},
   "outputs": [],
   "source": [
    "class Plant:\n",
    "    def __init__(self, name, harvest_yield):\n",
    "        self.name = name\n",
    "        self.harvest_yield = harvest_yield\n",
    "        self.growth_stages = [\"seed\", \"sprout\", \"mature\", \"flower\", \"fruit\", \"harvest_ready\"]\n",
    "        self.current_stage = self.growth_stages[0]\n",
    "        self.harvestable = False\n",
    "        \n",
    "    def grow(self):\n",
    "        current_index = self.growth_stages.index(self.current_stage)\n",
    "        \n",
    "        if current_index < (len(self.growth_stages)-1):\n",
    "            self.current_stage = self.growth_stages[current_index + 1]\n",
    "            if self.current_stage == self.growth_stages[-1]:\n",
    "                self.harvestable = True\n",
    "                \n",
    "        elif self.current_stage == self.growth_stages[-1]:\n",
    "            print(f\"{self.name} is already fully grown\")\n",
    "            \n",
    "    def harvest(self):\n",
    "        if self.harvestable:\n",
    "            self.harvestable = False\n",
    "            return self.harvest_yield\n",
    "        else:\n",
    "            return None"
   ]
  },
  {
   "cell_type": "code",
   "execution_count": 42,
   "metadata": {},
   "outputs": [],
   "source": [
    "class Tomato(Plant):\n",
    "    def __init__(self):\n",
    "        super().__init__(\"Tomato\", 10)\n",
    "        \n",
    "\n",
    "class Potato(Plant):\n",
    "    def __init__(self):\n",
    "        super().__init__(\"Potato\", 3)\n",
    "        self.growth_stages = [\"seed\", \"sprout\", \"mature\", \"harvest_ready\"]\n",
    "        \n",
    "class Carrot(Plant):\n",
    "    def __init__(self):\n",
    "        super().__init__(\"Carrot\", 5)\n",
    "        self.growth_stages = [\"seed\", \"sprout\", \"mature\", \"harvest_ready\"]"
   ]
  },
  {
   "cell_type": "code",
   "execution_count": 43,
   "metadata": {},
   "outputs": [],
   "source": [
    "import random\n",
    "\n",
    "seeds = [\"tomato\", \"potato\", \"carrot\"]"
   ]
  },
  {
   "cell_type": "code",
   "execution_count": 44,
   "metadata": {},
   "outputs": [],
   "source": [
    "def select_seed(items): # here items will replace with an inventory dictionary\n",
    "    item_list = list(items.keys())\n",
    "    \n",
    "    for i in range(len(item_list)):\n",
    "        item_name = item_list[i]\n",
    "        print(f\"{i+1}. {item_name}\")\n",
    "    print()   \n",
    "    while True:\n",
    "        user_input = input(\"Select an item \")\n",
    "        try:\n",
    "            user_input = int(user_input)\n",
    "            if 0 <user_input <= len(item_list):\n",
    "                return item_list[user_input -1]\n",
    "            else:\n",
    "                print(\"Invalid Input\")\n",
    "        except:\n",
    "            print(\"Invalid Input\")"
   ]
  },
  {
   "cell_type": "code",
   "execution_count": 45,
   "metadata": {},
   "outputs": [],
   "source": [
    "class Gardener:\n",
    "    \"\"\"Represent a gardner who can plant and harvest plants.\"\"\"\n",
    "    \n",
    "    plant_dict = {\"tomato\":Tomato, \"potato\": Potato, \"carrot\": Carrot}\n",
    "    \n",
    "    def __init__(self, name):\n",
    "        self.name = name\n",
    "        self.inventory = {} # seed name and quantity\n",
    "        self.planted_plants = []\n",
    "        \n",
    "    def get_seed(self):\n",
    "        seed = random.choice(seeds)\n",
    "        \n",
    "        if seed not in self.inventory:\n",
    "            self.inventory[seed] = 1\n",
    "        else:\n",
    "            self.inventory[seed] += 1\n",
    "            \n",
    "        print(f\"{self.name} has found the {seed} seed!\")\n",
    "        \n",
    "    def plant(self):\n",
    "        selected_plant = select_seed(self.inventory)\n",
    "        \n",
    "        if selected_plant in self.inventory and self.inventory[selected_plant] > 0:\n",
    "            self.inventory[selected_plant] -= 1\n",
    "            if self.inventory[selected_plant] == 0:\n",
    "                del self.inventory[selected_plant]\n",
    "            new_plant = self.plant_dict[selected_plant]()\n",
    "            \n",
    "            self.planted_plants.append(new_plant)\n",
    "            print(f\"{self.name} has planted a {selected_plant} plant!\")\n",
    "            \n",
    "        else:\n",
    "            print(f\"{self.name} does not have any {selected_plant} plant!\")\n",
    "            \n",
    "    def tend(self):\n",
    "        for plant in self.planted_plants:\n",
    "            if not plant.harvestable:\n",
    "                plant.grow()\n",
    "                print(f\"{plant.name} is now on a {plant.current_stage} stage!\")\n",
    "            else:\n",
    "                print(f\"{plant.name} is ready to be harvested\")\n",
    "            "
   ]
  },
  {
   "cell_type": "code",
   "execution_count": 47,
   "metadata": {},
   "outputs": [
    {
     "name": "stdout",
     "output_type": "stream",
     "text": [
      "Abdul has found the potato seed!\n"
     ]
    }
   ],
   "source": [
    "abdul = Gardener(\"Abdul\")\n",
    "\n",
    "abdul.get_seed()"
   ]
  },
  {
   "cell_type": "code",
   "execution_count": 48,
   "metadata": {},
   "outputs": [
    {
     "data": {
      "text/plain": [
       "{'potato': 1}"
      ]
     },
     "execution_count": 48,
     "metadata": {},
     "output_type": "execute_result"
    }
   ],
   "source": [
    "abdul.inventory"
   ]
  },
  {
   "cell_type": "code",
   "execution_count": 49,
   "metadata": {},
   "outputs": [
    {
     "name": "stdout",
     "output_type": "stream",
     "text": [
      "1. potato\n",
      "\n",
      "Invalid Input\n",
      "Abdul has planted a potato plant!\n"
     ]
    }
   ],
   "source": [
    "abdul.plant()"
   ]
  },
  {
   "cell_type": "code",
   "execution_count": 50,
   "metadata": {},
   "outputs": [
    {
     "data": {
      "text/plain": [
       "{}"
      ]
     },
     "execution_count": 50,
     "metadata": {},
     "output_type": "execute_result"
    }
   ],
   "source": [
    "abdul.inventory"
   ]
  },
  {
   "cell_type": "code",
   "execution_count": 51,
   "metadata": {},
   "outputs": [
    {
     "name": "stdout",
     "output_type": "stream",
     "text": [
      "Potato is now on a sprout stage!\n"
     ]
    }
   ],
   "source": [
    "abdul.tend()"
   ]
  },
  {
   "cell_type": "code",
   "execution_count": 52,
   "metadata": {},
   "outputs": [
    {
     "name": "stdout",
     "output_type": "stream",
     "text": [
      "Potato is now on a mature stage!\n"
     ]
    }
   ],
   "source": [
    "abdul.tend()"
   ]
  },
  {
   "cell_type": "code",
   "execution_count": 53,
   "metadata": {},
   "outputs": [
    {
     "name": "stdout",
     "output_type": "stream",
     "text": [
      "Potato is now on a harvest_ready stage!\n"
     ]
    }
   ],
   "source": [
    "abdul.tend()"
   ]
  },
  {
   "cell_type": "code",
   "execution_count": 54,
   "metadata": {},
   "outputs": [
    {
     "name": "stdout",
     "output_type": "stream",
     "text": [
      "Potato is ready to be harvested\n"
     ]
    }
   ],
   "source": [
    "abdul.tend()"
   ]
  },
  {
   "cell_type": "code",
   "execution_count": 55,
   "metadata": {},
   "outputs": [],
   "source": [
    "class Gardener:\n",
    "    \"\"\"Represent a gardner who can plant and harvest plants.\"\"\"\n",
    "    \n",
    "    plant_dict = {\"tomato\":Tomato, \"potato\": Potato, \"carrot\": Carrot}\n",
    "    \n",
    "    def __init__(self, name):\n",
    "        self.name = name\n",
    "        self.inventory = {} # seed name and quantity\n",
    "        self.planted_plants = []\n",
    "        \n",
    "    def get_seed(self):\n",
    "        seed = random.choice(seeds)\n",
    "        \n",
    "        if seed not in self.inventory:\n",
    "            self.inventory[seed] = 1\n",
    "        else:\n",
    "            self.inventory[seed] += 1\n",
    "            \n",
    "        print(f\"{self.name} has found the {seed} seed!\")\n",
    "        \n",
    "    def plant(self):\n",
    "        selected_plant = select_seed(self.inventory)\n",
    "        \n",
    "        if selected_plant in self.inventory and self.inventory[selected_plant] > 0:\n",
    "            self.inventory[selected_plant] -= 1\n",
    "            if self.inventory[selected_plant] == 0:\n",
    "                del self.inventory[selected_plant]\n",
    "            new_plant = self.plant_dict[selected_plant]()\n",
    "            \n",
    "            self.planted_plants.append(new_plant)\n",
    "            print(f\"{self.name} has planted a {selected_plant} plant!\")\n",
    "            \n",
    "        else:\n",
    "            print(f\"{self.name} does not have any {selected_plant} plant!\")\n",
    "            \n",
    "    def tend(self):\n",
    "        for plant in self.planted_plants:\n",
    "            if not plant.harvestable:\n",
    "                plant.grow()\n",
    "                print(f\"{plant.name} is now on a {plant.current_stage} stage!\")\n",
    "            else:\n",
    "                print(f\"{plant.name} is ready to be harvested\")\n",
    "    def harvest(self):\n",
    "        pass"
   ]
  },
  {
   "cell_type": "code",
   "execution_count": 56,
   "metadata": {},
   "outputs": [],
   "source": [
    "def select_item(items): # here items will replace with an inventory dictionary\n",
    "    if type(items) == dict:\n",
    "        item_list = list(items.keys()) # \"tomato\", \"potato\"\n",
    "    elif type(items) == list:\n",
    "        item_list = items  # Tomato(), Potato()\n",
    "    \n",
    "    for i in range(len(item_list)):\n",
    "        try:\n",
    "            item_name = item_list[i].name\n",
    "        except:\n",
    "            item_name = item_list[i]\n",
    "        print(f\"{i+1}. {item_name}\")\n",
    "        \n",
    "    print()   \n",
    "    while True:\n",
    "        user_input = input(\"Select an item \")\n",
    "        try:\n",
    "            user_input = int(user_input)\n",
    "            if 0 <user_input <= len(item_list):\n",
    "                return item_list[user_input -1]\n",
    "            else:\n",
    "                print(\"Invalid Input\")\n",
    "        except:\n",
    "            print(\"Invalid Input\")"
   ]
  },
  {
   "cell_type": "code",
   "execution_count": 57,
   "metadata": {},
   "outputs": [],
   "source": [
    "class Gardener:\n",
    "    \"\"\"Represent a gardner who can plant and harvest plants.\"\"\"\n",
    "    \n",
    "    plant_dict = {\"tomato\":Tomato, \"potato\": Potato, \"carrot\": Carrot}\n",
    "    \n",
    "    def __init__(self, name):\n",
    "        self.name = name\n",
    "        self.inventory = {} # seed & harvest yield\n",
    "        self.planted_plants = []\n",
    "        \n",
    "    def get_seed(self):\n",
    "        seed = random.choice(seeds)\n",
    "        \n",
    "        if seed not in self.inventory:\n",
    "            self.inventory[seed] = 1\n",
    "        else:\n",
    "            self.inventory[seed] += 1\n",
    "            \n",
    "        print(f\"{self.name} has found the {seed} seed!\")\n",
    "        \n",
    "    def plant(self):\n",
    "        selected_plant = select_item(self.inventory) # name\n",
    "        \n",
    "        if selected_plant in self.inventory and self.inventory[selected_plant] > 0:\n",
    "            self.inventory[selected_plant] -= 1\n",
    "            if self.inventory[selected_plant] == 0:\n",
    "                del self.inventory[selected_plant]\n",
    "            new_plant = self.plant_dict[selected_plant]()\n",
    "            \n",
    "            self.planted_plants.append(new_plant)\n",
    "            print(f\"{self.name} has planted a {selected_plant} plant!\")\n",
    "            \n",
    "        else:\n",
    "            print(f\"{self.name} does not have any {selected_plant} plant!\")\n",
    "            \n",
    "    def tend(self):\n",
    "        for plant in self.planted_plants:\n",
    "            if not plant.harvestable:\n",
    "                plant.grow()\n",
    "                print(f\"{plant.name} is now on a {plant.current_stage} stage!\")\n",
    "            else:\n",
    "                print(f\"{plant.name} is ready to be harvested\")\n",
    "    def harvest(self):\n",
    "        selected_plant = select_item(self.planted_plants) # instances\n",
    "        if selected_plant.harvestable == True:\n",
    "            if selected_plant.name not in self.inventory:\n",
    "                self.inventory[selected_plant.name] = selected_plant.harvest()\n",
    "            else:\n",
    "                self.inventory[selected_plant.name] += selected_plant.harvest()\n",
    "            print(f\"You have harvested {selected_plant.name}!\")\n",
    "            self.planted_plants.remove(selected_plant)\n",
    "            \n",
    "        else:\n",
    "            print(f\"You can't harvest {selected_plant.name}!\")\n",
    "            "
   ]
  },
  {
   "cell_type": "code",
   "execution_count": 58,
   "metadata": {},
   "outputs": [],
   "source": [
    "abdul = Gardener(\"Abdul\")"
   ]
  },
  {
   "cell_type": "code",
   "execution_count": 59,
   "metadata": {},
   "outputs": [
    {
     "name": "stdout",
     "output_type": "stream",
     "text": [
      "Abdul has found the tomato seed!\n"
     ]
    }
   ],
   "source": [
    "abdul.get_seed()"
   ]
  },
  {
   "cell_type": "code",
   "execution_count": 60,
   "metadata": {},
   "outputs": [
    {
     "name": "stdout",
     "output_type": "stream",
     "text": [
      "Abdul has found the potato seed!\n"
     ]
    }
   ],
   "source": [
    "abdul.get_seed()"
   ]
  },
  {
   "cell_type": "code",
   "execution_count": 61,
   "metadata": {},
   "outputs": [
    {
     "data": {
      "text/plain": [
       "{'tomato': 1, 'potato': 1}"
      ]
     },
     "execution_count": 61,
     "metadata": {},
     "output_type": "execute_result"
    }
   ],
   "source": [
    "abdul.inventory"
   ]
  },
  {
   "cell_type": "code",
   "execution_count": 62,
   "metadata": {},
   "outputs": [
    {
     "name": "stdout",
     "output_type": "stream",
     "text": [
      "1. tomato\n",
      "2. potato\n",
      "\n",
      "Abdul has planted a potato plant!\n"
     ]
    }
   ],
   "source": [
    "abdul.plant()"
   ]
  },
  {
   "cell_type": "code",
   "execution_count": 63,
   "metadata": {},
   "outputs": [
    {
     "name": "stdout",
     "output_type": "stream",
     "text": [
      "1. tomato\n",
      "\n",
      "Abdul has planted a tomato plant!\n"
     ]
    }
   ],
   "source": [
    "abdul.plant()"
   ]
  },
  {
   "cell_type": "code",
   "execution_count": 64,
   "metadata": {},
   "outputs": [
    {
     "data": {
      "text/plain": [
       "{}"
      ]
     },
     "execution_count": 64,
     "metadata": {},
     "output_type": "execute_result"
    }
   ],
   "source": [
    "abdul.inventory"
   ]
  },
  {
   "cell_type": "code",
   "execution_count": 65,
   "metadata": {},
   "outputs": [
    {
     "name": "stdout",
     "output_type": "stream",
     "text": [
      "Potato is now on a sprout stage!\n",
      "Tomato is now on a sprout stage!\n"
     ]
    }
   ],
   "source": [
    "abdul.tend()"
   ]
  },
  {
   "cell_type": "code",
   "execution_count": 66,
   "metadata": {},
   "outputs": [
    {
     "name": "stdout",
     "output_type": "stream",
     "text": [
      "Potato is now on a mature stage!\n",
      "Tomato is now on a mature stage!\n"
     ]
    }
   ],
   "source": [
    "abdul.tend()"
   ]
  },
  {
   "cell_type": "code",
   "execution_count": 67,
   "metadata": {},
   "outputs": [
    {
     "name": "stdout",
     "output_type": "stream",
     "text": [
      "Potato is now on a harvest_ready stage!\n",
      "Tomato is now on a flower stage!\n"
     ]
    }
   ],
   "source": [
    "abdul.tend()"
   ]
  },
  {
   "cell_type": "code",
   "execution_count": 68,
   "metadata": {},
   "outputs": [
    {
     "name": "stdout",
     "output_type": "stream",
     "text": [
      "Potato is ready to be harvested\n",
      "Tomato is now on a fruit stage!\n"
     ]
    }
   ],
   "source": [
    "abdul.tend()"
   ]
  },
  {
   "cell_type": "code",
   "execution_count": 69,
   "metadata": {},
   "outputs": [
    {
     "name": "stdout",
     "output_type": "stream",
     "text": [
      "Potato is ready to be harvested\n",
      "Tomato is now on a harvest_ready stage!\n"
     ]
    }
   ],
   "source": [
    "abdul.tend()"
   ]
  },
  {
   "cell_type": "code",
   "execution_count": 70,
   "metadata": {},
   "outputs": [
    {
     "name": "stdout",
     "output_type": "stream",
     "text": [
      "Potato is ready to be harvested\n",
      "Tomato is ready to be harvested\n"
     ]
    }
   ],
   "source": [
    "abdul.tend()"
   ]
  },
  {
   "cell_type": "code",
   "execution_count": 71,
   "metadata": {},
   "outputs": [
    {
     "name": "stdout",
     "output_type": "stream",
     "text": [
      "1. Potato\n",
      "2. Tomato\n",
      "\n",
      "You have harvested Potato!\n"
     ]
    }
   ],
   "source": [
    "abdul.harvest()"
   ]
  },
  {
   "cell_type": "code",
   "execution_count": 72,
   "metadata": {},
   "outputs": [
    {
     "name": "stdout",
     "output_type": "stream",
     "text": [
      "1. Tomato\n",
      "\n",
      "You have harvested Tomato!\n"
     ]
    }
   ],
   "source": [
    "abdul.harvest()"
   ]
  },
  {
   "cell_type": "code",
   "execution_count": 73,
   "metadata": {},
   "outputs": [],
   "source": [
    "abdul.tend()"
   ]
  },
  {
   "cell_type": "code",
   "execution_count": 75,
   "metadata": {},
   "outputs": [
    {
     "name": "stdout",
     "output_type": "stream",
     "text": [
      "Welcome to the Virtual Garden!\n",
      "Welcome 1!\n",
      "Type 'help' for valid command.\n",
      "Invalid Command\n",
      "Invalid Command\n",
      "***Available Commands***\n",
      "help\n",
      "quit\n",
      "seed\n",
      "plant\n",
      "tend\n",
      "harvest\n",
      "Thank you for your interest. Come again. Good Bye!\n"
     ]
    }
   ],
   "source": [
    "valid_commands = [\"help\", \"quit\", \"seed\",\"plant\",\"tend\", \"harvest\" ]\n",
    "\n",
    "\n",
    "print(\"Welcome to the Virtual Garden!\")\n",
    "\n",
    "gardener_name = input(\"What is the gardener name! \")\n",
    "\n",
    "print(f\"Welcome {gardener_name}!\\nType 'help' for valid command.\")\n",
    "\n",
    "gardener = Gardener(gardener_name)\n",
    "\n",
    "while True:\n",
    "    gardener_action = input(\"What do you want to do? \")\n",
    "    gardener_action = gardener_action.lower()\n",
    "    if gardener_action in valid_commands:\n",
    "        if gardener_action == \"help\":\n",
    "            print(\"***Available Commands***\")\n",
    "            for command in valid_commands:\n",
    "                print(command)\n",
    "        elif gardener_action == \"seed\":\n",
    "            gardener.get_seed()\n",
    "        elif gardener_action == \"plant\":\n",
    "            gardener.plant()\n",
    "        elif gardener_action == \"tend\":\n",
    "            gardener.tend()\n",
    "        elif gardener_action == \"harvest\":\n",
    "            gardener.harvest()\n",
    "        elif gardener_action == \"quit\":\n",
    "            print(\"Thank you for your interest. Come again. Good Bye!\")\n",
    "            break\n",
    "    else:\n",
    "        print(\"Invalid Command\")"
   ]
  },
  {
   "cell_type": "code",
   "execution_count": 76,
   "metadata": {},
   "outputs": [
    {
     "name": "stdout",
     "output_type": "stream",
     "text": [
      "Welcome to the Virtual Garden!\n",
      "Welcome Abdul!\n",
      "Type 'help' for valid command.\n",
      "Invalid Command\n",
      "***Available Commands***\n",
      "help\n",
      "quit\n",
      "seed\n",
      "plant\n",
      "tend\n",
      "harvest\n",
      "Abdul has found the tomato seed!\n",
      "Abdul has found the potato seed!\n",
      "Abdul has found the potato seed!\n",
      "Abdul has found the carrot seed!\n",
      "1. tomato\n",
      "2. potato\n",
      "3. carrot\n",
      "\n",
      "Invalid Input\n",
      "Abdul has planted a tomato plant!\n",
      "Invalid Command\n",
      "Invalid Command\n",
      "Invalid Command\n",
      "Invalid Command\n",
      "Invalid Command\n",
      "Invalid Command\n",
      "Thank you for your interest. Come again. Good Bye!\n"
     ]
    }
   ],
   "source": [
    "valid_commands = [\"help\", \"quit\", \"seed\",\"plant\",\"tend\", \"harvest\" ]\n",
    "\n",
    "\n",
    "print(\"Welcome to the Virtual Garden!\")\n",
    "\n",
    "gardener_name = input(\"What is the gardener name! \")\n",
    "\n",
    "print(f\"Welcome {gardener_name}!\\nType 'help' for valid command.\")\n",
    "\n",
    "gardener = Gardener(gardener_name)\n",
    "\n",
    "while True:\n",
    "    gardener_action = input(\"What do you want to do? \")\n",
    "    gardener_action = gardener_action.lower()\n",
    "    if gardener_action in valid_commands:\n",
    "        if gardener_action == \"help\":\n",
    "            print(\"***Available Commands***\")\n",
    "            for command in valid_commands:\n",
    "                print(command)\n",
    "        elif gardener_action == \"seed\":\n",
    "            gardener.get_seed()\n",
    "        elif gardener_action == \"plant\":\n",
    "            gardener.plant()\n",
    "        elif gardener_action == \"tend\":\n",
    "            gardener.tend()\n",
    "        elif gardener_action == \"harvest\":\n",
    "            gardener.harvest()\n",
    "        elif gardener_action == \"quit\":\n",
    "            print(\"Thank you for your interest. Come again. Good Bye!\")\n",
    "            break\n",
    "    else:\n",
    "        print(\"Invalid Command\")"
   ]
  },
  {
   "cell_type": "code",
   "execution_count": null,
   "metadata": {},
   "outputs": [],
   "source": []
  }
 ],
 "metadata": {
  "kernelspec": {
   "display_name": "base",
   "language": "python",
   "name": "python3"
  },
  "language_info": {
   "codemirror_mode": {
    "name": "ipython",
    "version": 3
   },
   "file_extension": ".py",
   "mimetype": "text/x-python",
   "name": "python",
   "nbconvert_exporter": "python",
   "pygments_lexer": "ipython3",
   "version": "3.11.5"
  }
 },
 "nbformat": 4,
 "nbformat_minor": 2
}
