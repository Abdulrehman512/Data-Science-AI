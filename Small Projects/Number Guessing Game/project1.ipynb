{
 "cells": [
  {
   "cell_type": "markdown",
   "metadata": {},
   "source": [
    "# Random Number Guessing Game "
   ]
  },
  {
   "cell_type": "code",
   "execution_count": 1,
   "metadata": {},
   "outputs": [],
   "source": [
    "import random"
   ]
  },
  {
   "cell_type": "code",
   "execution_count": 2,
   "metadata": {},
   "outputs": [
    {
     "name": "stdout",
     "output_type": "stream",
     "text": [
      "Your value is greater than guessed number\n",
      "Your value is greater than guessed number\n",
      "Your value is greater than guessed number\n",
      "Your value is greater than guessed number\n",
      "Your value is less than guessed number\n",
      "Your chances are over\n",
      "Actual guess number was  2\n"
     ]
    }
   ],
   "source": [
    "guess_number = random.randint(1,10)\n",
    "chances = 5\n",
    "\n",
    "while chances > 0:\n",
    "    chances -= 1\n",
    "    user = int(input(\"Please Enter a number between 1 and 10\"))\n",
    "    if user == guess_number:\n",
    "        print(\"You have guessed the correct number\")\n",
    "    elif user > guess_number:\n",
    "        print(\"Your value is greater than guessed number\")\n",
    "    else:\n",
    "        print(\"Your value is less than guessed number\")\n",
    "\n",
    "print(\"Your chances are over\")\n",
    "print(\"Actual guess number was \",guess_number)            \n"
   ]
  },
  {
   "cell_type": "code",
   "execution_count": null,
   "metadata": {},
   "outputs": [],
   "source": []
  }
 ],
 "metadata": {
  "kernelspec": {
   "display_name": "base",
   "language": "python",
   "name": "python3"
  },
  "language_info": {
   "codemirror_mode": {
    "name": "ipython",
    "version": 3
   },
   "file_extension": ".py",
   "mimetype": "text/x-python",
   "name": "python",
   "nbconvert_exporter": "python",
   "pygments_lexer": "ipython3",
   "version": "3.11.5"
  }
 },
 "nbformat": 4,
 "nbformat_minor": 2
}
