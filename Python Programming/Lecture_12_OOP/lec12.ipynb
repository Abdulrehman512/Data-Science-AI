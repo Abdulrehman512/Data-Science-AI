{
 "cells": [
  {
   "cell_type": "markdown",
   "metadata": {},
   "source": [
    "### Inheritence"
   ]
  },
  {
   "cell_type": "markdown",
   "metadata": {},
   "source": [
    "* parent class -> base class, superclass\n",
    "* child class-> derived class, subclass"
   ]
  },
  {
   "cell_type": "code",
   "execution_count": 3,
   "metadata": {},
   "outputs": [],
   "source": [
    "class Animal:\n",
    "    def __init__(self,name,age):\n",
    "        self.name = name\n",
    "        self.age = age\n",
    "    def display(self):\n",
    "        print(f\"Name: {self.name}, Age: {self.age}\")    \n",
    "   "
   ]
  },
  {
   "cell_type": "code",
   "execution_count": 4,
   "metadata": {},
   "outputs": [],
   "source": [
    "elephant = Animal(\"bubbles\", 17)"
   ]
  },
  {
   "cell_type": "code",
   "execution_count": 5,
   "metadata": {},
   "outputs": [
    {
     "name": "stdout",
     "output_type": "stream",
     "text": [
      "Name: bubbles, Age: 17\n"
     ]
    }
   ],
   "source": [
    "elephant.display()"
   ]
  },
  {
   "cell_type": "code",
   "execution_count": 6,
   "metadata": {},
   "outputs": [],
   "source": [
    "class Elephant(Animal):\n",
    "    pass"
   ]
  },
  {
   "cell_type": "code",
   "execution_count": 7,
   "metadata": {},
   "outputs": [
    {
     "ename": "TypeError",
     "evalue": "Animal.__init__() missing 2 required positional arguments: 'name' and 'age'",
     "output_type": "error",
     "traceback": [
      "\u001b[1;31m---------------------------------------------------------------------------\u001b[0m",
      "\u001b[1;31mTypeError\u001b[0m                                 Traceback (most recent call last)",
      "Cell \u001b[1;32mIn[7], line 1\u001b[0m\n\u001b[1;32m----> 1\u001b[0m bubbles \u001b[38;5;241m=\u001b[39m Elephant()\n",
      "\u001b[1;31mTypeError\u001b[0m: Animal.__init__() missing 2 required positional arguments: 'name' and 'age'"
     ]
    }
   ],
   "source": [
    "bubbles = Elephant()"
   ]
  },
  {
   "cell_type": "code",
   "execution_count": 8,
   "metadata": {},
   "outputs": [],
   "source": [
    "bubbles = Elephant(\"Asad\", 22)"
   ]
  },
  {
   "cell_type": "code",
   "execution_count": 10,
   "metadata": {},
   "outputs": [
    {
     "name": "stdout",
     "output_type": "stream",
     "text": [
      "Name: Asad, Age: 22\n"
     ]
    }
   ],
   "source": [
    "bubbles.display()"
   ]
  },
  {
   "cell_type": "code",
   "execution_count": 18,
   "metadata": {},
   "outputs": [],
   "source": [
    "class Animal: # Parent\n",
    "    def __init__(self,name,age):\n",
    "        self.name = name\n",
    "        self.age = age\n",
    "    def display(self):\n",
    "        print(f\"Name: {self.name},Age: {self.age} \")  \n",
    "\n",
    "class Elephant(Animal): # Child\n",
    "    def __init__(self,name,age,trunk_length):\n",
    "        self.name = name\n",
    "        self.age = age\n",
    "        self.trunk_length = trunk_length\n",
    "        self.description = f\"{self.name} has {trunk_length} meter long trunk\"         "
   ]
  },
  {
   "cell_type": "code",
   "execution_count": 19,
   "metadata": {},
   "outputs": [],
   "source": [
    "baby_elephant = Elephant(\"tiny\", 1, 3)"
   ]
  },
  {
   "cell_type": "code",
   "execution_count": 20,
   "metadata": {},
   "outputs": [
    {
     "name": "stdout",
     "output_type": "stream",
     "text": [
      "Name: tiny,Age: 1 \n"
     ]
    }
   ],
   "source": [
    "baby_elephant.display()"
   ]
  },
  {
   "cell_type": "code",
   "execution_count": 21,
   "metadata": {},
   "outputs": [
    {
     "data": {
      "text/plain": [
       "3"
      ]
     },
     "execution_count": 21,
     "metadata": {},
     "output_type": "execute_result"
    }
   ],
   "source": [
    "baby_elephant.trunk_length"
   ]
  },
  {
   "cell_type": "code",
   "execution_count": 22,
   "metadata": {},
   "outputs": [
    {
     "data": {
      "text/plain": [
       "'tiny has 3 meter long trunk'"
      ]
     },
     "execution_count": 22,
     "metadata": {},
     "output_type": "execute_result"
    }
   ],
   "source": [
    "baby_elephant.description"
   ]
  },
  {
   "cell_type": "code",
   "execution_count": 1,
   "metadata": {},
   "outputs": [],
   "source": [
    "class Animal: #Parent\n",
    "    def __init__(self,name,age):\n",
    "        self.name = name\n",
    "        self.age = age\n",
    "    def display(self):\n",
    "        print(f\"Name: {self.name}, Age: {self.age}\")\n",
    "\n",
    "\n",
    "class Elephant(Animal): #Child\n",
    "    def __init__(self, name, age, trunk_length):\n",
    "        super().__init__(name, age)\n",
    "        self.trunk_length = trunk_length\n",
    "        self.description = f\"{self.name} has {trunk_length} meter long trunk\"\n",
    "\n"
   ]
  },
  {
   "cell_type": "code",
   "execution_count": 2,
   "metadata": {},
   "outputs": [],
   "source": [
    "mother = Elephant(\"mother elephant\", 22, 7)"
   ]
  },
  {
   "cell_type": "code",
   "execution_count": 3,
   "metadata": {},
   "outputs": [
    {
     "name": "stdout",
     "output_type": "stream",
     "text": [
      "Name: mother elephant, Age: 22\n"
     ]
    }
   ],
   "source": [
    "mother.display()"
   ]
  },
  {
   "cell_type": "code",
   "execution_count": 4,
   "metadata": {},
   "outputs": [],
   "source": [
    "class Animal(): # Parent\n",
    "    def __init__(self, name, age):\n",
    "        self.name = name\n",
    "        self.age = age\n",
    "    def display(self):\n",
    "        print(f\"Name:{self.name}, Age:{self.age}\")\n",
    "    def eat(self):\n",
    "        print(\"This animal is eating\")    \n",
    "        \n",
    "class Elephant(Animal): # child\n",
    "    def __init__(self, name, age, trunk_length):\n",
    "        super().__init__(name, age)\n",
    "        self.trunk_length = trunk_length\n",
    "        self.description = f\"{self.name} has {trunk_length} meter long trunk\""
   ]
  },
  {
   "cell_type": "code",
   "execution_count": 7,
   "metadata": {},
   "outputs": [
    {
     "name": "stdout",
     "output_type": "stream",
     "text": [
      "This animal is eating\n"
     ]
    }
   ],
   "source": [
    "mother = Elephant(\"Mother Elephant\", 6, 1.83)\n",
    "mother.eat()"
   ]
  },
  {
   "cell_type": "code",
   "execution_count": 10,
   "metadata": {},
   "outputs": [],
   "source": [
    "class Animal(): # Parent\n",
    "    def __init__(self, name, age):\n",
    "        self.name = name\n",
    "        self.age = age\n",
    "    def display(self):\n",
    "        print(f\"Name:{self.name}, Age:{self.age}\")\n",
    "    def eat(self):\n",
    "        print(\"This animal is eating\")    \n",
    "        \n",
    "class Elephant(Animal): # child\n",
    "    def __init__(self, name, age, trunk_length):\n",
    "        super().__init__(name, age)\n",
    "        self.trunk_length = trunk_length\n",
    "        self.description = f\"{self.name} has {trunk_length} meter long trunk\"\n",
    "    def eat(self):  #overridding parent eat method\n",
    "        print(f\"{self.name} is having some leaves\")    "
   ]
  },
  {
   "cell_type": "code",
   "execution_count": 11,
   "metadata": {},
   "outputs": [
    {
     "name": "stdout",
     "output_type": "stream",
     "text": [
      "This animal is eating\n"
     ]
    }
   ],
   "source": [
    "mother.eat()"
   ]
  },
  {
   "cell_type": "code",
   "execution_count": 12,
   "metadata": {},
   "outputs": [
    {
     "name": "stdout",
     "output_type": "stream",
     "text": [
      "This animal is eating\n",
      "Mother Elephant is having some leaves\n"
     ]
    }
   ],
   "source": [
    "class Animal(): # Parent\n",
    "    def __init__(self, name, age):\n",
    "        self.name = name\n",
    "        self.age = age\n",
    "    def display(self):\n",
    "        print(f\"Name:{self.name}, Age:{self.age}\")\n",
    "        \n",
    "    def eat(self):\n",
    "        print(\"This animal is eating\")\n",
    "        \n",
    "class Elephant(Animal): # child\n",
    "    def __init__(self, name, age, trunk_length):\n",
    "        super().__init__(name, age)\n",
    "        self.trunk_length = trunk_length\n",
    "        self.description = f\"{self.name} has {trunk_length} meter long trunk\"\n",
    "    def eat(self): # Extending the method\n",
    "        super().eat()\n",
    "        print(f\"{self.name} is having some leaves\")\n",
    "\n",
    "\n",
    "mother = Elephant(\"Mother Elephant\", 6, 1.83)\n",
    "mother.eat()"
   ]
  },
  {
   "cell_type": "markdown",
   "metadata": {},
   "source": [
    "## Polymorphism"
   ]
  },
  {
   "cell_type": "code",
   "execution_count": 14,
   "metadata": {},
   "outputs": [],
   "source": [
    "l = [1,2,3]\n",
    "a = \"Abdul\"\n",
    "d = {\"age\":\"11\", \"height\": \"5.7\"}"
   ]
  },
  {
   "cell_type": "code",
   "execution_count": 17,
   "metadata": {},
   "outputs": [
    {
     "data": {
      "text/plain": [
       "3"
      ]
     },
     "execution_count": 17,
     "metadata": {},
     "output_type": "execute_result"
    }
   ],
   "source": [
    "len(l)"
   ]
  },
  {
   "cell_type": "code",
   "execution_count": 18,
   "metadata": {},
   "outputs": [
    {
     "data": {
      "text/plain": [
       "5"
      ]
     },
     "execution_count": 18,
     "metadata": {},
     "output_type": "execute_result"
    }
   ],
   "source": [
    "len(a)"
   ]
  },
  {
   "cell_type": "code",
   "execution_count": 19,
   "metadata": {},
   "outputs": [
    {
     "data": {
      "text/plain": [
       "2"
      ]
     },
     "execution_count": 19,
     "metadata": {},
     "output_type": "execute_result"
    }
   ],
   "source": [
    "len(d)"
   ]
  },
  {
   "cell_type": "code",
   "execution_count": null,
   "metadata": {},
   "outputs": [],
   "source": []
  }
 ],
 "metadata": {
  "kernelspec": {
   "display_name": "base",
   "language": "python",
   "name": "python3"
  },
  "language_info": {
   "codemirror_mode": {
    "name": "ipython",
    "version": 3
   },
   "file_extension": ".py",
   "mimetype": "text/x-python",
   "name": "python",
   "nbconvert_exporter": "python",
   "pygments_lexer": "ipython3",
   "version": "3.11.5"
  }
 },
 "nbformat": 4,
 "nbformat_minor": 2
}
