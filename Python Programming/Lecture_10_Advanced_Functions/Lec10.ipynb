{
 "cells": [
  {
   "cell_type": "code",
   "execution_count": 2,
   "metadata": {},
   "outputs": [],
   "source": [
    "import requests"
   ]
  },
  {
   "cell_type": "code",
   "execution_count": 3,
   "metadata": {},
   "outputs": [],
   "source": [
    "url = \"https://api.exchangerate-api.com/v4/latest/usd\""
   ]
  },
  {
   "cell_type": "code",
   "execution_count": 4,
   "metadata": {},
   "outputs": [],
   "source": [
    "response = requests.get(url)"
   ]
  },
  {
   "cell_type": "code",
   "execution_count": 5,
   "metadata": {},
   "outputs": [
    {
     "data": {
      "text/plain": [
       "<Response [200]>"
      ]
     },
     "execution_count": 5,
     "metadata": {},
     "output_type": "execute_result"
    }
   ],
   "source": [
    "response"
   ]
  },
  {
   "cell_type": "code",
   "execution_count": 6,
   "metadata": {},
   "outputs": [
    {
     "data": {
      "text/plain": [
       "{'provider': 'https://www.exchangerate-api.com',\n",
       " 'WARNING_UPGRADE_TO_V6': 'https://www.exchangerate-api.com/docs/free',\n",
       " 'terms': 'https://www.exchangerate-api.com/terms',\n",
       " 'base': 'USD',\n",
       " 'date': '2024-01-31',\n",
       " 'time_last_updated': 1706659201,\n",
       " 'rates': {'USD': 1,\n",
       "  'AED': 3.67,\n",
       "  'AFN': 73.42,\n",
       "  'ALL': 96.85,\n",
       "  'AMD': 404.74,\n",
       "  'ANG': 1.79,\n",
       "  'AOA': 839.62,\n",
       "  'ARS': 825.75,\n",
       "  'AUD': 1.52,\n",
       "  'AWG': 1.79,\n",
       "  'AZN': 1.7,\n",
       "  'BAM': 1.8,\n",
       "  'BBD': 2,\n",
       "  'BDT': 109.63,\n",
       "  'BGN': 1.8,\n",
       "  'BHD': 0.376,\n",
       "  'BIF': 2842.76,\n",
       "  'BMD': 1,\n",
       "  'BND': 1.34,\n",
       "  'BOB': 6.84,\n",
       "  'BRL': 4.95,\n",
       "  'BSD': 1,\n",
       "  'BTN': 83.14,\n",
       "  'BWP': 13.69,\n",
       "  'BYN': 3.22,\n",
       "  'BZD': 2,\n",
       "  'CAD': 1.34,\n",
       "  'CDF': 2707.68,\n",
       "  'CHF': 0.862,\n",
       "  'CLP': 923.33,\n",
       "  'CNY': 7.18,\n",
       "  'COP': 4013.1,\n",
       "  'CRC': 515.59,\n",
       "  'CUP': 24,\n",
       "  'CVE': 101.71,\n",
       "  'CZK': 22.88,\n",
       "  'DJF': 177.72,\n",
       "  'DKK': 6.88,\n",
       "  'DOP': 57.31,\n",
       "  'DZD': 134.12,\n",
       "  'EGP': 30.94,\n",
       "  'ERN': 15,\n",
       "  'ETB': 56.64,\n",
       "  'EUR': 0.922,\n",
       "  'FJD': 2.23,\n",
       "  'FKP': 0.788,\n",
       "  'FOK': 6.88,\n",
       "  'GBP': 0.788,\n",
       "  'GEL': 2.68,\n",
       "  'GGP': 0.788,\n",
       "  'GHS': 12.36,\n",
       "  'GIP': 0.788,\n",
       "  'GMD': 65.66,\n",
       "  'GNF': 8574.57,\n",
       "  'GTQ': 7.73,\n",
       "  'GYD': 209.36,\n",
       "  'HKD': 7.82,\n",
       "  'HNL': 24.4,\n",
       "  'HRK': 6.95,\n",
       "  'HTG': 131.67,\n",
       "  'HUF': 356.65,\n",
       "  'IDR': 15788.15,\n",
       "  'ILS': 3.65,\n",
       "  'IMP': 0.788,\n",
       "  'INR': 83.14,\n",
       "  'IQD': 1308.75,\n",
       "  'IRR': 42040.1,\n",
       "  'ISK': 136.86,\n",
       "  'JEP': 0.788,\n",
       "  'JMD': 155.49,\n",
       "  'JOD': 0.709,\n",
       "  'JPY': 147.52,\n",
       "  'KES': 161.82,\n",
       "  'KGS': 89.34,\n",
       "  'KHR': 4100.33,\n",
       "  'KID': 1.52,\n",
       "  'KMF': 453.79,\n",
       "  'KRW': 1328.95,\n",
       "  'KWD': 0.307,\n",
       "  'KYD': 0.833,\n",
       "  'KZT': 449.1,\n",
       "  'LAK': 20355.86,\n",
       "  'LBP': 15000,\n",
       "  'LKR': 317.16,\n",
       "  'LRD': 188.99,\n",
       "  'LSL': 18.8,\n",
       "  'LYD': 4.82,\n",
       "  'MAD': 10.01,\n",
       "  'MDL': 17.73,\n",
       "  'MGA': 4529.05,\n",
       "  'MKD': 57,\n",
       "  'MMK': 2079.07,\n",
       "  'MNT': 3410.28,\n",
       "  'MOP': 8.05,\n",
       "  'MRU': 40.3,\n",
       "  'MUR': 44.56,\n",
       "  'MVR': 15.44,\n",
       "  'MWK': 1691.5,\n",
       "  'MXN': 17.17,\n",
       "  'MYR': 4.73,\n",
       "  'MZN': 63.88,\n",
       "  'NAD': 18.8,\n",
       "  'NGN': 896.05,\n",
       "  'NIO': 36.19,\n",
       "  'NOK': 10.44,\n",
       "  'NPR': 133.02,\n",
       "  'NZD': 1.63,\n",
       "  'OMR': 0.384,\n",
       "  'PAB': 1,\n",
       "  'PEN': 3.81,\n",
       "  'PGK': 3.68,\n",
       "  'PHP': 56.4,\n",
       "  'PKR': 279.93,\n",
       "  'PLN': 4.02,\n",
       "  'PYG': 7286.48,\n",
       "  'QAR': 3.64,\n",
       "  'RON': 4.59,\n",
       "  'RSD': 108.11,\n",
       "  'RUB': 89.69,\n",
       "  'RWF': 1309.29,\n",
       "  'SAR': 3.75,\n",
       "  'SBD': 8.31,\n",
       "  'SCR': 13.19,\n",
       "  'SDG': 449.42,\n",
       "  'SEK': 10.41,\n",
       "  'SGD': 1.34,\n",
       "  'SHP': 0.788,\n",
       "  'SLE': 22.48,\n",
       "  'SLL': 22479.91,\n",
       "  'SOS': 571.65,\n",
       "  'SRD': 36.86,\n",
       "  'SSP': 1105.32,\n",
       "  'STN': 22.6,\n",
       "  'SYP': 12749.95,\n",
       "  'SZL': 18.8,\n",
       "  'THB': 35.37,\n",
       "  'TJS': 10.91,\n",
       "  'TMT': 3.5,\n",
       "  'TND': 3.11,\n",
       "  'TOP': 2.34,\n",
       "  'TRY': 30.36,\n",
       "  'TTD': 6.7,\n",
       "  'TVD': 1.52,\n",
       "  'TWD': 31.12,\n",
       "  'TZS': 2537.21,\n",
       "  'UAH': 37.88,\n",
       "  'UGX': 3808.06,\n",
       "  'UYU': 38.97,\n",
       "  'UZS': 12368.69,\n",
       "  'VES': 36.2,\n",
       "  'VND': 24334.05,\n",
       "  'VUV': 119.76,\n",
       "  'WST': 2.73,\n",
       "  'XAF': 605.06,\n",
       "  'XCD': 2.7,\n",
       "  'XDR': 0.752,\n",
       "  'XOF': 605.06,\n",
       "  'XPF': 110.07,\n",
       "  'YER': 247.34,\n",
       "  'ZAR': 18.8,\n",
       "  'ZMW': 27.1,\n",
       "  'ZWL': 9967.52}}"
      ]
     },
     "execution_count": 6,
     "metadata": {},
     "output_type": "execute_result"
    }
   ],
   "source": [
    "data = response.json()\n",
    "\n",
    "data"
   ]
  },
  {
   "cell_type": "code",
   "execution_count": 7,
   "metadata": {},
   "outputs": [
    {
     "data": {
      "text/plain": [
       "279.93"
      ]
     },
     "execution_count": 7,
     "metadata": {},
     "output_type": "execute_result"
    }
   ],
   "source": [
    "data[\"rates\"][\"PKR\"]"
   ]
  },
  {
   "cell_type": "code",
   "execution_count": 8,
   "metadata": {},
   "outputs": [
    {
     "data": {
      "text/plain": [
       "{'USD': 1,\n",
       " 'AED': 3.67,\n",
       " 'AFN': 73.42,\n",
       " 'ALL': 96.85,\n",
       " 'AMD': 404.74,\n",
       " 'ANG': 1.79,\n",
       " 'AOA': 839.62,\n",
       " 'ARS': 825.75,\n",
       " 'AUD': 1.52,\n",
       " 'AWG': 1.79,\n",
       " 'AZN': 1.7,\n",
       " 'BAM': 1.8,\n",
       " 'BBD': 2,\n",
       " 'BDT': 109.63,\n",
       " 'BGN': 1.8,\n",
       " 'BHD': 0.376,\n",
       " 'BIF': 2842.76,\n",
       " 'BMD': 1,\n",
       " 'BND': 1.34,\n",
       " 'BOB': 6.84,\n",
       " 'BRL': 4.95,\n",
       " 'BSD': 1,\n",
       " 'BTN': 83.14,\n",
       " 'BWP': 13.69,\n",
       " 'BYN': 3.22,\n",
       " 'BZD': 2,\n",
       " 'CAD': 1.34,\n",
       " 'CDF': 2707.68,\n",
       " 'CHF': 0.862,\n",
       " 'CLP': 923.33,\n",
       " 'CNY': 7.18,\n",
       " 'COP': 4013.1,\n",
       " 'CRC': 515.59,\n",
       " 'CUP': 24,\n",
       " 'CVE': 101.71,\n",
       " 'CZK': 22.88,\n",
       " 'DJF': 177.72,\n",
       " 'DKK': 6.88,\n",
       " 'DOP': 57.31,\n",
       " 'DZD': 134.12,\n",
       " 'EGP': 30.94,\n",
       " 'ERN': 15,\n",
       " 'ETB': 56.64,\n",
       " 'EUR': 0.922,\n",
       " 'FJD': 2.23,\n",
       " 'FKP': 0.788,\n",
       " 'FOK': 6.88,\n",
       " 'GBP': 0.788,\n",
       " 'GEL': 2.68,\n",
       " 'GGP': 0.788,\n",
       " 'GHS': 12.36,\n",
       " 'GIP': 0.788,\n",
       " 'GMD': 65.66,\n",
       " 'GNF': 8574.57,\n",
       " 'GTQ': 7.73,\n",
       " 'GYD': 209.36,\n",
       " 'HKD': 7.82,\n",
       " 'HNL': 24.4,\n",
       " 'HRK': 6.95,\n",
       " 'HTG': 131.67,\n",
       " 'HUF': 356.65,\n",
       " 'IDR': 15788.15,\n",
       " 'ILS': 3.65,\n",
       " 'IMP': 0.788,\n",
       " 'INR': 83.14,\n",
       " 'IQD': 1308.75,\n",
       " 'IRR': 42040.1,\n",
       " 'ISK': 136.86,\n",
       " 'JEP': 0.788,\n",
       " 'JMD': 155.49,\n",
       " 'JOD': 0.709,\n",
       " 'JPY': 147.52,\n",
       " 'KES': 161.82,\n",
       " 'KGS': 89.34,\n",
       " 'KHR': 4100.33,\n",
       " 'KID': 1.52,\n",
       " 'KMF': 453.79,\n",
       " 'KRW': 1328.95,\n",
       " 'KWD': 0.307,\n",
       " 'KYD': 0.833,\n",
       " 'KZT': 449.1,\n",
       " 'LAK': 20355.86,\n",
       " 'LBP': 15000,\n",
       " 'LKR': 317.16,\n",
       " 'LRD': 188.99,\n",
       " 'LSL': 18.8,\n",
       " 'LYD': 4.82,\n",
       " 'MAD': 10.01,\n",
       " 'MDL': 17.73,\n",
       " 'MGA': 4529.05,\n",
       " 'MKD': 57,\n",
       " 'MMK': 2079.07,\n",
       " 'MNT': 3410.28,\n",
       " 'MOP': 8.05,\n",
       " 'MRU': 40.3,\n",
       " 'MUR': 44.56,\n",
       " 'MVR': 15.44,\n",
       " 'MWK': 1691.5,\n",
       " 'MXN': 17.17,\n",
       " 'MYR': 4.73,\n",
       " 'MZN': 63.88,\n",
       " 'NAD': 18.8,\n",
       " 'NGN': 896.05,\n",
       " 'NIO': 36.19,\n",
       " 'NOK': 10.44,\n",
       " 'NPR': 133.02,\n",
       " 'NZD': 1.63,\n",
       " 'OMR': 0.384,\n",
       " 'PAB': 1,\n",
       " 'PEN': 3.81,\n",
       " 'PGK': 3.68,\n",
       " 'PHP': 56.4,\n",
       " 'PKR': 279.93,\n",
       " 'PLN': 4.02,\n",
       " 'PYG': 7286.48,\n",
       " 'QAR': 3.64,\n",
       " 'RON': 4.59,\n",
       " 'RSD': 108.11,\n",
       " 'RUB': 89.69,\n",
       " 'RWF': 1309.29,\n",
       " 'SAR': 3.75,\n",
       " 'SBD': 8.31,\n",
       " 'SCR': 13.19,\n",
       " 'SDG': 449.42,\n",
       " 'SEK': 10.41,\n",
       " 'SGD': 1.34,\n",
       " 'SHP': 0.788,\n",
       " 'SLE': 22.48,\n",
       " 'SLL': 22479.91,\n",
       " 'SOS': 571.65,\n",
       " 'SRD': 36.86,\n",
       " 'SSP': 1105.32,\n",
       " 'STN': 22.6,\n",
       " 'SYP': 12749.95,\n",
       " 'SZL': 18.8,\n",
       " 'THB': 35.37,\n",
       " 'TJS': 10.91,\n",
       " 'TMT': 3.5,\n",
       " 'TND': 3.11,\n",
       " 'TOP': 2.34,\n",
       " 'TRY': 30.36,\n",
       " 'TTD': 6.7,\n",
       " 'TVD': 1.52,\n",
       " 'TWD': 31.12,\n",
       " 'TZS': 2537.21,\n",
       " 'UAH': 37.88,\n",
       " 'UGX': 3808.06,\n",
       " 'UYU': 38.97,\n",
       " 'UZS': 12368.69,\n",
       " 'VES': 36.2,\n",
       " 'VND': 24334.05,\n",
       " 'VUV': 119.76,\n",
       " 'WST': 2.73,\n",
       " 'XAF': 605.06,\n",
       " 'XCD': 2.7,\n",
       " 'XDR': 0.752,\n",
       " 'XOF': 605.06,\n",
       " 'XPF': 110.07,\n",
       " 'YER': 247.34,\n",
       " 'ZAR': 18.8,\n",
       " 'ZMW': 27.1,\n",
       " 'ZWL': 9967.52}"
      ]
     },
     "execution_count": 8,
     "metadata": {},
     "output_type": "execute_result"
    }
   ],
   "source": [
    "data[\"rates\"]"
   ]
  },
  {
   "cell_type": "code",
   "execution_count": 9,
   "metadata": {},
   "outputs": [],
   "source": [
    "def weakest_cur(url): # Parameter\n",
    "    data = requests.get(url).json()\n",
    "    weekest_rates = 0\n",
    "    currency_code = \"\"\n",
    "    \n",
    "    rates = data[\"rates\"] # dictionary\n",
    "    \n",
    "    for country_code in rates:\n",
    "        exc_rate = rates[country_code]\n",
    "        if exc_rate > weekest_rates:\n",
    "            weekest_rates= exc_rate\n",
    "            currency_code = country_code\n",
    "            \n",
    "    return country_code    "
   ]
  },
  {
   "cell_type": "code",
   "execution_count": 10,
   "metadata": {},
   "outputs": [
    {
     "data": {
      "text/plain": [
       "'ZWL'"
      ]
     },
     "execution_count": 10,
     "metadata": {},
     "output_type": "execute_result"
    }
   ],
   "source": [
    "weakest_cur(url) # url argumnet"
   ]
  },
  {
   "cell_type": "code",
   "execution_count": 11,
   "metadata": {},
   "outputs": [
    {
     "data": {
      "text/plain": [
       "9967.52"
      ]
     },
     "execution_count": 11,
     "metadata": {},
     "output_type": "execute_result"
    }
   ],
   "source": [
    "data[\"rates\"][weakest_cur(url)]"
   ]
  },
  {
   "cell_type": "code",
   "execution_count": 12,
   "metadata": {},
   "outputs": [],
   "source": [
    "usd_api_data = data"
   ]
  },
  {
   "cell_type": "code",
   "execution_count": 13,
   "metadata": {},
   "outputs": [
    {
     "data": {
      "text/plain": [
       "{'USD': 1,\n",
       " 'AED': 3.67,\n",
       " 'AFN': 73.42,\n",
       " 'ALL': 96.85,\n",
       " 'AMD': 404.74,\n",
       " 'ANG': 1.79,\n",
       " 'AOA': 839.62,\n",
       " 'ARS': 825.75,\n",
       " 'AUD': 1.52,\n",
       " 'AWG': 1.79,\n",
       " 'AZN': 1.7,\n",
       " 'BAM': 1.8,\n",
       " 'BBD': 2,\n",
       " 'BDT': 109.63,\n",
       " 'BGN': 1.8,\n",
       " 'BHD': 0.376,\n",
       " 'BIF': 2842.76,\n",
       " 'BMD': 1,\n",
       " 'BND': 1.34,\n",
       " 'BOB': 6.84,\n",
       " 'BRL': 4.95,\n",
       " 'BSD': 1,\n",
       " 'BTN': 83.14,\n",
       " 'BWP': 13.69,\n",
       " 'BYN': 3.22,\n",
       " 'BZD': 2,\n",
       " 'CAD': 1.34,\n",
       " 'CDF': 2707.68,\n",
       " 'CHF': 0.862,\n",
       " 'CLP': 923.33,\n",
       " 'CNY': 7.18,\n",
       " 'COP': 4013.1,\n",
       " 'CRC': 515.59,\n",
       " 'CUP': 24,\n",
       " 'CVE': 101.71,\n",
       " 'CZK': 22.88,\n",
       " 'DJF': 177.72,\n",
       " 'DKK': 6.88,\n",
       " 'DOP': 57.31,\n",
       " 'DZD': 134.12,\n",
       " 'EGP': 30.94,\n",
       " 'ERN': 15,\n",
       " 'ETB': 56.64,\n",
       " 'EUR': 0.922,\n",
       " 'FJD': 2.23,\n",
       " 'FKP': 0.788,\n",
       " 'FOK': 6.88,\n",
       " 'GBP': 0.788,\n",
       " 'GEL': 2.68,\n",
       " 'GGP': 0.788,\n",
       " 'GHS': 12.36,\n",
       " 'GIP': 0.788,\n",
       " 'GMD': 65.66,\n",
       " 'GNF': 8574.57,\n",
       " 'GTQ': 7.73,\n",
       " 'GYD': 209.36,\n",
       " 'HKD': 7.82,\n",
       " 'HNL': 24.4,\n",
       " 'HRK': 6.95,\n",
       " 'HTG': 131.67,\n",
       " 'HUF': 356.65,\n",
       " 'IDR': 15788.15,\n",
       " 'ILS': 3.65,\n",
       " 'IMP': 0.788,\n",
       " 'INR': 83.14,\n",
       " 'IQD': 1308.75,\n",
       " 'IRR': 42040.1,\n",
       " 'ISK': 136.86,\n",
       " 'JEP': 0.788,\n",
       " 'JMD': 155.49,\n",
       " 'JOD': 0.709,\n",
       " 'JPY': 147.52,\n",
       " 'KES': 161.82,\n",
       " 'KGS': 89.34,\n",
       " 'KHR': 4100.33,\n",
       " 'KID': 1.52,\n",
       " 'KMF': 453.79,\n",
       " 'KRW': 1328.95,\n",
       " 'KWD': 0.307,\n",
       " 'KYD': 0.833,\n",
       " 'KZT': 449.1,\n",
       " 'LAK': 20355.86,\n",
       " 'LBP': 15000,\n",
       " 'LKR': 317.16,\n",
       " 'LRD': 188.99,\n",
       " 'LSL': 18.8,\n",
       " 'LYD': 4.82,\n",
       " 'MAD': 10.01,\n",
       " 'MDL': 17.73,\n",
       " 'MGA': 4529.05,\n",
       " 'MKD': 57,\n",
       " 'MMK': 2079.07,\n",
       " 'MNT': 3410.28,\n",
       " 'MOP': 8.05,\n",
       " 'MRU': 40.3,\n",
       " 'MUR': 44.56,\n",
       " 'MVR': 15.44,\n",
       " 'MWK': 1691.5,\n",
       " 'MXN': 17.17,\n",
       " 'MYR': 4.73,\n",
       " 'MZN': 63.88,\n",
       " 'NAD': 18.8,\n",
       " 'NGN': 896.05,\n",
       " 'NIO': 36.19,\n",
       " 'NOK': 10.44,\n",
       " 'NPR': 133.02,\n",
       " 'NZD': 1.63,\n",
       " 'OMR': 0.384,\n",
       " 'PAB': 1,\n",
       " 'PEN': 3.81,\n",
       " 'PGK': 3.68,\n",
       " 'PHP': 56.4,\n",
       " 'PKR': 279.93,\n",
       " 'PLN': 4.02,\n",
       " 'PYG': 7286.48,\n",
       " 'QAR': 3.64,\n",
       " 'RON': 4.59,\n",
       " 'RSD': 108.11,\n",
       " 'RUB': 89.69,\n",
       " 'RWF': 1309.29,\n",
       " 'SAR': 3.75,\n",
       " 'SBD': 8.31,\n",
       " 'SCR': 13.19,\n",
       " 'SDG': 449.42,\n",
       " 'SEK': 10.41,\n",
       " 'SGD': 1.34,\n",
       " 'SHP': 0.788,\n",
       " 'SLE': 22.48,\n",
       " 'SLL': 22479.91,\n",
       " 'SOS': 571.65,\n",
       " 'SRD': 36.86,\n",
       " 'SSP': 1105.32,\n",
       " 'STN': 22.6,\n",
       " 'SYP': 12749.95,\n",
       " 'SZL': 18.8,\n",
       " 'THB': 35.37,\n",
       " 'TJS': 10.91,\n",
       " 'TMT': 3.5,\n",
       " 'TND': 3.11,\n",
       " 'TOP': 2.34,\n",
       " 'TRY': 30.36,\n",
       " 'TTD': 6.7,\n",
       " 'TVD': 1.52,\n",
       " 'TWD': 31.12,\n",
       " 'TZS': 2537.21,\n",
       " 'UAH': 37.88,\n",
       " 'UGX': 3808.06,\n",
       " 'UYU': 38.97,\n",
       " 'UZS': 12368.69,\n",
       " 'VES': 36.2,\n",
       " 'VND': 24334.05,\n",
       " 'VUV': 119.76,\n",
       " 'WST': 2.73,\n",
       " 'XAF': 605.06,\n",
       " 'XCD': 2.7,\n",
       " 'XDR': 0.752,\n",
       " 'XOF': 605.06,\n",
       " 'XPF': 110.07,\n",
       " 'YER': 247.34,\n",
       " 'ZAR': 18.8,\n",
       " 'ZMW': 27.1,\n",
       " 'ZWL': 9967.52}"
      ]
     },
     "execution_count": 13,
     "metadata": {},
     "output_type": "execute_result"
    }
   ],
   "source": [
    "weakest_rates = 0\n",
    "weakest_cou_code = \"\"\n",
    "\n",
    "rates = data[\"rates\"]\n",
    "\n",
    "rates"
   ]
  },
  {
   "cell_type": "code",
   "execution_count": 14,
   "metadata": {},
   "outputs": [
    {
     "data": {
      "text/plain": [
       "dict_items([('USD', 1), ('AED', 3.67), ('AFN', 73.42), ('ALL', 96.85), ('AMD', 404.74), ('ANG', 1.79), ('AOA', 839.62), ('ARS', 825.75), ('AUD', 1.52), ('AWG', 1.79), ('AZN', 1.7), ('BAM', 1.8), ('BBD', 2), ('BDT', 109.63), ('BGN', 1.8), ('BHD', 0.376), ('BIF', 2842.76), ('BMD', 1), ('BND', 1.34), ('BOB', 6.84), ('BRL', 4.95), ('BSD', 1), ('BTN', 83.14), ('BWP', 13.69), ('BYN', 3.22), ('BZD', 2), ('CAD', 1.34), ('CDF', 2707.68), ('CHF', 0.862), ('CLP', 923.33), ('CNY', 7.18), ('COP', 4013.1), ('CRC', 515.59), ('CUP', 24), ('CVE', 101.71), ('CZK', 22.88), ('DJF', 177.72), ('DKK', 6.88), ('DOP', 57.31), ('DZD', 134.12), ('EGP', 30.94), ('ERN', 15), ('ETB', 56.64), ('EUR', 0.922), ('FJD', 2.23), ('FKP', 0.788), ('FOK', 6.88), ('GBP', 0.788), ('GEL', 2.68), ('GGP', 0.788), ('GHS', 12.36), ('GIP', 0.788), ('GMD', 65.66), ('GNF', 8574.57), ('GTQ', 7.73), ('GYD', 209.36), ('HKD', 7.82), ('HNL', 24.4), ('HRK', 6.95), ('HTG', 131.67), ('HUF', 356.65), ('IDR', 15788.15), ('ILS', 3.65), ('IMP', 0.788), ('INR', 83.14), ('IQD', 1308.75), ('IRR', 42040.1), ('ISK', 136.86), ('JEP', 0.788), ('JMD', 155.49), ('JOD', 0.709), ('JPY', 147.52), ('KES', 161.82), ('KGS', 89.34), ('KHR', 4100.33), ('KID', 1.52), ('KMF', 453.79), ('KRW', 1328.95), ('KWD', 0.307), ('KYD', 0.833), ('KZT', 449.1), ('LAK', 20355.86), ('LBP', 15000), ('LKR', 317.16), ('LRD', 188.99), ('LSL', 18.8), ('LYD', 4.82), ('MAD', 10.01), ('MDL', 17.73), ('MGA', 4529.05), ('MKD', 57), ('MMK', 2079.07), ('MNT', 3410.28), ('MOP', 8.05), ('MRU', 40.3), ('MUR', 44.56), ('MVR', 15.44), ('MWK', 1691.5), ('MXN', 17.17), ('MYR', 4.73), ('MZN', 63.88), ('NAD', 18.8), ('NGN', 896.05), ('NIO', 36.19), ('NOK', 10.44), ('NPR', 133.02), ('NZD', 1.63), ('OMR', 0.384), ('PAB', 1), ('PEN', 3.81), ('PGK', 3.68), ('PHP', 56.4), ('PKR', 279.93), ('PLN', 4.02), ('PYG', 7286.48), ('QAR', 3.64), ('RON', 4.59), ('RSD', 108.11), ('RUB', 89.69), ('RWF', 1309.29), ('SAR', 3.75), ('SBD', 8.31), ('SCR', 13.19), ('SDG', 449.42), ('SEK', 10.41), ('SGD', 1.34), ('SHP', 0.788), ('SLE', 22.48), ('SLL', 22479.91), ('SOS', 571.65), ('SRD', 36.86), ('SSP', 1105.32), ('STN', 22.6), ('SYP', 12749.95), ('SZL', 18.8), ('THB', 35.37), ('TJS', 10.91), ('TMT', 3.5), ('TND', 3.11), ('TOP', 2.34), ('TRY', 30.36), ('TTD', 6.7), ('TVD', 1.52), ('TWD', 31.12), ('TZS', 2537.21), ('UAH', 37.88), ('UGX', 3808.06), ('UYU', 38.97), ('UZS', 12368.69), ('VES', 36.2), ('VND', 24334.05), ('VUV', 119.76), ('WST', 2.73), ('XAF', 605.06), ('XCD', 2.7), ('XDR', 0.752), ('XOF', 605.06), ('XPF', 110.07), ('YER', 247.34), ('ZAR', 18.8), ('ZMW', 27.1), ('ZWL', 9967.52)])"
      ]
     },
     "execution_count": 14,
     "metadata": {},
     "output_type": "execute_result"
    }
   ],
   "source": [
    "rates.items()"
   ]
  },
  {
   "cell_type": "code",
   "execution_count": 15,
   "metadata": {},
   "outputs": [],
   "source": [
    "weakest_rates = 0\n",
    "weakest_cou_code = \"\"\n",
    "\n",
    "rates = data[\"rates\"]\n",
    "\n",
    "\n",
    "for count_code, exch  in rates.items():\n",
    "    \n",
    "    if weakest_rates < exch:\n",
    "    \n",
    "        weakest_rates = exch\n",
    "        weakest_cou_code = count_code"
   ]
  },
  {
   "cell_type": "code",
   "execution_count": 16,
   "metadata": {},
   "outputs": [
    {
     "data": {
      "text/plain": [
       "'ZWL'"
      ]
     },
     "execution_count": 16,
     "metadata": {},
     "output_type": "execute_result"
    }
   ],
   "source": [
    "max(rates)"
   ]
  },
  {
   "cell_type": "code",
   "execution_count": 17,
   "metadata": {},
   "outputs": [
    {
     "data": {
      "text/plain": [
       "9967.52"
      ]
     },
     "execution_count": 17,
     "metadata": {},
     "output_type": "execute_result"
    }
   ],
   "source": [
    "rates[\"ZWL\"]"
   ]
  },
  {
   "cell_type": "code",
   "execution_count": 18,
   "metadata": {},
   "outputs": [
    {
     "data": {
      "text/plain": [
       "42040.1"
      ]
     },
     "execution_count": 18,
     "metadata": {},
     "output_type": "execute_result"
    }
   ],
   "source": [
    "max(rates.values())"
   ]
  },
  {
   "cell_type": "code",
   "execution_count": 20,
   "metadata": {},
   "outputs": [
    {
     "data": {
      "text/plain": [
       "'IRR'"
      ]
     },
     "execution_count": 20,
     "metadata": {},
     "output_type": "execute_result"
    }
   ],
   "source": [
    "max(rates, key= rates.get)"
   ]
  },
  {
   "cell_type": "code",
   "execution_count": 21,
   "metadata": {},
   "outputs": [
    {
     "data": {
      "text/plain": [
       "42040.1"
      ]
     },
     "execution_count": 21,
     "metadata": {},
     "output_type": "execute_result"
    }
   ],
   "source": [
    "rates.get(\"IRR\")"
   ]
  },
  {
   "cell_type": "code",
   "execution_count": 22,
   "metadata": {},
   "outputs": [],
   "source": [
    "rates.get(\"ABC\")"
   ]
  },
  {
   "cell_type": "code",
   "execution_count": 23,
   "metadata": {},
   "outputs": [
    {
     "data": {
      "text/plain": [
       "'The exchange rate is not available'"
      ]
     },
     "execution_count": 23,
     "metadata": {},
     "output_type": "execute_result"
    }
   ],
   "source": [
    "rates.get(\"ABC\", \"The exchange rate is not available\")"
   ]
  },
  {
   "cell_type": "code",
   "execution_count": 24,
   "metadata": {},
   "outputs": [],
   "source": [
    "def addition(a,b): # a and b are parameters\n",
    "    add = a+b\n",
    "    return add"
   ]
  },
  {
   "cell_type": "code",
   "execution_count": 25,
   "metadata": {},
   "outputs": [
    {
     "data": {
      "text/plain": [
       "70"
      ]
     },
     "execution_count": 25,
     "metadata": {},
     "output_type": "execute_result"
    }
   ],
   "source": [
    "addition(59,11) # 59 and 11 arguments -> Positional Argument(s)"
   ]
  },
  {
   "cell_type": "markdown",
   "metadata": {},
   "source": [
    "# Argument(s)\n",
    "\n",
    "* Positional Argument(s)\n",
    "* Named Argument(s) or keyword argument(s)"
   ]
  },
  {
   "cell_type": "code",
   "execution_count": 26,
   "metadata": {},
   "outputs": [],
   "source": [
    "def substraction(a,b): # a and b are parameters  -> Headers\n",
    "    sub = a-b # -----> Body\n",
    "    return sub # Return Statement"
   ]
  },
  {
   "cell_type": "code",
   "execution_count": 27,
   "metadata": {},
   "outputs": [
    {
     "data": {
      "text/plain": [
       "48"
      ]
     },
     "execution_count": 27,
     "metadata": {},
     "output_type": "execute_result"
    }
   ],
   "source": [
    "substraction(59,11)"
   ]
  },
  {
   "cell_type": "code",
   "execution_count": 28,
   "metadata": {},
   "outputs": [
    {
     "data": {
      "text/plain": [
       "-48"
      ]
     },
     "execution_count": 28,
     "metadata": {},
     "output_type": "execute_result"
    }
   ],
   "source": [
    "substraction(11,59)"
   ]
  },
  {
   "cell_type": "code",
   "execution_count": 29,
   "metadata": {},
   "outputs": [
    {
     "data": {
      "text/plain": [
       "48"
      ]
     },
     "execution_count": 29,
     "metadata": {},
     "output_type": "execute_result"
    }
   ],
   "source": [
    "substraction(a = 59, b = 11)"
   ]
  },
  {
   "cell_type": "code",
   "execution_count": 30,
   "metadata": {},
   "outputs": [
    {
     "data": {
      "text/plain": [
       "48"
      ]
     },
     "execution_count": 30,
     "metadata": {},
     "output_type": "execute_result"
    }
   ],
   "source": [
    "substraction(b = 11 , a = 59 )"
   ]
  },
  {
   "cell_type": "code",
   "execution_count": 31,
   "metadata": {},
   "outputs": [
    {
     "data": {
      "text/plain": [
       "{'a': 2, 'b': 5}"
      ]
     },
     "execution_count": 31,
     "metadata": {},
     "output_type": "execute_result"
    }
   ],
   "source": [
    "dict(a=2, b= 5)"
   ]
  },
  {
   "cell_type": "code",
   "execution_count": 32,
   "metadata": {},
   "outputs": [],
   "source": [
    "def tax_cal(salary, tax_rate):\n",
    "    tax_value = salary*tax_rate\n",
    "    return tax_value"
   ]
  },
  {
   "cell_type": "code",
   "execution_count": 33,
   "metadata": {},
   "outputs": [
    {
     "data": {
      "text/plain": [
       "5000.0"
      ]
     },
     "execution_count": 33,
     "metadata": {},
     "output_type": "execute_result"
    }
   ],
   "source": [
    "tax_cal(100000, 0.05)"
   ]
  },
  {
   "cell_type": "code",
   "execution_count": 34,
   "metadata": {},
   "outputs": [],
   "source": [
    "def tax_cal(salary, tax_rate = 0.05): # default argument\n",
    "    tax_value = salary*tax_rate\n",
    "    return tax_value"
   ]
  },
  {
   "cell_type": "code",
   "execution_count": 35,
   "metadata": {},
   "outputs": [
    {
     "data": {
      "text/plain": [
       "5000.0"
      ]
     },
     "execution_count": 35,
     "metadata": {},
     "output_type": "execute_result"
    }
   ],
   "source": [
    "tax_cal(100000)"
   ]
  },
  {
   "cell_type": "code",
   "execution_count": 36,
   "metadata": {},
   "outputs": [
    {
     "data": {
      "text/plain": [
       "6000.0"
      ]
     },
     "execution_count": 36,
     "metadata": {},
     "output_type": "execute_result"
    }
   ],
   "source": [
    "tax_cal(100000,0.06)"
   ]
  },
  {
   "cell_type": "code",
   "execution_count": 37,
   "metadata": {},
   "outputs": [],
   "source": [
    "# Multiple return statment\n",
    "\n",
    "\n",
    "def add_subs(a, b):\n",
    "    add = a + b\n",
    "    sub = a-b\n",
    "    \n",
    "    return "
   ]
  },
  {
   "cell_type": "code",
   "execution_count": 38,
   "metadata": {},
   "outputs": [],
   "source": [
    "def add_subs(a, b, addition = True):\n",
    "    add = a + b\n",
    "    sub = a-b\n",
    "    \n",
    "    if addition:\n",
    "        return add\n",
    "    else:\n",
    "        return sub"
   ]
  },
  {
   "cell_type": "code",
   "execution_count": 39,
   "metadata": {},
   "outputs": [
    {
     "data": {
      "text/plain": [
       "80"
      ]
     },
     "execution_count": 39,
     "metadata": {},
     "output_type": "execute_result"
    }
   ],
   "source": [
    "add_subs(59,21)"
   ]
  },
  {
   "cell_type": "code",
   "execution_count": 40,
   "metadata": {},
   "outputs": [
    {
     "data": {
      "text/plain": [
       "38"
      ]
     },
     "execution_count": 40,
     "metadata": {},
     "output_type": "execute_result"
    }
   ],
   "source": [
    "add_subs(59,21, False)"
   ]
  },
  {
   "cell_type": "code",
   "execution_count": 41,
   "metadata": {},
   "outputs": [
    {
     "data": {
      "text/plain": [
       "38"
      ]
     },
     "execution_count": 41,
     "metadata": {},
     "output_type": "execute_result"
    }
   ],
   "source": [
    "add_subs(addition = False, a= 59,b = 21, )"
   ]
  },
  {
   "cell_type": "code",
   "execution_count": 42,
   "metadata": {},
   "outputs": [
    {
     "data": {
      "text/plain": [
       "38"
      ]
     },
     "execution_count": 42,
     "metadata": {},
     "output_type": "execute_result"
    }
   ],
   "source": [
    "add_subs(59, addition = False, b = 21 )"
   ]
  },
  {
   "cell_type": "code",
   "execution_count": 43,
   "metadata": {},
   "outputs": [],
   "source": [
    "# Return Multiple values\n",
    "\n",
    "def add_subs(a, b, addition = True):\n",
    "    add = a + b\n",
    "    sub = a-b\n",
    "    \n",
    "    return add,sub"
   ]
  },
  {
   "cell_type": "code",
   "execution_count": 44,
   "metadata": {},
   "outputs": [
    {
     "data": {
      "text/plain": [
       "(70, 48)"
      ]
     },
     "execution_count": 44,
     "metadata": {},
     "output_type": "execute_result"
    }
   ],
   "source": [
    "add_subs(59,11)"
   ]
  },
  {
   "cell_type": "code",
   "execution_count": 45,
   "metadata": {},
   "outputs": [],
   "source": [
    "add, sub = add_subs(59,11)"
   ]
  },
  {
   "cell_type": "code",
   "execution_count": 46,
   "metadata": {},
   "outputs": [
    {
     "data": {
      "text/plain": [
       "70"
      ]
     },
     "execution_count": 46,
     "metadata": {},
     "output_type": "execute_result"
    }
   ],
   "source": [
    "add"
   ]
  },
  {
   "cell_type": "code",
   "execution_count": 47,
   "metadata": {},
   "outputs": [],
   "source": [
    "def taxation(salary):\n",
    "    tax_rate = 0.05\n",
    "    return salary*tax_rate"
   ]
  },
  {
   "cell_type": "code",
   "execution_count": 48,
   "metadata": {},
   "outputs": [
    {
     "data": {
      "text/plain": [
       "10000.0"
      ]
     },
     "execution_count": 48,
     "metadata": {},
     "output_type": "execute_result"
    }
   ],
   "source": [
    "taxation(200000)"
   ]
  },
  {
   "cell_type": "markdown",
   "metadata": {},
   "source": [
    "# Scope\n",
    "\n",
    "* Any variable is defined in function, is in a local scope\n",
    "\n",
    "* Any variable is defined in main program, is in a global scope"
   ]
  },
  {
   "cell_type": "code",
   "execution_count": 49,
   "metadata": {},
   "outputs": [],
   "source": [
    "num = 29"
   ]
  },
  {
   "cell_type": "code",
   "execution_count": 50,
   "metadata": {},
   "outputs": [],
   "source": [
    "num = 25"
   ]
  },
  {
   "cell_type": "code",
   "execution_count": 51,
   "metadata": {},
   "outputs": [],
   "source": [
    "tax_rate = 0.06"
   ]
  },
  {
   "cell_type": "code",
   "execution_count": 52,
   "metadata": {},
   "outputs": [
    {
     "data": {
      "text/plain": [
       "10000.0"
      ]
     },
     "execution_count": 52,
     "metadata": {},
     "output_type": "execute_result"
    }
   ],
   "source": [
    "taxation(200000)"
   ]
  },
  {
   "cell_type": "markdown",
   "metadata": {},
   "source": [
    "# Lambda Function \n",
    "\n",
    "* map\n",
    "* filter"
   ]
  },
  {
   "cell_type": "code",
   "execution_count": 54,
   "metadata": {},
   "outputs": [],
   "source": [
    "l = [250, 290, 2, 780, 521, 222, 349]"
   ]
  },
  {
   "cell_type": "code",
   "execution_count": 55,
   "metadata": {},
   "outputs": [
    {
     "data": {
      "text/plain": [
       "[250, 290, 2, 780, 521, 222, 349]"
      ]
     },
     "execution_count": 55,
     "metadata": {},
     "output_type": "execute_result"
    }
   ],
   "source": [
    "l"
   ]
  },
  {
   "cell_type": "code",
   "execution_count": 56,
   "metadata": {},
   "outputs": [],
   "source": [
    "l_double = []\n",
    "\n",
    "\n",
    "\n",
    "for i in l:\n",
    "    ans = i*2\n",
    "    l_double.append(ans)"
   ]
  },
  {
   "cell_type": "code",
   "execution_count": 57,
   "metadata": {},
   "outputs": [
    {
     "data": {
      "text/plain": [
       "[500, 580, 4, 1560, 1042, 444, 698]"
      ]
     },
     "execution_count": 57,
     "metadata": {},
     "output_type": "execute_result"
    }
   ],
   "source": [
    "l_double"
   ]
  },
  {
   "cell_type": "code",
   "execution_count": 58,
   "metadata": {},
   "outputs": [],
   "source": [
    "alpha = [\"ABC\", \"EFGH\", \"IJKLM\", \"N\", \"OPQ\"]"
   ]
  },
  {
   "cell_type": "code",
   "execution_count": 59,
   "metadata": {},
   "outputs": [
    {
     "data": {
      "text/plain": [
       "5"
      ]
     },
     "execution_count": 59,
     "metadata": {},
     "output_type": "execute_result"
    }
   ],
   "source": [
    "len(alpha)"
   ]
  },
  {
   "cell_type": "code",
   "execution_count": 60,
   "metadata": {},
   "outputs": [],
   "source": [
    "len_ele = []\n",
    "\n",
    "\n",
    "for i in alpha:\n",
    "    length = len(i)\n",
    "    len_ele.append(length)"
   ]
  },
  {
   "cell_type": "code",
   "execution_count": 61,
   "metadata": {},
   "outputs": [
    {
     "data": {
      "text/plain": [
       "[3, 4, 5, 1, 3]"
      ]
     },
     "execution_count": 61,
     "metadata": {},
     "output_type": "execute_result"
    }
   ],
   "source": [
    "len_ele "
   ]
  },
  {
   "cell_type": "code",
   "execution_count": 62,
   "metadata": {},
   "outputs": [
    {
     "data": {
      "text/plain": [
       "<map at 0x20aa40df0a0>"
      ]
     },
     "execution_count": 62,
     "metadata": {},
     "output_type": "execute_result"
    }
   ],
   "source": [
    "map(len, alpha)"
   ]
  },
  {
   "cell_type": "code",
   "execution_count": 63,
   "metadata": {},
   "outputs": [
    {
     "data": {
      "text/plain": [
       "[3, 4, 5, 1, 3]"
      ]
     },
     "execution_count": 63,
     "metadata": {},
     "output_type": "execute_result"
    }
   ],
   "source": [
    "list(map(len, alpha))"
   ]
  },
  {
   "cell_type": "code",
   "execution_count": 64,
   "metadata": {},
   "outputs": [],
   "source": [
    "def mul(i):\n",
    "    return i*2"
   ]
  },
  {
   "cell_type": "code",
   "execution_count": 65,
   "metadata": {},
   "outputs": [
    {
     "data": {
      "text/plain": [
       "[500, 580, 4, 1560, 1042, 444, 698]"
      ]
     },
     "execution_count": 65,
     "metadata": {},
     "output_type": "execute_result"
    }
   ],
   "source": [
    "list(map(mul, l))"
   ]
  },
  {
   "cell_type": "code",
   "execution_count": 66,
   "metadata": {},
   "outputs": [
    {
     "data": {
      "text/plain": [
       "[500, 580, 4, 1560, 1042, 444, 698]"
      ]
     },
     "execution_count": 66,
     "metadata": {},
     "output_type": "execute_result"
    }
   ],
   "source": [
    "list(map(lambda i: i*2 , l))"
   ]
  },
  {
   "cell_type": "code",
   "execution_count": 67,
   "metadata": {},
   "outputs": [
    {
     "data": {
      "text/plain": [
       "[250, 290, 2, 780, 521, 222, 349]"
      ]
     },
     "execution_count": 67,
     "metadata": {},
     "output_type": "execute_result"
    }
   ],
   "source": [
    "l"
   ]
  },
  {
   "cell_type": "code",
   "execution_count": 68,
   "metadata": {},
   "outputs": [
    {
     "data": {
      "text/plain": [
       "[780, 521, 349]"
      ]
     },
     "execution_count": 68,
     "metadata": {},
     "output_type": "execute_result"
    }
   ],
   "source": [
    "list(filter(lambda i: i>300 , l))"
   ]
  },
  {
   "cell_type": "code",
   "execution_count": null,
   "metadata": {},
   "outputs": [],
   "source": []
  }
 ],
 "metadata": {
  "kernelspec": {
   "display_name": "base",
   "language": "python",
   "name": "python3"
  },
  "language_info": {
   "codemirror_mode": {
    "name": "ipython",
    "version": 3
   },
   "file_extension": ".py",
   "mimetype": "text/x-python",
   "name": "python",
   "nbconvert_exporter": "python",
   "pygments_lexer": "ipython3",
   "version": "3.11.5"
  }
 },
 "nbformat": 4,
 "nbformat_minor": 2
}
