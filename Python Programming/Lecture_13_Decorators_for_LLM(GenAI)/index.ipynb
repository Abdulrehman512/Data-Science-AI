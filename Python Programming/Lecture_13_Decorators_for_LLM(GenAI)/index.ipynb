{
 "cells": [
  {
   "cell_type": "markdown",
   "metadata": {},
   "source": [
    "## Decorators"
   ]
  },
  {
   "cell_type": "markdown",
   "metadata": {},
   "source": [
    "1. Functions as an objects\n",
    "2. Functions as an arguments\n",
    "3. Functions as an inner (nested) Functions"
   ]
  },
  {
   "cell_type": "code",
   "execution_count": 1,
   "metadata": {},
   "outputs": [],
   "source": [
    "def adjust_lighting():\n",
    "    print(\"Adjust Lighting\")"
   ]
  },
  {
   "cell_type": "code",
   "execution_count": 2,
   "metadata": {},
   "outputs": [
    {
     "name": "stdout",
     "output_type": "stream",
     "text": [
      "Adjust Lighting\n"
     ]
    }
   ],
   "source": [
    "adjust_lighting()"
   ]
  },
  {
   "cell_type": "code",
   "execution_count": 3,
   "metadata": {},
   "outputs": [],
   "source": [
    "adl = adjust_lighting"
   ]
  },
  {
   "cell_type": "code",
   "execution_count": 4,
   "metadata": {},
   "outputs": [
    {
     "name": "stdout",
     "output_type": "stream",
     "text": [
      "Adjust Lighting\n"
     ]
    }
   ],
   "source": [
    "adl()"
   ]
  },
  {
   "cell_type": "code",
   "execution_count": 5,
   "metadata": {},
   "outputs": [],
   "source": [
    "def log_execution(original_function):\n",
    "    print(\"I am calling a function\")\n",
    "    original_function()\n",
    "    print(\"Function has been called\")"
   ]
  },
  {
   "cell_type": "code",
   "execution_count": 8,
   "metadata": {},
   "outputs": [
    {
     "name": "stdout",
     "output_type": "stream",
     "text": [
      "I am calling a function\n",
      "Adjust Lighting\n",
      "Function has been called\n"
     ]
    }
   ],
   "source": [
    "log_execution(adjust_lighting)"
   ]
  },
  {
   "cell_type": "code",
   "execution_count": 10,
   "metadata": {},
   "outputs": [],
   "source": [
    "def log_execution():\n",
    "    def wrapper():\n",
    "        return \"Some values\"\n",
    "    \n",
    "    return wrapper"
   ]
  },
  {
   "cell_type": "code",
   "execution_count": 15,
   "metadata": {},
   "outputs": [
    {
     "data": {
      "text/plain": [
       "<function __main__.log_execution.<locals>.wrapper()>"
      ]
     },
     "execution_count": 15,
     "metadata": {},
     "output_type": "execute_result"
    }
   ],
   "source": [
    "fun_call = log_execution()\n",
    "fun_call"
   ]
  },
  {
   "cell_type": "code",
   "execution_count": 16,
   "metadata": {},
   "outputs": [
    {
     "data": {
      "text/plain": [
       "'Some values'"
      ]
     },
     "execution_count": 16,
     "metadata": {},
     "output_type": "execute_result"
    }
   ],
   "source": [
    "fun_call()"
   ]
  },
  {
   "cell_type": "code",
   "execution_count": 17,
   "metadata": {},
   "outputs": [],
   "source": [
    "def adjust_lighting():\n",
    "    print(\"Adjusting Lighting\")\n",
    "    \n",
    "def log_execution(original_function):\n",
    "    def wrapper():\n",
    "        print(\"Executing smart home system...\")\n",
    "        original_function()\n",
    "        print(\"Smart home system has been executed\")\n",
    "    return wrapper"
   ]
  },
  {
   "cell_type": "code",
   "execution_count": 18,
   "metadata": {},
   "outputs": [],
   "source": [
    "decorated_adjust_lighting = log_execution(adjust_lighting)"
   ]
  },
  {
   "cell_type": "code",
   "execution_count": 19,
   "metadata": {},
   "outputs": [
    {
     "data": {
      "text/plain": [
       "<function __main__.log_execution.<locals>.wrapper()>"
      ]
     },
     "execution_count": 19,
     "metadata": {},
     "output_type": "execute_result"
    }
   ],
   "source": [
    "decorated_adjust_lighting"
   ]
  },
  {
   "cell_type": "code",
   "execution_count": 20,
   "metadata": {},
   "outputs": [
    {
     "name": "stdout",
     "output_type": "stream",
     "text": [
      "Executing smart home system...\n",
      "Adjusting Lighting\n",
      "Smart home system has been executed\n"
     ]
    }
   ],
   "source": [
    "decorated_adjust_lighting()"
   ]
  },
  {
   "cell_type": "markdown",
   "metadata": {},
   "source": [
    "# syntatic sugar\n",
    "\n",
    "@"
   ]
  },
  {
   "cell_type": "code",
   "execution_count": 21,
   "metadata": {},
   "outputs": [],
   "source": [
    "def log_execution(original_function):\n",
    "    def wrapper():\n",
    "        print(\"Executing smart home system...\")\n",
    "        original_function()\n",
    "        print(\"Smart home system has been executed\")\n",
    "    return wrapper"
   ]
  },
  {
   "cell_type": "code",
   "execution_count": 22,
   "metadata": {},
   "outputs": [],
   "source": [
    "@log_execution \n",
    "def adjust_lighting():\n",
    "    print(\"Adjusting Lighting\")\n",
    "    \n",
    "# log_execution(adjust_lighting)"
   ]
  },
  {
   "cell_type": "code",
   "execution_count": 24,
   "metadata": {},
   "outputs": [
    {
     "name": "stdout",
     "output_type": "stream",
     "text": [
      "Executing smart home system...\n",
      "Adjusting Lighting\n",
      "Smart home system has been executed\n"
     ]
    }
   ],
   "source": [
    "adjust_lighting()"
   ]
  },
  {
   "cell_type": "markdown",
   "metadata": {},
   "source": [
    "### Decorators For LLM (Generative AI) - Continue"
   ]
  },
  {
   "cell_type": "code",
   "execution_count": 1,
   "metadata": {},
   "outputs": [
    {
     "name": "stdout",
     "output_type": "stream",
     "text": [
      "Executing smart home system...\n",
      "Adjusting Lighting\n",
      "Smart home system has been executed\n"
     ]
    }
   ],
   "source": [
    "def log_execution(original_function): # Decorator Function\n",
    "    def wrapper():\n",
    "        print(\"Executing smart home system...\")\n",
    "        original_function()\n",
    "        print(\"Smart home system has been executed\")\n",
    "    return wrapper\n",
    "\n",
    "@log_execution \n",
    "def adjust_lighting(): # Decorated Function\n",
    "    print(\"Adjusting Lighting\")\n",
    "\n",
    "adjust_lighting()"
   ]
  },
  {
   "cell_type": "code",
   "execution_count": 2,
   "metadata": {},
   "outputs": [
    {
     "name": "stdout",
     "output_type": "stream",
     "text": [
      "Adjusting Lighting to 80%\n"
     ]
    }
   ],
   "source": [
    "def adjust_lighting(brightness):\n",
    "    print(f\"Adjusting Lighting to {brightness}%\")\n",
    "\n",
    "adjust_lighting(80)"
   ]
  },
  {
   "cell_type": "code",
   "execution_count": 3,
   "metadata": {},
   "outputs": [
    {
     "ename": "TypeError",
     "evalue": "log_execution.<locals>.wrapper() takes 0 positional arguments but 1 was given",
     "output_type": "error",
     "traceback": [
      "\u001b[1;31m---------------------------------------------------------------------------\u001b[0m",
      "\u001b[1;31mTypeError\u001b[0m                                 Traceback (most recent call last)",
      "Cell \u001b[1;32mIn[3], line 12\u001b[0m\n\u001b[0;32m      8\u001b[0m \u001b[38;5;129m@log_execution\u001b[39m \n\u001b[0;32m      9\u001b[0m \u001b[38;5;28;01mdef\u001b[39;00m \u001b[38;5;21madjust_lighting\u001b[39m(brightness): \u001b[38;5;66;03m# Decorated Function\u001b[39;00m\n\u001b[0;32m     10\u001b[0m     \u001b[38;5;28mprint\u001b[39m(\u001b[38;5;124mf\u001b[39m\u001b[38;5;124m\"\u001b[39m\u001b[38;5;124mAdjusting Lighting to \u001b[39m\u001b[38;5;132;01m{\u001b[39;00mbrightness\u001b[38;5;132;01m}\u001b[39;00m\u001b[38;5;124m%\u001b[39m\u001b[38;5;124m\"\u001b[39m)\n\u001b[1;32m---> 12\u001b[0m adjust_lighting(\u001b[38;5;241m80\u001b[39m)\n",
      "\u001b[1;31mTypeError\u001b[0m: log_execution.<locals>.wrapper() takes 0 positional arguments but 1 was given"
     ]
    }
   ],
   "source": [
    "def log_execution(original_function): # Decorator Function\n",
    "    def wrapper():\n",
    "        print(\"Executing smart home system...\")\n",
    "        original_function()\n",
    "        print(\"Smart home system has been executed\")\n",
    "    return wrapper\n",
    "\n",
    "@log_execution \n",
    "def adjust_lighting(brightness): # Decorated Function\n",
    "    print(f\"Adjusting Lighting to {brightness}%\")\n",
    "\n",
    "adjust_lighting(80)"
   ]
  },
  {
   "cell_type": "code",
   "execution_count": 4,
   "metadata": {},
   "outputs": [
    {
     "name": "stdout",
     "output_type": "stream",
     "text": [
      "Executing smart home system...\n",
      "Adjusting Lighting to 80%\n",
      "Smart home system has been executed\n"
     ]
    }
   ],
   "source": [
    "def log_execution(original_function): # Decorator Function\n",
    "    def wrapper(arg):\n",
    "        print(\"Executing smart home system...\")\n",
    "        original_function(arg)\n",
    "        print(\"Smart home system has been executed\")\n",
    "    return wrapper\n",
    "\n",
    "@log_execution \n",
    "def adjust_lighting(brightness): # Decorated Function\n",
    "    print(f\"Adjusting Lighting to {brightness}%\")\n",
    "\n",
    "adjust_lighting(80)"
   ]
  },
  {
   "cell_type": "code",
   "execution_count": 5,
   "metadata": {},
   "outputs": [
    {
     "ename": "TypeError",
     "evalue": "log_execution.<locals>.wrapper() takes 1 positional argument but 2 were given",
     "output_type": "error",
     "traceback": [
      "\u001b[1;31m---------------------------------------------------------------------------\u001b[0m",
      "\u001b[1;31mTypeError\u001b[0m                                 Traceback (most recent call last)",
      "Cell \u001b[1;32mIn[5], line 12\u001b[0m\n\u001b[0;32m      8\u001b[0m \u001b[38;5;129m@log_execution\u001b[39m \n\u001b[0;32m      9\u001b[0m \u001b[38;5;28;01mdef\u001b[39;00m \u001b[38;5;21madjust_lighting\u001b[39m(brightness, intensity): \u001b[38;5;66;03m# Decorated Function\u001b[39;00m\n\u001b[0;32m     10\u001b[0m     \u001b[38;5;28mprint\u001b[39m(\u001b[38;5;124mf\u001b[39m\u001b[38;5;124m\"\u001b[39m\u001b[38;5;124mAdjusting Lighting to \u001b[39m\u001b[38;5;132;01m{\u001b[39;00mbrightness\u001b[38;5;132;01m}\u001b[39;00m\u001b[38;5;124m% to make its intensity to \u001b[39m\u001b[38;5;132;01m{\u001b[39;00mintensity\u001b[38;5;132;01m}\u001b[39;00m\u001b[38;5;124m%\u001b[39m\u001b[38;5;124m\"\u001b[39m)\n\u001b[1;32m---> 12\u001b[0m adjust_lighting(\u001b[38;5;241m80\u001b[39m,\u001b[38;5;241m40\u001b[39m)\n",
      "\u001b[1;31mTypeError\u001b[0m: log_execution.<locals>.wrapper() takes 1 positional argument but 2 were given"
     ]
    }
   ],
   "source": [
    "def log_execution(original_function): # Decorator Function\n",
    "    def wrapper(arg):\n",
    "        print(\"Executing smart home system...\")\n",
    "        original_function(arg)\n",
    "        print(\"Smart home system has been executed\")\n",
    "    return wrapper\n",
    "\n",
    "@log_execution \n",
    "def adjust_lighting(brightness, intensity): # Decorated Function\n",
    "    print(f\"Adjusting Lighting to {brightness}% to make its intensity to {intensity}%\")\n",
    "\n",
    "adjust_lighting(80,40)"
   ]
  },
  {
   "cell_type": "code",
   "execution_count": 6,
   "metadata": {},
   "outputs": [
    {
     "name": "stdout",
     "output_type": "stream",
     "text": [
      "Executing smart home system...\n",
      "Adjusting Lighting to 80% to make its intensity to 40%\n",
      "Smart home system has been executed\n"
     ]
    }
   ],
   "source": [
    "def log_execution(original_function): # Decorator Function\n",
    "    def wrapper(*args):\n",
    "        print(\"Executing smart home system...\")\n",
    "        original_function(*args)\n",
    "        print(\"Smart home system has been executed\")\n",
    "    return wrapper\n",
    "\n",
    "@log_execution \n",
    "def adjust_lighting(brightness, intensity): # Decorated Function\n",
    "    print(f\"Adjusting Lighting to {brightness}% to make its intensity to {intensity}%\")\n",
    "\n",
    "adjust_lighting(80,40)"
   ]
  },
  {
   "cell_type": "code",
   "execution_count": 7,
   "metadata": {},
   "outputs": [
    {
     "ename": "TypeError",
     "evalue": "log_execution.<locals>.wrapper() got an unexpected keyword argument 'brightness'",
     "output_type": "error",
     "traceback": [
      "\u001b[1;31m---------------------------------------------------------------------------\u001b[0m",
      "\u001b[1;31mTypeError\u001b[0m                                 Traceback (most recent call last)",
      "Cell \u001b[1;32mIn[7], line 1\u001b[0m\n\u001b[1;32m----> 1\u001b[0m adjust_lighting(brightness \u001b[38;5;241m=\u001b[39m \u001b[38;5;241m80\u001b[39m,intensity \u001b[38;5;241m=\u001b[39m \u001b[38;5;241m40\u001b[39m)\n",
      "\u001b[1;31mTypeError\u001b[0m: log_execution.<locals>.wrapper() got an unexpected keyword argument 'brightness'"
     ]
    }
   ],
   "source": [
    "adjust_lighting(brightness = 80,intensity = 40)"
   ]
  },
  {
   "cell_type": "code",
   "execution_count": 8,
   "metadata": {},
   "outputs": [
    {
     "name": "stdout",
     "output_type": "stream",
     "text": [
      "Executing smart home system...\n",
      "Adjusting Lighting to 80% to make its intensity to 40%\n",
      "Smart home system has been executed\n"
     ]
    }
   ],
   "source": [
    "def log_execution(original_function): # Decorator Function\n",
    "    def wrapper(*args,**kwargs):\n",
    "        print(\"Executing smart home system...\")\n",
    "        original_function(*args, **kwargs)\n",
    "        print(\"Smart home system has been executed\")\n",
    "    return wrapper\n",
    "\n",
    "@log_execution \n",
    "def adjust_lighting(brightness, intensity): # Decorated Function\n",
    "    print(f\"Adjusting Lighting to {brightness}% to make its intensity to {intensity}%\")\n",
    "\n",
    "adjust_lighting(80,40)"
   ]
  },
  {
   "cell_type": "code",
   "execution_count": 9,
   "metadata": {},
   "outputs": [
    {
     "name": "stdout",
     "output_type": "stream",
     "text": [
      "Executing smart home system...\n",
      "Adjusting Lighting to 80% to make its intensity to 40%\n",
      "Smart home system has been executed\n"
     ]
    }
   ],
   "source": [
    "adjust_lighting(brightness = 80,intensity = 40)"
   ]
  },
  {
   "cell_type": "code",
   "execution_count": 10,
   "metadata": {},
   "outputs": [
    {
     "name": "stdout",
     "output_type": "stream",
     "text": [
      "Executing smart home system...\n",
      "Adjusting Lighting to 80% to make its intensity to 40%\n",
      "Smart home system has been executed\n"
     ]
    }
   ],
   "source": [
    "adjust_lighting(80,intensity = 40)"
   ]
  },
  {
   "cell_type": "code",
   "execution_count": 11,
   "metadata": {},
   "outputs": [
    {
     "name": "stdout",
     "output_type": "stream",
     "text": [
      "Initiating smart home system...\n",
      "Adjusting Lighting to 80% to make its intensity to 40%\n",
      "Smart home system has been executed\n"
     ]
    }
   ],
   "source": [
    "def log_custom_message(message):\n",
    "    def log_execution(original_function): # Decorator Function\n",
    "        def wrapper(*args,**kwargs):\n",
    "            print(message) # print(\"Executing smart home system...\")\n",
    "            original_function(*args, **kwargs)\n",
    "            print(\"Smart home system has been executed\")\n",
    "        return wrapper\n",
    "    return log_execution\n",
    "\n",
    "@log_custom_message(\"Initiating smart home system...\")\n",
    "def adjust_lighting(brightness, intensity): # Decorated Function\n",
    "    print(f\"Adjusting Lighting to {brightness}% to make its intensity to {intensity}%\")\n",
    "    \n",
    "adjust_lighting(80,intensity = 40)"
   ]
  },
  {
   "cell_type": "markdown",
   "metadata": {},
   "source": [
    "## Decorator chaining"
   ]
  },
  {
   "cell_type": "code",
   "execution_count": 12,
   "metadata": {},
   "outputs": [
    {
     "name": "stdout",
     "output_type": "stream",
     "text": [
      "2024-02-18 01:27:15.228106\n"
     ]
    }
   ],
   "source": [
    "import datetime as dt\n",
    "\n",
    "print(dt.datetime.now())"
   ]
  },
  {
   "cell_type": "code",
   "execution_count": 13,
   "metadata": {},
   "outputs": [
    {
     "name": "stdout",
     "output_type": "stream",
     "text": [
      "2024-02-18 01:27:39.349582\n",
      "Initiating smart home system...\n",
      "Adjusting Lighting to 80% to make its intensity to 40%\n",
      "Smart home system has been executed\n"
     ]
    }
   ],
   "source": [
    "def timestamp(original_function):\n",
    "    def wrapper(*args,**kwargs):\n",
    "        print(dt.datetime.now()) \n",
    "        original_function(*args, **kwargs)\n",
    "    return wrapper\n",
    "\n",
    "\n",
    "def log_custom_message(message):\n",
    "    def log_execution(original_function): # Decorator Function\n",
    "        def wrapper(*args,**kwargs):\n",
    "            print(message) # print(\"Executing smart home system...\")\n",
    "            original_function(*args, **kwargs)\n",
    "            print(\"Smart home system has been executed\")\n",
    "        return wrapper\n",
    "    return log_execution\n",
    "\n",
    "@timestamp\n",
    "@log_custom_message(\"Initiating smart home system...\")\n",
    "def adjust_lighting(brightness, intensity): # Decorated Function\n",
    "    print(f\"Adjusting Lighting to {brightness}% to make its intensity to {intensity}%\")\n",
    "    \n",
    "adjust_lighting(80,intensity = 40)"
   ]
  },
  {
   "cell_type": "code",
   "execution_count": 14,
   "metadata": {},
   "outputs": [
    {
     "name": "stdout",
     "output_type": "stream",
     "text": [
      "Initiating smart home system...\n",
      "2024-02-18 01:27:49.475252\n",
      "Adjusting Lighting to 80% to make its intensity to 40%\n",
      "Smart home system has been executed\n"
     ]
    }
   ],
   "source": [
    "@log_custom_message(\"Initiating smart home system...\")\n",
    "@timestamp\n",
    "def adjust_lighting(brightness, intensity): # Decorated Function\n",
    "    print(f\"Adjusting Lighting to {brightness}% to make its intensity to {intensity}%\")\n",
    "    \n",
    "adjust_lighting(80,intensity = 40)"
   ]
  },
  {
   "cell_type": "code",
   "execution_count": 15,
   "metadata": {},
   "outputs": [
    {
     "name": "stdout",
     "output_type": "stream",
     "text": [
      "Adjusting Lighting to 80% to make its intensity to 40%\n"
     ]
    }
   ],
   "source": [
    "def adjust_lighting(brightness, intensity): # Decorated Function\n",
    "    \"\"\"Informing about adjusting a smart light\"\"\"\n",
    "    print(f\"Adjusting Lighting to {brightness}% to make its intensity to {intensity}%\")\n",
    "    \n",
    "adjust_lighting(80,intensity = 40)"
   ]
  },
  {
   "cell_type": "code",
   "execution_count": 16,
   "metadata": {},
   "outputs": [
    {
     "name": "stdout",
     "output_type": "stream",
     "text": [
      "Informing about adjusting a smart light\n",
      "\n",
      "adjust_lighting\n"
     ]
    }
   ],
   "source": [
    "print(adjust_lighting.__doc__)  # __init__\n",
    "print()\n",
    "print(adjust_lighting.__name__ )"
   ]
  },
  {
   "cell_type": "code",
   "execution_count": 17,
   "metadata": {},
   "outputs": [
    {
     "name": "stdout",
     "output_type": "stream",
     "text": [
      "2024-02-18 01:28:29.167582\n",
      "Initiating smart home system...\n",
      "Adjusting Lighting to 80% to make its intensity to 40%\n",
      "Smart home system has been executed\n",
      "\n",
      "None\n",
      "\n",
      "wrapper\n"
     ]
    }
   ],
   "source": [
    "def timestamp(original_function):\n",
    "    def wrapper(*args,**kwargs):\n",
    "        print(dt.datetime.now()) \n",
    "        original_function(*args, **kwargs)\n",
    "    return wrapper\n",
    "\n",
    "\n",
    "def log_custom_message(message):\n",
    "    def log_execution(original_function): # Decorator Function\n",
    "        def wrapper(*args,**kwargs):\n",
    "            print(message) # print(\"Executing smart home system...\")\n",
    "            original_function(*args, **kwargs)\n",
    "            print(\"Smart home system has been executed\")\n",
    "        return wrapper\n",
    "    return log_execution\n",
    "\n",
    "@timestamp\n",
    "@log_custom_message(\"Initiating smart home system...\")\n",
    "def adjust_lighting(brightness, intensity): # Decorated Function\n",
    "    \"\"\"Informing about adjusting a smart light\"\"\"\n",
    "    print(f\"Adjusting Lighting to {brightness}% to make its intensity to {intensity}%\")\n",
    "    \n",
    "adjust_lighting(80,intensity = 40)\n",
    "print()\n",
    "print(adjust_lighting.__doc__)  # __init__\n",
    "print()\n",
    "print(adjust_lighting.__name__ )"
   ]
  },
  {
   "cell_type": "code",
   "execution_count": 18,
   "metadata": {},
   "outputs": [],
   "source": [
    "from functools import wraps"
   ]
  },
  {
   "cell_type": "code",
   "execution_count": 19,
   "metadata": {},
   "outputs": [
    {
     "name": "stdout",
     "output_type": "stream",
     "text": [
      "2024-02-18 01:29:06.195121\n",
      "Initiating smart home system...\n",
      "Adjusting Lighting to 80% to make its intensity to 40%\n",
      "Smart home system has been executed\n",
      "\n",
      "Informing about adjusting a smart light\n",
      "\n",
      "adjust_lighting\n"
     ]
    }
   ],
   "source": [
    "def timestamp(original_function):\n",
    "    @wraps(original_function)\n",
    "    def wrapper(*args,**kwargs):\n",
    "        print(dt.datetime.now()) \n",
    "        original_function(*args, **kwargs)\n",
    "    return wrapper\n",
    "\n",
    "\n",
    "def log_custom_message(message):\n",
    "    def log_execution(original_function): # Decorator Function\n",
    "        @wraps(original_function)\n",
    "        def wrapper(*args,**kwargs):\n",
    "            print(message) # print(\"Executing smart home system...\")\n",
    "            original_function(*args, **kwargs)\n",
    "            print(\"Smart home system has been executed\")\n",
    "        return wrapper\n",
    "    return log_execution\n",
    "\n",
    "@timestamp\n",
    "@log_custom_message(\"Initiating smart home system...\")\n",
    "def adjust_lighting(brightness, intensity): # Decorated Function\n",
    "    \"\"\"Informing about adjusting a smart light\"\"\"\n",
    "    \n",
    "    print(f\"Adjusting Lighting to {brightness}% to make its intensity to {intensity}%\")\n",
    "    \n",
    "adjust_lighting(80,intensity = 40)\n",
    "print()\n",
    "print(adjust_lighting.__doc__)  # __init__\n",
    "print()\n",
    "print(adjust_lighting.__name__ )"
   ]
  },
  {
   "cell_type": "code",
   "execution_count": null,
   "metadata": {},
   "outputs": [],
   "source": []
  }
 ],
 "metadata": {
  "kernelspec": {
   "display_name": "base",
   "language": "python",
   "name": "python3"
  },
  "language_info": {
   "codemirror_mode": {
    "name": "ipython",
    "version": 3
   },
   "file_extension": ".py",
   "mimetype": "text/x-python",
   "name": "python",
   "nbconvert_exporter": "python",
   "pygments_lexer": "ipython3",
   "version": "3.11.5"
  }
 },
 "nbformat": 4,
 "nbformat_minor": 2
}
