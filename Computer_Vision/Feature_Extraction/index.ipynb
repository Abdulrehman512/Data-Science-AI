{
 "cells": [
  {
   "cell_type": "code",
   "execution_count": null,
   "metadata": {},
   "outputs": [],
   "source": [
    "import cv2\n",
    "import numpy as np"
   ]
  },
  {
   "cell_type": "markdown",
   "metadata": {},
   "source": [
    "## Color Mean Features"
   ]
  },
  {
   "cell_type": "code",
   "execution_count": null,
   "metadata": {},
   "outputs": [],
   "source": [
    "img1 = cv2.imread(\"img2.jpg\")\n",
    "height, width, depth = np.shape(img1)"
   ]
  },
  {
   "cell_type": "code",
   "execution_count": null,
   "metadata": {},
   "outputs": [],
   "source": [
    "means = cv2.mean(img1)\n",
    "\n",
    "avgB = int(means[0])\n",
    "avgG = int(means[1])\n",
    "avgR = int(means[2])\n",
    "\n",
    "print(str(avgB))\n",
    "print(str(avgG))\n",
    "print(str(avgR))\n",
    "\n",
    "cv2.imshow(\"Image\",img1)\n",
    "cv2.waitKey(0)\n",
    "cv2.destroyAllWindows()"
   ]
  },
  {
   "cell_type": "code",
   "execution_count": 34,
   "metadata": {},
   "outputs": [],
   "source": [
    "# from utils import *\n",
    "\n",
    "# img = cv2.imread(\"img2.jpeg\")\n",
    "# feature_vector = describeImage(img,1)\n",
    "# print(feature_vector)"
   ]
  },
  {
   "cell_type": "code",
   "execution_count": null,
   "metadata": {},
   "outputs": [],
   "source": []
  },
  {
   "cell_type": "markdown",
   "metadata": {},
   "source": [
    "## Histogram Features"
   ]
  },
  {
   "cell_type": "code",
   "execution_count": 33,
   "metadata": {},
   "outputs": [
    {
     "name": "stdout",
     "output_type": "stream",
     "text": [
      "[0.75398666 0.573428   0.2554079  0.19247459 0.02012153]\n"
     ]
    }
   ],
   "source": [
    "img2 = cv2.imread(\"gray.jpg\")\n",
    "\n",
    "hist = cv2.calcHist([img2], [0], None, [5], [0,256])\n",
    "hist = cv2.normalize(hist, dst=hist).flatten()\n",
    "print(hist)\n",
    "\n",
    "cv2.imshow(\"gray image\", img2)\n",
    "cv2.waitKey(0)\n",
    "cv2.destroyAllWindows()"
   ]
  },
  {
   "cell_type": "code",
   "execution_count": null,
   "metadata": {},
   "outputs": [],
   "source": []
  },
  {
   "cell_type": "markdown",
   "metadata": {},
   "source": [
    "## Texture Based Features"
   ]
  },
  {
   "cell_type": "code",
   "execution_count": 40,
   "metadata": {},
   "outputs": [
    {
     "name": "stdout",
     "output_type": "stream",
     "text": [
      "[0.031776   0.01938933 0.01414667 0.01118933 0.009592   0.00958933\n",
      " 0.00933333 0.01068533 0.01342133 0.0176     0.02563733 0.056736\n",
      " 0.102784   0.05625067 0.026688   0.01971733 0.013504   0.01296267\n",
      " 0.00997333 0.01026667 0.01097067 0.01444    0.02136    0.02191733\n",
      " 0.10328    0.34678933]\n"
     ]
    }
   ],
   "source": [
    "from skimage.feature import local_binary_pattern\n",
    "\n",
    "img_gray = cv2.cvtColor(img3, cv2.COLOR_BGR2GRAY)  # Convert to grayscale\n",
    "\n",
    "lbp = local_binary_pattern(img_gray, 8*3, 3, method=\"uniform\")\n",
    "frequencies = np.unique(lbp.ravel(), return_counts=True)\n",
    "hist = frequencies[1] / sum(frequencies[1])\n",
    "\n",
    "print(hist)"
   ]
  },
  {
   "cell_type": "code",
   "execution_count": null,
   "metadata": {},
   "outputs": [],
   "source": []
  }
 ],
 "metadata": {
  "kernelspec": {
   "display_name": "base",
   "language": "python",
   "name": "python3"
  },
  "language_info": {
   "codemirror_mode": {
    "name": "ipython",
    "version": 3
   },
   "file_extension": ".py",
   "mimetype": "text/x-python",
   "name": "python",
   "nbconvert_exporter": "python",
   "pygments_lexer": "ipython3",
   "version": "3.11.5"
  }
 },
 "nbformat": 4,
 "nbformat_minor": 2
}
