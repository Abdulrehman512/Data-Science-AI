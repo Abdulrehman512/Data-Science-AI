{
 "cells": [
  {
   "cell_type": "code",
   "execution_count": 21,
   "metadata": {},
   "outputs": [],
   "source": [
    "import cv2\n",
    "import numpy as np"
   ]
  },
  {
   "cell_type": "markdown",
   "metadata": {},
   "source": [
    "## Color Mean Features"
   ]
  },
  {
   "cell_type": "code",
   "execution_count": 22,
   "metadata": {},
   "outputs": [],
   "source": [
    "img1 = cv2.imread(\"img2.jpg\")\n",
    "height, width, depth = np.shape(img1)"
   ]
  },
  {
   "cell_type": "code",
   "execution_count": 23,
   "metadata": {},
   "outputs": [
    {
     "name": "stdout",
     "output_type": "stream",
     "text": [
      "49\n",
      "62\n",
      "48\n"
     ]
    }
   ],
   "source": [
    "means = cv2.mean(img1)\n",
    "\n",
    "avgB = int(means[0])\n",
    "avgG = int(means[1])\n",
    "avgR = int(means[2])\n",
    "\n",
    "print(str(avgB))\n",
    "print(str(avgG))\n",
    "print(str(avgR))\n",
    "\n",
    "cv2.imshow(\"Image\",img1)\n",
    "cv2.waitKey(0)\n",
    "cv2.destroyAllWindows()"
   ]
  },
  {
   "cell_type": "code",
   "execution_count": 25,
   "metadata": {},
   "outputs": [
    {
     "ename": "TypeError",
     "evalue": "'float' object cannot be interpreted as an integer",
     "output_type": "error",
     "traceback": [
      "\u001b[1;31m---------------------------------------------------------------------------\u001b[0m",
      "\u001b[1;31mTypeError\u001b[0m                                 Traceback (most recent call last)",
      "Cell \u001b[1;32mIn[25], line 4\u001b[0m\n\u001b[0;32m      1\u001b[0m \u001b[38;5;28;01mfrom\u001b[39;00m \u001b[38;5;21;01mutils\u001b[39;00m \u001b[38;5;28;01mimport\u001b[39;00m \u001b[38;5;241m*\u001b[39m\n\u001b[0;32m      3\u001b[0m img \u001b[38;5;241m=\u001b[39m cv2\u001b[38;5;241m.\u001b[39mimread(\u001b[38;5;124m\"\u001b[39m\u001b[38;5;124mcar.jpeg\u001b[39m\u001b[38;5;124m\"\u001b[39m)\n\u001b[1;32m----> 4\u001b[0m feature_vector \u001b[38;5;241m=\u001b[39m describeImage(img,\u001b[38;5;241m1\u001b[39m)\n\u001b[0;32m      5\u001b[0m \u001b[38;5;28mprint\u001b[39m(feature_vector)\n",
      "File \u001b[1;32md:\\Applied Data Science & AI Specialization\\Computer_Vision\\Feature_Extraction\\utils.py:25\u001b[0m, in \u001b[0;36mdescribeImage\u001b[1;34m(img, blocks)\u001b[0m\n\u001b[0;32m     23\u001b[0m \u001b[38;5;28;01mdef\u001b[39;00m \u001b[38;5;21mdescribeImage\u001b[39m(img, blocks):\n\u001b[0;32m     24\u001b[0m     featureVector \u001b[38;5;241m=\u001b[39m []\n\u001b[1;32m---> 25\u001b[0m     images \u001b[38;5;241m=\u001b[39m divideImage(img,blocks)\n\u001b[0;32m     26\u001b[0m     \u001b[38;5;28;01mfor\u001b[39;00m image \u001b[38;5;129;01min\u001b[39;00m images:\n\u001b[0;32m     27\u001b[0m         means \u001b[38;5;241m=\u001b[39m colorFeature(image)\n",
      "File \u001b[1;32md:\\Applied Data Science & AI Specialization\\Computer_Vision\\Feature_Extraction\\utils.py:16\u001b[0m, in \u001b[0;36mdivideImage\u001b[1;34m(img, blocks)\u001b[0m\n\u001b[0;32m     13\u001b[0m windowsize_c \u001b[38;5;241m=\u001b[39m img\u001b[38;5;241m.\u001b[39mshape[\u001b[38;5;241m1\u001b[39m] \u001b[38;5;241m/\u001b[39m blocks\n\u001b[0;32m     15\u001b[0m images \u001b[38;5;241m=\u001b[39m []\n\u001b[1;32m---> 16\u001b[0m \u001b[38;5;28;01mfor\u001b[39;00m r \u001b[38;5;129;01min\u001b[39;00m \u001b[38;5;28mrange\u001b[39m(\u001b[38;5;241m0\u001b[39m,img\u001b[38;5;241m.\u001b[39mshape[\u001b[38;5;241m0\u001b[39m], windowsize_r):\n\u001b[0;32m     17\u001b[0m     \u001b[38;5;28;01mfor\u001b[39;00m c \u001b[38;5;129;01min\u001b[39;00m \u001b[38;5;28mrange\u001b[39m(\u001b[38;5;241m0\u001b[39m,img\u001b[38;5;241m.\u001b[39mshape[\u001b[38;5;241m0\u001b[39m], windowsize_c):\n\u001b[0;32m     18\u001b[0m         window \u001b[38;5;241m=\u001b[39m img[r:r\u001b[38;5;241m+\u001b[39mwindowsize_r,c:c\u001b[38;5;241m+\u001b[39mwindowsize_c]\n",
      "\u001b[1;31mTypeError\u001b[0m: 'float' object cannot be interpreted as an integer"
     ]
    }
   ],
   "source": [
    "from utils import *\n",
    "\n",
    "img = cv2.imread(\"car.jpeg\")\n",
    "feature_vector = describeImage(img,1)\n",
    "print(feature_vector)"
   ]
  },
  {
   "cell_type": "code",
   "execution_count": null,
   "metadata": {},
   "outputs": [],
   "source": []
  }
 ],
 "metadata": {
  "kernelspec": {
   "display_name": "base",
   "language": "python",
   "name": "python3"
  },
  "language_info": {
   "codemirror_mode": {
    "name": "ipython",
    "version": 3
   },
   "file_extension": ".py",
   "mimetype": "text/x-python",
   "name": "python",
   "nbconvert_exporter": "python",
   "pygments_lexer": "ipython3",
   "version": "3.11.5"
  }
 },
 "nbformat": 4,
 "nbformat_minor": 2
}
