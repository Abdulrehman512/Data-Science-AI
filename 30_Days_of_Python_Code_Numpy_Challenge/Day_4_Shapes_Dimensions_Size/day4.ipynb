{
 "cells": [
  {
   "cell_type": "markdown",
   "metadata": {},
   "source": [
    "### Q1:"
   ]
  },
  {
   "cell_type": "code",
   "execution_count": 1,
   "metadata": {},
   "outputs": [
    {
     "name": "stdout",
     "output_type": "stream",
     "text": [
      "(3, 5)\n",
      "(1, 3, 5)\n",
      "(3, 1, 5)\n"
     ]
    }
   ],
   "source": [
    "import numpy as np\n",
    " \n",
    " \n",
    "A = np.array(\n",
    "    [\n",
    "        [False, True, True, False, True],\n",
    "        [False, False, True, True, True],\n",
    "        [True, False, False, True, False],\n",
    "    ]\n",
    ")\n",
    "B = np.array(\n",
    "    [\n",
    "        [\n",
    "            [False, True, True, False, True],\n",
    "            [False, False, True, True, True],\n",
    "            [True, False, False, True, False],\n",
    "        ]\n",
    "    ]\n",
    ")\n",
    "C = np.array(\n",
    "    [\n",
    "        [[False, True, True, False, True]],\n",
    "        [[False, False, True, True, True]],\n",
    "        [[True, False, False, True, False]],\n",
    "    ]\n",
    ")\n",
    " \n",
    "print(A.shape)\n",
    "print(B.shape)\n",
    "print(C.shape)"
   ]
  },
  {
   "cell_type": "markdown",
   "metadata": {},
   "source": [
    "### Q2:"
   ]
  },
  {
   "cell_type": "code",
   "execution_count": 2,
   "metadata": {},
   "outputs": [
    {
     "name": "stdout",
     "output_type": "stream",
     "text": [
      "2\n",
      "3\n",
      "3\n",
      "1\n"
     ]
    }
   ],
   "source": [
    "import numpy as np\n",
    " \n",
    " \n",
    "A = np.array(\n",
    "    [\n",
    "        [False, True, True, False, True],\n",
    "        [False, False, True, True, True],\n",
    "        [True, False, False, True, False],\n",
    "    ]\n",
    ")\n",
    "B = np.array(\n",
    "    [\n",
    "        [\n",
    "            [False, True, True, False, True],\n",
    "            [False, False, True, True, True],\n",
    "            [True, False, False, True, False],\n",
    "        ]\n",
    "    ]\n",
    ")\n",
    "C = np.array(\n",
    "    [\n",
    "        [[False, True, True, False, True]],\n",
    "        [[False, False, True, True, True]],\n",
    "        [[True, False, False, True, False]],\n",
    "    ]\n",
    ")\n",
    "D = np.array([True, False])\n",
    " \n",
    "print(A.ndim)\n",
    "print(B.ndim)\n",
    "print(C.ndim)\n",
    "print(D.ndim)"
   ]
  },
  {
   "cell_type": "markdown",
   "metadata": {},
   "source": [
    "### Q3:"
   ]
  },
  {
   "cell_type": "code",
   "execution_count": 3,
   "metadata": {},
   "outputs": [
    {
     "name": "stdout",
     "output_type": "stream",
     "text": [
      "20\n"
     ]
    }
   ],
   "source": [
    "import numpy as np\n",
    " \n",
    " \n",
    "arr = np.array(\n",
    "    [\n",
    "        [6, 7, 7, 3, 9],\n",
    "        [7, 4, 8, 4, 0],\n",
    "        [1, 5, 3, 2, 4],\n",
    "        [7, 8, 9, 8, 2],\n",
    "    ]\n",
    ")\n",
    " \n",
    "print(arr.size)"
   ]
  },
  {
   "cell_type": "markdown",
   "metadata": {},
   "source": [
    "### Q4:"
   ]
  },
  {
   "cell_type": "code",
   "execution_count": 4,
   "metadata": {},
   "outputs": [
    {
     "name": "stdout",
     "output_type": "stream",
     "text": [
      "4\n",
      "1\n",
      "2\n",
      "8\n"
     ]
    }
   ],
   "source": [
    "import numpy as np\n",
    " \n",
    " \n",
    "A1 = np.array([3, 5, 1])\n",
    "A2 = np.array([3, 5, 1], dtype=np.int8)\n",
    "A3 = np.array([3, 5, 1], dtype=np.int16)\n",
    "A4 = np.array([3, 5, 1], dtype='float')\n",
    " \n",
    "print(A1.itemsize)\n",
    "print(A2.itemsize)\n",
    "print(A3.itemsize)\n",
    "print(A4.itemsize)"
   ]
  },
  {
   "cell_type": "markdown",
   "metadata": {},
   "source": [
    "### Q5:"
   ]
  },
  {
   "cell_type": "code",
   "execution_count": 5,
   "metadata": {},
   "outputs": [
    {
     "name": "stdout",
     "output_type": "stream",
     "text": [
      "12\n",
      "3\n",
      "6\n",
      "24\n"
     ]
    }
   ],
   "source": [
    "import numpy as np\n",
    " \n",
    " \n",
    "A1 = np.array([3, 5, 1])\n",
    "A2 = np.array([3, 5, 1], dtype=np.int8)\n",
    "A3 = np.array([3, 5, 1], dtype=np.int16)\n",
    "A4 = np.array([3, 5, 1], dtype='float')\n",
    " \n",
    "print(A1.nbytes)\n",
    "print(A2.nbytes)\n",
    "print(A3.nbytes)\n",
    "print(A4.nbytes)"
   ]
  },
  {
   "cell_type": "markdown",
   "metadata": {},
   "source": [
    "### Q6:"
   ]
  },
  {
   "cell_type": "code",
   "execution_count": 6,
   "metadata": {},
   "outputs": [
    {
     "name": "stdout",
     "output_type": "stream",
     "text": [
      "A2\n"
     ]
    }
   ],
   "source": [
    "import numpy as np\n",
    " \n",
    " \n",
    "A1 = np.array([3, 5, 1, 2, 5, 4])\n",
    "A2 = np.array([3, 5, 1, 4, 7, 3, 8, 24], dtype=np.int8)\n",
    "A3 = np.array([3, 5, 1, 6, 2], dtype=np.int16)\n",
    " \n",
    "total = {'A1': A1.nbytes, 'A2': A2.nbytes, 'A3': A3.nbytes}\n",
    " \n",
    "print(min(total, key=total.get))"
   ]
  },
  {
   "cell_type": "markdown",
   "metadata": {},
   "source": [
    "### Q7:"
   ]
  },
  {
   "cell_type": "code",
   "execution_count": 7,
   "metadata": {},
   "outputs": [
    {
     "name": "stdout",
     "output_type": "stream",
     "text": [
      "float64: 320\n",
      "float32: 160\n",
      "int16: 80\n"
     ]
    }
   ],
   "source": [
    "import numpy as np\n",
    " \n",
    " \n",
    "arr = np.array(\n",
    "    [\n",
    "        [3, 4, 0, 5, 6],\n",
    "        [9, 7, 4, 0, 6],\n",
    "        [1, 9, 6, 7, 9],\n",
    "        [7, 6, 9, 8, 8],\n",
    "        [2, 2, 1, 5, 2],\n",
    "        [9, 7, 5, 5, 9],\n",
    "        [6, 9, 9, 5, 2],\n",
    "        [9, 6, 1, 8, 1],\n",
    "    ],\n",
    "    dtype='float64',\n",
    ")\n",
    " \n",
    "print('float64:', arr.nbytes)\n",
    "print('float32:', arr.astype('float32').nbytes)\n",
    "print('int16:', arr.astype('int16').nbytes)"
   ]
  },
  {
   "cell_type": "markdown",
   "metadata": {},
   "source": [
    "### Q8:"
   ]
  },
  {
   "cell_type": "code",
   "execution_count": 8,
   "metadata": {},
   "outputs": [
    {
     "name": "stdout",
     "output_type": "stream",
     "text": [
      "[[0 0 0 0]\n",
      " [0 0 0 0]\n",
      " [0 0 0 0]\n",
      " [0 0 0 0]\n",
      " [0 0 0 0]\n",
      " [0 0 0 0]\n",
      " [0 0 0 0]\n",
      " [0 0 0 0]\n",
      " [0 0 0 0]\n",
      " [0 0 0 0]\n",
      " [0 0 0 0]\n",
      " [0 0 0 0]\n",
      " [0 0 0 0]\n",
      " [0 0 0 0]\n",
      " [0 0 0 0]\n",
      " [0 0 0 0]\n",
      " [0 0 0 0]\n",
      " [0 0 0 0]\n",
      " [0 0 0 0]\n",
      " [0 0 0 0]\n",
      " [0 0 0 0]\n",
      " [0 0 0 0]\n",
      " [0 0 0 0]\n",
      " [0 0 0 0]]\n"
     ]
    }
   ],
   "source": [
    "import numpy as np\n",
    " \n",
    " \n",
    "arr = np.zeros((3, 8, 4), dtype='int')\n",
    "arr = arr.reshape(-1, arr.shape[2])\n",
    " \n",
    "print(arr)"
   ]
  },
  {
   "cell_type": "code",
   "execution_count": null,
   "metadata": {},
   "outputs": [],
   "source": []
  }
 ],
 "metadata": {
  "kernelspec": {
   "display_name": "base",
   "language": "python",
   "name": "python3"
  },
  "language_info": {
   "codemirror_mode": {
    "name": "ipython",
    "version": 3
   },
   "file_extension": ".py",
   "mimetype": "text/x-python",
   "name": "python",
   "nbconvert_exporter": "python",
   "pygments_lexer": "ipython3",
   "version": "3.11.5"
  }
 },
 "nbformat": 4,
 "nbformat_minor": 2
}
