{
 "cells": [
  {
   "cell_type": "code",
   "execution_count": 2,
   "metadata": {},
   "outputs": [],
   "source": [
    "import numpy as np"
   ]
  },
  {
   "cell_type": "markdown",
   "metadata": {},
   "source": [
    "## Numpy_Assignment_2:"
   ]
  },
  {
   "cell_type": "markdown",
   "metadata": {},
   "source": [
    "### Question:1"
   ]
  },
  {
   "cell_type": "markdown",
   "metadata": {},
   "source": [
    "### Convert a 1D array to a 2D array with 2 rows?"
   ]
  },
  {
   "cell_type": "markdown",
   "metadata": {},
   "source": [
    "#### Desired Output\n",
    "\n",
    "array([[0, 1, 2, 3, 4],\n",
    "        [5, 6, 7, 8, 9]])"
   ]
  },
  {
   "cell_type": "code",
   "execution_count": 3,
   "metadata": {},
   "outputs": [
    {
     "name": "stdout",
     "output_type": "stream",
     "text": [
      "[[0 1 2 3 4]\n",
      " [5 6 7 8 9]]\n"
     ]
    }
   ],
   "source": [
    "original_array = np.array([0, 1, 2, 3, 4, 5, 6, 7, 8, 9])\n",
    "\n",
    "# Reshape the array to a 2D array with 2 rows\n",
    "new_array = original_array.reshape(2, -1)\n",
    "\n",
    "print(new_array)"
   ]
  },
  {
   "cell_type": "markdown",
   "metadata": {},
   "source": [
    "### Question:2"
   ]
  },
  {
   "cell_type": "markdown",
   "metadata": {},
   "source": [
    "###  How to stack two arrays vertically?"
   ]
  },
  {
   "cell_type": "markdown",
   "metadata": {},
   "source": [
    "#### Desired Output::"
   ]
  },
  {
   "cell_type": "markdown",
   "metadata": {},
   "source": [
    "array([[0, 1, 2, 3, 4],\n",
    "        [5, 6, 7, 8, 9],\n",
    "       [1, 1, 1, 1, 1],\n",
    "       [1, 1, 1, 1, 1]])"
   ]
  },
  {
   "cell_type": "code",
   "execution_count": 4,
   "metadata": {},
   "outputs": [
    {
     "name": "stdout",
     "output_type": "stream",
     "text": [
      "[[0 1 2 3 4]\n",
      " [5 6 7 8 9]\n",
      " [1 1 1 1 1]\n",
      " [1 1 1 1 1]]\n"
     ]
    }
   ],
   "source": [
    "array1 = np.array([[0, 1, 2, 3, 4],\n",
    "                   [5, 6, 7, 8, 9]])\n",
    "\n",
    "array2 = np.array([[1, 1, 1, 1, 1],\n",
    "                   [1, 1, 1, 1, 1]])\n",
    "\n",
    "# Stack the arrays vertically\n",
    "result_array = np.vstack((array1, array2))\n",
    "\n",
    "print(result_array)"
   ]
  },
  {
   "cell_type": "markdown",
   "metadata": {},
   "source": [
    "### Question:3"
   ]
  },
  {
   "cell_type": "markdown",
   "metadata": {},
   "source": [
    "### How to stack two arrays horizontally?"
   ]
  },
  {
   "cell_type": "markdown",
   "metadata": {},
   "source": [
    "#### Desired Output::"
   ]
  },
  {
   "cell_type": "markdown",
   "metadata": {},
   "source": [
    "array([[0, 1, 2, 3, 4, 1, 1, 1, 1, 1],\n",
    "       [5, 6, 7, 8, 9, 1, 1, 1, 1, 1]])"
   ]
  },
  {
   "cell_type": "code",
   "execution_count": 5,
   "metadata": {},
   "outputs": [
    {
     "name": "stdout",
     "output_type": "stream",
     "text": [
      "[[0 1 2 3 4 1 1 1 1 1]\n",
      " [5 6 7 8 9 1 1 1 1 1]]\n"
     ]
    }
   ],
   "source": [
    "array1 = np.array([[0, 1, 2, 3, 4],\n",
    "                   [5, 6, 7, 8, 9]])\n",
    "\n",
    "array2 = np.array([[1, 1, 1, 1, 1],\n",
    "                   [1, 1, 1, 1, 1]])\n",
    "\n",
    "# Stack the arrays horizontally\n",
    "result_array = np.hstack((array1, array2))\n",
    "\n",
    "print(result_array)"
   ]
  },
  {
   "cell_type": "markdown",
   "metadata": {},
   "source": [
    "### Question:4"
   ]
  },
  {
   "cell_type": "markdown",
   "metadata": {},
   "source": [
    "### How to convert an array of arrays into a flat 1d array?"
   ]
  },
  {
   "cell_type": "markdown",
   "metadata": {},
   "source": [
    "#### Desired Output::\n",
    "\n",
    "array([0, 1, 2, 3, 4, 5, 6, 7, 8, 9])"
   ]
  },
  {
   "cell_type": "code",
   "execution_count": 6,
   "metadata": {},
   "outputs": [
    {
     "name": "stdout",
     "output_type": "stream",
     "text": [
      "[0 1 2 3 4 5 6 7 8 9]\n"
     ]
    }
   ],
   "source": [
    "array_of_arrays = np.array([[0, 1, 2, 3, 4],\n",
    "                             [5, 6, 7, 8, 9]])\n",
    "\n",
    "# Convert the array of arrays to a flat 1D array\n",
    "flat_array = np.concatenate(array_of_arrays)\n",
    "\n",
    "print(flat_array)"
   ]
  },
  {
   "cell_type": "markdown",
   "metadata": {},
   "source": [
    "### Question:5"
   ]
  },
  {
   "cell_type": "markdown",
   "metadata": {},
   "source": [
    "### How to Convert higher dimension into one dimension?"
   ]
  },
  {
   "cell_type": "markdown",
   "metadata": {},
   "source": [
    "#### Desired Output::\n",
    "\n",
    "array([ 0, 1, 2, 3, 4, 5, 6, 7, 8, 9, 10, 11, 12, 13, 14])"
   ]
  },
  {
   "cell_type": "code",
   "execution_count": 7,
   "metadata": {},
   "outputs": [
    {
     "name": "stdout",
     "output_type": "stream",
     "text": [
      "[ 0  1  2  3  4  5  6  7  8  9 10 11 12 13 14]\n"
     ]
    }
   ],
   "source": [
    "higher_dimensional_array = np.array([[0, 1, 2, 3, 4],\n",
    "                                     [5, 6, 7, 8, 9],\n",
    "                                     [10, 11, 12, 13, 14]])\n",
    "\n",
    "# Use ravel() function\n",
    "flattened_array = higher_dimensional_array.ravel()\n",
    "\n",
    "# Alternatively, you can use flatten() method\n",
    "# flattened_array = higher_dimensional_array.flatten()\n",
    "\n",
    "print(flattened_array)"
   ]
  },
  {
   "cell_type": "markdown",
   "metadata": {},
   "source": [
    "### Question:6"
   ]
  },
  {
   "cell_type": "markdown",
   "metadata": {},
   "source": [
    "### Convert one dimension to higher dimension?\n",
    "\n",
    "#### Desired Output::\n",
    "\n",
    "array([[ 0, 1, 2],\n",
    "[ 3, 4, 5],\n",
    "[ 6, 7, 8],\n",
    "[ 9, 10, 11],\n",
    "[12, 13, 14]])"
   ]
  },
  {
   "cell_type": "code",
   "execution_count": 8,
   "metadata": {},
   "outputs": [
    {
     "name": "stdout",
     "output_type": "stream",
     "text": [
      "[[ 0  1  2]\n",
      " [ 3  4  5]\n",
      " [ 6  7  8]\n",
      " [ 9 10 11]\n",
      " [12 13 14]]\n"
     ]
    }
   ],
   "source": [
    "one_dimensional_array = np.array([0, 1, 2, 3, 4, 5, 6, 7, 8, 9, 10, 11, 12, 13, 14])\n",
    "\n",
    "# Reshape the array to a 2D array with 5 rows and 3 columns\n",
    "result_array = one_dimensional_array.reshape(5, 3)\n",
    "\n",
    "print(result_array)"
   ]
  },
  {
   "cell_type": "markdown",
   "metadata": {},
   "source": [
    "### Question:7\n",
    "\n",
    "### Create 5x5 an array and find the square of an array?"
   ]
  },
  {
   "cell_type": "code",
   "execution_count": 9,
   "metadata": {},
   "outputs": [
    {
     "name": "stdout",
     "output_type": "stream",
     "text": [
      "Original Array:\n",
      "[[ 1  2  3  4  5]\n",
      " [ 6  7  8  9 10]\n",
      " [11 12 13 14 15]\n",
      " [16 17 18 19 20]\n",
      " [21 22 23 24 25]]\n",
      "\n",
      "Array after squaring each element:\n",
      "[[  1   4   9  16  25]\n",
      " [ 36  49  64  81 100]\n",
      " [121 144 169 196 225]\n",
      " [256 289 324 361 400]\n",
      " [441 484 529 576 625]]\n"
     ]
    }
   ],
   "source": [
    "original_array = np.array([[1, 2, 3, 4, 5],\n",
    "                           [6, 7, 8, 9, 10],\n",
    "                           [11, 12, 13, 14, 15],\n",
    "                           [16, 17, 18, 19, 20],\n",
    "                           [21, 22, 23, 24, 25]])\n",
    "\n",
    "# Find the square of each element in the array\n",
    "square_array = np.square(original_array)\n",
    "\n",
    "print(\"Original Array:\")\n",
    "print(original_array)\n",
    "print(\"\\nArray after squaring each element:\")\n",
    "print(square_array)"
   ]
  },
  {
   "cell_type": "markdown",
   "metadata": {},
   "source": [
    "### Question:8\n",
    "\n",
    "### Create 5x6 an array and find the mean?"
   ]
  },
  {
   "cell_type": "code",
   "execution_count": 10,
   "metadata": {},
   "outputs": [
    {
     "name": "stdout",
     "output_type": "stream",
     "text": [
      "Original 5x6 Array:\n",
      "[[ 1  2  3  4  5  6]\n",
      " [ 7  8  9 10 11 12]\n",
      " [13 14 15 16 17 18]\n",
      " [19 20 21 22 23 24]\n",
      " [25 26 27 28 29 30]]\n",
      "\n",
      "Mean of the Array: 15.5\n"
     ]
    }
   ],
   "source": [
    "array_5x6 = np.array([[1, 2, 3, 4, 5, 6],\n",
    "                      [7, 8, 9, 10, 11, 12],\n",
    "                      [13, 14, 15, 16, 17, 18],\n",
    "                      [19, 20, 21, 22, 23, 24],\n",
    "                      [25, 26, 27, 28, 29, 30]])\n",
    "\n",
    "# Calculate the mean of the array\n",
    "mean_value = np.mean(array_5x6)\n",
    "\n",
    "print(\"Original 5x6 Array:\")\n",
    "print(array_5x6)\n",
    "print(\"\\nMean of the Array:\", mean_value)"
   ]
  },
  {
   "cell_type": "markdown",
   "metadata": {},
   "source": [
    "### Question:9\n",
    "\n",
    "### Find the standard deviation of the previous array in Q8?"
   ]
  },
  {
   "cell_type": "code",
   "execution_count": 11,
   "metadata": {},
   "outputs": [
    {
     "name": "stdout",
     "output_type": "stream",
     "text": [
      "Original 5x6 Array:\n",
      "[[ 1  2  3  4  5  6]\n",
      " [ 7  8  9 10 11 12]\n",
      " [13 14 15 16 17 18]\n",
      " [19 20 21 22 23 24]\n",
      " [25 26 27 28 29 30]]\n",
      "\n",
      "Standard Deviation of the Array: 8.65544144839919\n"
     ]
    }
   ],
   "source": [
    "std_deviation_value = np.std(array_5x6)\n",
    "\n",
    "print(\"Original 5x6 Array:\")\n",
    "print(array_5x6)\n",
    "print(\"\\nStandard Deviation of the Array:\", std_deviation_value)"
   ]
  },
  {
   "cell_type": "markdown",
   "metadata": {},
   "source": [
    "### Question:10\n",
    "\n",
    "### Find the median of the previous array in Q8?"
   ]
  },
  {
   "cell_type": "code",
   "execution_count": 12,
   "metadata": {},
   "outputs": [
    {
     "name": "stdout",
     "output_type": "stream",
     "text": [
      "Original 5x6 Array:\n",
      "[[ 1  2  3  4  5  6]\n",
      " [ 7  8  9 10 11 12]\n",
      " [13 14 15 16 17 18]\n",
      " [19 20 21 22 23 24]\n",
      " [25 26 27 28 29 30]]\n",
      "\n",
      "Median of the Array: 15.5\n"
     ]
    }
   ],
   "source": [
    "median_value = np.median(array_5x6)\n",
    "\n",
    "print(\"Original 5x6 Array:\")\n",
    "print(array_5x6)\n",
    "print(\"\\nMedian of the Array:\", median_value)"
   ]
  },
  {
   "cell_type": "markdown",
   "metadata": {},
   "source": [
    "### Question:11\n",
    "\n",
    "### Find the transpose of the previous array in Q8?"
   ]
  },
  {
   "cell_type": "code",
   "execution_count": 13,
   "metadata": {},
   "outputs": [
    {
     "name": "stdout",
     "output_type": "stream",
     "text": [
      "Original 5x6 Array:\n",
      "[[ 1  2  3  4  5  6]\n",
      " [ 7  8  9 10 11 12]\n",
      " [13 14 15 16 17 18]\n",
      " [19 20 21 22 23 24]\n",
      " [25 26 27 28 29 30]]\n",
      "\n",
      "Transpose of the Array:\n",
      "[[ 1  7 13 19 25]\n",
      " [ 2  8 14 20 26]\n",
      " [ 3  9 15 21 27]\n",
      " [ 4 10 16 22 28]\n",
      " [ 5 11 17 23 29]\n",
      " [ 6 12 18 24 30]]\n"
     ]
    }
   ],
   "source": [
    "transpose_array = np.transpose(array_5x6)  # or array_5x6.T\n",
    "\n",
    "print(\"Original 5x6 Array:\")\n",
    "print(array_5x6)\n",
    "print(\"\\nTranspose of the Array:\")\n",
    "print(transpose_array)"
   ]
  },
  {
   "cell_type": "markdown",
   "metadata": {},
   "source": [
    "### Question:12\n",
    "\n",
    "### Create a 4x4 an array and find the sum of diagonal elements?"
   ]
  },
  {
   "cell_type": "code",
   "execution_count": 14,
   "metadata": {},
   "outputs": [
    {
     "name": "stdout",
     "output_type": "stream",
     "text": [
      "Original 4x4 Array:\n",
      "[[ 1  2  3  4]\n",
      " [ 5  6  7  8]\n",
      " [ 9 10 11 12]\n",
      " [13 14 15 16]]\n",
      "\n",
      "Sum of Diagonal Elements: 34\n"
     ]
    }
   ],
   "source": [
    "array_4x4 = np.array([[1, 2, 3, 4],\n",
    "                      [5, 6, 7, 8],\n",
    "                      [9, 10, 11, 12],\n",
    "                      [13, 14, 15, 16]])\n",
    "\n",
    "# Find the sum of diagonal elements\n",
    "diagonal_sum = np.trace(array_4x4)\n",
    "\n",
    "print(\"Original 4x4 Array:\")\n",
    "print(array_4x4)\n",
    "print(\"\\nSum of Diagonal Elements:\", diagonal_sum)"
   ]
  },
  {
   "cell_type": "markdown",
   "metadata": {},
   "source": [
    "### Question:13\n",
    "\n",
    "### Find the determinant of the previous array in Q12?"
   ]
  },
  {
   "cell_type": "code",
   "execution_count": 15,
   "metadata": {},
   "outputs": [
    {
     "name": "stdout",
     "output_type": "stream",
     "text": [
      "Original 4x4 Array:\n",
      "[[ 1  2  3  4]\n",
      " [ 5  6  7  8]\n",
      " [ 9 10 11 12]\n",
      " [13 14 15 16]]\n",
      "\n",
      "Determinant of the Array: -1.820448242817726e-31\n"
     ]
    }
   ],
   "source": [
    "determinant_value = np.linalg.det(array_4x4)\n",
    "\n",
    "print(\"Original 4x4 Array:\")\n",
    "print(array_4x4)\n",
    "print(\"\\nDeterminant of the Array:\", determinant_value)"
   ]
  },
  {
   "cell_type": "markdown",
   "metadata": {},
   "source": [
    "### Question:14\n",
    "\n",
    "### Find the 5th and 95th percentile of an array?"
   ]
  },
  {
   "cell_type": "code",
   "execution_count": 16,
   "metadata": {},
   "outputs": [
    {
     "name": "stdout",
     "output_type": "stream",
     "text": [
      "Original Array:\n",
      "[ 1  2  3  4  5  6  7  8  9 10]\n",
      "\n",
      "5th Percentile: 1.45\n",
      "95th Percentile: 9.549999999999999\n"
     ]
    }
   ],
   "source": [
    "# Create an example array\n",
    "example_array = np.array([1, 2, 3, 4, 5, 6, 7, 8, 9, 10])\n",
    "\n",
    "# Calculate the 5th and 95th percentiles\n",
    "percentile_5th = np.percentile(example_array, 5)\n",
    "percentile_95th = np.percentile(example_array, 95)\n",
    "\n",
    "print(\"Original Array:\")\n",
    "print(example_array)\n",
    "print(\"\\n5th Percentile:\", percentile_5th)\n",
    "print(\"95th Percentile:\", percentile_95th)"
   ]
  },
  {
   "cell_type": "markdown",
   "metadata": {},
   "source": [
    "### Question:15\n",
    "\n",
    "### How to find if a given array has any null values?"
   ]
  },
  {
   "cell_type": "code",
   "execution_count": 17,
   "metadata": {},
   "outputs": [
    {
     "name": "stdout",
     "output_type": "stream",
     "text": [
      "The array has null values.\n"
     ]
    }
   ],
   "source": [
    "# Create an example array with null values\n",
    "example_array = np.array([1, 2, np.nan, 4, 5, 6, np.nan, 8, 9, 10])\n",
    "\n",
    "# Check if the array has any null values\n",
    "has_null_values = np.any(np.isnan(example_array))\n",
    "\n",
    "if has_null_values:\n",
    "    print(\"The array has null values.\")\n",
    "else:\n",
    "    print(\"The array does not have any null values.\")"
   ]
  },
  {
   "cell_type": "code",
   "execution_count": null,
   "metadata": {},
   "outputs": [],
   "source": []
  }
 ],
 "metadata": {
  "kernelspec": {
   "display_name": "base",
   "language": "python",
   "name": "python3"
  },
  "language_info": {
   "codemirror_mode": {
    "name": "ipython",
    "version": 3
   },
   "file_extension": ".py",
   "mimetype": "text/x-python",
   "name": "python",
   "nbconvert_exporter": "python",
   "pygments_lexer": "ipython3",
   "version": "3.11.5"
  }
 },
 "nbformat": 4,
 "nbformat_minor": 2
}
