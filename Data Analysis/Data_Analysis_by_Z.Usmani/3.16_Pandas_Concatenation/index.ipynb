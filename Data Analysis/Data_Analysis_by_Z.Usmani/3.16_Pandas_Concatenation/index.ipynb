{
 "cells": [
  {
   "cell_type": "code",
   "execution_count": 1,
   "metadata": {},
   "outputs": [],
   "source": [
    "import pandas as pd"
   ]
  },
  {
   "cell_type": "markdown",
   "metadata": {},
   "source": [
    "### Concatenating Objects"
   ]
  },
  {
   "cell_type": "code",
   "execution_count": 2,
   "metadata": {},
   "outputs": [
    {
     "name": "stdout",
     "output_type": "stream",
     "text": [
      "     Name subject_id  Marks_scored\n",
      "1    Alex       sub1            98\n",
      "2     Amy       sub2            90\n",
      "3   Allen       sub4            87\n",
      "4   Alice       sub6            69\n",
      "5  Ayoung       sub5            78\n",
      "1   Billy       sub2            89\n",
      "2   Brian       sub4            80\n",
      "3    Bran       sub3            79\n",
      "4   Bryce       sub6            97\n",
      "5   Betty       sub5            88\n"
     ]
    }
   ],
   "source": [
    "one = pd.DataFrame({\n",
    "   'Name': ['Alex', 'Amy', 'Allen', 'Alice', 'Ayoung'],\n",
    "   'subject_id':['sub1','sub2','sub4','sub6','sub5'],\n",
    "   'Marks_scored':[98,90,87,69,78]},\n",
    "   index=[1,2,3,4,5])\n",
    "\n",
    "two = pd.DataFrame({\n",
    "   'Name': ['Billy', 'Brian', 'Bran', 'Bryce', 'Betty'],\n",
    "   'subject_id':['sub2','sub4','sub3','sub6','sub5'],\n",
    "   'Marks_scored':[89,80,79,97,88]},\n",
    "   index=[1,2,3,4,5])\n",
    "print (pd.concat([one,two]))"
   ]
  },
  {
   "cell_type": "code",
   "execution_count": 3,
   "metadata": {},
   "outputs": [
    {
     "name": "stdout",
     "output_type": "stream",
     "text": [
      "       Name subject_id  Marks_scored\n",
      "x 1    Alex       sub1            98\n",
      "  2     Amy       sub2            90\n",
      "  3   Allen       sub4            87\n",
      "  4   Alice       sub6            69\n",
      "  5  Ayoung       sub5            78\n",
      "y 1   Billy       sub2            89\n",
      "  2   Brian       sub4            80\n",
      "  3    Bran       sub3            79\n",
      "  4   Bryce       sub6            97\n",
      "  5   Betty       sub5            88\n"
     ]
    }
   ],
   "source": [
    "one = pd.DataFrame({\n",
    "   'Name': ['Alex', 'Amy', 'Allen', 'Alice', 'Ayoung'],\n",
    "   'subject_id':['sub1','sub2','sub4','sub6','sub5'],\n",
    "   'Marks_scored':[98,90,87,69,78]},\n",
    "   index=[1,2,3,4,5])\n",
    "\n",
    "two = pd.DataFrame({\n",
    "   'Name': ['Billy', 'Brian', 'Bran', 'Bryce', 'Betty'],\n",
    "   'subject_id':['sub2','sub4','sub3','sub6','sub5'],\n",
    "   'Marks_scored':[89,80,79,97,88]},\n",
    "   index=[1,2,3,4,5])\n",
    "print (pd.concat([one,two],keys=['x','y']))"
   ]
  },
  {
   "cell_type": "code",
   "execution_count": 4,
   "metadata": {},
   "outputs": [
    {
     "name": "stdout",
     "output_type": "stream",
     "text": [
      "     Name subject_id  Marks_scored\n",
      "0    Alex       sub1            98\n",
      "1     Amy       sub2            90\n",
      "2   Allen       sub4            87\n",
      "3   Alice       sub6            69\n",
      "4  Ayoung       sub5            78\n",
      "5   Billy       sub2            89\n",
      "6   Brian       sub4            80\n",
      "7    Bran       sub3            79\n",
      "8   Bryce       sub6            97\n",
      "9   Betty       sub5            88\n"
     ]
    }
   ],
   "source": [
    "one = pd.DataFrame({\n",
    "   'Name': ['Alex', 'Amy', 'Allen', 'Alice', 'Ayoung'],\n",
    "   'subject_id':['sub1','sub2','sub4','sub6','sub5'],\n",
    "   'Marks_scored':[98,90,87,69,78]},\n",
    "   index=[1,2,3,4,5])\n",
    "\n",
    "two = pd.DataFrame({\n",
    "   'Name': ['Billy', 'Brian', 'Bran', 'Bryce', 'Betty'],\n",
    "   'subject_id':['sub2','sub4','sub3','sub6','sub5'],\n",
    "   'Marks_scored':[89,80,79,97,88]},\n",
    "   index=[1,2,3,4,5])\n",
    "print (pd.concat([one,two],keys=['x','y'],ignore_index=True))"
   ]
  },
  {
   "cell_type": "code",
   "execution_count": 5,
   "metadata": {},
   "outputs": [
    {
     "name": "stdout",
     "output_type": "stream",
     "text": [
      "     Name subject_id  Marks_scored   Name subject_id  Marks_scored\n",
      "1    Alex       sub1            98  Billy       sub2            89\n",
      "2     Amy       sub2            90  Brian       sub4            80\n",
      "3   Allen       sub4            87   Bran       sub3            79\n",
      "4   Alice       sub6            69  Bryce       sub6            97\n",
      "5  Ayoung       sub5            78  Betty       sub5            88\n"
     ]
    }
   ],
   "source": [
    "one = pd.DataFrame({\n",
    "   'Name': ['Alex', 'Amy', 'Allen', 'Alice', 'Ayoung'],\n",
    "   'subject_id':['sub1','sub2','sub4','sub6','sub5'],\n",
    "   'Marks_scored':[98,90,87,69,78]},\n",
    "   index=[1,2,3,4,5])\n",
    "\n",
    "two = pd.DataFrame({\n",
    "   'Name': ['Billy', 'Brian', 'Bran', 'Bryce', 'Betty'],\n",
    "   'subject_id':['sub2','sub4','sub3','sub6','sub5'],\n",
    "   'Marks_scored':[89,80,79,97,88]},\n",
    "   index=[1,2,3,4,5])\n",
    "print (pd.concat([one,two],axis=1))"
   ]
  },
  {
   "cell_type": "markdown",
   "metadata": {},
   "source": [
    "### Concatenating Using append"
   ]
  },
  {
   "cell_type": "code",
   "execution_count": 6,
   "metadata": {},
   "outputs": [
    {
     "ename": "AttributeError",
     "evalue": "'DataFrame' object has no attribute 'append'",
     "output_type": "error",
     "traceback": [
      "\u001b[1;31m---------------------------------------------------------------------------\u001b[0m",
      "\u001b[1;31mAttributeError\u001b[0m                            Traceback (most recent call last)",
      "\u001b[1;32m~\\AppData\\Local\\Temp\\ipykernel_1220\\2069596362.py\u001b[0m in \u001b[0;36m?\u001b[1;34m()\u001b[0m\n\u001b[0;32m      8\u001b[0m    \u001b[1;34m'Name'\u001b[0m\u001b[1;33m:\u001b[0m \u001b[1;33m[\u001b[0m\u001b[1;34m'Billy'\u001b[0m\u001b[1;33m,\u001b[0m \u001b[1;34m'Brian'\u001b[0m\u001b[1;33m,\u001b[0m \u001b[1;34m'Bran'\u001b[0m\u001b[1;33m,\u001b[0m \u001b[1;34m'Bryce'\u001b[0m\u001b[1;33m,\u001b[0m \u001b[1;34m'Betty'\u001b[0m\u001b[1;33m]\u001b[0m\u001b[1;33m,\u001b[0m\u001b[1;33m\u001b[0m\u001b[1;33m\u001b[0m\u001b[0m\n\u001b[0;32m      9\u001b[0m    \u001b[1;34m'subject_id'\u001b[0m\u001b[1;33m:\u001b[0m\u001b[1;33m[\u001b[0m\u001b[1;34m'sub2'\u001b[0m\u001b[1;33m,\u001b[0m\u001b[1;34m'sub4'\u001b[0m\u001b[1;33m,\u001b[0m\u001b[1;34m'sub3'\u001b[0m\u001b[1;33m,\u001b[0m\u001b[1;34m'sub6'\u001b[0m\u001b[1;33m,\u001b[0m\u001b[1;34m'sub5'\u001b[0m\u001b[1;33m]\u001b[0m\u001b[1;33m,\u001b[0m\u001b[1;33m\u001b[0m\u001b[1;33m\u001b[0m\u001b[0m\n\u001b[0;32m     10\u001b[0m    'Marks_scored':[89,80,79,97,88]},\n\u001b[0;32m     11\u001b[0m    index=[1,2,3,4,5])\n\u001b[1;32m---> 12\u001b[1;33m \u001b[0mprint\u001b[0m \u001b[1;33m(\u001b[0m\u001b[0mone\u001b[0m\u001b[1;33m.\u001b[0m\u001b[0mappend\u001b[0m\u001b[1;33m(\u001b[0m\u001b[0mtwo\u001b[0m\u001b[1;33m)\u001b[0m\u001b[1;33m)\u001b[0m\u001b[1;33m\u001b[0m\u001b[1;33m\u001b[0m\u001b[0m\n\u001b[0m",
      "\u001b[1;32mc:\\Users\\SC\\anaconda3\\Lib\\site-packages\\pandas\\core\\generic.py\u001b[0m in \u001b[0;36m?\u001b[1;34m(self, name)\u001b[0m\n\u001b[0;32m   5985\u001b[0m             \u001b[1;32mand\u001b[0m \u001b[0mname\u001b[0m \u001b[1;32mnot\u001b[0m \u001b[1;32min\u001b[0m \u001b[0mself\u001b[0m\u001b[1;33m.\u001b[0m\u001b[0m_accessors\u001b[0m\u001b[1;33m\u001b[0m\u001b[1;33m\u001b[0m\u001b[0m\n\u001b[0;32m   5986\u001b[0m             \u001b[1;32mand\u001b[0m \u001b[0mself\u001b[0m\u001b[1;33m.\u001b[0m\u001b[0m_info_axis\u001b[0m\u001b[1;33m.\u001b[0m\u001b[0m_can_hold_identifiers_and_holds_name\u001b[0m\u001b[1;33m(\u001b[0m\u001b[0mname\u001b[0m\u001b[1;33m)\u001b[0m\u001b[1;33m\u001b[0m\u001b[1;33m\u001b[0m\u001b[0m\n\u001b[0;32m   5987\u001b[0m         ):\n\u001b[0;32m   5988\u001b[0m             \u001b[1;32mreturn\u001b[0m \u001b[0mself\u001b[0m\u001b[1;33m[\u001b[0m\u001b[0mname\u001b[0m\u001b[1;33m]\u001b[0m\u001b[1;33m\u001b[0m\u001b[1;33m\u001b[0m\u001b[0m\n\u001b[1;32m-> 5989\u001b[1;33m         \u001b[1;32mreturn\u001b[0m \u001b[0mobject\u001b[0m\u001b[1;33m.\u001b[0m\u001b[0m__getattribute__\u001b[0m\u001b[1;33m(\u001b[0m\u001b[0mself\u001b[0m\u001b[1;33m,\u001b[0m \u001b[0mname\u001b[0m\u001b[1;33m)\u001b[0m\u001b[1;33m\u001b[0m\u001b[1;33m\u001b[0m\u001b[0m\n\u001b[0m",
      "\u001b[1;31mAttributeError\u001b[0m: 'DataFrame' object has no attribute 'append'"
     ]
    }
   ],
   "source": [
    "one = pd.DataFrame({\n",
    "   'Name': ['Alex', 'Amy', 'Allen', 'Alice', 'Ayoung'],\n",
    "   'subject_id':['sub1','sub2','sub4','sub6','sub5'],\n",
    "   'Marks_scored':[98,90,87,69,78]},\n",
    "   index=[1,2,3,4,5])\n",
    "\n",
    "two = pd.DataFrame({\n",
    "   'Name': ['Billy', 'Brian', 'Bran', 'Bryce', 'Betty'],\n",
    "   'subject_id':['sub2','sub4','sub3','sub6','sub5'],\n",
    "   'Marks_scored':[89,80,79,97,88]},\n",
    "   index=[1,2,3,4,5])\n",
    "print (one.append(two))"
   ]
  },
  {
   "cell_type": "code",
   "execution_count": 7,
   "metadata": {},
   "outputs": [
    {
     "ename": "AttributeError",
     "evalue": "'DataFrame' object has no attribute 'append'",
     "output_type": "error",
     "traceback": [
      "\u001b[1;31m---------------------------------------------------------------------------\u001b[0m",
      "\u001b[1;31mAttributeError\u001b[0m                            Traceback (most recent call last)",
      "\u001b[1;32m~\\AppData\\Local\\Temp\\ipykernel_1220\\2016344470.py\u001b[0m in \u001b[0;36m?\u001b[1;34m()\u001b[0m\n\u001b[0;32m      8\u001b[0m    \u001b[1;34m'Name'\u001b[0m\u001b[1;33m:\u001b[0m \u001b[1;33m[\u001b[0m\u001b[1;34m'Billy'\u001b[0m\u001b[1;33m,\u001b[0m \u001b[1;34m'Brian'\u001b[0m\u001b[1;33m,\u001b[0m \u001b[1;34m'Bran'\u001b[0m\u001b[1;33m,\u001b[0m \u001b[1;34m'Bryce'\u001b[0m\u001b[1;33m,\u001b[0m \u001b[1;34m'Betty'\u001b[0m\u001b[1;33m]\u001b[0m\u001b[1;33m,\u001b[0m\u001b[1;33m\u001b[0m\u001b[1;33m\u001b[0m\u001b[0m\n\u001b[0;32m      9\u001b[0m    \u001b[1;34m'subject_id'\u001b[0m\u001b[1;33m:\u001b[0m\u001b[1;33m[\u001b[0m\u001b[1;34m'sub2'\u001b[0m\u001b[1;33m,\u001b[0m\u001b[1;34m'sub4'\u001b[0m\u001b[1;33m,\u001b[0m\u001b[1;34m'sub3'\u001b[0m\u001b[1;33m,\u001b[0m\u001b[1;34m'sub6'\u001b[0m\u001b[1;33m,\u001b[0m\u001b[1;34m'sub5'\u001b[0m\u001b[1;33m]\u001b[0m\u001b[1;33m,\u001b[0m\u001b[1;33m\u001b[0m\u001b[1;33m\u001b[0m\u001b[0m\n\u001b[0;32m     10\u001b[0m    'Marks_scored':[89,80,79,97,88]},\n\u001b[0;32m     11\u001b[0m    index=[1,2,3,4,5])\n\u001b[1;32m---> 12\u001b[1;33m \u001b[0mprint\u001b[0m \u001b[1;33m(\u001b[0m\u001b[0mone\u001b[0m\u001b[1;33m.\u001b[0m\u001b[0mappend\u001b[0m\u001b[1;33m(\u001b[0m\u001b[1;33m[\u001b[0m\u001b[0mtwo\u001b[0m\u001b[1;33m,\u001b[0m\u001b[0mone\u001b[0m\u001b[1;33m,\u001b[0m\u001b[0mtwo\u001b[0m\u001b[1;33m]\u001b[0m\u001b[1;33m)\u001b[0m\u001b[1;33m)\u001b[0m\u001b[1;33m\u001b[0m\u001b[1;33m\u001b[0m\u001b[0m\n\u001b[0m",
      "\u001b[1;32mc:\\Users\\SC\\anaconda3\\Lib\\site-packages\\pandas\\core\\generic.py\u001b[0m in \u001b[0;36m?\u001b[1;34m(self, name)\u001b[0m\n\u001b[0;32m   5985\u001b[0m             \u001b[1;32mand\u001b[0m \u001b[0mname\u001b[0m \u001b[1;32mnot\u001b[0m \u001b[1;32min\u001b[0m \u001b[0mself\u001b[0m\u001b[1;33m.\u001b[0m\u001b[0m_accessors\u001b[0m\u001b[1;33m\u001b[0m\u001b[1;33m\u001b[0m\u001b[0m\n\u001b[0;32m   5986\u001b[0m             \u001b[1;32mand\u001b[0m \u001b[0mself\u001b[0m\u001b[1;33m.\u001b[0m\u001b[0m_info_axis\u001b[0m\u001b[1;33m.\u001b[0m\u001b[0m_can_hold_identifiers_and_holds_name\u001b[0m\u001b[1;33m(\u001b[0m\u001b[0mname\u001b[0m\u001b[1;33m)\u001b[0m\u001b[1;33m\u001b[0m\u001b[1;33m\u001b[0m\u001b[0m\n\u001b[0;32m   5987\u001b[0m         ):\n\u001b[0;32m   5988\u001b[0m             \u001b[1;32mreturn\u001b[0m \u001b[0mself\u001b[0m\u001b[1;33m[\u001b[0m\u001b[0mname\u001b[0m\u001b[1;33m]\u001b[0m\u001b[1;33m\u001b[0m\u001b[1;33m\u001b[0m\u001b[0m\n\u001b[1;32m-> 5989\u001b[1;33m         \u001b[1;32mreturn\u001b[0m \u001b[0mobject\u001b[0m\u001b[1;33m.\u001b[0m\u001b[0m__getattribute__\u001b[0m\u001b[1;33m(\u001b[0m\u001b[0mself\u001b[0m\u001b[1;33m,\u001b[0m \u001b[0mname\u001b[0m\u001b[1;33m)\u001b[0m\u001b[1;33m\u001b[0m\u001b[1;33m\u001b[0m\u001b[0m\n\u001b[0m",
      "\u001b[1;31mAttributeError\u001b[0m: 'DataFrame' object has no attribute 'append'"
     ]
    }
   ],
   "source": [
    "one = pd.DataFrame({\n",
    "   'Name': ['Alex', 'Amy', 'Allen', 'Alice', 'Ayoung'],\n",
    "   'subject_id':['sub1','sub2','sub4','sub6','sub5'],\n",
    "   'Marks_scored':[98,90,87,69,78]},\n",
    "   index=[1,2,3,4,5])\n",
    "\n",
    "two = pd.DataFrame({\n",
    "   'Name': ['Billy', 'Brian', 'Bran', 'Bryce', 'Betty'],\n",
    "   'subject_id':['sub2','sub4','sub3','sub6','sub5'],\n",
    "   'Marks_scored':[89,80,79,97,88]},\n",
    "   index=[1,2,3,4,5])\n",
    "print (one.append([two,one,two]))"
   ]
  },
  {
   "cell_type": "code",
   "execution_count": 8,
   "metadata": {},
   "outputs": [
    {
     "name": "stdout",
     "output_type": "stream",
     "text": [
      "2017-03-01 00:00:00\n"
     ]
    }
   ],
   "source": [
    "import pandas as pd\n",
    "\n",
    "print (pd.Timestamp('2017-03-01'))\n"
   ]
  },
  {
   "cell_type": "code",
   "execution_count": 9,
   "metadata": {},
   "outputs": [
    {
     "name": "stdout",
     "output_type": "stream",
     "text": [
      "2020-04-24 00:14:15\n"
     ]
    }
   ],
   "source": [
    "import pandas as pd\n",
    "\n",
    "print (pd.Timestamp(1587687255,unit='s'))\n"
   ]
  },
  {
   "cell_type": "code",
   "execution_count": 10,
   "metadata": {},
   "outputs": [
    {
     "name": "stdout",
     "output_type": "stream",
     "text": [
      "[datetime.time(11, 0) datetime.time(11, 30) datetime.time(12, 0)\n",
      " datetime.time(12, 30) datetime.time(13, 0) datetime.time(13, 30)]\n"
     ]
    }
   ],
   "source": [
    "\n",
    "import pandas as pd\n",
    "\n",
    "print (pd.date_range(\"11:00\", \"13:30\", freq=\"30min\").time)"
   ]
  },
  {
   "cell_type": "code",
   "execution_count": 11,
   "metadata": {},
   "outputs": [
    {
     "name": "stdout",
     "output_type": "stream",
     "text": [
      "[datetime.time(11, 0) datetime.time(12, 0) datetime.time(13, 0)]\n"
     ]
    }
   ],
   "source": [
    "import pandas as pd\n",
    "\n",
    "print (pd.date_range(\"11:00\", \"13:30\", freq=\"H\").time)\n",
    "\n"
   ]
  },
  {
   "cell_type": "code",
   "execution_count": null,
   "metadata": {},
   "outputs": [],
   "source": []
  }
 ],
 "metadata": {
  "kernelspec": {
   "display_name": "base",
   "language": "python",
   "name": "python3"
  },
  "language_info": {
   "codemirror_mode": {
    "name": "ipython",
    "version": 3
   },
   "file_extension": ".py",
   "mimetype": "text/x-python",
   "name": "python",
   "nbconvert_exporter": "python",
   "pygments_lexer": "ipython3",
   "version": "3.11.5"
  }
 },
 "nbformat": 4,
 "nbformat_minor": 2
}
