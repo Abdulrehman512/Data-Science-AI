{
 "cells": [
  {
   "cell_type": "code",
   "execution_count": null,
   "metadata": {},
   "outputs": [],
   "source": [
    "import pandas as pd\n",
    "import numpy as np"
   ]
  },
  {
   "cell_type": "code",
   "execution_count": null,
   "metadata": {},
   "outputs": [],
   "source": [
    "N = 20\n",
    "\n",
    "df = pd.DataFrame({\n",
    "    'A': pd.date_range(start='2016-01-01', periods=N, freq= 'D'),\n",
    "    'x' : np.linspace(0, stop=N-1, num = N),\n",
    "    'y' : np.random.rand(N),\n",
    "    'C' : np.random.choice(['Low', 'Medium', 'High'],N).tolist(),\n",
    "    'D' : np.random.normal(100,10, size=(N)).tolist()\n",
    "})\n",
    "\n",
    "# reindex the DataFrame\n",
    "\n",
    "df_reindexed = df.reindex(index=[0,2,5], columns=['A','C','B'])\n",
    "print(df_reindexed)"
   ]
  },
  {
   "cell_type": "code",
   "execution_count": null,
   "metadata": {},
   "outputs": [],
   "source": [
    "df1 = pd.DataFrame(np.random.rand(10,3), columns = ['col1','col2','col3'])\n",
    "df2 = pd.DataFrame(np.random.rand(7,3), columns = ['col1','col2','col3'])\n",
    "\n",
    "df1 = df1.reindex_like(df2)\n",
    "print(df1)\n"
   ]
  },
  {
   "cell_type": "markdown",
   "metadata": {},
   "source": [
    "### Iteration"
   ]
  },
  {
   "cell_type": "code",
   "execution_count": null,
   "metadata": {},
   "outputs": [],
   "source": [
    "N = 20\n",
    "\n",
    "df = pd.DataFrame({\n",
    "    'A': pd.date_range(start='2016-01-01', periods=N, freq= 'D'),\n",
    "    'x' : np.linspace(0, stop=N-1, num = N),\n",
    "    'y' : np.random.rand(N),\n",
    "    'C' : np.random.choice(['Low', 'Medium', 'High'],N).tolist(),\n",
    "    'D' : np.random.normal(100,10, size=(N)).tolist()\n",
    "})\n",
    "\n",
    "for col in df:\n",
    "    print(col)"
   ]
  },
  {
   "cell_type": "code",
   "execution_count": null,
   "metadata": {},
   "outputs": [],
   "source": []
  }
 ],
 "metadata": {
  "kernelspec": {
   "display_name": "base",
   "language": "python",
   "name": "python3"
  },
  "language_info": {
   "name": "python",
   "version": "3.11.5"
  }
 },
 "nbformat": 4,
 "nbformat_minor": 2
}
