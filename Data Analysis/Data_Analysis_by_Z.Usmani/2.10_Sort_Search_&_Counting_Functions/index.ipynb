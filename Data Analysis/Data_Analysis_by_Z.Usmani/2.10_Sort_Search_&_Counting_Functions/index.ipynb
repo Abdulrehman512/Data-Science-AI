{
 "cells": [
  {
   "cell_type": "code",
   "execution_count": 1,
   "metadata": {},
   "outputs": [],
   "source": [
    "import numpy as np"
   ]
  },
  {
   "cell_type": "markdown",
   "metadata": {},
   "source": [
    "#### np.sort()"
   ]
  },
  {
   "cell_type": "code",
   "execution_count": 2,
   "metadata": {},
   "outputs": [
    {
     "name": "stdout",
     "output_type": "stream",
     "text": [
      "Our array is :\n",
      "[[3 7]\n",
      " [9 1]]\n",
      "\n",
      "\n",
      "Applying sort() function :\n",
      "[[3 7]\n",
      " [1 9]]\n",
      "\n",
      "\n",
      "Applying sort() function along 0 axis :\n",
      "[[3 1]\n",
      " [9 7]]\n",
      "\n",
      "\n",
      "Our array is :\n",
      "[(b'raju', 21) (b'anil', 25) (b'ravi', 17) (b'amar', 27)]\n",
      "\n",
      "\n",
      "[(b'amar', 27) (b'anil', 25) (b'raju', 21) (b'ravi', 17)]\n"
     ]
    }
   ],
   "source": [
    "a = np.array([[3,7],[9,1]])\n",
    "\n",
    "print(\"Our array is :\")\n",
    "print(a)\n",
    "print(\"\\n\")\n",
    "\n",
    "print(\"Applying sort() function :\")\n",
    "print(np.sort(a))\n",
    "print(\"\\n\")\n",
    "\n",
    "print(\"Applying sort() function along 0 axis :\")\n",
    "print(np.sort(a, axis=0))\n",
    "print(\"\\n\")\n",
    "\n",
    "# order parameter in sort function\n",
    "\n",
    "dt = (np.dtype([('name','S10'),('age',int)]))\n",
    "a = (np.array([('raju',21),('anil',25),('ravi',17),('amar',27)], dtype=dt))\n",
    "\n",
    "print(\"Our array is :\")\n",
    "print(a)\n",
    "print(\"\\n\")\n",
    "\n",
    "print(np.sort(a,order = 'name'))"
   ]
  },
  {
   "cell_type": "markdown",
   "metadata": {},
   "source": [
    "#### np.where()"
   ]
  },
  {
   "cell_type": "code",
   "execution_count": 3,
   "metadata": {},
   "outputs": [
    {
     "name": "stdout",
     "output_type": "stream",
     "text": [
      "Our array is :\n",
      "[[0 1 2]\n",
      " [3 4 5]\n",
      " [6 7 8]]\n",
      "Indices of elements > 3\n",
      "(array([1, 1, 2, 2, 2], dtype=int64), array([1, 2, 0, 1, 2], dtype=int64))\n",
      "[4 5 6 7 8]\n"
     ]
    }
   ],
   "source": [
    "x = np.arange(9).reshape(3,3)\n",
    "print(\"Our array is :\")\n",
    "print(x)\n",
    "print(\"Indices of elements > 3\")\n",
    "y = np.where(x > 3)\n",
    "print(y)\n",
    "\n",
    "print(x[y])"
   ]
  },
  {
   "cell_type": "markdown",
   "metadata": {},
   "source": [
    "#### np.extract()"
   ]
  },
  {
   "cell_type": "code",
   "execution_count": 4,
   "metadata": {},
   "outputs": [
    {
     "name": "stdout",
     "output_type": "stream",
     "text": [
      "Our array is :\n",
      "[[0 1 2]\n",
      " [3 4 5]\n",
      " [6 7 8]]\n",
      "[[ True False  True]\n",
      " [False  True False]\n",
      " [ True False  True]]\n",
      "[0 2 4 6 8]\n"
     ]
    }
   ],
   "source": [
    "x = np.arange(9).reshape(3,3)\n",
    "print(\"Our array is :\")\n",
    "print(x)\n",
    "\n",
    "conndition = np.mod(x,2) == 0\n",
    "print(conndition)\n",
    "\n",
    "print(np.extract(conndition,x))"
   ]
  },
  {
   "cell_type": "code",
   "execution_count": null,
   "metadata": {},
   "outputs": [],
   "source": []
  }
 ],
 "metadata": {
  "kernelspec": {
   "display_name": "base",
   "language": "python",
   "name": "python3"
  },
  "language_info": {
   "codemirror_mode": {
    "name": "ipython",
    "version": 3
   },
   "file_extension": ".py",
   "mimetype": "text/x-python",
   "name": "python",
   "nbconvert_exporter": "python",
   "pygments_lexer": "ipython3",
   "version": "3.11.5"
  }
 },
 "nbformat": 4,
 "nbformat_minor": 2
}
