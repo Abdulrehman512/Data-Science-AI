{
 "cells": [
  {
   "cell_type": "code",
   "execution_count": 1,
   "metadata": {},
   "outputs": [],
   "source": [
    "import numpy as np"
   ]
  },
  {
   "cell_type": "markdown",
   "metadata": {},
   "source": [
    "### Trignometric Functions"
   ]
  },
  {
   "cell_type": "code",
   "execution_count": 3,
   "metadata": {},
   "outputs": [
    {
     "name": "stdout",
     "output_type": "stream",
     "text": [
      "Sine of different angles :\n",
      "[0.         0.5        0.70710678 0.8660254  1.        ]\n",
      "\n",
      "\n",
      "Cosine Values for angles in array :\n",
      "[1.00000000e+00 8.66025404e-01 7.07106781e-01 5.00000000e-01\n",
      " 6.12323400e-17]\n",
      "\n",
      "\n",
      "Tangent Values for angles in array :\n",
      "[0.00000000e+00 5.77350269e-01 1.00000000e+00 1.73205081e+00\n",
      " 1.63312394e+16]\n"
     ]
    }
   ],
   "source": [
    "a = np.array([0,30,45,60,90])\n",
    "\n",
    "print(\"Sine of different angles :\")\n",
    "# convert the radians by multiplying with pi/180\n",
    "\n",
    "print(np.sin(a*np.pi/180))\n",
    "print(\"\\n\")\n",
    "\n",
    "print(\"Cosine Values for angles in array :\")\n",
    "print(np.cos(a*np.pi/180))\n",
    "print(\"\\n\")\n",
    "\n",
    "print(\"Tangent Values for angles in array :\")\n",
    "print(np.tan(a*np.pi/180))\n",
    "\n"
   ]
  },
  {
   "cell_type": "code",
   "execution_count": 6,
   "metadata": {},
   "outputs": [
    {
     "name": "stdout",
     "output_type": "stream",
     "text": [
      "Array containing sine values :\n",
      "[0.         0.5        0.70710678 0.8660254  1.        ]\n",
      "\n",
      "\n",
      "Compute sine inverse of angles. Returned values are in radians.\n",
      "[0.         0.52359878 0.78539816 1.04719755 1.57079633]\n",
      "\n",
      "\n",
      "Check result by converting to degrees :\n",
      "[ 0. 30. 45. 60. 90.]\n",
      "\n",
      "\n",
      "arccos and arctan functions behave similarly :\n",
      "[1.00000000e+00 8.66025404e-01 7.07106781e-01 5.00000000e-01\n",
      " 6.12323400e-17]\n",
      "\n",
      "\n",
      "Inverse of cos :\n",
      "[0.         0.52359878 0.78539816 1.04719755 1.57079633]\n",
      "\n",
      "\n",
      " In degrees :\n",
      "[ 0. 30. 45. 60. 90.]\n",
      "\n",
      "\n",
      "Tan function :\n",
      "[0.00000000e+00 5.77350269e-01 1.00000000e+00 1.73205081e+00\n",
      " 1.63312394e+16]\n",
      "\n",
      "\n",
      "Inverse of tan :\n",
      "[0.         0.52359878 0.78539816 1.04719755 1.57079633]\n",
      "\n",
      "\n",
      "In degrees :\n",
      "[ 0. 30. 45. 60. 90.]\n"
     ]
    }
   ],
   "source": [
    "a = np.array([0,30,45,60,90])\n",
    "print(\"Array containing sine values :\")\n",
    "sin = np.sin(a*np.pi/180)\n",
    "print(sin)\n",
    "print(\"\\n\")\n",
    "\n",
    "print(\"Compute sine inverse of angles. Returned values are in radians.\")\n",
    "inv = np.arcsin(sin)\n",
    "print(inv)\n",
    "print(\"\\n\")\n",
    "\n",
    "print(\"Check result by converting to degrees :\")\n",
    "print(np.degrees(inv))\n",
    "print(\"\\n\")\n",
    "\n",
    "print(\"arccos and arctan functions behave similarly :\")\n",
    "cos = np.cos(a*np.pi/180)\n",
    "print(cos)\n",
    "print(\"\\n\")\n",
    "\n",
    "print(\"Inverse of cos :\")\n",
    "inv = np.arccos(cos)\n",
    "print(inv)\n",
    "print(\"\\n\")\n",
    "\n",
    "print(\" In degrees :\")\n",
    "print(np.degrees(inv))\n",
    "print(\"\\n\")\n",
    "\n",
    "print(\"Tan function :\")\n",
    "tan = np.tan(a*np.pi/180)\n",
    "print(tan)\n",
    "print(\"\\n\")\n",
    "\n",
    "print(\"Inverse of tan :\")\n",
    "inv = np.arctan(tan)\n",
    "print(inv)\n",
    "print(\"\\n\")\n",
    "\n",
    "print(\"In degrees :\")\n",
    "print(np.degrees(inv))"
   ]
  },
  {
   "cell_type": "code",
   "execution_count": null,
   "metadata": {},
   "outputs": [],
   "source": []
  }
 ],
 "metadata": {
  "kernelspec": {
   "display_name": "base",
   "language": "python",
   "name": "python3"
  },
  "language_info": {
   "codemirror_mode": {
    "name": "ipython",
    "version": 3
   },
   "file_extension": ".py",
   "mimetype": "text/x-python",
   "name": "python",
   "nbconvert_exporter": "python",
   "pygments_lexer": "ipython3",
   "version": "3.11.5"
  }
 },
 "nbformat": 4,
 "nbformat_minor": 2
}
