{
 "cells": [
  {
   "cell_type": "code",
   "execution_count": 1,
   "metadata": {},
   "outputs": [],
   "source": [
    "import numpy as np"
   ]
  },
  {
   "cell_type": "markdown",
   "metadata": {},
   "source": [
    "#### numpy.amax() and numpy.amin()"
   ]
  },
  {
   "cell_type": "code",
   "execution_count": 2,
   "metadata": {},
   "outputs": [
    {
     "name": "stdout",
     "output_type": "stream",
     "text": [
      "Our array is :\n",
      "[[3 7 5]\n",
      " [8 4 3]\n",
      " [2 4 9]]\n",
      "\n",
      "\n",
      "Applying amin() function :\n",
      "[3 3 2]\n",
      "\n",
      "\n",
      "Applying amin() function again :\n",
      "[2 4 3]\n",
      "\n",
      "\n",
      "Applying amax() function :\n",
      "9\n",
      "\n",
      "\n",
      "Applying amax() function again :\n",
      "[8 7 9]\n"
     ]
    }
   ],
   "source": [
    "a = np.array([[3,7,5],[8,4,3],[2,4,9]])\n",
    "\n",
    "print(\"Our array is :\")\n",
    "print(a)\n",
    "print(\"\\n\")\n",
    "\n",
    "print(\"Applying amin() function :\")\n",
    "print(np.amin(a,1))\n",
    "print(\"\\n\")\n",
    "\n",
    "print(\"Applying amin() function again :\")\n",
    "print(np.amin(a,0))\n",
    "print(\"\\n\")\n",
    "\n",
    "print(\"Applying amax() function :\")\n",
    "print(np.amax(a))\n",
    "print(\"\\n\")\n",
    "\n",
    "print(\"Applying amax() function again :\")\n",
    "print(np.amax(a,axis=0))"
   ]
  },
  {
   "cell_type": "markdown",
   "metadata": {},
   "source": [
    "#### np.ptp()"
   ]
  },
  {
   "cell_type": "code",
   "execution_count": 3,
   "metadata": {},
   "outputs": [
    {
     "name": "stdout",
     "output_type": "stream",
     "text": [
      "Our array is :\n",
      "[[3 7 5]\n",
      " [8 4 3]\n",
      " [2 4 9]]\n",
      "\n",
      "\n",
      "Applying ptp() function :\n",
      "7\n",
      "\n",
      "\n",
      "Applying ptp() function along axis 1 :\n",
      "[4 5 7]\n",
      "\n",
      "\n",
      "Applying ptp() function along axis 0 :\n",
      "[6 3 6]\n"
     ]
    }
   ],
   "source": [
    "a = np.array([[3,7,5],[8,4,3],[2,4,9]])\n",
    "\n",
    "print(\"Our array is :\")\n",
    "print(a)\n",
    "print(\"\\n\")\n",
    "\n",
    "print(\"Applying ptp() function :\")\n",
    "print(np.ptp(a))\n",
    "print(\"\\n\")\n",
    "\n",
    "print(\"Applying ptp() function along axis 1 :\")\n",
    "print(np.ptp(a, axis=1))\n",
    "print(\"\\n\")\n",
    "\n",
    "print(\"Applying ptp() function along axis 0 :\")\n",
    "print(np.ptp(a, axis=0))"
   ]
  },
  {
   "cell_type": "markdown",
   "metadata": {},
   "source": [
    "#### np.percentile()"
   ]
  },
  {
   "cell_type": "code",
   "execution_count": 6,
   "metadata": {},
   "outputs": [
    {
     "name": "stdout",
     "output_type": "stream",
     "text": [
      "Our array is :\n",
      "[[30 40 70]\n",
      " [80 20 10]\n",
      " [50 90 60]]\n",
      "\n",
      "\n",
      "Applying percentile() function :\n",
      "50.0\n",
      "\n",
      "\n",
      "Applying percentile() function along axis 1 :\n",
      "[40. 20. 60.]\n",
      "\n",
      "\n",
      "Applying percentile() function along axis 0 :\n",
      "[50. 40. 60.]\n"
     ]
    }
   ],
   "source": [
    "a = np.array([[30,40,70],[80,20,10],[50,90,60]])\n",
    "\n",
    "print(\"Our array is :\")\n",
    "print(a)\n",
    "print(\"\\n\")\n",
    "\n",
    "print(\"Applying percentile() function :\")\n",
    "print(np.percentile(a,50))\n",
    "print(\"\\n\")\n",
    "\n",
    "print(\"Applying percentile() function along axis 1 :\")\n",
    "print(np.percentile(a,50, axis=1))\n",
    "print(\"\\n\")\n",
    "\n",
    "print(\"Applying percentile() function along axis 0 :\")\n",
    "print(np.percentile(a,50,axis=0))\n"
   ]
  },
  {
   "cell_type": "markdown",
   "metadata": {},
   "source": [
    "#### np.median()"
   ]
  },
  {
   "cell_type": "code",
   "execution_count": 7,
   "metadata": {},
   "outputs": [
    {
     "name": "stdout",
     "output_type": "stream",
     "text": [
      "Our array is :\n",
      "[[30 40 70]\n",
      " [80 20 10]\n",
      " [50 90 60]]\n",
      "\n",
      "\n",
      "Applying median() function :\n",
      "50.0\n",
      "\n",
      "\n",
      "Applying percentile() function along axis 1 :\n",
      "[40. 20. 60.]\n",
      "\n",
      "\n",
      "Applying median() function along axis 0 :\n",
      "[50. 40. 60.]\n"
     ]
    }
   ],
   "source": [
    "a = np.array([[30,40,70],[80,20,10],[50,90,60]])\n",
    "\n",
    "print(\"Our array is :\")\n",
    "print(a)\n",
    "print(\"\\n\")\n",
    "\n",
    "print(\"Applying median() function :\")\n",
    "print(np.median(a))\n",
    "print(\"\\n\")\n",
    "\n",
    "print(\"Applying percentile() function along axis 1 :\")\n",
    "print(np.median(a,axis=1))\n",
    "print(\"\\n\")\n",
    "\n",
    "print(\"Applying median() function along axis 0 :\")\n",
    "print(np.median(a,axis=0))\n"
   ]
  },
  {
   "cell_type": "markdown",
   "metadata": {},
   "source": [
    "#### np.mean()"
   ]
  },
  {
   "cell_type": "code",
   "execution_count": 9,
   "metadata": {},
   "outputs": [
    {
     "name": "stdout",
     "output_type": "stream",
     "text": [
      "Our array is :\n",
      "[[1 2 3]\n",
      " [3 4 5]\n",
      " [4 5 6]]\n",
      "\n",
      "\n",
      "Applying mean() function :\n",
      "3.6666666666666665\n",
      "\n",
      "\n",
      "Applying mean() function along axis 1 :\n",
      "[2. 4. 5.]\n",
      "\n",
      "\n",
      "Applying mean() function along axis 0 :\n",
      "[2.66666667 3.66666667 4.66666667]\n"
     ]
    }
   ],
   "source": [
    "a = np.array([[1,2,3],[3,4,5],[4,5,6]])\n",
    "\n",
    "print(\"Our array is :\")\n",
    "print(a)\n",
    "print(\"\\n\")\n",
    "\n",
    "print(\"Applying mean() function :\")\n",
    "print(np.mean(a))\n",
    "print(\"\\n\")\n",
    "\n",
    "print(\"Applying mean() function along axis 1 :\")\n",
    "print(np.mean(a,axis=1))\n",
    "print(\"\\n\")\n",
    "\n",
    "print(\"Applying mean() function along axis 0 :\")\n",
    "print(np.mean(a,axis=0))"
   ]
  },
  {
   "cell_type": "markdown",
   "metadata": {},
   "source": [
    "#### Standard Deviation"
   ]
  },
  {
   "cell_type": "code",
   "execution_count": 10,
   "metadata": {},
   "outputs": [
    {
     "name": "stdout",
     "output_type": "stream",
     "text": [
      "1.118033988749895\n"
     ]
    }
   ],
   "source": [
    "# std = sqrt(mean(abs(x - x.mean())**2))\n",
    "\n",
    "print(np.std([1,2,3,4]))"
   ]
  },
  {
   "cell_type": "markdown",
   "metadata": {},
   "source": [
    "#### Variance"
   ]
  },
  {
   "cell_type": "code",
   "execution_count": 11,
   "metadata": {},
   "outputs": [
    {
     "name": "stdout",
     "output_type": "stream",
     "text": [
      "1.25\n"
     ]
    }
   ],
   "source": [
    "print(np.var([1,2,3,4]))"
   ]
  },
  {
   "cell_type": "code",
   "execution_count": null,
   "metadata": {},
   "outputs": [],
   "source": []
  }
 ],
 "metadata": {
  "kernelspec": {
   "display_name": "base",
   "language": "python",
   "name": "python3"
  },
  "language_info": {
   "codemirror_mode": {
    "name": "ipython",
    "version": 3
   },
   "file_extension": ".py",
   "mimetype": "text/x-python",
   "name": "python",
   "nbconvert_exporter": "python",
   "pygments_lexer": "ipython3",
   "version": "3.11.5"
  }
 },
 "nbformat": 4,
 "nbformat_minor": 2
}
