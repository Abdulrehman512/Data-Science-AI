{
 "cells": [
  {
   "cell_type": "code",
   "execution_count": 1,
   "metadata": {},
   "outputs": [],
   "source": [
    "import pandas as pd\n",
    "import numpy as np"
   ]
  },
  {
   "cell_type": "markdown",
   "metadata": {},
   "source": [
    "### Percent Change"
   ]
  },
  {
   "cell_type": "code",
   "execution_count": 2,
   "metadata": {},
   "outputs": [
    {
     "name": "stdout",
     "output_type": "stream",
     "text": [
      "0         NaN\n",
      "1    1.000000\n",
      "2    0.500000\n",
      "3    0.333333\n",
      "4    0.250000\n",
      "5   -0.200000\n",
      "dtype: float64\n"
     ]
    }
   ],
   "source": [
    "s = pd.Series([1,2,3,4,5,4])\n",
    "print(s.pct_change())"
   ]
  },
  {
   "cell_type": "code",
   "execution_count": 3,
   "metadata": {},
   "outputs": [
    {
     "name": "stdout",
     "output_type": "stream",
     "text": [
      "           0         1\n",
      "0        NaN       NaN\n",
      "1  -0.142948 -0.476418\n",
      "2  -1.095650 -0.049870\n",
      "3  21.332630 -2.779570\n",
      "4  -0.556238 -0.039246\n"
     ]
    }
   ],
   "source": [
    "df = pd.DataFrame(np.random.randn(5,2))\n",
    "print(df.pct_change())"
   ]
  },
  {
   "cell_type": "markdown",
   "metadata": {},
   "source": [
    "### Covariance"
   ]
  },
  {
   "cell_type": "code",
   "execution_count": 4,
   "metadata": {},
   "outputs": [
    {
     "name": "stdout",
     "output_type": "stream",
     "text": [
      "0.11037103887361338\n"
     ]
    }
   ],
   "source": [
    "s1 = pd.Series(np.random.randn(10))\n",
    "s2 = pd.Series(np.random.randn(10))\n",
    "print(s1.cov(s2))"
   ]
  },
  {
   "cell_type": "code",
   "execution_count": 5,
   "metadata": {},
   "outputs": [
    {
     "name": "stdout",
     "output_type": "stream",
     "text": [
      "0.14197717220944137\n",
      "          a         b         c         d         e\n",
      "a  1.314677  0.141977  0.036801 -0.271252  0.491682\n",
      "b  0.141977  0.332818  0.171569 -0.306968  0.133860\n",
      "c  0.036801  0.171569  0.639645 -0.439542  0.027139\n",
      "d -0.271252 -0.306968 -0.439542  0.810756 -0.238705\n",
      "e  0.491682  0.133860  0.027139 -0.238705  0.809419\n"
     ]
    }
   ],
   "source": [
    "df = pd.DataFrame(np.random.randn(10,5), columns=['a','b','c','d','e'])\n",
    "print(df['a'].cov(df['b']))\n",
    "print(df.cov())"
   ]
  },
  {
   "cell_type": "markdown",
   "metadata": {},
   "source": [
    "### Correlation"
   ]
  },
  {
   "cell_type": "code",
   "execution_count": 6,
   "metadata": {},
   "outputs": [
    {
     "name": "stdout",
     "output_type": "stream",
     "text": [
      "0.11199449724553552\n",
      "          a         b         c         d         e\n",
      "a  1.000000  0.111994 -0.177135  0.209591  0.586059\n",
      "b  0.111994  1.000000  0.145664 -0.501515  0.070799\n",
      "c -0.177135  0.145664  1.000000 -0.509600  0.128599\n",
      "d  0.209591 -0.501515 -0.509600  1.000000 -0.324436\n",
      "e  0.586059  0.070799  0.128599 -0.324436  1.000000\n"
     ]
    }
   ],
   "source": [
    "df = pd.DataFrame(np.random.randn(10,5), columns=['a','b','c','d','e'])\n",
    "print(df['a'].corr(df['b']))\n",
    "print(df.corr())"
   ]
  },
  {
   "cell_type": "code",
   "execution_count": null,
   "metadata": {},
   "outputs": [],
   "source": []
  }
 ],
 "metadata": {
  "kernelspec": {
   "display_name": "base",
   "language": "python",
   "name": "python3"
  },
  "language_info": {
   "codemirror_mode": {
    "name": "ipython",
    "version": 3
   },
   "file_extension": ".py",
   "mimetype": "text/x-python",
   "name": "python",
   "nbconvert_exporter": "python",
   "pygments_lexer": "ipython3",
   "version": "3.11.5"
  }
 },
 "nbformat": 4,
 "nbformat_minor": 2
}
