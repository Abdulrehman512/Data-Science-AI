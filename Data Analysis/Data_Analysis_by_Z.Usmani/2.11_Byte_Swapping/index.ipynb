{
 "cells": [
  {
   "cell_type": "code",
   "execution_count": 1,
   "metadata": {},
   "outputs": [],
   "source": [
    "import numpy as np"
   ]
  },
  {
   "cell_type": "code",
   "execution_count": 3,
   "metadata": {},
   "outputs": [
    {
     "name": "stdout",
     "output_type": "stream",
     "text": [
      "Our array is\n",
      "[   1  256 8755]\n",
      "Representation of Data in memory in hexadecimal form :\n",
      "<map object at 0x000002065E3FC7F0>\n",
      "Applying byteswap() function :\n",
      "[ 16777216     65536 857866240]\n",
      "In hexadecimal form :\n",
      "<map object at 0x000002065E538730>\n"
     ]
    }
   ],
   "source": [
    "a = np.array([1,256,8755], dtype= int)\n",
    "\n",
    "print(\"Our array is\")\n",
    "print(a)\n",
    "\n",
    "print(\"Representation of Data in memory in hexadecimal form :\")\n",
    "print(map(hex,a))\n",
    "\n",
    "# byteswap() function swaps in place by passing True parameter\n",
    "\n",
    "print(\"Applying byteswap() function :\")\n",
    "print(a.byteswap(True))\n",
    "\n",
    "print(\"In hexadecimal form :\")\n",
    "print(map(hex,a))\n",
    "\n",
    "# we can see the bytes being swapped"
   ]
  },
  {
   "cell_type": "code",
   "execution_count": null,
   "metadata": {},
   "outputs": [],
   "source": []
  },
  {
   "cell_type": "markdown",
   "metadata": {},
   "source": [
    "### Copy and View"
   ]
  },
  {
   "cell_type": "markdown",
   "metadata": {},
   "source": [
    "#### No Copy"
   ]
  },
  {
   "cell_type": "code",
   "execution_count": 4,
   "metadata": {},
   "outputs": [
    {
     "name": "stdout",
     "output_type": "stream",
     "text": [
      "Our array is\n",
      "[0 1 2 3 4 5]\n",
      "Applying id() function :\n",
      "2226375474992\n",
      "a is assigned to b\n",
      "[0 1 2 3 4 5]\n",
      "b has same id :\n",
      "2226375474992\n",
      "Change shape of b :\n",
      "[[0 1]\n",
      " [2 3]\n",
      " [4 5]]\n",
      "[[0 1]\n",
      " [2 3]\n",
      " [4 5]]\n"
     ]
    }
   ],
   "source": [
    "a = np.arange(6)\n",
    "\n",
    "print(\"Our array is\")\n",
    "print(a)\n",
    "\n",
    "print(\"Applying id() function :\")\n",
    "print(id(a))\n",
    "\n",
    "print(\"a is assigned to b\")\n",
    "\n",
    "b = a\n",
    "print(b)\n",
    "\n",
    "print(\"b has same id :\")\n",
    "print(id(b))\n",
    "\n",
    "print(\"Change shape of b :\")\n",
    "b.shape = 3,2\n",
    "print(b)\n",
    "\n",
    "print(a)"
   ]
  },
  {
   "cell_type": "markdown",
   "metadata": {},
   "source": [
    "### View or Shallow Copy"
   ]
  },
  {
   "cell_type": "code",
   "execution_count": 5,
   "metadata": {},
   "outputs": [
    {
     "name": "stdout",
     "output_type": "stream",
     "text": [
      "[[0 1]\n",
      " [2 3]\n",
      " [4 5]]\n",
      "[[0 1]\n",
      " [2 3]\n",
      " [4 5]]\n",
      "2226379649360\n",
      "2226379648496\n"
     ]
    }
   ],
   "source": [
    "a = np.arange(6).reshape(3,2)\n",
    "\n",
    "print(a)\n",
    "\n",
    "b = (a.view())\n",
    "print(b)\n",
    "\n",
    "print(id(a))\n",
    "print(id(b))\n",
    "\n"
   ]
  },
  {
   "cell_type": "markdown",
   "metadata": {},
   "source": [
    "### Deep Copy"
   ]
  },
  {
   "cell_type": "code",
   "execution_count": 6,
   "metadata": {},
   "outputs": [
    {
     "name": "stdout",
     "output_type": "stream",
     "text": [
      "[[10 10]\n",
      " [ 2  3]\n",
      " [ 4  5]]\n",
      "[[10 10]\n",
      " [ 2  3]\n",
      " [ 4  5]]\n",
      "False\n",
      "[[100  10]\n",
      " [  2   3]\n",
      " [  4   5]]\n",
      "[[10 10]\n",
      " [ 2  3]\n",
      " [ 4  5]]\n"
     ]
    }
   ],
   "source": [
    "a = np.array([[10,10],[2,3],[4,5]])\n",
    "\n",
    "print(a)\n",
    "\n",
    "b = a.copy()\n",
    "\n",
    "print(b)\n",
    "\n",
    "print(b is a)\n",
    "\n",
    "b[0,0] = 100\n",
    "\n",
    "print(b)\n",
    "\n",
    "print(a)"
   ]
  },
  {
   "cell_type": "code",
   "execution_count": null,
   "metadata": {},
   "outputs": [],
   "source": []
  }
 ],
 "metadata": {
  "kernelspec": {
   "display_name": "base",
   "language": "python",
   "name": "python3"
  },
  "language_info": {
   "codemirror_mode": {
    "name": "ipython",
    "version": 3
   },
   "file_extension": ".py",
   "mimetype": "text/x-python",
   "name": "python",
   "nbconvert_exporter": "python",
   "pygments_lexer": "ipython3",
   "version": "3.11.5"
  }
 },
 "nbformat": 4,
 "nbformat_minor": 2
}
