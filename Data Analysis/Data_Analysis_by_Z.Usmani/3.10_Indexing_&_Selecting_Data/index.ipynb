{
 "cells": [
  {
   "cell_type": "code",
   "execution_count": 1,
   "metadata": {},
   "outputs": [],
   "source": [
    "import pandas as pd\n",
    "import numpy as np"
   ]
  },
  {
   "cell_type": "code",
   "execution_count": 7,
   "metadata": {},
   "outputs": [
    {
     "name": "stdout",
     "output_type": "stream",
     "text": [
      "          A         B         C         D\n",
      "0 -0.061855  1.994073 -1.689644  1.107001\n",
      "1 -0.414947  0.518312 -1.693742 -0.306034\n",
      "2  0.956929  1.647209 -0.390201 -0.438382\n",
      "3 -1.842502 -1.565401  1.365600  0.863340\n"
     ]
    }
   ],
   "source": [
    "df = pd.DataFrame(np.random.randn(8,4), columns = ['A','B','C','D'])\n",
    "\n",
    "print(df.iloc[:4])"
   ]
  },
  {
   "cell_type": "code",
   "execution_count": 8,
   "metadata": {},
   "outputs": [
    {
     "name": "stdout",
     "output_type": "stream",
     "text": [
      "          A         B         C         D\n",
      "0 -1.182013 -0.614388  0.245477 -0.306711\n",
      "1 -0.258142  0.046618 -0.127811 -1.327044\n",
      "2  1.524582  1.706921  0.612347  1.090529\n",
      "3 -1.034846  2.006122  0.502958 -0.139806\n",
      "          C         D\n",
      "1 -0.127811 -1.327044\n",
      "2  0.612347  1.090529\n",
      "3  0.502958 -0.139806\n",
      "4 -0.160954 -1.215973\n"
     ]
    }
   ],
   "source": [
    "df = pd.DataFrame(np.random.randn(8,4), columns = ['A','B','C','D'])\n",
    "\n",
    "print(df.iloc[:4])\n",
    "print(df.iloc[1:5,2:4])"
   ]
  },
  {
   "cell_type": "code",
   "execution_count": null,
   "metadata": {},
   "outputs": [],
   "source": []
  }
 ],
 "metadata": {
  "kernelspec": {
   "display_name": "base",
   "language": "python",
   "name": "python3"
  },
  "language_info": {
   "codemirror_mode": {
    "name": "ipython",
    "version": 3
   },
   "file_extension": ".py",
   "mimetype": "text/x-python",
   "name": "python",
   "nbconvert_exporter": "python",
   "pygments_lexer": "ipython3",
   "version": "3.11.5"
  }
 },
 "nbformat": 4,
 "nbformat_minor": 2
}
