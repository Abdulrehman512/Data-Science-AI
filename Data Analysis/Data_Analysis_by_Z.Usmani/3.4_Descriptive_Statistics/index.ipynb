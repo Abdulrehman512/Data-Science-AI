{
 "cells": [
  {
   "cell_type": "code",
   "execution_count": 1,
   "metadata": {},
   "outputs": [],
   "source": [
    "import numpy as np\n",
    "import pandas as pd"
   ]
  },
  {
   "cell_type": "code",
   "execution_count": 3,
   "metadata": {},
   "outputs": [
    {
     "name": "stdout",
     "output_type": "stream",
     "text": [
      "       Name  Age  Rating\n",
      "0       Tom   25    4.23\n",
      "1     James   26    3.24\n",
      "2     Ricky   25    3.98\n",
      "3       Vin   23    2.56\n",
      "4     Steve   30    3.20\n",
      "5     Smith   29    4.60\n",
      "6      Jack   23    3.80\n",
      "7       Lee   34    3.78\n",
      "8     David   40    2.98\n",
      "9   Grasper   30    4.80\n",
      "10   Betina   51    4.10\n",
      "11   Andres   46    3.65\n"
     ]
    }
   ],
   "source": [
    "d = {'Name' : pd.Series(['Tom','James','Ricky','Vin','Steve','Smith','Jack','Lee','David','Grasper','Betina','Andres']),\n",
    "     'Age' : pd.Series([25,26,25,23,30,29,23,34,40,30,51,46]),\n",
    "     'Rating' : pd.Series([4.23,3.24,3.98,2.56,3.20,4.6,3.8,3.78,2.98,4.80,4.10,3.65])\n",
    "     }\n",
    "\n",
    "df = pd.DataFrame(d)\n",
    "print(df)"
   ]
  },
  {
   "cell_type": "markdown",
   "metadata": {},
   "source": [
    "### sum()"
   ]
  },
  {
   "cell_type": "code",
   "execution_count": 4,
   "metadata": {},
   "outputs": [
    {
     "name": "stdout",
     "output_type": "stream",
     "text": [
      "Name      TomJamesRickyVinSteveSmithJackLeeDavidGrasperB...\n",
      "Age                                                     382\n",
      "Rating                                                44.92\n",
      "dtype: object\n"
     ]
    }
   ],
   "source": [
    "d = {'Name' : pd.Series(['Tom','James','Ricky','Vin','Steve','Smith','Jack','Lee','David',\n",
    "                         'Grasper','Betina','Andres']),\n",
    "     'Age' : pd.Series([25,26,25,23,30,29,23,34,40,30,51,46]),\n",
    "     'Rating' : pd.Series([4.23,3.24,3.98,2.56,3.20,4.6,3.8,3.78,2.98,4.80,4.10,3.65])\n",
    "     }\n",
    "\n",
    "df = pd.DataFrame(d)\n",
    "print(df.sum())"
   ]
  },
  {
   "cell_type": "markdown",
   "metadata": {},
   "source": [
    "### mean()"
   ]
  },
  {
   "cell_type": "code",
   "execution_count": 10,
   "metadata": {},
   "outputs": [
    {
     "name": "stdout",
     "output_type": "stream",
     "text": [
      "Age       31.833333\n",
      "Rating     3.743333\n",
      "dtype: float64\n"
     ]
    }
   ],
   "source": [
    "d = {\n",
    "    # 'Name' : pd.Series(['Tom','James','Ricky','Vin','Steve','Smith','Jack','Lee','David','Grasper','Betina','Andres']),\n",
    "     'Age' : pd.Series([25,26,25,23,30,29,23,34,40,30,51,46]),\n",
    "     'Rating' : pd.Series([4.23,3.24,3.98,2.56,3.20,4.6,3.8,3.78,2.98,4.80,4.10,3.65])\n",
    "     }\n",
    "\n",
    "df = pd.DataFrame(d)\n",
    "print(df.mean())"
   ]
  },
  {
   "cell_type": "code",
   "execution_count": 11,
   "metadata": {},
   "outputs": [
    {
     "name": "stdout",
     "output_type": "stream",
     "text": [
      "Age       9.232682\n",
      "Rating    0.661628\n",
      "dtype: float64\n"
     ]
    }
   ],
   "source": [
    "d = {\n",
    "    # 'Name' : pd.Series(['Tom','James','Ricky','Vin','Steve','Smith','Jack','Lee','David','Grasper','Betina','Andres']),\n",
    "     'Age' : pd.Series([25,26,25,23,30,29,23,34,40,30,51,46]),\n",
    "     'Rating' : pd.Series([4.23,3.24,3.98,2.56,3.20,4.6,3.8,3.78,2.98,4.80,4.10,3.65])\n",
    "     }\n",
    "\n",
    "df = pd.DataFrame(d)\n",
    "print(df.std())"
   ]
  },
  {
   "cell_type": "code",
   "execution_count": 14,
   "metadata": {},
   "outputs": [
    {
     "name": "stdout",
     "output_type": "stream",
     "text": [
      "             Age     Rating\n",
      "count  12.000000  12.000000\n",
      "mean   31.833333   3.743333\n",
      "std     9.232682   0.661628\n",
      "min    23.000000   2.560000\n",
      "25%    25.000000   3.230000\n",
      "50%    29.500000   3.790000\n",
      "75%    35.500000   4.132500\n",
      "max    51.000000   4.800000\n"
     ]
    }
   ],
   "source": [
    "d = {'Name' : pd.Series(['Tom','James','Ricky','Vin','Steve','Smith','Jack','Lee','David',\n",
    "                         'Grasper','Betina','Andres']),\n",
    "     'Age' : pd.Series([25,26,25,23,30,29,23,34,40,30,51,46]),\n",
    "     'Rating' : pd.Series([4.23,3.24,3.98,2.56,3.20,4.6,3.8,3.78,2.98,4.80,4.10,3.65])\n",
    "     }\n",
    "\n",
    "df = pd.DataFrame(d)\n",
    "print(df.describe())"
   ]
  },
  {
   "cell_type": "code",
   "execution_count": 15,
   "metadata": {},
   "outputs": [
    {
     "name": "stdout",
     "output_type": "stream",
     "text": [
      "       Name\n",
      "count    12\n",
      "unique   12\n",
      "top     Tom\n",
      "freq      1\n"
     ]
    }
   ],
   "source": [
    "d = {'Name' : pd.Series(['Tom','James','Ricky','Vin','Steve','Smith','Jack','Lee','David',\n",
    "                         'Grasper','Betina','Andres']),\n",
    "     'Age' : pd.Series([25,26,25,23,30,29,23,34,40,30,51,46]),\n",
    "     'Rating' : pd.Series([4.23,3.24,3.98,2.56,3.20,4.6,3.8,3.78,2.98,4.80,4.10,3.65])\n",
    "     }\n",
    "\n",
    "df = pd.DataFrame(d)\n",
    "print(df.describe(include=['object']))"
   ]
  },
  {
   "cell_type": "code",
   "execution_count": 17,
   "metadata": {},
   "outputs": [
    {
     "name": "stdout",
     "output_type": "stream",
     "text": [
      "       Name        Age     Rating\n",
      "count    12  12.000000  12.000000\n",
      "unique   12        NaN        NaN\n",
      "top     Tom        NaN        NaN\n",
      "freq      1        NaN        NaN\n",
      "mean    NaN  31.833333   3.743333\n",
      "std     NaN   9.232682   0.661628\n",
      "min     NaN  23.000000   2.560000\n",
      "25%     NaN  25.000000   3.230000\n",
      "50%     NaN  29.500000   3.790000\n",
      "75%     NaN  35.500000   4.132500\n",
      "max     NaN  51.000000   4.800000\n"
     ]
    }
   ],
   "source": [
    "d = {'Name' : pd.Series(['Tom','James','Ricky','Vin','Steve','Smith','Jack','Lee','David',\n",
    "                         'Grasper','Betina','Andres']),\n",
    "     'Age' : pd.Series([25,26,25,23,30,29,23,34,40,30,51,46]),\n",
    "     'Rating' : pd.Series([4.23,3.24,3.98,2.56,3.20,4.6,3.8,3.78,2.98,4.80,4.10,3.65])\n",
    "     }\n",
    "\n",
    "df = pd.DataFrame(d)\n",
    "print(df.describe(include='all'))"
   ]
  },
  {
   "cell_type": "code",
   "execution_count": null,
   "metadata": {},
   "outputs": [],
   "source": []
  }
 ],
 "metadata": {
  "kernelspec": {
   "display_name": "base",
   "language": "python",
   "name": "python3"
  },
  "language_info": {
   "codemirror_mode": {
    "name": "ipython",
    "version": 3
   },
   "file_extension": ".py",
   "mimetype": "text/x-python",
   "name": "python",
   "nbconvert_exporter": "python",
   "pygments_lexer": "ipython3",
   "version": "3.11.5"
  }
 },
 "nbformat": 4,
 "nbformat_minor": 2
}
