{
 "cells": [
  {
   "cell_type": "code",
   "execution_count": 1,
   "metadata": {},
   "outputs": [],
   "source": [
    "import pandas as pd\n",
    "import numpy as np"
   ]
  },
  {
   "cell_type": "code",
   "execution_count": 2,
   "metadata": {},
   "outputs": [
    {
     "name": "stdout",
     "output_type": "stream",
     "text": [
      "       col2      col1\n",
      "1 -0.216745  0.144409\n",
      "4  0.531209 -0.531799\n",
      "6 -1.990318  1.910472\n",
      "2  0.228131  0.885223\n",
      "3  2.037789  0.933574\n",
      "5 -0.923485  0.339010\n",
      "9 -0.806185 -0.691897\n",
      "8 -1.137766 -1.054560\n",
      "0 -0.514600  0.881455\n",
      "7 -0.354378  0.842278\n"
     ]
    }
   ],
   "source": [
    "unsorted_df = pd.DataFrame(np.random.randn(10,2),index= [ 1,4,6,2,3,5,9,8,0,7],columns=['col2','col1'])\n",
    "\n",
    "print(unsorted_df)"
   ]
  },
  {
   "cell_type": "code",
   "execution_count": 3,
   "metadata": {},
   "outputs": [
    {
     "name": "stdout",
     "output_type": "stream",
     "text": [
      "       col2      col1\n",
      "0  2.326923  0.186539\n",
      "1 -0.996994 -0.617183\n",
      "2 -0.939431 -1.293106\n",
      "3  0.866318 -0.101001\n",
      "4 -2.465657 -1.015878\n",
      "5 -0.041044  0.156989\n",
      "6 -2.002176  0.957151\n",
      "7 -1.303677  2.808487\n",
      "8 -0.825886 -1.093120\n",
      "9  0.264161  1.407423\n"
     ]
    }
   ],
   "source": [
    "unsorted_df = pd.DataFrame(np.random.randn(10,2),index= [ 1,4,6,2,3,5,9,8,0,7],columns=['col2','col1'])\n",
    "\n",
    "sorted_df = unsorted_df.sort_index()\n",
    "print(sorted_df)"
   ]
  },
  {
   "cell_type": "code",
   "execution_count": 4,
   "metadata": {},
   "outputs": [
    {
     "name": "stdout",
     "output_type": "stream",
     "text": [
      "       col2      col1\n",
      "9 -0.832752  1.123334\n",
      "8  0.892004 -1.320349\n",
      "7  1.313843  0.179631\n",
      "6 -0.549725  0.220367\n",
      "5 -0.667265 -0.605307\n",
      "4 -0.630517 -0.809714\n",
      "3 -1.149120 -0.318020\n",
      "2 -0.479806 -1.874029\n",
      "1 -0.058308  1.487512\n",
      "0  0.062748  0.663432\n"
     ]
    }
   ],
   "source": [
    "unsorted_df = pd.DataFrame(np.random.randn(10,2),index= [ 1,4,6,2,3,5,9,8,0,7],columns=['col2','col1'])\n",
    "\n",
    "sorted_df = unsorted_df.sort_index(ascending = False)\n",
    "print(sorted_df)"
   ]
  },
  {
   "cell_type": "code",
   "execution_count": 5,
   "metadata": {},
   "outputs": [
    {
     "name": "stdout",
     "output_type": "stream",
     "text": [
      "       col1      col2\n",
      "1 -2.683400  0.976640\n",
      "4  0.004901 -1.003267\n",
      "6 -0.793136  0.471170\n",
      "2  0.975499  0.645108\n",
      "3  0.659697  0.256011\n",
      "5  0.049176  0.051816\n",
      "9  0.729021  0.906617\n",
      "8 -1.057403 -1.013274\n",
      "0 -0.121883  0.271826\n",
      "7  1.807509 -1.932462\n"
     ]
    }
   ],
   "source": [
    "unsorted_df = pd.DataFrame(np.random.randn(10,2),index= [ 1,4,6,2,3,5,9,8,0,7],columns=['col2','col1'])\n",
    "\n",
    "sorted_df = unsorted_df.sort_index(axis=1)\n",
    "print(sorted_df)"
   ]
  },
  {
   "cell_type": "code",
   "execution_count": null,
   "metadata": {},
   "outputs": [],
   "source": []
  }
 ],
 "metadata": {
  "kernelspec": {
   "display_name": "base",
   "language": "python",
   "name": "python3"
  },
  "language_info": {
   "codemirror_mode": {
    "name": "ipython",
    "version": 3
   },
   "file_extension": ".py",
   "mimetype": "text/x-python",
   "name": "python",
   "nbconvert_exporter": "python",
   "pygments_lexer": "ipython3",
   "version": "3.11.5"
  }
 },
 "nbformat": 4,
 "nbformat_minor": 2
}
