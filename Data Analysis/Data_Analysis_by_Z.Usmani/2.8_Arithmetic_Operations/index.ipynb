{
 "cells": [
  {
   "cell_type": "code",
   "execution_count": 1,
   "metadata": {},
   "outputs": [],
   "source": [
    "import numpy as np"
   ]
  },
  {
   "cell_type": "code",
   "execution_count": 2,
   "metadata": {},
   "outputs": [
    {
     "name": "stdout",
     "output_type": "stream",
     "text": [
      "First Array :\n",
      "[[0. 1. 2.]\n",
      " [3. 4. 5.]\n",
      " [6. 7. 8.]]\n",
      "\n",
      "\n",
      "Second Array :\n",
      "[10 10 10]\n",
      "\n",
      "\n",
      "Add two Arrays :\n",
      "[[10. 11. 12.]\n",
      " [13. 14. 15.]\n",
      " [16. 17. 18.]]\n",
      "\n",
      "\n",
      "Subtract two Arrays :\n",
      "[[-10.  -9.  -8.]\n",
      " [ -7.  -6.  -5.]\n",
      " [ -4.  -3.  -2.]]\n",
      "\n",
      "\n",
      "Multiply two Arrays :\n",
      "[[ 0. 10. 20.]\n",
      " [30. 40. 50.]\n",
      " [60. 70. 80.]]\n",
      "\n",
      "\n",
      "Divide two Arrays :\n",
      "[[0.  0.1 0.2]\n",
      " [0.3 0.4 0.5]\n",
      " [0.6 0.7 0.8]]\n"
     ]
    }
   ],
   "source": [
    "a = np.arange(9 , dtype = np.float_).reshape(3,3)\n",
    "\n",
    "print(\"First Array :\")\n",
    "print(a)\n",
    "print(\"\\n\")\n",
    "\n",
    "print(\"Second Array :\")\n",
    "b = np.array([10,10,10])\n",
    "print(b)\n",
    "print(\"\\n\")\n",
    "\n",
    "print(\"Add two Arrays :\")\n",
    "print(np.add(a,b))\n",
    "print(\"\\n\")\n",
    "\n",
    "print(\"Subtract two Arrays :\")\n",
    "print(np.subtract(a,b))\n",
    "print(\"\\n\")\n",
    "\n",
    "print(\"Multiply two Arrays :\")\n",
    "print(np.multiply(a,b))\n",
    "print(\"\\n\")\n",
    "\n",
    "print(\"Divide two Arrays :\")\n",
    "print(np.divide(a,b))\n"
   ]
  },
  {
   "cell_type": "markdown",
   "metadata": {},
   "source": [
    "### numpy.reciprocal()"
   ]
  },
  {
   "cell_type": "code",
   "execution_count": 3,
   "metadata": {},
   "outputs": [
    {
     "name": "stdout",
     "output_type": "stream",
     "text": [
      "Our array is :\n",
      "[  0.25   1.33   1.     0.   100.  ]\n",
      "\n",
      "\n",
      "After applying reciprocal function :\n",
      "[4.        0.7518797 1.              inf 0.01     ]\n",
      "\n",
      "\n",
      "Second array is :\n",
      "[100]\n",
      "\n",
      "\n",
      "After applying reciprocal function :\n",
      "[0]\n"
     ]
    },
    {
     "name": "stderr",
     "output_type": "stream",
     "text": [
      "C:\\Users\\SC\\AppData\\Local\\Temp\\ipykernel_624\\3685356960.py:8: RuntimeWarning: divide by zero encountered in reciprocal\n",
      "  print(np.reciprocal(a))\n"
     ]
    }
   ],
   "source": [
    "a = np.array([0.25 , 1.33 , 1, 0 ,100])\n",
    "\n",
    "print(\"Our array is :\")\n",
    "print(a)\n",
    "print(\"\\n\")\n",
    "\n",
    "print(\"After applying reciprocal function :\")\n",
    "print(np.reciprocal(a))\n",
    "print(\"\\n\")\n",
    "\n",
    "b = np.array([100], dtype= int)\n",
    "\n",
    "print(\"Second array is :\")\n",
    "print(b)\n",
    "print(\"\\n\")\n",
    "\n",
    "print(\"After applying reciprocal function :\")\n",
    "print(np.reciprocal(b))"
   ]
  },
  {
   "cell_type": "markdown",
   "metadata": {},
   "source": [
    "### numpy.power()"
   ]
  },
  {
   "cell_type": "code",
   "execution_count": 4,
   "metadata": {},
   "outputs": [
    {
     "name": "stdout",
     "output_type": "stream",
     "text": [
      "Our array is :\n",
      "[  10  100 1000]\n",
      "\n",
      "\n",
      "Applying power function :\n",
      "[    100   10000 1000000]\n",
      "\n",
      "\n",
      "Second array is :\n",
      "[1 2 3]\n",
      "\n",
      "\n",
      "After applying power function :\n",
      "[        10      10000 1000000000]\n"
     ]
    }
   ],
   "source": [
    "a = np.array([10,100,1000])\n",
    "\n",
    "print(\"Our array is :\")\n",
    "print(a)\n",
    "print(\"\\n\")\n",
    "\n",
    "print(\"Applying power function :\")\n",
    "print(np.power(a,2))\n",
    "print(\"\\n\")\n",
    "\n",
    "print(\"Second array is :\")\n",
    "b = np.array([1,2,3])\n",
    "print(b)\n",
    "print(\"\\n\")\n",
    "\n",
    "print(\"After applying power function :\")\n",
    "print(np.power(a,b))"
   ]
  },
  {
   "cell_type": "markdown",
   "metadata": {},
   "source": [
    "### numpy.mod()"
   ]
  },
  {
   "cell_type": "code",
   "execution_count": 5,
   "metadata": {},
   "outputs": [
    {
     "name": "stdout",
     "output_type": "stream",
     "text": [
      "First array is :\n",
      "[10 20 30]\n",
      "\n",
      "\n",
      "Second array is :\n",
      "[3 5 7]\n",
      "\n",
      "\n",
      "Applying mod() function :\n",
      "[1 0 2]\n",
      "\n",
      "\n",
      "Applying remainder() function :\n",
      "[1 0 2]\n"
     ]
    }
   ],
   "source": [
    "a = np.array([10,20,30])\n",
    "b = np.array([3,5,7])\n",
    "\n",
    "print(\"First array is :\")\n",
    "print(a)\n",
    "print(\"\\n\")\n",
    "\n",
    "print(\"Second array is :\")\n",
    "print(b)\n",
    "print(\"\\n\")\n",
    "\n",
    "print(\"Applying mod() function :\")\n",
    "print(np.mod(a,b))\n",
    "print(\"\\n\")\n",
    "\n",
    "print(\"Applying remainder() function :\")\n",
    "print(np.remainder(a,b))\n"
   ]
  },
  {
   "cell_type": "code",
   "execution_count": 6,
   "metadata": {},
   "outputs": [
    {
     "name": "stdout",
     "output_type": "stream",
     "text": [
      "Our array is :\n",
      "[-0.-5.6j  0.+0.2j 11.+0.j   1.+1.j ]\n",
      "\n",
      "\n",
      "Applying real() Function\n",
      "[-0.  0. 11.  1.]\n",
      "\n",
      "\n",
      "Applying imag() Function\n",
      "[-5.6  0.2  0.   1. ]\n",
      "\n",
      "\n",
      "Applying conj() Function\n",
      "[-0.+5.6j  0.-0.2j 11.-0.j   1.-1.j ]\n",
      "\n",
      "\n",
      "Applying angle() Function\n",
      "[-1.57079633  1.57079633  0.          0.78539816]\n",
      "\n",
      "\n",
      " A pplying angle function again (result in degrees)\n",
      "[-90.  90.   0.  45.]\n"
     ]
    }
   ],
   "source": [
    "a = np.array([-5.6j,0.2j,11.,1+1j])\n",
    "\n",
    "print(\"Our array is :\")\n",
    "print(a)\n",
    "print(\"\\n\")\n",
    "\n",
    "print(\"Applying real() Function\")\n",
    "print(np.real(a))\n",
    "print(\"\\n\")\n",
    "\n",
    "print(\"Applying imag() Function\")\n",
    "print(np.imag(a))\n",
    "print(\"\\n\")\n",
    "\n",
    "print(\"Applying conj() Function\")\n",
    "print(np.conj(a))\n",
    "print(\"\\n\")\n",
    "\n",
    "print(\"Applying angle() Function\")\n",
    "print(np.angle(a))\n",
    "print(\"\\n\")\n",
    "\n",
    "print(\" A pplying angle function again (result in degrees)\")\n",
    "print(np.angle(a, deg= True))"
   ]
  },
  {
   "cell_type": "code",
   "execution_count": null,
   "metadata": {},
   "outputs": [],
   "source": []
  }
 ],
 "metadata": {
  "kernelspec": {
   "display_name": "base",
   "language": "python",
   "name": "python3"
  },
  "language_info": {
   "codemirror_mode": {
    "name": "ipython",
    "version": 3
   },
   "file_extension": ".py",
   "mimetype": "text/x-python",
   "name": "python",
   "nbconvert_exporter": "python",
   "pygments_lexer": "ipython3",
   "version": "3.11.5"
  }
 },
 "nbformat": 4,
 "nbformat_minor": 2
}
