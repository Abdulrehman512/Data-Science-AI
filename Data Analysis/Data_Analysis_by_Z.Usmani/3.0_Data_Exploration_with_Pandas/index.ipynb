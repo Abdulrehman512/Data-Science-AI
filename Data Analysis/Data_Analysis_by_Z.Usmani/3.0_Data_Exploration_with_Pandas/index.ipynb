{
 "cells": [
  {
   "cell_type": "markdown",
   "metadata": {},
   "source": [
    "## Pandas \n",
    "\n",
    "#### Used for:\n",
    "\n",
    "* Loading Data in many Formats\n",
    "* Handle Missing data\n",
    "* Label based slicing\n",
    "* "
   ]
  },
  {
   "cell_type": "code",
   "execution_count": null,
   "metadata": {},
   "outputs": [],
   "source": []
  }
 ],
 "metadata": {
  "language_info": {
   "name": "python"
  }
 },
 "nbformat": 4,
 "nbformat_minor": 2
}
