{
 "cells": [
  {
   "cell_type": "code",
   "execution_count": 1,
   "metadata": {},
   "outputs": [],
   "source": [
    "import pandas as pd\n",
    "import numpy as np"
   ]
  },
  {
   "cell_type": "code",
   "execution_count": 2,
   "metadata": {},
   "outputs": [
    {
     "name": "stdout",
     "output_type": "stream",
     "text": [
      "0    0.017697\n",
      "1    0.796136\n",
      "2    1.235886\n",
      "3   -0.555874\n",
      "dtype: float64\n"
     ]
    }
   ],
   "source": [
    "s = pd.Series(np.random.randn(4))\n",
    "print(s)"
   ]
  },
  {
   "cell_type": "markdown",
   "metadata": {},
   "source": [
    "#### Axes"
   ]
  },
  {
   "cell_type": "code",
   "execution_count": 3,
   "metadata": {},
   "outputs": [
    {
     "name": "stdout",
     "output_type": "stream",
     "text": [
      "The axes are :\n",
      "[RangeIndex(start=0, stop=4, step=1)]\n"
     ]
    }
   ],
   "source": [
    "s = pd.Series(np.random.randn(4))\n",
    "print(\"The axes are :\")\n",
    "print(s.axes)"
   ]
  },
  {
   "cell_type": "markdown",
   "metadata": {},
   "source": [
    "#### Empty"
   ]
  },
  {
   "cell_type": "code",
   "execution_count": 4,
   "metadata": {},
   "outputs": [
    {
     "name": "stdout",
     "output_type": "stream",
     "text": [
      "Is object empty? :\n",
      "False\n"
     ]
    }
   ],
   "source": [
    "s = pd.Series(np.random.randn(4))\n",
    "print(\"Is object empty? :\")\n",
    "print(s.empty)"
   ]
  },
  {
   "cell_type": "markdown",
   "metadata": {},
   "source": [
    "#### ndim"
   ]
  },
  {
   "cell_type": "code",
   "execution_count": 5,
   "metadata": {},
   "outputs": [
    {
     "name": "stdout",
     "output_type": "stream",
     "text": [
      "0   -0.585917\n",
      "1   -0.460395\n",
      "2   -0.279382\n",
      "3   -1.131770\n",
      "dtype: float64\n",
      "The dimensions of object :\n",
      "1\n"
     ]
    }
   ],
   "source": [
    "s = pd.Series(np.random.randn(4))\n",
    "print(s)\n",
    "print(\"The dimensions of object :\")\n",
    "print(s.ndim)"
   ]
  },
  {
   "cell_type": "markdown",
   "metadata": {},
   "source": [
    "#### Size"
   ]
  },
  {
   "cell_type": "code",
   "execution_count": 6,
   "metadata": {},
   "outputs": [
    {
     "name": "stdout",
     "output_type": "stream",
     "text": [
      "0    1.520426\n",
      "1   -0.044713\n",
      "dtype: float64\n",
      "The size of object :\n",
      "2\n"
     ]
    }
   ],
   "source": [
    "s = pd.Series(np.random.randn(2))\n",
    "print(s)\n",
    "print(\"The size of object :\")\n",
    "print(s.size)"
   ]
  },
  {
   "cell_type": "markdown",
   "metadata": {},
   "source": [
    "#### Values"
   ]
  },
  {
   "cell_type": "code",
   "execution_count": 7,
   "metadata": {},
   "outputs": [
    {
     "name": "stdout",
     "output_type": "stream",
     "text": [
      "0    0.857172\n",
      "1   -1.339492\n",
      "2   -1.204603\n",
      "3   -0.529672\n",
      "dtype: float64\n",
      "The actual data series is :\n",
      "[ 0.85717225 -1.3394915  -1.20460294 -0.52967165]\n"
     ]
    }
   ],
   "source": [
    "s = pd.Series(np.random.randn(4))\n",
    "print(s)\n",
    "print(\"The actual data series is :\")\n",
    "print(s.values)"
   ]
  },
  {
   "cell_type": "markdown",
   "metadata": {},
   "source": [
    "#### Head & Tail"
   ]
  },
  {
   "cell_type": "code",
   "execution_count": 8,
   "metadata": {},
   "outputs": [
    {
     "name": "stdout",
     "output_type": "stream",
     "text": [
      "0   -1.019284\n",
      "1    1.197036\n",
      "2   -0.809668\n",
      "3    1.200201\n",
      "dtype: float64\n",
      "The first 2 rows of data series :\n",
      "0   -1.019284\n",
      "1    1.197036\n",
      "dtype: float64\n"
     ]
    }
   ],
   "source": [
    "s = pd.Series(np.random.randn(4))\n",
    "print(s)\n",
    "print(\"The first 2 rows of data series :\")\n",
    "print(s.head(2))"
   ]
  },
  {
   "cell_type": "code",
   "execution_count": 9,
   "metadata": {},
   "outputs": [
    {
     "name": "stdout",
     "output_type": "stream",
     "text": [
      "0   -0.442037\n",
      "1    0.619426\n",
      "2   -0.677675\n",
      "3   -1.070303\n",
      "dtype: float64\n",
      "The last 2 rows of data series :\n",
      "2   -0.677675\n",
      "3   -1.070303\n",
      "dtype: float64\n"
     ]
    }
   ],
   "source": [
    "s = pd.Series(np.random.randn(4))\n",
    "print(s)\n",
    "print(\"The last 2 rows of data series :\")\n",
    "print(s.tail(2))"
   ]
  },
  {
   "cell_type": "markdown",
   "metadata": {},
   "source": [
    "#### Dictionary of Series"
   ]
  },
  {
   "cell_type": "code",
   "execution_count": 10,
   "metadata": {},
   "outputs": [
    {
     "name": "stdout",
     "output_type": "stream",
     "text": [
      "    Name  Age  Rating\n",
      "0    Tom   25    4.23\n",
      "1  James   26    3.24\n",
      "2  Ricky   25    3.98\n",
      "3    Vin   23    2.56\n",
      "4  Steve   30    3.20\n",
      "5  Smith   29    4.60\n",
      "6   Jack   23    3.80\n"
     ]
    }
   ],
   "source": [
    "d = {'Name' : pd.Series(['Tom','James','Ricky','Vin','Steve','Smith','Jack']),\n",
    "     'Age' : pd.Series([25,26,25,23,30,29,23]),\n",
    "     'Rating' : pd.Series([4.23,3.24,3.98,2.56,3.20,4.6,3.8])\n",
    "     }\n",
    "\n",
    "df = pd.DataFrame(d)\n",
    "print(df)"
   ]
  },
  {
   "cell_type": "markdown",
   "metadata": {},
   "source": [
    "#### Transpose"
   ]
  },
  {
   "cell_type": "code",
   "execution_count": 11,
   "metadata": {},
   "outputs": [
    {
     "name": "stdout",
     "output_type": "stream",
     "text": [
      "The transpose is :\n",
      "           0      1      2     3      4      5     6\n",
      "Name     Tom  James  Ricky   Vin  Steve  Smith  Jack\n",
      "Age       25     26     25    23     30     29    23\n",
      "Rating  4.23   3.24   3.98  2.56    3.2    4.6   3.8\n"
     ]
    }
   ],
   "source": [
    "d = {'Name' : pd.Series(['Tom','James','Ricky','Vin','Steve','Smith','Jack']),\n",
    "     'Age' : pd.Series([25,26,25,23,30,29,23]),\n",
    "     'Rating' : pd.Series([4.23,3.24,3.98,2.56,3.20,4.6,3.8])\n",
    "     }\n",
    "\n",
    "df = pd.DataFrame(d)\n",
    "print(\"The transpose is :\")\n",
    "print(df.T)"
   ]
  },
  {
   "cell_type": "code",
   "execution_count": 12,
   "metadata": {},
   "outputs": [
    {
     "name": "stdout",
     "output_type": "stream",
     "text": [
      "[RangeIndex(start=0, stop=7, step=1), Index(['Name', 'Age', 'Rating'], dtype='object')]\n"
     ]
    }
   ],
   "source": [
    "d = {'Name' : pd.Series(['Tom','James','Ricky','Vin','Steve','Smith','Jack']),\n",
    "     'Age' : pd.Series([25,26,25,23,30,29,23]),\n",
    "     'Rating' : pd.Series([4.23,3.24,3.98,2.56,3.20,4.6,3.8])\n",
    "     }\n",
    "\n",
    "df = pd.DataFrame(d)\n",
    "print(df.axes)"
   ]
  },
  {
   "cell_type": "code",
   "execution_count": 13,
   "metadata": {},
   "outputs": [
    {
     "name": "stdout",
     "output_type": "stream",
     "text": [
      "Name       object\n",
      "Age         int64\n",
      "Rating    float64\n",
      "dtype: object\n"
     ]
    }
   ],
   "source": [
    "d = {'Name' : pd.Series(['Tom','James','Ricky','Vin','Steve','Smith','Jack']),\n",
    "     'Age' : pd.Series([25,26,25,23,30,29,23]),\n",
    "     'Rating' : pd.Series([4.23,3.24,3.98,2.56,3.20,4.6,3.8])\n",
    "     }\n",
    "\n",
    "df = pd.DataFrame(d)\n",
    "print(df.dtypes)"
   ]
  },
  {
   "cell_type": "code",
   "execution_count": 14,
   "metadata": {},
   "outputs": [
    {
     "name": "stdout",
     "output_type": "stream",
     "text": [
      "False\n"
     ]
    }
   ],
   "source": [
    "d = {'Name' : pd.Series(['Tom','James','Ricky','Vin','Steve','Smith','Jack']),\n",
    "     'Age' : pd.Series([25,26,25,23,30,29,23]),\n",
    "     'Rating' : pd.Series([4.23,3.24,3.98,2.56,3.20,4.6,3.8])\n",
    "     }\n",
    "\n",
    "df = pd.DataFrame(d)\n",
    "print(df.empty)"
   ]
  },
  {
   "cell_type": "code",
   "execution_count": 15,
   "metadata": {},
   "outputs": [
    {
     "name": "stdout",
     "output_type": "stream",
     "text": [
      "2\n"
     ]
    }
   ],
   "source": [
    "d = {'Name' : pd.Series(['Tom','James','Ricky','Vin','Steve','Smith','Jack']),\n",
    "     'Age' : pd.Series([25,26,25,23,30,29,23]),\n",
    "     'Rating' : pd.Series([4.23,3.24,3.98,2.56,3.20,4.6,3.8])\n",
    "     }\n",
    "\n",
    "df = pd.DataFrame(d)\n",
    "print(df.ndim)"
   ]
  },
  {
   "cell_type": "code",
   "execution_count": 16,
   "metadata": {},
   "outputs": [
    {
     "name": "stdout",
     "output_type": "stream",
     "text": [
      "(7, 3)\n"
     ]
    }
   ],
   "source": [
    "d = {'Name' : pd.Series(['Tom','James','Ricky','Vin','Steve','Smith','Jack']),\n",
    "     'Age' : pd.Series([25,26,25,23,30,29,23]),\n",
    "     'Rating' : pd.Series([4.23,3.24,3.98,2.56,3.20,4.6,3.8])\n",
    "     }\n",
    "\n",
    "df = pd.DataFrame(d)\n",
    "print(df.shape)"
   ]
  },
  {
   "cell_type": "code",
   "execution_count": 17,
   "metadata": {},
   "outputs": [
    {
     "name": "stdout",
     "output_type": "stream",
     "text": [
      "21\n"
     ]
    }
   ],
   "source": [
    "d = {'Name' : pd.Series(['Tom','James','Ricky','Vin','Steve','Smith','Jack']),\n",
    "     'Age' : pd.Series([25,26,25,23,30,29,23]),\n",
    "     'Rating' : pd.Series([4.23,3.24,3.98,2.56,3.20,4.6,3.8])\n",
    "     }\n",
    "\n",
    "df = pd.DataFrame(d)\n",
    "print(df.size)"
   ]
  },
  {
   "cell_type": "code",
   "execution_count": 18,
   "metadata": {},
   "outputs": [
    {
     "name": "stdout",
     "output_type": "stream",
     "text": [
      "[['Tom' 25 4.23]\n",
      " ['James' 26 3.24]\n",
      " ['Ricky' 25 3.98]\n",
      " ['Vin' 23 2.56]\n",
      " ['Steve' 30 3.2]\n",
      " ['Smith' 29 4.6]\n",
      " ['Jack' 23 3.8]]\n"
     ]
    }
   ],
   "source": [
    "d = {'Name' : pd.Series(['Tom','James','Ricky','Vin','Steve','Smith','Jack']),\n",
    "     'Age' : pd.Series([25,26,25,23,30,29,23]),\n",
    "     'Rating' : pd.Series([4.23,3.24,3.98,2.56,3.20,4.6,3.8])\n",
    "     }\n",
    "\n",
    "df = pd.DataFrame(d)\n",
    "print(df.values)"
   ]
  },
  {
   "cell_type": "code",
   "execution_count": 19,
   "metadata": {},
   "outputs": [
    {
     "name": "stdout",
     "output_type": "stream",
     "text": [
      "    Name  Age  Rating\n",
      "0    Tom   25    4.23\n",
      "1  James   26    3.24\n"
     ]
    }
   ],
   "source": [
    "d = {'Name' : pd.Series(['Tom','James','Ricky','Vin','Steve','Smith','Jack']),\n",
    "     'Age' : pd.Series([25,26,25,23,30,29,23]),\n",
    "     'Rating' : pd.Series([4.23,3.24,3.98,2.56,3.20,4.6,3.8])\n",
    "     }\n",
    "\n",
    "df = pd.DataFrame(d)\n",
    "print(df.head(2))"
   ]
  },
  {
   "cell_type": "code",
   "execution_count": 20,
   "metadata": {},
   "outputs": [
    {
     "name": "stdout",
     "output_type": "stream",
     "text": [
      "    Name  Age  Rating\n",
      "5  Smith   29     4.6\n",
      "6   Jack   23     3.8\n"
     ]
    }
   ],
   "source": [
    "d = {'Name' : pd.Series(['Tom','James','Ricky','Vin','Steve','Smith','Jack']),\n",
    "     'Age' : pd.Series([25,26,25,23,30,29,23]),\n",
    "     'Rating' : pd.Series([4.23,3.24,3.98,2.56,3.20,4.6,3.8])\n",
    "     }\n",
    "\n",
    "df = pd.DataFrame(d)\n",
    "print(df.tail(2))"
   ]
  },
  {
   "cell_type": "code",
   "execution_count": null,
   "metadata": {},
   "outputs": [],
   "source": []
  }
 ],
 "metadata": {
  "kernelspec": {
   "display_name": "base",
   "language": "python",
   "name": "python3"
  },
  "language_info": {
   "codemirror_mode": {
    "name": "ipython",
    "version": 3
   },
   "file_extension": ".py",
   "mimetype": "text/x-python",
   "name": "python",
   "nbconvert_exporter": "python",
   "pygments_lexer": "ipython3",
   "version": "3.11.5"
  }
 },
 "nbformat": 4,
 "nbformat_minor": 2
}
