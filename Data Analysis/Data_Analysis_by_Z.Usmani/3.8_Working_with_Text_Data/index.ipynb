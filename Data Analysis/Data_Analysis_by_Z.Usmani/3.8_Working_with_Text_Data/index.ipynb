{
 "cells": [
  {
   "cell_type": "code",
   "execution_count": 1,
   "metadata": {},
   "outputs": [],
   "source": [
    "import pandas as pd\n",
    "import numpy as np"
   ]
  },
  {
   "cell_type": "code",
   "execution_count": 2,
   "metadata": {},
   "outputs": [
    {
     "name": "stdout",
     "output_type": "stream",
     "text": [
      "0             Tom\n",
      "1    William Rick\n",
      "2            John\n",
      "3         Alber@t\n",
      "4             NaN\n",
      "5            1234\n",
      "6     SteveSmmith\n",
      "dtype: object\n"
     ]
    }
   ],
   "source": [
    "s = pd.Series(['Tom','William Rick','John','Alber@t',np.nan, '1234','SteveSmmith'])\n",
    "print(s)"
   ]
  },
  {
   "cell_type": "markdown",
   "metadata": {},
   "source": [
    "### lower()"
   ]
  },
  {
   "cell_type": "code",
   "execution_count": 3,
   "metadata": {},
   "outputs": [
    {
     "name": "stdout",
     "output_type": "stream",
     "text": [
      "0             tom\n",
      "1    william rick\n",
      "2            john\n",
      "3         alber@t\n",
      "4             NaN\n",
      "5            1234\n",
      "6     stevesmmith\n",
      "dtype: object\n"
     ]
    }
   ],
   "source": [
    "s = pd.Series(['Tom','William Rick','John','Alber@t',np.nan, '1234','SteveSmmith'])\n",
    "print(s.str.lower())"
   ]
  },
  {
   "cell_type": "markdown",
   "metadata": {},
   "source": [
    "### upper()"
   ]
  },
  {
   "cell_type": "code",
   "execution_count": 4,
   "metadata": {},
   "outputs": [
    {
     "name": "stdout",
     "output_type": "stream",
     "text": [
      "0             TOM\n",
      "1    WILLIAM RICK\n",
      "2            JOHN\n",
      "3         ALBER@T\n",
      "4             NaN\n",
      "5            1234\n",
      "6     STEVESMMITH\n",
      "dtype: object\n"
     ]
    }
   ],
   "source": [
    "s = pd.Series(['Tom','William Rick','John','Alber@t',np.nan, '1234','SteveSmmith'])\n",
    "print(s.str.upper())"
   ]
  },
  {
   "cell_type": "markdown",
   "metadata": {},
   "source": [
    "### len()"
   ]
  },
  {
   "cell_type": "code",
   "execution_count": 5,
   "metadata": {},
   "outputs": [
    {
     "name": "stdout",
     "output_type": "stream",
     "text": [
      "0     3.0\n",
      "1    12.0\n",
      "2     4.0\n",
      "3     7.0\n",
      "4     NaN\n",
      "5     4.0\n",
      "6    11.0\n",
      "dtype: float64\n"
     ]
    }
   ],
   "source": [
    "s = pd.Series(['Tom','William Rick','John','Alber@t',np.nan, '1234','SteveSmmith'])\n",
    "print(s.str.len())"
   ]
  },
  {
   "cell_type": "markdown",
   "metadata": {},
   "source": [
    "### strip()"
   ]
  },
  {
   "cell_type": "code",
   "execution_count": 6,
   "metadata": {},
   "outputs": [
    {
     "name": "stdout",
     "output_type": "stream",
     "text": [
      "0             Tom\n",
      "1    William Rick\n",
      "2            John\n",
      "3         Alber@t\n",
      "4             NaN\n",
      "5            1234\n",
      "6     SteveSmmith\n",
      "dtype: object\n"
     ]
    }
   ],
   "source": [
    "s = pd.Series(['Tom','William Rick','John','Alber@t',np.nan, '1234','SteveSmmith'])\n",
    "print(s.str.strip())"
   ]
  },
  {
   "cell_type": "markdown",
   "metadata": {},
   "source": [
    "### split(pattern)"
   ]
  },
  {
   "cell_type": "code",
   "execution_count": 11,
   "metadata": {},
   "outputs": [
    {
     "name": "stdout",
     "output_type": "stream",
     "text": [
      "0                               [, T, o, m, ]\n",
      "1    [, W, i, l, l, i, a, m,  , R, i, c, k, ]\n",
      "2                            [, J, o, h, n, ]\n",
      "3                   [, A, l, b, e, r, @, t, ]\n",
      "dtype: object\n"
     ]
    }
   ],
   "source": [
    "s = pd.Series(['Tom','William Rick','John','Alber@t'])\n",
    "print(s.str.split(''))"
   ]
  },
  {
   "cell_type": "markdown",
   "metadata": {},
   "source": [
    "### cat(sep=pattern)"
   ]
  },
  {
   "cell_type": "code",
   "execution_count": 13,
   "metadata": {},
   "outputs": [
    {
     "name": "stdout",
     "output_type": "stream",
     "text": [
      "Tom_William Rick_John_Alber@t\n"
     ]
    }
   ],
   "source": [
    "s = pd.Series(['Tom','William Rick','John','Alber@t'])\n",
    "print(s.str.cat(sep = '_'))"
   ]
  },
  {
   "cell_type": "markdown",
   "metadata": {},
   "source": [
    "### get_dummies()"
   ]
  },
  {
   "cell_type": "code",
   "execution_count": 14,
   "metadata": {},
   "outputs": [
    {
     "name": "stdout",
     "output_type": "stream",
     "text": [
      "   Alber@t  John  Tom  William Rick\n",
      "0        0     0    1             0\n",
      "1        0     0    0             1\n",
      "2        0     1    0             0\n",
      "3        1     0    0             0\n"
     ]
    }
   ],
   "source": [
    "s = pd.Series(['Tom','William Rick','John','Alber@t'])\n",
    "print(s.str.get_dummies())"
   ]
  },
  {
   "cell_type": "markdown",
   "metadata": {},
   "source": [
    "### contains()"
   ]
  },
  {
   "cell_type": "code",
   "execution_count": 15,
   "metadata": {},
   "outputs": [
    {
     "name": "stdout",
     "output_type": "stream",
     "text": [
      "0    True\n",
      "1    True\n",
      "2    True\n",
      "3    True\n",
      "dtype: bool\n"
     ]
    }
   ],
   "source": [
    "s = pd.Series(['Tom','William Rick','John','Alber@t'])\n",
    "print(s.str.contains(''))"
   ]
  },
  {
   "cell_type": "markdown",
   "metadata": {},
   "source": [
    "### replace(a,b)"
   ]
  },
  {
   "cell_type": "code",
   "execution_count": 16,
   "metadata": {},
   "outputs": [
    {
     "name": "stdout",
     "output_type": "stream",
     "text": [
      "0             Tom\n",
      "1    William Rick\n",
      "2            John\n",
      "3         Alber$t\n",
      "dtype: object\n"
     ]
    }
   ],
   "source": [
    "s = pd.Series(['Tom','William Rick','John','Alber@t'])\n",
    "print(s.str.replace('@','$'))"
   ]
  },
  {
   "cell_type": "markdown",
   "metadata": {},
   "source": [
    "### repeat(value)"
   ]
  },
  {
   "cell_type": "code",
   "execution_count": 17,
   "metadata": {},
   "outputs": [
    {
     "name": "stdout",
     "output_type": "stream",
     "text": [
      "0                      TomTom\n",
      "1    William RickWilliam Rick\n",
      "2                    JohnJohn\n",
      "3              Alber@tAlber@t\n",
      "dtype: object\n"
     ]
    }
   ],
   "source": [
    "s = pd.Series(['Tom','William Rick','John','Alber@t'])\n",
    "print(s.str.repeat(2))"
   ]
  },
  {
   "cell_type": "markdown",
   "metadata": {},
   "source": [
    "### count(pattern)"
   ]
  },
  {
   "cell_type": "code",
   "execution_count": 18,
   "metadata": {},
   "outputs": [
    {
     "name": "stdout",
     "output_type": "stream",
     "text": [
      "0    1\n",
      "1    1\n",
      "2    0\n",
      "3    0\n",
      "dtype: int64\n"
     ]
    }
   ],
   "source": [
    "s = pd.Series(['Tom','William Rick','John','Alber@t'])\n",
    "print(s.str.count('m'))"
   ]
  },
  {
   "cell_type": "markdown",
   "metadata": {},
   "source": [
    "### startswith(pattern)"
   ]
  },
  {
   "cell_type": "code",
   "execution_count": 19,
   "metadata": {},
   "outputs": [
    {
     "name": "stdout",
     "output_type": "stream",
     "text": [
      "0     True\n",
      "1    False\n",
      "2    False\n",
      "3    False\n",
      "dtype: bool\n"
     ]
    }
   ],
   "source": [
    "s = pd.Series(['Tom','William Rick','John','Alber@t'])\n",
    "print(s.str.startswith('T'))"
   ]
  },
  {
   "cell_type": "markdown",
   "metadata": {},
   "source": [
    "### endswith(pattern)"
   ]
  },
  {
   "cell_type": "code",
   "execution_count": 20,
   "metadata": {},
   "outputs": [
    {
     "name": "stdout",
     "output_type": "stream",
     "text": [
      "0    False\n",
      "1    False\n",
      "2    False\n",
      "3     True\n",
      "dtype: bool\n"
     ]
    }
   ],
   "source": [
    "s = pd.Series(['Tom','William Rick','John','Alber@t'])\n",
    "print(s.str.endswith('t'))"
   ]
  },
  {
   "cell_type": "markdown",
   "metadata": {},
   "source": [
    "### find(pattern)"
   ]
  },
  {
   "cell_type": "code",
   "execution_count": 21,
   "metadata": {},
   "outputs": [
    {
     "name": "stdout",
     "output_type": "stream",
     "text": [
      "0   -1\n",
      "1   -1\n",
      "2   -1\n",
      "3    3\n",
      "dtype: int64\n"
     ]
    }
   ],
   "source": [
    "s = pd.Series(['Tom','William Rick','John','Alber@t'])\n",
    "print(s.str.find('e'))"
   ]
  },
  {
   "cell_type": "markdown",
   "metadata": {},
   "source": [
    "### findall(pattern)"
   ]
  },
  {
   "cell_type": "code",
   "execution_count": 22,
   "metadata": {},
   "outputs": [
    {
     "name": "stdout",
     "output_type": "stream",
     "text": [
      "0     []\n",
      "1     []\n",
      "2     []\n",
      "3    [e]\n",
      "dtype: object\n"
     ]
    }
   ],
   "source": [
    "s = pd.Series(['Tom','William Rick','John','Alber@t'])\n",
    "print(s.str.findall('e'))"
   ]
  },
  {
   "cell_type": "markdown",
   "metadata": {},
   "source": [
    "### swapcase()"
   ]
  },
  {
   "cell_type": "code",
   "execution_count": 23,
   "metadata": {},
   "outputs": [
    {
     "name": "stdout",
     "output_type": "stream",
     "text": [
      "0             tOM\n",
      "1    wILLIAM rICK\n",
      "2            jOHN\n",
      "3         aLBER@T\n",
      "dtype: object\n"
     ]
    }
   ],
   "source": [
    "s = pd.Series(['Tom','William Rick','John','Alber@t'])\n",
    "print(s.str.swapcase())"
   ]
  },
  {
   "cell_type": "markdown",
   "metadata": {},
   "source": [
    "### islower()"
   ]
  },
  {
   "cell_type": "code",
   "execution_count": 24,
   "metadata": {},
   "outputs": [
    {
     "name": "stdout",
     "output_type": "stream",
     "text": [
      "0    False\n",
      "1    False\n",
      "2    False\n",
      "3    False\n",
      "dtype: bool\n"
     ]
    }
   ],
   "source": [
    "s = pd.Series(['Tom','William Rick','John','Alber@t'])\n",
    "print(s.str.islower())"
   ]
  },
  {
   "cell_type": "markdown",
   "metadata": {},
   "source": [
    "### isupper()"
   ]
  },
  {
   "cell_type": "code",
   "execution_count": 25,
   "metadata": {},
   "outputs": [
    {
     "name": "stdout",
     "output_type": "stream",
     "text": [
      "0    False\n",
      "1    False\n",
      "2    False\n",
      "3    False\n",
      "dtype: bool\n"
     ]
    }
   ],
   "source": [
    "s = pd.Series(['Tom','William Rick','John','Alber@t'])\n",
    "print(s.str.isupper())"
   ]
  },
  {
   "cell_type": "markdown",
   "metadata": {},
   "source": [
    "### isnumeric()"
   ]
  },
  {
   "cell_type": "code",
   "execution_count": 26,
   "metadata": {},
   "outputs": [
    {
     "name": "stdout",
     "output_type": "stream",
     "text": [
      "0    False\n",
      "1    False\n",
      "2    False\n",
      "3    False\n",
      "dtype: bool\n"
     ]
    }
   ],
   "source": [
    "s = pd.Series(['Tom','William Rick','John','Alber@t'])\n",
    "print(s.str.isnumeric())"
   ]
  },
  {
   "cell_type": "code",
   "execution_count": null,
   "metadata": {},
   "outputs": [],
   "source": []
  }
 ],
 "metadata": {
  "kernelspec": {
   "display_name": "base",
   "language": "python",
   "name": "python3"
  },
  "language_info": {
   "codemirror_mode": {
    "name": "ipython",
    "version": 3
   },
   "file_extension": ".py",
   "mimetype": "text/x-python",
   "name": "python",
   "nbconvert_exporter": "python",
   "pygments_lexer": "ipython3",
   "version": "3.11.5"
  }
 },
 "nbformat": 4,
 "nbformat_minor": 2
}
