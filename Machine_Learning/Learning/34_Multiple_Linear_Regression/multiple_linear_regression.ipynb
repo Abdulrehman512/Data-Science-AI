{
 "cells": [
  {
   "cell_type": "code",
   "execution_count": 1,
   "metadata": {},
   "outputs": [],
   "source": [
    "from sklearn.datasets import make_regression\n",
    "import pandas as pd\n",
    "import numpy as np\n",
    "\n",
    "import plotly.express as px\n",
    "import plotly.graph_objects as go\n",
    "\n",
    "from sklearn.metrics import mean_absolute_error,mean_squared_error,r2_score"
   ]
  },
  {
   "cell_type": "code",
   "execution_count": 2,
   "metadata": {},
   "outputs": [],
   "source": [
    "X,y = make_regression(n_samples=100, n_features=2, n_informative=2, n_targets=1, noise=50)"
   ]
  },
  {
   "cell_type": "code",
   "execution_count": 3,
   "metadata": {},
   "outputs": [],
   "source": [
    "df = pd.DataFrame({'feature1':X[:,0],'feature2':X[:,1],'target':y})"
   ]
  },
  {
   "cell_type": "code",
   "execution_count": 4,
   "metadata": {},
   "outputs": [
    {
     "data": {
      "text/plain": [
       "(100, 3)"
      ]
     },
     "execution_count": 4,
     "metadata": {},
     "output_type": "execute_result"
    }
   ],
   "source": [
    "\n",
    "df.shape"
   ]
  },
  {
   "cell_type": "code",
   "execution_count": 5,
   "metadata": {},
   "outputs": [
    {
     "data": {
      "text/html": [
       "<div>\n",
       "<style scoped>\n",
       "    .dataframe tbody tr th:only-of-type {\n",
       "        vertical-align: middle;\n",
       "    }\n",
       "\n",
       "    .dataframe tbody tr th {\n",
       "        vertical-align: top;\n",
       "    }\n",
       "\n",
       "    .dataframe thead th {\n",
       "        text-align: right;\n",
       "    }\n",
       "</style>\n",
       "<table border=\"1\" class=\"dataframe\">\n",
       "  <thead>\n",
       "    <tr style=\"text-align: right;\">\n",
       "      <th></th>\n",
       "      <th>feature1</th>\n",
       "      <th>feature2</th>\n",
       "      <th>target</th>\n",
       "    </tr>\n",
       "  </thead>\n",
       "  <tbody>\n",
       "    <tr>\n",
       "      <th>0</th>\n",
       "      <td>-0.168249</td>\n",
       "      <td>-1.069531</td>\n",
       "      <td>-36.917911</td>\n",
       "    </tr>\n",
       "    <tr>\n",
       "      <th>1</th>\n",
       "      <td>0.473622</td>\n",
       "      <td>1.141658</td>\n",
       "      <td>121.221351</td>\n",
       "    </tr>\n",
       "    <tr>\n",
       "      <th>2</th>\n",
       "      <td>-1.653885</td>\n",
       "      <td>-0.505674</td>\n",
       "      <td>-104.090690</td>\n",
       "    </tr>\n",
       "    <tr>\n",
       "      <th>3</th>\n",
       "      <td>1.872452</td>\n",
       "      <td>0.671442</td>\n",
       "      <td>100.597700</td>\n",
       "    </tr>\n",
       "    <tr>\n",
       "      <th>4</th>\n",
       "      <td>-1.392469</td>\n",
       "      <td>1.116780</td>\n",
       "      <td>44.452883</td>\n",
       "    </tr>\n",
       "  </tbody>\n",
       "</table>\n",
       "</div>"
      ],
      "text/plain": [
       "   feature1  feature2      target\n",
       "0 -0.168249 -1.069531  -36.917911\n",
       "1  0.473622  1.141658  121.221351\n",
       "2 -1.653885 -0.505674 -104.090690\n",
       "3  1.872452  0.671442  100.597700\n",
       "4 -1.392469  1.116780   44.452883"
      ]
     },
     "execution_count": 5,
     "metadata": {},
     "output_type": "execute_result"
    }
   ],
   "source": [
    "df.head()"
   ]
  },
  {
   "cell_type": "code",
   "execution_count": 6,
   "metadata": {},
   "outputs": [
    {
     "data": {
      "application/vnd.plotly.v1+json": {
       "config": {
        "plotlyServerURL": "https://plot.ly"
       },
       "data": [
        {
         "hovertemplate": "feature1=%{x}<br>feature2=%{y}<br>target=%{z}<extra></extra>",
         "legendgroup": "",
         "marker": {
          "color": "#636efa",
          "symbol": "circle"
         },
         "mode": "markers",
         "name": "",
         "scene": "scene",
         "showlegend": false,
         "type": "scatter3d",
         "x": [
          -0.16824945573468733,
          0.4736222192725725,
          -1.6538849452677404,
          1.8724515582042818,
          -1.3924694810383207,
          -0.4361678209592173,
          -0.35996543252525287,
          -0.7959496533397848,
          -1.5695460540222566,
          0.6162558536110244,
          0.8025874605780865,
          -0.6744306104543246,
          1.3616831181742384,
          -1.0594725433743508,
          -1.2336826102971752,
          0.532714046442076,
          -0.21980642854727203,
          -0.18081531497879744,
          -0.5409365887756853,
          0.9190807608229858,
          0.7394711542073382,
          -2.511746798893089,
          0.04012495454083856,
          -0.3392828834772401,
          0.6999551767919141,
          -0.3293403294691153,
          -1.8699039240522675,
          1.9774555015136683,
          1.6570638945362506,
          -1.0071170210669695,
          1.231385720671582,
          -1.0734805036470547,
          1.4422380861126511,
          0.3134835645859672,
          0.5836554274233866,
          -0.2589496463573028,
          0.2471623149402264,
          0.8445499351676208,
          0.402239202024974,
          0.28827765600597577,
          -1.1105157046293679,
          -0.6554750702993205,
          1.4455537598658348,
          0.031071435299971494,
          0.4498040044133032,
          1.7057394459420616,
          -1.0079737986751762,
          0.3695958797950818,
          -0.9164414606412876,
          -1.3968801196056784,
          -1.6241526616918642,
          -0.35878624727676683,
          0.4403759825144381,
          0.49252268357651974,
          -0.9242714259168678,
          0.1729859362346302,
          -0.9003103988838599,
          -0.6117316820223228,
          0.6782213857377327,
          -0.8171109648665957,
          0.2074320707088551,
          0.995221433912832,
          -0.2935334971303922,
          -1.0338577750898108,
          -0.38382305665408906,
          0.4598140317532695,
          -0.8225297144280967,
          -1.0689543769765542,
          1.270977098716324,
          0.15527264603379212,
          0.1842663028728836,
          2.069461335651879,
          0.8569847168065601,
          -1.1416709598055497,
          0.4248619657012055,
          1.3180861313525887,
          0.008617733596121698,
          1.4395589163106755,
          0.4533425405406151,
          -0.335111276614974,
          1.0459599854988542,
          -0.5364153806847982,
          0.3046946521105054,
          0.6544643794045665,
          0.11763782192977577,
          -1.0851675095106461,
          -2.8380943492982413,
          -0.666203436364451,
          0.44244846682046396,
          -1.4139815640158462,
          -1.0708199817956636,
          2.1403070684408836,
          0.14325965617668487,
          1.0790285368662034,
          0.2280876054626324,
          -0.5766614476612542,
          -0.3003190545245839,
          -0.44166920213637084,
          0.12393908279290519,
          0.18120392937932106
         ],
         "y": [
          -1.0695311667273264,
          1.1416580794628701,
          -0.5056740918818122,
          0.6714415480185358,
          1.1167802770265902,
          -0.9923648408631915,
          1.176298938151042,
          -1.5802347692024328,
          0.6274109261474956,
          -0.0668571141143524,
          0.5928025080563258,
          0.8129462544161213,
          0.24054090629841693,
          -0.5120123505384592,
          0.8147994243807024,
          -0.14366169257293973,
          0.4955377983352469,
          1.0533053095743437,
          0.5242142310878227,
          -0.07533378378310812,
          -1.890161170324495,
          0.7803473387049887,
          -0.25231784102664606,
          -0.8537863092237946,
          -0.7862381223397552,
          0.9051521114615765,
          -0.6954677050086159,
          -1.0763827044473142,
          1.5085062534142901,
          0.08685682041224102,
          -0.4773189113387716,
          0.440236747551558,
          -0.7876068013862406,
          0.2356554517690665,
          1.1734802364677592,
          -0.053625781656501,
          -3.045944197189862,
          0.6227483938648917,
          0.17703484382163542,
          0.21061689750236476,
          -1.156637117802184,
          1.5244291700913057,
          -0.2379489947472074,
          0.7561901935275739,
          0.030268519000467998,
          -1.186779334566838,
          1.1865483954198595,
          -0.13535152759163757,
          -2.246445683280979,
          -0.014562293180044344,
          1.1979082384485467,
          0.36248538937504066,
          -0.13577479717724603,
          -0.7836404073697495,
          -0.7667590004084812,
          -0.23921973405344377,
          0.611457346376822,
          1.5510132269088632,
          0.7828169232019251,
          0.44270566278446266,
          -0.2523250365592592,
          0.29590049855113915,
          0.33281409074380797,
          1.5629191128601012,
          0.0984590836124822,
          -1.972608418291033,
          1.6565139199368204,
          1.8861559638269338,
          -1.3810400645720453,
          0.4049652877885386,
          0.3724588307720836,
          -0.8494785263999661,
          -0.8045225887605031,
          -0.1287564235351491,
          -0.7308551555153648,
          0.011081586752928153,
          -1.491343070667762,
          0.30016479914305855,
          2.3196137396533656,
          -1.8914379366589587,
          -0.031179283491755763,
          0.3825505456490637,
          0.4047758118388144,
          -0.841433787538166,
          1.2251383841607435,
          -0.008279751252434398,
          0.48290575357952903,
          1.4581922507948275,
          2.519308786433578,
          0.5783692467654602,
          0.44750688743448236,
          0.5858890784527035,
          -0.15790272037832703,
          0.10567884845233592,
          -1.0888777838768902,
          -1.227825973657868,
          -0.8484992084414837,
          -0.05530233756065247,
          0.2099297479237456,
          -0.11537912466980163
         ],
         "z": [
          -36.91791088791053,
          121.22135147794283,
          -104.09069014400251,
          100.59770009886377,
          44.45288329084884,
          -93.79262197516485,
          88.72788349496345,
          -107.0279537253148,
          22.548230027935844,
          35.50765812671769,
          58.943364145277464,
          23.7284552444137,
          47.75464435156145,
          -35.979081697342245,
          -25.512012351143532,
          0.500971171451932,
          -40.657768176079585,
          72.30539505366752,
          -73.7462938332104,
          -46.13288247167452,
          -185.55324923122726,
          -19.105596595513816,
          -60.96942260618013,
          -66.94974857195493,
          44.2411564621689,
          79.50913453441498,
          -106.18045888030349,
          -71.06440077784808,
          150.9745409787543,
          29.886549464784757,
          45.09245133398318,
          -25.76014973107623,
          -90.4185022204956,
          9.429481906674708,
          67.59079613371684,
          -40.01591982644527,
          -177.1399048517395,
          36.88629245508254,
          27.916032886641304,
          8.574434799166587,
          -100.8552591649855,
          117.45940350537886,
          -38.94425967615882,
          25.38469628096669,
          124.3437661312687,
          -47.454336389333136,
          107.25746742847767,
          34.0524362846192,
          -156.47865585076377,
          -122.11087211164764,
          101.55306276229854,
          47.619530850501036,
          30.933472507751596,
          -65.82336633777416,
          -55.055726063991074,
          50.791120023263545,
          38.08735766205709,
          -28.3359310152386,
          23.38842382907302,
          9.03577230901356,
          -84.17523932806641,
          -55.854395633003136,
          75.3408267062276,
          54.38222244918934,
          10.015396290803814,
          -174.63746272991796,
          97.28171485949332,
          128.10695508481598,
          -85.01920421851075,
          25.710169303130318,
          59.31486840392803,
          -7.476057327947572,
          -72.46296362929337,
          -89.10760762620097,
          41.939039034898755,
          64.39980233866203,
          -93.85662232177255,
          -36.480966977144305,
          27.31449821710524,
          -163.78775699402516,
          -31.831956517970482,
          -81.31403390662382,
          43.003704956878856,
          -95.69278346989947,
          79.78767550954457,
          -80.58786423211507,
          -52.501867079005265,
          14.397999153943388,
          206.99685920606476,
          165.29534869934201,
          5.675834433539737,
          98.6382108419752,
          -55.57307899979577,
          38.691177968088006,
          -95.27992887501418,
          -88.54337733018188,
          -41.0501308293631,
          23.46766571535536,
          -61.104222898845485,
          23.312111772377477
         ]
        }
       ],
       "layout": {
        "legend": {
         "tracegroupgap": 0
        },
        "margin": {
         "t": 60
        },
        "scene": {
         "domain": {
          "x": [
           0,
           1
          ],
          "y": [
           0,
           1
          ]
         },
         "xaxis": {
          "title": {
           "text": "feature1"
          }
         },
         "yaxis": {
          "title": {
           "text": "feature2"
          }
         },
         "zaxis": {
          "title": {
           "text": "target"
          }
         }
        },
        "template": {
         "data": {
          "bar": [
           {
            "error_x": {
             "color": "#2a3f5f"
            },
            "error_y": {
             "color": "#2a3f5f"
            },
            "marker": {
             "line": {
              "color": "#E5ECF6",
              "width": 0.5
             },
             "pattern": {
              "fillmode": "overlay",
              "size": 10,
              "solidity": 0.2
             }
            },
            "type": "bar"
           }
          ],
          "barpolar": [
           {
            "marker": {
             "line": {
              "color": "#E5ECF6",
              "width": 0.5
             },
             "pattern": {
              "fillmode": "overlay",
              "size": 10,
              "solidity": 0.2
             }
            },
            "type": "barpolar"
           }
          ],
          "carpet": [
           {
            "aaxis": {
             "endlinecolor": "#2a3f5f",
             "gridcolor": "white",
             "linecolor": "white",
             "minorgridcolor": "white",
             "startlinecolor": "#2a3f5f"
            },
            "baxis": {
             "endlinecolor": "#2a3f5f",
             "gridcolor": "white",
             "linecolor": "white",
             "minorgridcolor": "white",
             "startlinecolor": "#2a3f5f"
            },
            "type": "carpet"
           }
          ],
          "choropleth": [
           {
            "colorbar": {
             "outlinewidth": 0,
             "ticks": ""
            },
            "type": "choropleth"
           }
          ],
          "contour": [
           {
            "colorbar": {
             "outlinewidth": 0,
             "ticks": ""
            },
            "colorscale": [
             [
              0,
              "#0d0887"
             ],
             [
              0.1111111111111111,
              "#46039f"
             ],
             [
              0.2222222222222222,
              "#7201a8"
             ],
             [
              0.3333333333333333,
              "#9c179e"
             ],
             [
              0.4444444444444444,
              "#bd3786"
             ],
             [
              0.5555555555555556,
              "#d8576b"
             ],
             [
              0.6666666666666666,
              "#ed7953"
             ],
             [
              0.7777777777777778,
              "#fb9f3a"
             ],
             [
              0.8888888888888888,
              "#fdca26"
             ],
             [
              1,
              "#f0f921"
             ]
            ],
            "type": "contour"
           }
          ],
          "contourcarpet": [
           {
            "colorbar": {
             "outlinewidth": 0,
             "ticks": ""
            },
            "type": "contourcarpet"
           }
          ],
          "heatmap": [
           {
            "colorbar": {
             "outlinewidth": 0,
             "ticks": ""
            },
            "colorscale": [
             [
              0,
              "#0d0887"
             ],
             [
              0.1111111111111111,
              "#46039f"
             ],
             [
              0.2222222222222222,
              "#7201a8"
             ],
             [
              0.3333333333333333,
              "#9c179e"
             ],
             [
              0.4444444444444444,
              "#bd3786"
             ],
             [
              0.5555555555555556,
              "#d8576b"
             ],
             [
              0.6666666666666666,
              "#ed7953"
             ],
             [
              0.7777777777777778,
              "#fb9f3a"
             ],
             [
              0.8888888888888888,
              "#fdca26"
             ],
             [
              1,
              "#f0f921"
             ]
            ],
            "type": "heatmap"
           }
          ],
          "heatmapgl": [
           {
            "colorbar": {
             "outlinewidth": 0,
             "ticks": ""
            },
            "colorscale": [
             [
              0,
              "#0d0887"
             ],
             [
              0.1111111111111111,
              "#46039f"
             ],
             [
              0.2222222222222222,
              "#7201a8"
             ],
             [
              0.3333333333333333,
              "#9c179e"
             ],
             [
              0.4444444444444444,
              "#bd3786"
             ],
             [
              0.5555555555555556,
              "#d8576b"
             ],
             [
              0.6666666666666666,
              "#ed7953"
             ],
             [
              0.7777777777777778,
              "#fb9f3a"
             ],
             [
              0.8888888888888888,
              "#fdca26"
             ],
             [
              1,
              "#f0f921"
             ]
            ],
            "type": "heatmapgl"
           }
          ],
          "histogram": [
           {
            "marker": {
             "pattern": {
              "fillmode": "overlay",
              "size": 10,
              "solidity": 0.2
             }
            },
            "type": "histogram"
           }
          ],
          "histogram2d": [
           {
            "colorbar": {
             "outlinewidth": 0,
             "ticks": ""
            },
            "colorscale": [
             [
              0,
              "#0d0887"
             ],
             [
              0.1111111111111111,
              "#46039f"
             ],
             [
              0.2222222222222222,
              "#7201a8"
             ],
             [
              0.3333333333333333,
              "#9c179e"
             ],
             [
              0.4444444444444444,
              "#bd3786"
             ],
             [
              0.5555555555555556,
              "#d8576b"
             ],
             [
              0.6666666666666666,
              "#ed7953"
             ],
             [
              0.7777777777777778,
              "#fb9f3a"
             ],
             [
              0.8888888888888888,
              "#fdca26"
             ],
             [
              1,
              "#f0f921"
             ]
            ],
            "type": "histogram2d"
           }
          ],
          "histogram2dcontour": [
           {
            "colorbar": {
             "outlinewidth": 0,
             "ticks": ""
            },
            "colorscale": [
             [
              0,
              "#0d0887"
             ],
             [
              0.1111111111111111,
              "#46039f"
             ],
             [
              0.2222222222222222,
              "#7201a8"
             ],
             [
              0.3333333333333333,
              "#9c179e"
             ],
             [
              0.4444444444444444,
              "#bd3786"
             ],
             [
              0.5555555555555556,
              "#d8576b"
             ],
             [
              0.6666666666666666,
              "#ed7953"
             ],
             [
              0.7777777777777778,
              "#fb9f3a"
             ],
             [
              0.8888888888888888,
              "#fdca26"
             ],
             [
              1,
              "#f0f921"
             ]
            ],
            "type": "histogram2dcontour"
           }
          ],
          "mesh3d": [
           {
            "colorbar": {
             "outlinewidth": 0,
             "ticks": ""
            },
            "type": "mesh3d"
           }
          ],
          "parcoords": [
           {
            "line": {
             "colorbar": {
              "outlinewidth": 0,
              "ticks": ""
             }
            },
            "type": "parcoords"
           }
          ],
          "pie": [
           {
            "automargin": true,
            "type": "pie"
           }
          ],
          "scatter": [
           {
            "fillpattern": {
             "fillmode": "overlay",
             "size": 10,
             "solidity": 0.2
            },
            "type": "scatter"
           }
          ],
          "scatter3d": [
           {
            "line": {
             "colorbar": {
              "outlinewidth": 0,
              "ticks": ""
             }
            },
            "marker": {
             "colorbar": {
              "outlinewidth": 0,
              "ticks": ""
             }
            },
            "type": "scatter3d"
           }
          ],
          "scattercarpet": [
           {
            "marker": {
             "colorbar": {
              "outlinewidth": 0,
              "ticks": ""
             }
            },
            "type": "scattercarpet"
           }
          ],
          "scattergeo": [
           {
            "marker": {
             "colorbar": {
              "outlinewidth": 0,
              "ticks": ""
             }
            },
            "type": "scattergeo"
           }
          ],
          "scattergl": [
           {
            "marker": {
             "colorbar": {
              "outlinewidth": 0,
              "ticks": ""
             }
            },
            "type": "scattergl"
           }
          ],
          "scattermapbox": [
           {
            "marker": {
             "colorbar": {
              "outlinewidth": 0,
              "ticks": ""
             }
            },
            "type": "scattermapbox"
           }
          ],
          "scatterpolar": [
           {
            "marker": {
             "colorbar": {
              "outlinewidth": 0,
              "ticks": ""
             }
            },
            "type": "scatterpolar"
           }
          ],
          "scatterpolargl": [
           {
            "marker": {
             "colorbar": {
              "outlinewidth": 0,
              "ticks": ""
             }
            },
            "type": "scatterpolargl"
           }
          ],
          "scatterternary": [
           {
            "marker": {
             "colorbar": {
              "outlinewidth": 0,
              "ticks": ""
             }
            },
            "type": "scatterternary"
           }
          ],
          "surface": [
           {
            "colorbar": {
             "outlinewidth": 0,
             "ticks": ""
            },
            "colorscale": [
             [
              0,
              "#0d0887"
             ],
             [
              0.1111111111111111,
              "#46039f"
             ],
             [
              0.2222222222222222,
              "#7201a8"
             ],
             [
              0.3333333333333333,
              "#9c179e"
             ],
             [
              0.4444444444444444,
              "#bd3786"
             ],
             [
              0.5555555555555556,
              "#d8576b"
             ],
             [
              0.6666666666666666,
              "#ed7953"
             ],
             [
              0.7777777777777778,
              "#fb9f3a"
             ],
             [
              0.8888888888888888,
              "#fdca26"
             ],
             [
              1,
              "#f0f921"
             ]
            ],
            "type": "surface"
           }
          ],
          "table": [
           {
            "cells": {
             "fill": {
              "color": "#EBF0F8"
             },
             "line": {
              "color": "white"
             }
            },
            "header": {
             "fill": {
              "color": "#C8D4E3"
             },
             "line": {
              "color": "white"
             }
            },
            "type": "table"
           }
          ]
         },
         "layout": {
          "annotationdefaults": {
           "arrowcolor": "#2a3f5f",
           "arrowhead": 0,
           "arrowwidth": 1
          },
          "autotypenumbers": "strict",
          "coloraxis": {
           "colorbar": {
            "outlinewidth": 0,
            "ticks": ""
           }
          },
          "colorscale": {
           "diverging": [
            [
             0,
             "#8e0152"
            ],
            [
             0.1,
             "#c51b7d"
            ],
            [
             0.2,
             "#de77ae"
            ],
            [
             0.3,
             "#f1b6da"
            ],
            [
             0.4,
             "#fde0ef"
            ],
            [
             0.5,
             "#f7f7f7"
            ],
            [
             0.6,
             "#e6f5d0"
            ],
            [
             0.7,
             "#b8e186"
            ],
            [
             0.8,
             "#7fbc41"
            ],
            [
             0.9,
             "#4d9221"
            ],
            [
             1,
             "#276419"
            ]
           ],
           "sequential": [
            [
             0,
             "#0d0887"
            ],
            [
             0.1111111111111111,
             "#46039f"
            ],
            [
             0.2222222222222222,
             "#7201a8"
            ],
            [
             0.3333333333333333,
             "#9c179e"
            ],
            [
             0.4444444444444444,
             "#bd3786"
            ],
            [
             0.5555555555555556,
             "#d8576b"
            ],
            [
             0.6666666666666666,
             "#ed7953"
            ],
            [
             0.7777777777777778,
             "#fb9f3a"
            ],
            [
             0.8888888888888888,
             "#fdca26"
            ],
            [
             1,
             "#f0f921"
            ]
           ],
           "sequentialminus": [
            [
             0,
             "#0d0887"
            ],
            [
             0.1111111111111111,
             "#46039f"
            ],
            [
             0.2222222222222222,
             "#7201a8"
            ],
            [
             0.3333333333333333,
             "#9c179e"
            ],
            [
             0.4444444444444444,
             "#bd3786"
            ],
            [
             0.5555555555555556,
             "#d8576b"
            ],
            [
             0.6666666666666666,
             "#ed7953"
            ],
            [
             0.7777777777777778,
             "#fb9f3a"
            ],
            [
             0.8888888888888888,
             "#fdca26"
            ],
            [
             1,
             "#f0f921"
            ]
           ]
          },
          "colorway": [
           "#636efa",
           "#EF553B",
           "#00cc96",
           "#ab63fa",
           "#FFA15A",
           "#19d3f3",
           "#FF6692",
           "#B6E880",
           "#FF97FF",
           "#FECB52"
          ],
          "font": {
           "color": "#2a3f5f"
          },
          "geo": {
           "bgcolor": "white",
           "lakecolor": "white",
           "landcolor": "#E5ECF6",
           "showlakes": true,
           "showland": true,
           "subunitcolor": "white"
          },
          "hoverlabel": {
           "align": "left"
          },
          "hovermode": "closest",
          "mapbox": {
           "style": "light"
          },
          "paper_bgcolor": "white",
          "plot_bgcolor": "#E5ECF6",
          "polar": {
           "angularaxis": {
            "gridcolor": "white",
            "linecolor": "white",
            "ticks": ""
           },
           "bgcolor": "#E5ECF6",
           "radialaxis": {
            "gridcolor": "white",
            "linecolor": "white",
            "ticks": ""
           }
          },
          "scene": {
           "xaxis": {
            "backgroundcolor": "#E5ECF6",
            "gridcolor": "white",
            "gridwidth": 2,
            "linecolor": "white",
            "showbackground": true,
            "ticks": "",
            "zerolinecolor": "white"
           },
           "yaxis": {
            "backgroundcolor": "#E5ECF6",
            "gridcolor": "white",
            "gridwidth": 2,
            "linecolor": "white",
            "showbackground": true,
            "ticks": "",
            "zerolinecolor": "white"
           },
           "zaxis": {
            "backgroundcolor": "#E5ECF6",
            "gridcolor": "white",
            "gridwidth": 2,
            "linecolor": "white",
            "showbackground": true,
            "ticks": "",
            "zerolinecolor": "white"
           }
          },
          "shapedefaults": {
           "line": {
            "color": "#2a3f5f"
           }
          },
          "ternary": {
           "aaxis": {
            "gridcolor": "white",
            "linecolor": "white",
            "ticks": ""
           },
           "baxis": {
            "gridcolor": "white",
            "linecolor": "white",
            "ticks": ""
           },
           "bgcolor": "#E5ECF6",
           "caxis": {
            "gridcolor": "white",
            "linecolor": "white",
            "ticks": ""
           }
          },
          "title": {
           "x": 0.05
          },
          "xaxis": {
           "automargin": true,
           "gridcolor": "white",
           "linecolor": "white",
           "ticks": "",
           "title": {
            "standoff": 15
           },
           "zerolinecolor": "white",
           "zerolinewidth": 2
          },
          "yaxis": {
           "automargin": true,
           "gridcolor": "white",
           "linecolor": "white",
           "ticks": "",
           "title": {
            "standoff": 15
           },
           "zerolinecolor": "white",
           "zerolinewidth": 2
          }
         }
        }
       }
      }
     },
     "metadata": {},
     "output_type": "display_data"
    }
   ],
   "source": [
    "fig = px.scatter_3d(df, x='feature1', y='feature2', z='target')\n",
    "\n",
    "fig.show()"
   ]
  },
  {
   "cell_type": "code",
   "execution_count": 7,
   "metadata": {},
   "outputs": [],
   "source": [
    "from sklearn.model_selection import train_test_split\n",
    "X_train,X_test,y_train,y_test = train_test_split(X,y,test_size=0.2,random_state=3)"
   ]
  },
  {
   "cell_type": "code",
   "execution_count": 8,
   "metadata": {},
   "outputs": [],
   "source": [
    "from sklearn.linear_model import LinearRegression"
   ]
  },
  {
   "cell_type": "code",
   "execution_count": 9,
   "metadata": {},
   "outputs": [],
   "source": [
    "lr = LinearRegression()"
   ]
  },
  {
   "cell_type": "code",
   "execution_count": 10,
   "metadata": {},
   "outputs": [
    {
     "data": {
      "text/html": [
       "<style>#sk-container-id-1 {color: black;}#sk-container-id-1 pre{padding: 0;}#sk-container-id-1 div.sk-toggleable {background-color: white;}#sk-container-id-1 label.sk-toggleable__label {cursor: pointer;display: block;width: 100%;margin-bottom: 0;padding: 0.3em;box-sizing: border-box;text-align: center;}#sk-container-id-1 label.sk-toggleable__label-arrow:before {content: \"▸\";float: left;margin-right: 0.25em;color: #696969;}#sk-container-id-1 label.sk-toggleable__label-arrow:hover:before {color: black;}#sk-container-id-1 div.sk-estimator:hover label.sk-toggleable__label-arrow:before {color: black;}#sk-container-id-1 div.sk-toggleable__content {max-height: 0;max-width: 0;overflow: hidden;text-align: left;background-color: #f0f8ff;}#sk-container-id-1 div.sk-toggleable__content pre {margin: 0.2em;color: black;border-radius: 0.25em;background-color: #f0f8ff;}#sk-container-id-1 input.sk-toggleable__control:checked~div.sk-toggleable__content {max-height: 200px;max-width: 100%;overflow: auto;}#sk-container-id-1 input.sk-toggleable__control:checked~label.sk-toggleable__label-arrow:before {content: \"▾\";}#sk-container-id-1 div.sk-estimator input.sk-toggleable__control:checked~label.sk-toggleable__label {background-color: #d4ebff;}#sk-container-id-1 div.sk-label input.sk-toggleable__control:checked~label.sk-toggleable__label {background-color: #d4ebff;}#sk-container-id-1 input.sk-hidden--visually {border: 0;clip: rect(1px 1px 1px 1px);clip: rect(1px, 1px, 1px, 1px);height: 1px;margin: -1px;overflow: hidden;padding: 0;position: absolute;width: 1px;}#sk-container-id-1 div.sk-estimator {font-family: monospace;background-color: #f0f8ff;border: 1px dotted black;border-radius: 0.25em;box-sizing: border-box;margin-bottom: 0.5em;}#sk-container-id-1 div.sk-estimator:hover {background-color: #d4ebff;}#sk-container-id-1 div.sk-parallel-item::after {content: \"\";width: 100%;border-bottom: 1px solid gray;flex-grow: 1;}#sk-container-id-1 div.sk-label:hover label.sk-toggleable__label {background-color: #d4ebff;}#sk-container-id-1 div.sk-serial::before {content: \"\";position: absolute;border-left: 1px solid gray;box-sizing: border-box;top: 0;bottom: 0;left: 50%;z-index: 0;}#sk-container-id-1 div.sk-serial {display: flex;flex-direction: column;align-items: center;background-color: white;padding-right: 0.2em;padding-left: 0.2em;position: relative;}#sk-container-id-1 div.sk-item {position: relative;z-index: 1;}#sk-container-id-1 div.sk-parallel {display: flex;align-items: stretch;justify-content: center;background-color: white;position: relative;}#sk-container-id-1 div.sk-item::before, #sk-container-id-1 div.sk-parallel-item::before {content: \"\";position: absolute;border-left: 1px solid gray;box-sizing: border-box;top: 0;bottom: 0;left: 50%;z-index: -1;}#sk-container-id-1 div.sk-parallel-item {display: flex;flex-direction: column;z-index: 1;position: relative;background-color: white;}#sk-container-id-1 div.sk-parallel-item:first-child::after {align-self: flex-end;width: 50%;}#sk-container-id-1 div.sk-parallel-item:last-child::after {align-self: flex-start;width: 50%;}#sk-container-id-1 div.sk-parallel-item:only-child::after {width: 0;}#sk-container-id-1 div.sk-dashed-wrapped {border: 1px dashed gray;margin: 0 0.4em 0.5em 0.4em;box-sizing: border-box;padding-bottom: 0.4em;background-color: white;}#sk-container-id-1 div.sk-label label {font-family: monospace;font-weight: bold;display: inline-block;line-height: 1.2em;}#sk-container-id-1 div.sk-label-container {text-align: center;}#sk-container-id-1 div.sk-container {/* jupyter's `normalize.less` sets `[hidden] { display: none; }` but bootstrap.min.css set `[hidden] { display: none !important; }` so we also need the `!important` here to be able to override the default hidden behavior on the sphinx rendered scikit-learn.org. See: https://github.com/scikit-learn/scikit-learn/issues/21755 */display: inline-block !important;position: relative;}#sk-container-id-1 div.sk-text-repr-fallback {display: none;}</style><div id=\"sk-container-id-1\" class=\"sk-top-container\"><div class=\"sk-text-repr-fallback\"><pre>LinearRegression()</pre><b>In a Jupyter environment, please rerun this cell to show the HTML representation or trust the notebook. <br />On GitHub, the HTML representation is unable to render, please try loading this page with nbviewer.org.</b></div><div class=\"sk-container\" hidden><div class=\"sk-item\"><div class=\"sk-estimator sk-toggleable\"><input class=\"sk-toggleable__control sk-hidden--visually\" id=\"sk-estimator-id-1\" type=\"checkbox\" checked><label for=\"sk-estimator-id-1\" class=\"sk-toggleable__label sk-toggleable__label-arrow\">LinearRegression</label><div class=\"sk-toggleable__content\"><pre>LinearRegression()</pre></div></div></div></div></div>"
      ],
      "text/plain": [
       "LinearRegression()"
      ]
     },
     "execution_count": 10,
     "metadata": {},
     "output_type": "execute_result"
    }
   ],
   "source": [
    "lr.fit(X_train,y_train)"
   ]
  },
  {
   "cell_type": "code",
   "execution_count": 11,
   "metadata": {},
   "outputs": [],
   "source": [
    "y_pred = lr.predict(X_test)"
   ]
  },
  {
   "cell_type": "code",
   "execution_count": 12,
   "metadata": {},
   "outputs": [
    {
     "name": "stdout",
     "output_type": "stream",
     "text": [
      "MAE 29.883741107889552\n",
      "MSE 1288.347125598731\n",
      "R2 score 0.6154469654902337\n"
     ]
    }
   ],
   "source": [
    "print(\"MAE\",mean_absolute_error(y_test,y_pred))\n",
    "print(\"MSE\",mean_squared_error(y_test,y_pred))\n",
    "print(\"R2 score\",r2_score(y_test,y_pred))"
   ]
  },
  {
   "cell_type": "code",
   "execution_count": 15,
   "metadata": {},
   "outputs": [],
   "source": [
    "x = np.linspace(-5, 5, 10)\n",
    "y = np.linspace(-5, 5, 10)\n",
    "xGrid, yGrid = np.meshgrid(y, x)\n",
    "\n",
    "x = np.linspace(-5, 5, 10)\n",
    "y = np.linspace(-5, 5, 10)\n",
    "xGrid, yGrid = np.meshgrid(y, x)\n",
    "final = np.vstack((xGrid.ravel().reshape(1, 100), yGrid.ravel().reshape(1, 100))).T\n",
    "\n",
    "# Now you can use 'final'\n",
    "z_final = lr.predict(final).reshape(10, 10)\n",
    "z = z_final"
   ]
  },
  {
   "cell_type": "code",
   "execution_count": 16,
   "metadata": {},
   "outputs": [
    {
     "data": {
      "application/vnd.plotly.v1+json": {
       "config": {
        "plotlyServerURL": "https://plot.ly"
       },
       "data": [
        {
         "hovertemplate": "feature1=%{x}<br>feature2=%{y}<br>target=%{z}<extra></extra>",
         "legendgroup": "",
         "marker": {
          "color": "#636efa",
          "symbol": "circle"
         },
         "mode": "markers",
         "name": "",
         "scene": "scene",
         "showlegend": false,
         "type": "scatter3d",
         "x": [
          -0.16824945573468733,
          0.4736222192725725,
          -1.6538849452677404,
          1.8724515582042818,
          -1.3924694810383207,
          -0.4361678209592173,
          -0.35996543252525287,
          -0.7959496533397848,
          -1.5695460540222566,
          0.6162558536110244,
          0.8025874605780865,
          -0.6744306104543246,
          1.3616831181742384,
          -1.0594725433743508,
          -1.2336826102971752,
          0.532714046442076,
          -0.21980642854727203,
          -0.18081531497879744,
          -0.5409365887756853,
          0.9190807608229858,
          0.7394711542073382,
          -2.511746798893089,
          0.04012495454083856,
          -0.3392828834772401,
          0.6999551767919141,
          -0.3293403294691153,
          -1.8699039240522675,
          1.9774555015136683,
          1.6570638945362506,
          -1.0071170210669695,
          1.231385720671582,
          -1.0734805036470547,
          1.4422380861126511,
          0.3134835645859672,
          0.5836554274233866,
          -0.2589496463573028,
          0.2471623149402264,
          0.8445499351676208,
          0.402239202024974,
          0.28827765600597577,
          -1.1105157046293679,
          -0.6554750702993205,
          1.4455537598658348,
          0.031071435299971494,
          0.4498040044133032,
          1.7057394459420616,
          -1.0079737986751762,
          0.3695958797950818,
          -0.9164414606412876,
          -1.3968801196056784,
          -1.6241526616918642,
          -0.35878624727676683,
          0.4403759825144381,
          0.49252268357651974,
          -0.9242714259168678,
          0.1729859362346302,
          -0.9003103988838599,
          -0.6117316820223228,
          0.6782213857377327,
          -0.8171109648665957,
          0.2074320707088551,
          0.995221433912832,
          -0.2935334971303922,
          -1.0338577750898108,
          -0.38382305665408906,
          0.4598140317532695,
          -0.8225297144280967,
          -1.0689543769765542,
          1.270977098716324,
          0.15527264603379212,
          0.1842663028728836,
          2.069461335651879,
          0.8569847168065601,
          -1.1416709598055497,
          0.4248619657012055,
          1.3180861313525887,
          0.008617733596121698,
          1.4395589163106755,
          0.4533425405406151,
          -0.335111276614974,
          1.0459599854988542,
          -0.5364153806847982,
          0.3046946521105054,
          0.6544643794045665,
          0.11763782192977577,
          -1.0851675095106461,
          -2.8380943492982413,
          -0.666203436364451,
          0.44244846682046396,
          -1.4139815640158462,
          -1.0708199817956636,
          2.1403070684408836,
          0.14325965617668487,
          1.0790285368662034,
          0.2280876054626324,
          -0.5766614476612542,
          -0.3003190545245839,
          -0.44166920213637084,
          0.12393908279290519,
          0.18120392937932106
         ],
         "y": [
          -1.0695311667273264,
          1.1416580794628701,
          -0.5056740918818122,
          0.6714415480185358,
          1.1167802770265902,
          -0.9923648408631915,
          1.176298938151042,
          -1.5802347692024328,
          0.6274109261474956,
          -0.0668571141143524,
          0.5928025080563258,
          0.8129462544161213,
          0.24054090629841693,
          -0.5120123505384592,
          0.8147994243807024,
          -0.14366169257293973,
          0.4955377983352469,
          1.0533053095743437,
          0.5242142310878227,
          -0.07533378378310812,
          -1.890161170324495,
          0.7803473387049887,
          -0.25231784102664606,
          -0.8537863092237946,
          -0.7862381223397552,
          0.9051521114615765,
          -0.6954677050086159,
          -1.0763827044473142,
          1.5085062534142901,
          0.08685682041224102,
          -0.4773189113387716,
          0.440236747551558,
          -0.7876068013862406,
          0.2356554517690665,
          1.1734802364677592,
          -0.053625781656501,
          -3.045944197189862,
          0.6227483938648917,
          0.17703484382163542,
          0.21061689750236476,
          -1.156637117802184,
          1.5244291700913057,
          -0.2379489947472074,
          0.7561901935275739,
          0.030268519000467998,
          -1.186779334566838,
          1.1865483954198595,
          -0.13535152759163757,
          -2.246445683280979,
          -0.014562293180044344,
          1.1979082384485467,
          0.36248538937504066,
          -0.13577479717724603,
          -0.7836404073697495,
          -0.7667590004084812,
          -0.23921973405344377,
          0.611457346376822,
          1.5510132269088632,
          0.7828169232019251,
          0.44270566278446266,
          -0.2523250365592592,
          0.29590049855113915,
          0.33281409074380797,
          1.5629191128601012,
          0.0984590836124822,
          -1.972608418291033,
          1.6565139199368204,
          1.8861559638269338,
          -1.3810400645720453,
          0.4049652877885386,
          0.3724588307720836,
          -0.8494785263999661,
          -0.8045225887605031,
          -0.1287564235351491,
          -0.7308551555153648,
          0.011081586752928153,
          -1.491343070667762,
          0.30016479914305855,
          2.3196137396533656,
          -1.8914379366589587,
          -0.031179283491755763,
          0.3825505456490637,
          0.4047758118388144,
          -0.841433787538166,
          1.2251383841607435,
          -0.008279751252434398,
          0.48290575357952903,
          1.4581922507948275,
          2.519308786433578,
          0.5783692467654602,
          0.44750688743448236,
          0.5858890784527035,
          -0.15790272037832703,
          0.10567884845233592,
          -1.0888777838768902,
          -1.227825973657868,
          -0.8484992084414837,
          -0.05530233756065247,
          0.2099297479237456,
          -0.11537912466980163
         ],
         "z": [
          -36.91791088791053,
          121.22135147794283,
          -104.09069014400251,
          100.59770009886377,
          44.45288329084884,
          -93.79262197516485,
          88.72788349496345,
          -107.0279537253148,
          22.548230027935844,
          35.50765812671769,
          58.943364145277464,
          23.7284552444137,
          47.75464435156145,
          -35.979081697342245,
          -25.512012351143532,
          0.500971171451932,
          -40.657768176079585,
          72.30539505366752,
          -73.7462938332104,
          -46.13288247167452,
          -185.55324923122726,
          -19.105596595513816,
          -60.96942260618013,
          -66.94974857195493,
          44.2411564621689,
          79.50913453441498,
          -106.18045888030349,
          -71.06440077784808,
          150.9745409787543,
          29.886549464784757,
          45.09245133398318,
          -25.76014973107623,
          -90.4185022204956,
          9.429481906674708,
          67.59079613371684,
          -40.01591982644527,
          -177.1399048517395,
          36.88629245508254,
          27.916032886641304,
          8.574434799166587,
          -100.8552591649855,
          117.45940350537886,
          -38.94425967615882,
          25.38469628096669,
          124.3437661312687,
          -47.454336389333136,
          107.25746742847767,
          34.0524362846192,
          -156.47865585076377,
          -122.11087211164764,
          101.55306276229854,
          47.619530850501036,
          30.933472507751596,
          -65.82336633777416,
          -55.055726063991074,
          50.791120023263545,
          38.08735766205709,
          -28.3359310152386,
          23.38842382907302,
          9.03577230901356,
          -84.17523932806641,
          -55.854395633003136,
          75.3408267062276,
          54.38222244918934,
          10.015396290803814,
          -174.63746272991796,
          97.28171485949332,
          128.10695508481598,
          -85.01920421851075,
          25.710169303130318,
          59.31486840392803,
          -7.476057327947572,
          -72.46296362929337,
          -89.10760762620097,
          41.939039034898755,
          64.39980233866203,
          -93.85662232177255,
          -36.480966977144305,
          27.31449821710524,
          -163.78775699402516,
          -31.831956517970482,
          -81.31403390662382,
          43.003704956878856,
          -95.69278346989947,
          79.78767550954457,
          -80.58786423211507,
          -52.501867079005265,
          14.397999153943388,
          206.99685920606476,
          165.29534869934201,
          5.675834433539737,
          98.6382108419752,
          -55.57307899979577,
          38.691177968088006,
          -95.27992887501418,
          -88.54337733018188,
          -41.0501308293631,
          23.46766571535536,
          -61.104222898845485,
          23.312111772377477
         ]
        },
        {
         "type": "surface",
         "x": [
          -5,
          -3.888888888888889,
          -2.7777777777777777,
          -1.6666666666666665,
          -0.5555555555555554,
          0.5555555555555554,
          1.666666666666667,
          2.7777777777777786,
          3.8888888888888893,
          5
         ],
         "y": [
          -5,
          -3.888888888888889,
          -2.7777777777777777,
          -1.6666666666666665,
          -0.5555555555555554,
          0.5555555555555554,
          1.666666666666667,
          2.7777777777777786,
          3.8888888888888893,
          5
         ],
         "z": [
          [
           -429.1877668264481,
           -407.24905238865324,
           -385.31033795085835,
           -363.3716235130635,
           -341.43290907526864,
           -319.49419463747375,
           -297.55548019967887,
           -275.616765761884,
           -253.67805132408915,
           -231.73933688629427
          ],
          [
           -357.73068073180025,
           -335.79196629400536,
           -313.8532518562105,
           -291.9145374184156,
           -269.97582298062076,
           -248.03710854282588,
           -226.098394105031,
           -204.1596796672361,
           -182.22096522944125,
           -160.28225079164636
          ],
          [
           -286.2735946371523,
           -264.3348801993575,
           -242.3961657615626,
           -220.4574513237677,
           -198.51873688597286,
           -176.58002244817797,
           -154.64130801038309,
           -132.70259357258823,
           -110.76387913479337,
           -88.82516469699848
          ],
          [
           -214.81650854250444,
           -192.87779410470958,
           -170.9390796669147,
           -149.00036522911984,
           -127.06165079132495,
           -105.1229363535301,
           -83.18422191573521,
           -61.24550747794032,
           -39.306793040145465,
           -17.368078602350593
          ],
          [
           -143.35942244785656,
           -121.4207080100617,
           -99.48199357226682,
           -77.54327913447193,
           -55.604564696677066,
           -33.6658502588822,
           -11.727135821087316,
           10.21157861670757,
           32.15029305450243,
           54.0890074922973
          ],
          [
           -71.9023363532087,
           -49.963621915413825,
           -28.024907477618946,
           -6.086193039824074,
           15.8525213979708,
           37.79123583576567,
           59.729950273560554,
           81.66866471135543,
           103.60737914915029,
           125.54609358694518
          ],
          [
           -0.44525025856077427,
           21.4934641792341,
           43.432178617028974,
           65.37089305482385,
           87.30960749261871,
           109.2483219304136,
           131.18703636820848,
           153.12575080600337,
           175.06446524379822,
           197.00317968159308
          ],
          [
           71.01183583608716,
           92.95055027388202,
           114.8892647116769,
           136.8279791494718,
           158.76669358726664,
           180.70540802506153,
           202.6441224628564,
           224.58283690065127,
           246.52155133844613,
           268.460265776241
          ],
          [
           142.468921930735,
           164.4076363685299,
           186.34635080632478,
           208.28506524411964,
           230.22377968191452,
           252.16249411970938,
           274.10120855750426,
           296.03992299529915,
           317.978637433094,
           339.91735187088887
          ],
          [
           213.92600802538288,
           235.86472246317777,
           257.80343690097266,
           279.7421513387675,
           301.68086577656237,
           323.61958021435726,
           345.55829465215214,
           367.497009089947,
           389.43572352774186,
           411.37443796553674
          ]
         ]
        }
       ],
       "layout": {
        "legend": {
         "tracegroupgap": 0
        },
        "margin": {
         "t": 60
        },
        "scene": {
         "domain": {
          "x": [
           0,
           1
          ],
          "y": [
           0,
           1
          ]
         },
         "xaxis": {
          "title": {
           "text": "feature1"
          }
         },
         "yaxis": {
          "title": {
           "text": "feature2"
          }
         },
         "zaxis": {
          "title": {
           "text": "target"
          }
         }
        },
        "template": {
         "data": {
          "bar": [
           {
            "error_x": {
             "color": "#2a3f5f"
            },
            "error_y": {
             "color": "#2a3f5f"
            },
            "marker": {
             "line": {
              "color": "#E5ECF6",
              "width": 0.5
             },
             "pattern": {
              "fillmode": "overlay",
              "size": 10,
              "solidity": 0.2
             }
            },
            "type": "bar"
           }
          ],
          "barpolar": [
           {
            "marker": {
             "line": {
              "color": "#E5ECF6",
              "width": 0.5
             },
             "pattern": {
              "fillmode": "overlay",
              "size": 10,
              "solidity": 0.2
             }
            },
            "type": "barpolar"
           }
          ],
          "carpet": [
           {
            "aaxis": {
             "endlinecolor": "#2a3f5f",
             "gridcolor": "white",
             "linecolor": "white",
             "minorgridcolor": "white",
             "startlinecolor": "#2a3f5f"
            },
            "baxis": {
             "endlinecolor": "#2a3f5f",
             "gridcolor": "white",
             "linecolor": "white",
             "minorgridcolor": "white",
             "startlinecolor": "#2a3f5f"
            },
            "type": "carpet"
           }
          ],
          "choropleth": [
           {
            "colorbar": {
             "outlinewidth": 0,
             "ticks": ""
            },
            "type": "choropleth"
           }
          ],
          "contour": [
           {
            "colorbar": {
             "outlinewidth": 0,
             "ticks": ""
            },
            "colorscale": [
             [
              0,
              "#0d0887"
             ],
             [
              0.1111111111111111,
              "#46039f"
             ],
             [
              0.2222222222222222,
              "#7201a8"
             ],
             [
              0.3333333333333333,
              "#9c179e"
             ],
             [
              0.4444444444444444,
              "#bd3786"
             ],
             [
              0.5555555555555556,
              "#d8576b"
             ],
             [
              0.6666666666666666,
              "#ed7953"
             ],
             [
              0.7777777777777778,
              "#fb9f3a"
             ],
             [
              0.8888888888888888,
              "#fdca26"
             ],
             [
              1,
              "#f0f921"
             ]
            ],
            "type": "contour"
           }
          ],
          "contourcarpet": [
           {
            "colorbar": {
             "outlinewidth": 0,
             "ticks": ""
            },
            "type": "contourcarpet"
           }
          ],
          "heatmap": [
           {
            "colorbar": {
             "outlinewidth": 0,
             "ticks": ""
            },
            "colorscale": [
             [
              0,
              "#0d0887"
             ],
             [
              0.1111111111111111,
              "#46039f"
             ],
             [
              0.2222222222222222,
              "#7201a8"
             ],
             [
              0.3333333333333333,
              "#9c179e"
             ],
             [
              0.4444444444444444,
              "#bd3786"
             ],
             [
              0.5555555555555556,
              "#d8576b"
             ],
             [
              0.6666666666666666,
              "#ed7953"
             ],
             [
              0.7777777777777778,
              "#fb9f3a"
             ],
             [
              0.8888888888888888,
              "#fdca26"
             ],
             [
              1,
              "#f0f921"
             ]
            ],
            "type": "heatmap"
           }
          ],
          "heatmapgl": [
           {
            "colorbar": {
             "outlinewidth": 0,
             "ticks": ""
            },
            "colorscale": [
             [
              0,
              "#0d0887"
             ],
             [
              0.1111111111111111,
              "#46039f"
             ],
             [
              0.2222222222222222,
              "#7201a8"
             ],
             [
              0.3333333333333333,
              "#9c179e"
             ],
             [
              0.4444444444444444,
              "#bd3786"
             ],
             [
              0.5555555555555556,
              "#d8576b"
             ],
             [
              0.6666666666666666,
              "#ed7953"
             ],
             [
              0.7777777777777778,
              "#fb9f3a"
             ],
             [
              0.8888888888888888,
              "#fdca26"
             ],
             [
              1,
              "#f0f921"
             ]
            ],
            "type": "heatmapgl"
           }
          ],
          "histogram": [
           {
            "marker": {
             "pattern": {
              "fillmode": "overlay",
              "size": 10,
              "solidity": 0.2
             }
            },
            "type": "histogram"
           }
          ],
          "histogram2d": [
           {
            "colorbar": {
             "outlinewidth": 0,
             "ticks": ""
            },
            "colorscale": [
             [
              0,
              "#0d0887"
             ],
             [
              0.1111111111111111,
              "#46039f"
             ],
             [
              0.2222222222222222,
              "#7201a8"
             ],
             [
              0.3333333333333333,
              "#9c179e"
             ],
             [
              0.4444444444444444,
              "#bd3786"
             ],
             [
              0.5555555555555556,
              "#d8576b"
             ],
             [
              0.6666666666666666,
              "#ed7953"
             ],
             [
              0.7777777777777778,
              "#fb9f3a"
             ],
             [
              0.8888888888888888,
              "#fdca26"
             ],
             [
              1,
              "#f0f921"
             ]
            ],
            "type": "histogram2d"
           }
          ],
          "histogram2dcontour": [
           {
            "colorbar": {
             "outlinewidth": 0,
             "ticks": ""
            },
            "colorscale": [
             [
              0,
              "#0d0887"
             ],
             [
              0.1111111111111111,
              "#46039f"
             ],
             [
              0.2222222222222222,
              "#7201a8"
             ],
             [
              0.3333333333333333,
              "#9c179e"
             ],
             [
              0.4444444444444444,
              "#bd3786"
             ],
             [
              0.5555555555555556,
              "#d8576b"
             ],
             [
              0.6666666666666666,
              "#ed7953"
             ],
             [
              0.7777777777777778,
              "#fb9f3a"
             ],
             [
              0.8888888888888888,
              "#fdca26"
             ],
             [
              1,
              "#f0f921"
             ]
            ],
            "type": "histogram2dcontour"
           }
          ],
          "mesh3d": [
           {
            "colorbar": {
             "outlinewidth": 0,
             "ticks": ""
            },
            "type": "mesh3d"
           }
          ],
          "parcoords": [
           {
            "line": {
             "colorbar": {
              "outlinewidth": 0,
              "ticks": ""
             }
            },
            "type": "parcoords"
           }
          ],
          "pie": [
           {
            "automargin": true,
            "type": "pie"
           }
          ],
          "scatter": [
           {
            "fillpattern": {
             "fillmode": "overlay",
             "size": 10,
             "solidity": 0.2
            },
            "type": "scatter"
           }
          ],
          "scatter3d": [
           {
            "line": {
             "colorbar": {
              "outlinewidth": 0,
              "ticks": ""
             }
            },
            "marker": {
             "colorbar": {
              "outlinewidth": 0,
              "ticks": ""
             }
            },
            "type": "scatter3d"
           }
          ],
          "scattercarpet": [
           {
            "marker": {
             "colorbar": {
              "outlinewidth": 0,
              "ticks": ""
             }
            },
            "type": "scattercarpet"
           }
          ],
          "scattergeo": [
           {
            "marker": {
             "colorbar": {
              "outlinewidth": 0,
              "ticks": ""
             }
            },
            "type": "scattergeo"
           }
          ],
          "scattergl": [
           {
            "marker": {
             "colorbar": {
              "outlinewidth": 0,
              "ticks": ""
             }
            },
            "type": "scattergl"
           }
          ],
          "scattermapbox": [
           {
            "marker": {
             "colorbar": {
              "outlinewidth": 0,
              "ticks": ""
             }
            },
            "type": "scattermapbox"
           }
          ],
          "scatterpolar": [
           {
            "marker": {
             "colorbar": {
              "outlinewidth": 0,
              "ticks": ""
             }
            },
            "type": "scatterpolar"
           }
          ],
          "scatterpolargl": [
           {
            "marker": {
             "colorbar": {
              "outlinewidth": 0,
              "ticks": ""
             }
            },
            "type": "scatterpolargl"
           }
          ],
          "scatterternary": [
           {
            "marker": {
             "colorbar": {
              "outlinewidth": 0,
              "ticks": ""
             }
            },
            "type": "scatterternary"
           }
          ],
          "surface": [
           {
            "colorbar": {
             "outlinewidth": 0,
             "ticks": ""
            },
            "colorscale": [
             [
              0,
              "#0d0887"
             ],
             [
              0.1111111111111111,
              "#46039f"
             ],
             [
              0.2222222222222222,
              "#7201a8"
             ],
             [
              0.3333333333333333,
              "#9c179e"
             ],
             [
              0.4444444444444444,
              "#bd3786"
             ],
             [
              0.5555555555555556,
              "#d8576b"
             ],
             [
              0.6666666666666666,
              "#ed7953"
             ],
             [
              0.7777777777777778,
              "#fb9f3a"
             ],
             [
              0.8888888888888888,
              "#fdca26"
             ],
             [
              1,
              "#f0f921"
             ]
            ],
            "type": "surface"
           }
          ],
          "table": [
           {
            "cells": {
             "fill": {
              "color": "#EBF0F8"
             },
             "line": {
              "color": "white"
             }
            },
            "header": {
             "fill": {
              "color": "#C8D4E3"
             },
             "line": {
              "color": "white"
             }
            },
            "type": "table"
           }
          ]
         },
         "layout": {
          "annotationdefaults": {
           "arrowcolor": "#2a3f5f",
           "arrowhead": 0,
           "arrowwidth": 1
          },
          "autotypenumbers": "strict",
          "coloraxis": {
           "colorbar": {
            "outlinewidth": 0,
            "ticks": ""
           }
          },
          "colorscale": {
           "diverging": [
            [
             0,
             "#8e0152"
            ],
            [
             0.1,
             "#c51b7d"
            ],
            [
             0.2,
             "#de77ae"
            ],
            [
             0.3,
             "#f1b6da"
            ],
            [
             0.4,
             "#fde0ef"
            ],
            [
             0.5,
             "#f7f7f7"
            ],
            [
             0.6,
             "#e6f5d0"
            ],
            [
             0.7,
             "#b8e186"
            ],
            [
             0.8,
             "#7fbc41"
            ],
            [
             0.9,
             "#4d9221"
            ],
            [
             1,
             "#276419"
            ]
           ],
           "sequential": [
            [
             0,
             "#0d0887"
            ],
            [
             0.1111111111111111,
             "#46039f"
            ],
            [
             0.2222222222222222,
             "#7201a8"
            ],
            [
             0.3333333333333333,
             "#9c179e"
            ],
            [
             0.4444444444444444,
             "#bd3786"
            ],
            [
             0.5555555555555556,
             "#d8576b"
            ],
            [
             0.6666666666666666,
             "#ed7953"
            ],
            [
             0.7777777777777778,
             "#fb9f3a"
            ],
            [
             0.8888888888888888,
             "#fdca26"
            ],
            [
             1,
             "#f0f921"
            ]
           ],
           "sequentialminus": [
            [
             0,
             "#0d0887"
            ],
            [
             0.1111111111111111,
             "#46039f"
            ],
            [
             0.2222222222222222,
             "#7201a8"
            ],
            [
             0.3333333333333333,
             "#9c179e"
            ],
            [
             0.4444444444444444,
             "#bd3786"
            ],
            [
             0.5555555555555556,
             "#d8576b"
            ],
            [
             0.6666666666666666,
             "#ed7953"
            ],
            [
             0.7777777777777778,
             "#fb9f3a"
            ],
            [
             0.8888888888888888,
             "#fdca26"
            ],
            [
             1,
             "#f0f921"
            ]
           ]
          },
          "colorway": [
           "#636efa",
           "#EF553B",
           "#00cc96",
           "#ab63fa",
           "#FFA15A",
           "#19d3f3",
           "#FF6692",
           "#B6E880",
           "#FF97FF",
           "#FECB52"
          ],
          "font": {
           "color": "#2a3f5f"
          },
          "geo": {
           "bgcolor": "white",
           "lakecolor": "white",
           "landcolor": "#E5ECF6",
           "showlakes": true,
           "showland": true,
           "subunitcolor": "white"
          },
          "hoverlabel": {
           "align": "left"
          },
          "hovermode": "closest",
          "mapbox": {
           "style": "light"
          },
          "paper_bgcolor": "white",
          "plot_bgcolor": "#E5ECF6",
          "polar": {
           "angularaxis": {
            "gridcolor": "white",
            "linecolor": "white",
            "ticks": ""
           },
           "bgcolor": "#E5ECF6",
           "radialaxis": {
            "gridcolor": "white",
            "linecolor": "white",
            "ticks": ""
           }
          },
          "scene": {
           "xaxis": {
            "backgroundcolor": "#E5ECF6",
            "gridcolor": "white",
            "gridwidth": 2,
            "linecolor": "white",
            "showbackground": true,
            "ticks": "",
            "zerolinecolor": "white"
           },
           "yaxis": {
            "backgroundcolor": "#E5ECF6",
            "gridcolor": "white",
            "gridwidth": 2,
            "linecolor": "white",
            "showbackground": true,
            "ticks": "",
            "zerolinecolor": "white"
           },
           "zaxis": {
            "backgroundcolor": "#E5ECF6",
            "gridcolor": "white",
            "gridwidth": 2,
            "linecolor": "white",
            "showbackground": true,
            "ticks": "",
            "zerolinecolor": "white"
           }
          },
          "shapedefaults": {
           "line": {
            "color": "#2a3f5f"
           }
          },
          "ternary": {
           "aaxis": {
            "gridcolor": "white",
            "linecolor": "white",
            "ticks": ""
           },
           "baxis": {
            "gridcolor": "white",
            "linecolor": "white",
            "ticks": ""
           },
           "bgcolor": "#E5ECF6",
           "caxis": {
            "gridcolor": "white",
            "linecolor": "white",
            "ticks": ""
           }
          },
          "title": {
           "x": 0.05
          },
          "xaxis": {
           "automargin": true,
           "gridcolor": "white",
           "linecolor": "white",
           "ticks": "",
           "title": {
            "standoff": 15
           },
           "zerolinecolor": "white",
           "zerolinewidth": 2
          },
          "yaxis": {
           "automargin": true,
           "gridcolor": "white",
           "linecolor": "white",
           "ticks": "",
           "title": {
            "standoff": 15
           },
           "zerolinecolor": "white",
           "zerolinewidth": 2
          }
         }
        }
       }
      }
     },
     "metadata": {},
     "output_type": "display_data"
    }
   ],
   "source": [
    "fig = px.scatter_3d(df, x='feature1', y='feature2', z='target')\n",
    "\n",
    "fig.add_trace(go.Surface(x = x, y = y, z =z ))\n",
    "\n",
    "fig.show()"
   ]
  },
  {
   "cell_type": "code",
   "execution_count": 17,
   "metadata": {},
   "outputs": [
    {
     "data": {
      "text/plain": [
       "array([19.74484299, 64.31137749])"
      ]
     },
     "execution_count": 17,
     "metadata": {},
     "output_type": "execute_result"
    }
   ],
   "source": [
    "\n",
    "lr.coef_"
   ]
  },
  {
   "cell_type": "code",
   "execution_count": 18,
   "metadata": {},
   "outputs": [
    {
     "data": {
      "text/plain": [
       "-8.906664430455699"
      ]
     },
     "execution_count": 18,
     "metadata": {},
     "output_type": "execute_result"
    }
   ],
   "source": [
    "lr.intercept_"
   ]
  },
  {
   "cell_type": "code",
   "execution_count": null,
   "metadata": {},
   "outputs": [],
   "source": []
  }
 ],
 "metadata": {
  "kernelspec": {
   "display_name": "base",
   "language": "python",
   "name": "python3"
  },
  "language_info": {
   "codemirror_mode": {
    "name": "ipython",
    "version": 3
   },
   "file_extension": ".py",
   "mimetype": "text/x-python",
   "name": "python",
   "nbconvert_exporter": "python",
   "pygments_lexer": "ipython3",
   "version": "3.11.5"
  }
 },
 "nbformat": 4,
 "nbformat_minor": 2
}
