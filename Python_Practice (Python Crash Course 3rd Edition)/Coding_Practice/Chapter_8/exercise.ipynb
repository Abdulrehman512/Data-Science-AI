{
 "cells": [
  {
   "cell_type": "markdown",
   "metadata": {},
   "source": [
    "#### 8-1. Message: Write a function called display_message() that prints one sentence telling everyone what you are learning about in this chapter. Call the function, and make sure the message displays correctly."
   ]
  },
  {
   "cell_type": "code",
   "execution_count": 2,
   "metadata": {},
   "outputs": [
    {
     "name": "stdout",
     "output_type": "stream",
     "text": [
      "You will learn about functions in this chapter. \n"
     ]
    }
   ],
   "source": [
    "def display_message():\n",
    "    print(\"You will learn about functions in this chapter. \")\n",
    "\n",
    "display_message()\n"
   ]
  },
  {
   "cell_type": "markdown",
   "metadata": {},
   "source": [
    "#### 8-2. Favorite Book: Write a function called favorite_book() that accepts one parameter, title. The function should print a message, such as One of my favorite books is Alice in Wonderland. Call the function, making sure to include a book title as an argument in the function call."
   ]
  },
  {
   "cell_type": "code",
   "execution_count": 4,
   "metadata": {},
   "outputs": [
    {
     "name": "stdout",
     "output_type": "stream",
     "text": [
      "One of my favorite book is  Alchemist\n"
     ]
    }
   ],
   "source": [
    "def favorite_book(title):\n",
    "    print(\"One of my favorite book is \", title.title())\n",
    "\n",
    "favorite_book(\"alchemist\")    "
   ]
  },
  {
   "cell_type": "markdown",
   "metadata": {},
   "source": [
    "#### 8-3. T-Shirt: Write a function called make_shirt() that accepts a size and the text of a message that should be printed on the shirt. The function should print a sentence summarizing the size of the shirt and the message printed on it.Call the function once using positional arguments to make a shirt. Call the function a second time using keyword arguments."
   ]
  },
  {
   "cell_type": "code",
   "execution_count": 5,
   "metadata": {},
   "outputs": [
    {
     "name": "stdout",
     "output_type": "stream",
     "text": [
      "Creating a Medium-sized shirt with the message: 'Hello, World!'\n",
      "Creating a Large-sized shirt with the message: 'Python is fun!'\n"
     ]
    }
   ],
   "source": [
    "def make_shirt(size, message):\n",
    "    print(f\"Creating a {size}-sized shirt with the message: '{message}'\")\n",
    "\n",
    "# Call the function using positional arguments\n",
    "make_shirt(\"Medium\", \"Hello, World!\")\n",
    "\n",
    "# Call the function using keyword arguments\n",
    "make_shirt(size=\"Large\", message=\"Python is fun!\")"
   ]
  },
  {
   "cell_type": "markdown",
   "metadata": {},
   "source": [
    "#### 8-4. Large Shirts: Modify the make_shirt() function so that shirts are large by default with a message that reads I love Python. Make a large shirt and a medium shirt with the default message, and a shirt of any size with a different message."
   ]
  },
  {
   "cell_type": "code",
   "execution_count": 1,
   "metadata": {},
   "outputs": [
    {
     "name": "stdout",
     "output_type": "stream",
     "text": [
      "Creating a large shirt with the message: 'I love Python'\n",
      "Creating a medium shirt with the message: 'I love Python'\n",
      "Creating a small shirt with the message: 'Hello World!'\n"
     ]
    }
   ],
   "source": [
    "def make_shirt(size='large', message='I love Python'):\n",
    "    print(f\"Creating a {size} shirt with the message: '{message}'\")\n",
    "\n",
    "# Create a large shirt with the default message\n",
    "make_shirt()\n",
    "\n",
    "# Create a medium shirt with the default message\n",
    "make_shirt(size='medium')\n",
    "\n",
    "# Create a shirt of any size with a different message\n",
    "make_shirt(size='small', message='Hello World!')\n"
   ]
  },
  {
   "cell_type": "markdown",
   "metadata": {},
   "source": [
    "#### 8-5. Cities: Write a function called describe_city() that accepts the name of a city and its country. The function should print a simple sentence, such as Reykjavik is in Iceland. Give the parameter for the country a default value. Call your function for three different cities, at least one of which is not in the default country."
   ]
  },
  {
   "cell_type": "code",
   "execution_count": 3,
   "metadata": {},
   "outputs": [
    {
     "name": "stdout",
     "output_type": "stream",
     "text": [
      "Reykjavik is in Iceland.\n",
      "Paris is in France.\n",
      "New York is in USA.\n"
     ]
    }
   ],
   "source": [
    "def describe_city(city, country='USA'):\n",
    "    print(f\"{city} is in {country}.\")\n",
    "\n",
    "# Call the function for three different cities\n",
    "describe_city('Reykjavik', 'Iceland')\n",
    "describe_city('Paris', 'France')\n",
    "describe_city('New York')  # This will use the default country value\n"
   ]
  },
  {
   "cell_type": "markdown",
   "metadata": {},
   "source": [
    "#### 8-6. City Names: Write a function called city_country() that takes in the name of a city and its country. The function should return a string formatted like this:\n",
    "* \"Santiago, Chile\"\n",
    "* Call your function with at least three city-country pairs, and print the values that are returned."
   ]
  },
  {
   "cell_type": "code",
   "execution_count": 4,
   "metadata": {},
   "outputs": [
    {
     "name": "stdout",
     "output_type": "stream",
     "text": [
      "Santiago, Chile\n",
      "Tokyo, Japan\n",
      "Paris, France\n"
     ]
    }
   ],
   "source": [
    "def city_country(city, country):\n",
    "    return f\"{city}, {country}\"\n",
    "\n",
    "# Call the function with three city-country pairs and print the results\n",
    "result1 = city_country('Santiago', 'Chile')\n",
    "result2 = city_country('Tokyo', 'Japan')\n",
    "result3 = city_country('Paris', 'France')\n",
    "\n",
    "print(result1)\n",
    "print(result2)\n",
    "print(result3)\n"
   ]
  },
  {
   "cell_type": "markdown",
   "metadata": {},
   "source": [
    "#### 8-7. Album: Write a function called make_album() that builds a dictionary describing a music album. The function should take in an artist name and an album title, and it should return a dictionary containing these two pieces of information. Use the function to make three dictionaries representing different albums. Print each return value to show that the dictionaries are storing the album information correctly.\n",
    "#### Use None to add an optional parameter to make_album() that allows you to store the number of songs on an album. If the calling line includes a value for the number of songs, add that value to the album’s dictionary. Make at least one new function call that includes the number of songs on an album."
   ]
  },
  {
   "cell_type": "code",
   "execution_count": 5,
   "metadata": {},
   "outputs": [
    {
     "name": "stdout",
     "output_type": "stream",
     "text": [
      "{'artist': 'Taylor Swift', 'title': '1989'}\n",
      "{'artist': 'Ed Sheeran', 'title': 'Divide', 'num_songs': 12}\n",
      "{'artist': 'Beyoncé', 'title': 'Lemonade', 'num_songs': 13}\n"
     ]
    }
   ],
   "source": [
    "def make_album(artist, title, num_songs=None):\n",
    "    album_info = {'artist': artist, 'title': title}\n",
    "    if num_songs is not None:\n",
    "        album_info['num_songs'] = num_songs\n",
    "    return album_info\n",
    "\n",
    "# Create three dictionaries representing different albums\n",
    "album1 = make_album('Taylor Swift', '1989')\n",
    "album2 = make_album('Ed Sheeran', 'Divide', num_songs=12)\n",
    "album3 = make_album('Beyoncé', 'Lemonade', num_songs=13)\n",
    "\n",
    "# Print each return value to show the album information\n",
    "print(album1)\n",
    "print(album2)\n",
    "print(album3)\n"
   ]
  },
  {
   "cell_type": "markdown",
   "metadata": {},
   "source": [
    "#### 8-8. User Albums: Start with your program from Exercise 8-7. Write a whileloop that allows users to enter an album’s artist and title. Once you have that information, call make_album() with the user’s input and print the dictionary that’s created. Be sure to include a quit value in the while loop"
   ]
  },
  {
   "cell_type": "code",
   "execution_count": 6,
   "metadata": {},
   "outputs": [
    {
     "name": "stdout",
     "output_type": "stream",
     "text": [
      "{'artist': 'ali zafar', 'title': 'aa', 'num_songs': 22}\n",
      "{'artist': 'qq', 'title': 'dd', 'num_songs': 22}\n",
      "{'artist': '11', 'title': 'xx', 'num_songs': 33}\n",
      "{'artist': '22', 'title': 'cc'}\n",
      "{'artist': '', 'title': ''}\n"
     ]
    }
   ],
   "source": [
    "def make_album(artist, title, num_songs=None):\n",
    "    album_info = {'artist': artist, 'title': title}\n",
    "    if num_songs is not None:\n",
    "        album_info['num_songs'] = num_songs\n",
    "    return album_info\n",
    "\n",
    "# Initialize an empty list to store albums\n",
    "user_albums = []\n",
    "\n",
    "# Start the while loop\n",
    "while True:\n",
    "    # Get user input for artist and title\n",
    "    artist_input = input(\"Enter the artist's name (or 'quit' to exit): \")\n",
    "    \n",
    "    # Check if the user wants to quit\n",
    "    if artist_input.lower() == 'quit':\n",
    "        break  # Exit the loop if the user enters 'quit'\n",
    "\n",
    "    title_input = input(\"Enter the album title: \")\n",
    "\n",
    "    # Get user input for the number of songs (optional)\n",
    "    num_songs_input = input(\"Enter the number of songs (or press Enter to skip): \")\n",
    "    if num_songs_input:\n",
    "        num_songs = int(num_songs_input)\n",
    "    else:\n",
    "        num_songs = None\n",
    "\n",
    "    # Call make_album() with user input and store the dictionary in the list\n",
    "    album = make_album(artist_input, title_input, num_songs)\n",
    "    user_albums.append(album)\n",
    "\n",
    "# Print the created dictionaries\n",
    "for album in user_albums:\n",
    "    print(album)\n"
   ]
  },
  {
   "cell_type": "markdown",
   "metadata": {},
   "source": [
    "#### 8-9. Messages: Make a list containing a series of short text messages. Pass the list to a function called show_messages(), which prints each text message."
   ]
  },
  {
   "cell_type": "code",
   "execution_count": 7,
   "metadata": {},
   "outputs": [
    {
     "name": "stdout",
     "output_type": "stream",
     "text": [
      "Hello there!\n",
      "How are you?\n",
      "Python is awesome!\n",
      "Have a great day!\n",
      "Coding is fun!\n"
     ]
    }
   ],
   "source": [
    "def show_messages(messages):\n",
    "    for message in messages:\n",
    "        print(message)\n",
    "\n",
    "# Create a list of short text messages\n",
    "text_messages = [\n",
    "    \"Hello there!\",\n",
    "    \"How are you?\",\n",
    "    \"Python is awesome!\",\n",
    "    \"Have a great day!\",\n",
    "    \"Coding is fun!\"\n",
    "]\n",
    "\n",
    "# Call the show_messages() function with the list of messages\n",
    "show_messages(text_messages)\n"
   ]
  },
  {
   "cell_type": "markdown",
   "metadata": {},
   "source": [
    "#### 8-10. Sending Messages: Start with a copy of your program from Exercise 8-9. Write a function called send_messages() that prints each text message and moves each message to a new list called sent_messages as it’s printed. After calling the function, print both of your lists to make sure the messages were moved correctly."
   ]
  },
  {
   "cell_type": "code",
   "execution_count": 8,
   "metadata": {},
   "outputs": [
    {
     "name": "stdout",
     "output_type": "stream",
     "text": [
      "Sending message: Hello there!\n",
      "Sending message: How are you?\n",
      "Sending message: Python is awesome!\n",
      "Sending message: Have a great day!\n",
      "Sending message: Coding is fun!\n",
      "Original messages:\n",
      "\n",
      "Sent messages:\n",
      "Hello there!\n",
      "How are you?\n",
      "Python is awesome!\n",
      "Have a great day!\n",
      "Coding is fun!\n"
     ]
    }
   ],
   "source": [
    "def show_messages(messages):\n",
    "    for message in messages:\n",
    "        print(message)\n",
    "\n",
    "def send_messages(messages, sent_messages):\n",
    "    while messages:\n",
    "        current_message = messages.pop(0)\n",
    "        print(f\"Sending message: {current_message}\")\n",
    "        sent_messages.append(current_message)\n",
    "\n",
    "# Create a list of short text messages\n",
    "text_messages = [\n",
    "    \"Hello there!\",\n",
    "    \"How are you?\",\n",
    "    \"Python is awesome!\",\n",
    "    \"Have a great day!\",\n",
    "    \"Coding is fun!\"\n",
    "]\n",
    "\n",
    "# Create an empty list to store sent messages\n",
    "sent_messages = []\n",
    "\n",
    "# Call the send_messages() function to send and move messages\n",
    "send_messages(text_messages, sent_messages)\n",
    "\n",
    "# Print both lists to check the results\n",
    "print(\"Original messages:\")\n",
    "show_messages(text_messages)\n",
    "\n",
    "print(\"\\nSent messages:\")\n",
    "show_messages(sent_messages)\n"
   ]
  },
  {
   "cell_type": "markdown",
   "metadata": {},
   "source": [
    "#### Start with your work from Exercise 8-10. Call the function send_messages() with a copy of the list of messages. After calling the function, print both of your lists to show that the original list has retained its messages."
   ]
  },
  {
   "cell_type": "code",
   "execution_count": 9,
   "metadata": {},
   "outputs": [
    {
     "name": "stdout",
     "output_type": "stream",
     "text": [
      "Sending message: Hello there!\n",
      "Sending message: How are you?\n",
      "Sending message: Python is awesome!\n",
      "Sending message: Have a great day!\n",
      "Sending message: Coding is fun!\n",
      "Original messages:\n",
      "Hello there!\n",
      "How are you?\n",
      "Python is awesome!\n",
      "Have a great day!\n",
      "Coding is fun!\n",
      "\n",
      "Sent messages:\n",
      "Hello there!\n",
      "How are you?\n",
      "Python is awesome!\n",
      "Have a great day!\n",
      "Coding is fun!\n"
     ]
    }
   ],
   "source": [
    "def show_messages(messages):\n",
    "    for message in messages:\n",
    "        print(message)\n",
    "\n",
    "def send_messages(messages, sent_messages):\n",
    "    while messages:\n",
    "        current_message = messages.pop(0)\n",
    "        print(f\"Sending message: {current_message}\")\n",
    "        sent_messages.append(current_message)\n",
    "\n",
    "# Create a list of short text messages\n",
    "text_messages = [\n",
    "    \"Hello there!\",\n",
    "    \"How are you?\",\n",
    "    \"Python is awesome!\",\n",
    "    \"Have a great day!\",\n",
    "    \"Coding is fun!\"\n",
    "]\n",
    "\n",
    "# Create an empty list to store sent messages\n",
    "sent_messages = []\n",
    "\n",
    "# Call the send_messages() function with a copy of the list of messages\n",
    "send_messages(text_messages[:], sent_messages)\n",
    "\n",
    "# Print both lists to show that the original list has retained its messages\n",
    "print(\"Original messages:\")\n",
    "show_messages(text_messages)\n",
    "\n",
    "print(\"\\nSent messages:\")\n",
    "show_messages(sent_messages)\n"
   ]
  },
  {
   "cell_type": "markdown",
   "metadata": {},
   "source": [
    "#### 8-12. Sandwiches: Write a function that accepts a list of items a person wants on a sandwich. The function should have one parameter that collects as many items as the function call provides, and it should print a summary of the sandwich that’s being ordered. Call the function three times, using a different number of arguments each time."
   ]
  },
  {
   "cell_type": "code",
   "execution_count": 10,
   "metadata": {},
   "outputs": [
    {
     "name": "stdout",
     "output_type": "stream",
     "text": [
      "\n",
      "Making a sandwich with the following items:\n",
      "- Turkey\n",
      "- Cheese\n",
      "- Lettuce\n",
      "\n",
      "Making a sandwich with the following items:\n",
      "- Ham\n",
      "- Swiss Cheese\n",
      "- Tomato\n",
      "- Mustard\n",
      "\n",
      "Making a sandwich with the following items:\n",
      "- Chicken\n",
      "- Bacon\n",
      "- Avocado\n",
      "- Mayonnaise\n",
      "- Lettuce\n"
     ]
    }
   ],
   "source": [
    "def make_sandwich(*items):\n",
    "    print(\"\\nMaking a sandwich with the following items:\")\n",
    "    for item in items:\n",
    "        print(f\"- {item}\")\n",
    "\n",
    "# Call the function three times with different numbers of arguments\n",
    "make_sandwich('Turkey', 'Cheese', 'Lettuce')\n",
    "make_sandwich('Ham', 'Swiss Cheese', 'Tomato', 'Mustard')\n",
    "make_sandwich('Chicken', 'Bacon', 'Avocado', 'Mayonnaise', 'Lettuce')\n"
   ]
  },
  {
   "cell_type": "markdown",
   "metadata": {},
   "source": [
    "#### 8-13. User Profile: Start with a copy of user_profile.py from page 148. Build a profile of yourself by calling build_profile(), using your first and last names and three other key-value pairs that describe you."
   ]
  },
  {
   "cell_type": "code",
   "execution_count": 11,
   "metadata": {},
   "outputs": [
    {
     "name": "stdout",
     "output_type": "stream",
     "text": [
      "{'first_name': 'YourFirstName', 'last_name': 'YourLastName', 'age': 25, 'occupation': 'Software Engineer', 'hobbies': ['Reading', 'Coding', 'Traveling']}\n"
     ]
    }
   ],
   "source": [
    "def build_profile(first_name, last_name, **additional_info):\n",
    "    profile = {\n",
    "        'first_name': first_name,\n",
    "        'last_name': last_name,\n",
    "    }\n",
    "    profile.update(additional_info)\n",
    "    return profile\n",
    "\n",
    "# Build a profile of yourself\n",
    "my_profile = build_profile(\n",
    "    first_name='YourFirstName',\n",
    "    last_name='YourLastName',\n",
    "    age=25,\n",
    "    occupation='Software Engineer',\n",
    "    hobbies=['Reading', 'Coding', 'Traveling']\n",
    ")\n",
    "\n",
    "# Print the user profile\n",
    "print(my_profile)\n"
   ]
  },
  {
   "cell_type": "markdown",
   "metadata": {},
   "source": [
    "#### 8-14. Cars: Write a function that stores information about a car in a dictionary. The function should always receive a manufacturer and a model name. It should then accept an arbitrary number of keyword arguments. Call the function with the required information and two other name-value pairs, such as a color or an optional feature. Your function should work for a call like this one:\n",
    "* car = make_car('subaru', 'outback', color='blue', tow_package=True)\n",
    "#### Print the dictionary that’s returned to make sure all the information was stored correctly."
   ]
  },
  {
   "cell_type": "code",
   "execution_count": 12,
   "metadata": {},
   "outputs": [
    {
     "name": "stdout",
     "output_type": "stream",
     "text": [
      "{'manufacturer': 'subaru', 'model': 'outback', 'color': 'blue', 'tow_package': True}\n"
     ]
    }
   ],
   "source": [
    "def make_car(manufacturer, model, **car_info):\n",
    "    car = {\n",
    "        'manufacturer': manufacturer,\n",
    "        'model': model,\n",
    "    }\n",
    "    car.update(car_info)\n",
    "    return car\n",
    "\n",
    "# Call the function with the required information and additional key-value pairs\n",
    "car = make_car('subaru', 'outback', color='blue', tow_package=True)\n",
    "\n",
    "# Print the dictionary representing the car information\n",
    "print(car)\n"
   ]
  },
  {
   "cell_type": "markdown",
   "metadata": {},
   "source": [
    "#### 8-15. Printing Models: Put the functions for the example printing_models.py in a separate file called printing_functions.py. Write an import statement at the top of printing_models.py, and modify the file to use the imported functions."
   ]
  },
  {
   "cell_type": "code",
   "execution_count": 15,
   "metadata": {},
   "outputs": [
    {
     "name": "stdout",
     "output_type": "stream",
     "text": [
      "Printing model: cookie cutter\n",
      "Printing model: robot pendant\n",
      "Printing model: phone case\n",
      "\n",
      "Completed models:\n",
      "cookie cutter\n",
      "robot pendant\n",
      "phone case\n"
     ]
    }
   ],
   "source": [
    "# printing_functions.py\n",
    "\n",
    "def print_models(unprinted_models, completed_models):\n",
    "    \"\"\"Simulate printing each model, until none are left.\"\"\"\n",
    "    while unprinted_models:\n",
    "        current_model = unprinted_models.pop()\n",
    "        print(f\"Printing model: {current_model}\")\n",
    "        completed_models.append(current_model)\n",
    "\n",
    "def show_completed_models(completed_models):\n",
    "    \"\"\"Show all the completed models.\"\"\"\n",
    "    print(\"\\nCompleted models:\")\n",
    "    for model in completed_models:\n",
    "        print(model)\n",
    "\n",
    "\n",
    "\n",
    "# Sample list of unprinted models\n",
    "unprinted_models = ['phone case', 'robot pendant', 'cookie cutter']\n",
    "\n",
    "# An empty list to store completed models\n",
    "completed_models = []\n",
    "\n",
    "# Call the imported functions\n",
    "print_models(unprinted_models, completed_models)\n",
    "show_completed_models(completed_models)\n",
    "\n"
   ]
  },
  {
   "cell_type": "markdown",
   "metadata": {},
   "source": [
    "#### "
   ]
  },
  {
   "cell_type": "code",
   "execution_count": null,
   "metadata": {},
   "outputs": [],
   "source": []
  }
 ],
 "metadata": {
  "kernelspec": {
   "display_name": "base",
   "language": "python",
   "name": "python3"
  },
  "language_info": {
   "codemirror_mode": {
    "name": "ipython",
    "version": 3
   },
   "file_extension": ".py",
   "mimetype": "text/x-python",
   "name": "python",
   "nbconvert_exporter": "python",
   "pygments_lexer": "ipython3",
   "version": "3.11.5"
  }
 },
 "nbformat": 4,
 "nbformat_minor": 2
}
