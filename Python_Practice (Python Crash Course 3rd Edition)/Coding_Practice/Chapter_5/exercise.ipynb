{
 "cells": [
  {
   "cell_type": "markdown",
   "metadata": {},
   "source": [
    "#### 5-1. Conditional Tests: Write a series of conditional tests. Print a statement describing each test and your prediction for the results of each test. Your code should look something like this:\n",
    "---\n",
    "* car = 'subaru'\n",
    "* print(\"Is car == 'subaru'? I predict True.\")\n",
    "* print(car == 'subaru')\n",
    "* print(\"\\nIs car == 'audi'? I predict False.\")\n",
    "* print(car == 'audi')\n",
    "---\n",
    "* Look closely at your results, and make sure you understand why each line evaluates to True or False.\n",
    "* Create at least 10 tests. Have at least 5 tests evaluate to True and another 5 tests evaluate to False."
   ]
  },
  {
   "cell_type": "code",
   "execution_count": 23,
   "metadata": {},
   "outputs": [
    {
     "name": "stdout",
     "output_type": "stream",
     "text": [
      "Is car == 'civic' ? I Predict True\n",
      "True\n",
      "Is car == 'civic' ? I Predict False\n",
      "False\n",
      "Is car == 'Civic' ? I Predict False\n",
      "False\n",
      "Is day == 'sunday' ? I Predict True\n",
      "True\n",
      "Is day == 'sunday' ? I Predict False\n",
      "False\n"
     ]
    }
   ],
   "source": [
    "car = \"civic\"\n",
    "print(\"Is car == 'civic' ? I Predict True\")\n",
    "print(car == \"civic\")\n",
    "\n",
    "car = \"Civic\"\n",
    "print(\"Is car == 'civic' ? I Predict False\")\n",
    "print(car == \"civic\")\n",
    "\n",
    "car = \"civic\"\n",
    "print(\"Is car == 'Civic' ? I Predict False\")\n",
    "print(car == \"Civic\")\n",
    "\n",
    "day = \"sunday\"\n",
    "print(\"Is day == 'sunday' ? I Predict True\")\n",
    "print(day == \"sunday\")\n",
    "\n",
    "day = \"Sunday\"\n",
    "print(\"Is day == 'sunday' ? I Predict False\")\n",
    "print(day == \"sunday\")\n"
   ]
  },
  {
   "cell_type": "code",
   "execution_count": null,
   "metadata": {},
   "outputs": [],
   "source": []
  },
  {
   "cell_type": "markdown",
   "metadata": {},
   "source": [
    "#### 5-2. More Conditional Tests: You don’t have to limit the number of tests you create to 10. If you want to try more comparisons, write more tests and add them to conditional_tests.py. Have at least one True and one False result for each of the following:\n",
    "* Tests for equality and inequality with strings\n",
    "* Tests using the lower() method\n",
    "* Numerical tests involving equality and inequality, greater than and less than, greater than or equal to, and less than or equal to\n",
    "* Tests using the and keyword and the or keyword\n",
    "* Test whether an item is in a list\n",
    "* Test whether an item is not in a list"
   ]
  },
  {
   "cell_type": "code",
   "execution_count": 24,
   "metadata": {},
   "outputs": [
    {
     "name": "stdout",
     "output_type": "stream",
     "text": [
      "False\n",
      "True\n",
      "False\n",
      "True\n",
      "False\n",
      "True\n",
      "True\n",
      "False\n"
     ]
    }
   ],
   "source": [
    "# Equality and Inequality with strings\n",
    "\n",
    "car1 = \"Civic\"\n",
    "car2 = \"civic\"\n",
    "car1 == car2\n",
    "\n",
    "# Tests using the lower() method\n",
    "\n",
    "car1 = \"CIVIC\"\n",
    "car2 = \"civic\"\n",
    "car1.lower() == car2\n",
    "\n",
    "# Numerical tests involving equality and inequality, greater than and less than, greater than or equal to,\n",
    "# and less than or equal to\n",
    "\n",
    "a = 1\n",
    "b = 2\n",
    "print(a == b)\n",
    "\n",
    "print(a < b)\n",
    "\n",
    "print(a >= b)\n",
    "\n",
    "print(a <= b)\n",
    "\n",
    "# Tests using the and keyword and the or keyword \n",
    "\n",
    "print(True and False)\n",
    "\n",
    "print(True or False)\n",
    "\n",
    "# Test whether an item is in a list\n",
    "\n",
    "list = [1,2,3,4,5]\n",
    "\n",
    "print(1 in list)\n",
    "\n",
    "# Test whether an item is not in a list\n",
    "\n",
    "print(11 in list)\n"
   ]
  },
  {
   "cell_type": "code",
   "execution_count": null,
   "metadata": {},
   "outputs": [],
   "source": []
  },
  {
   "cell_type": "markdown",
   "metadata": {},
   "source": [
    "#### 5-3. Alien Colors #1: Imagine an alien was just shot down in a game. Create a variable called alien_color and assign it a value of 'green', 'yellow', or 'red'.\n",
    "* Write an if statement to test whether the alien’s color is green. If it is, print a message that the player just earned 5 points.\n",
    "* Write one version of this program that passes the if test and another that fails. (The version that fails will have no output.)"
   ]
  },
  {
   "cell_type": "code",
   "execution_count": 26,
   "metadata": {},
   "outputs": [
    {
     "name": "stdout",
     "output_type": "stream",
     "text": [
      "Player earned 5 Points.\n"
     ]
    }
   ],
   "source": [
    "alien_color = 'green'\n",
    "if alien_color == 'green':\n",
    "    print(\"Player earned 5 Points.\")"
   ]
  },
  {
   "cell_type": "code",
   "execution_count": null,
   "metadata": {},
   "outputs": [],
   "source": []
  },
  {
   "cell_type": "markdown",
   "metadata": {},
   "source": [
    "#### 5-4. Alien Colors #2: Choose a color for an alien as you did in Exercise 5-3, and write an if-else chain.\n",
    "* If the alien’s color is green, print a statement that the player just earned 5 points for shooting the alien.\n",
    "* If the alien’s color isn’t green, print a statement that the player just earned \n",
    "10 points.\n",
    "* Write one version of this program that runs the if block and another that \n",
    "runs the else block."
   ]
  },
  {
   "cell_type": "code",
   "execution_count": 27,
   "metadata": {},
   "outputs": [
    {
     "name": "stdout",
     "output_type": "stream",
     "text": [
      "Player earned 5 Points\n"
     ]
    }
   ],
   "source": [
    "if alien_color == \"green\":\n",
    "    print(\"Player earned 5 Points\")\n",
    "else:\n",
    "     print(\"Player earned 10 Points\")   "
   ]
  },
  {
   "cell_type": "code",
   "execution_count": null,
   "metadata": {},
   "outputs": [],
   "source": []
  },
  {
   "cell_type": "markdown",
   "metadata": {},
   "source": [
    "#### 5-5. Alien Colors #3: Turn your if-else chain from Exercise 5-4 into an if-elifelse chain.\n",
    "* If the alien is green, print a message that the player earned 5 points.\n",
    "* If the alien is yellow, print a message that the player earned 10 points.\n",
    "* If the alien is red, print a message that the player earned 15 points.\n",
    "* Write three versions of this program, making sure each message is printed \n",
    "for the appropriate color alien."
   ]
  },
  {
   "cell_type": "code",
   "execution_count": 31,
   "metadata": {},
   "outputs": [
    {
     "name": "stdout",
     "output_type": "stream",
     "text": [
      "Player earned 15 Points\n",
      "Player earned 10 Points\n",
      "Player earned 5 Points\n"
     ]
    }
   ],
   "source": [
    "alien_color = \"red\"\n",
    "if alien_color == \"green\":\n",
    "    print(\"Player earned 5 Points\")\n",
    "elif alien_color == \"yellow\":\n",
    "    print(\"Player earned 10 Points\")  \n",
    "elif alien_color == \"red\":\n",
    "    print(\"Player earned 15 Points\")   \n",
    "\n",
    "alien_color = \"yellow\"\n",
    "if alien_color == \"green\":\n",
    "    print(\"Player earned 5 Points\")\n",
    "elif alien_color == \"yellow\":\n",
    "    print(\"Player earned 10 Points\")  \n",
    "elif alien_color == \"red\":\n",
    "    print(\"Player earned 15 Points\") \n",
    "\n",
    "alien_color = \"green\"\n",
    "if alien_color == \"green\":\n",
    "    print(\"Player earned 5 Points\")\n",
    "elif alien_color == \"yellow\":\n",
    "    print(\"Player earned 10 Points\")  \n",
    "elif alien_color == \"red\":\n",
    "    print(\"Player earned 15 Points\")         "
   ]
  },
  {
   "cell_type": "code",
   "execution_count": null,
   "metadata": {},
   "outputs": [],
   "source": []
  },
  {
   "cell_type": "markdown",
   "metadata": {},
   "source": [
    "#### 5-6. Stages of Life: Write an if-elif-else chain that determines a person’s stage of life. Set a value for the variable age, and then:\n",
    "* If the person is less than 2 years old, print a message that the person is \n",
    "a baby.\n",
    "* If the person is at least 2 years old but less than 4, print a message that the \n",
    "person is a toddler.\n",
    "* If the person is at least 4 years old but less than 13, print a message that \n",
    "the person is a kid.\n",
    "* If the person is at least 13 years old but less than 20, print a message that \n",
    "the person is a teenager.\n",
    "* If the person is at least 20 years old but less than 65, print a message that \n",
    "the person is an adult.\n",
    "* If the person is age 65 or older, print a message that the person is an elder."
   ]
  },
  {
   "cell_type": "code",
   "execution_count": 37,
   "metadata": {},
   "outputs": [
    {
     "name": "stdout",
     "output_type": "stream",
     "text": [
      "The person is an adult.\n"
     ]
    }
   ],
   "source": [
    "age = 25\n",
    "\n",
    "if age < 2:\n",
    "    print(\"The person is a baby.\")\n",
    "elif 2 <= age < 4:\n",
    "    print(\"The person is a toddler.\")\n",
    "elif 4 <= age < 13:\n",
    "    print(\"The person is a kid.\")\n",
    "elif 13 <= age < 20:\n",
    "    print(\"The person is a teenager.\")\n",
    "elif 20 <= age < 65:\n",
    "    print(\"The person is an adult.\")\n",
    "else:\n",
    "    print(\"The person is an elder.\")\n"
   ]
  },
  {
   "cell_type": "code",
   "execution_count": null,
   "metadata": {},
   "outputs": [],
   "source": []
  },
  {
   "cell_type": "markdown",
   "metadata": {},
   "source": [
    "#### 5-7. Favorite Fruit: Make a list of your favorite fruits, and then write a series of independent if statements that check for certain fruits in your list.\n",
    "* Make a list of your three favorite fruits and call it favorite_fruits.\n",
    "* Write five if statements. Each should check whether a certain kind of fruit \n",
    "is in your list. If the fruit is in your list, the if block should print a statement, \n",
    "such as You really like bananas!"
   ]
  },
  {
   "cell_type": "code",
   "execution_count": 38,
   "metadata": {},
   "outputs": [
    {
     "name": "stdout",
     "output_type": "stream",
     "text": [
      "You really like apples\n",
      "You really like mangoes\n",
      "You really like strawberries\n"
     ]
    }
   ],
   "source": [
    "favorite_fruits = [\"apple\", \"mango\", \"strawberry\"]\n",
    "\n",
    "if \"apple\" in favorite_fruits:\n",
    "    print(\"You really like apples\")\n",
    "if \"banana\" in favorite_fruits:\n",
    "    print(\"You really like bananas\")\n",
    "if \"mango\" in favorite_fruits:\n",
    "    print(\"You really like mangoes\")\n",
    "if \"kiwi\" in favorite_fruits:\n",
    "    print(\"You really like kiwis\")\n",
    "if \"strawberry\" in favorite_fruits:\n",
    "    print(\"You really like strawberries\")"
   ]
  },
  {
   "cell_type": "code",
   "execution_count": null,
   "metadata": {},
   "outputs": [],
   "source": []
  },
  {
   "cell_type": "markdown",
   "metadata": {},
   "source": [
    "#### 5-8. Hello Admin: Make a list of five or more usernames, including the name 'admin'. Imagine you are writing code that will print a greeting to each user after they log in to a website. Loop through the list, and print a greeting to each user.\n",
    "* If the username is 'admin', print a special greeting, such as Hello admin, \n",
    "would you like to see a status report?\n",
    "* Otherwise, print a generic greeting, such as Hello Jaden, thank you for \n",
    "logging in again."
   ]
  },
  {
   "cell_type": "code",
   "execution_count": 39,
   "metadata": {},
   "outputs": [
    {
     "name": "stdout",
     "output_type": "stream",
     "text": [
      "Hello admin, would you like to see a status report?\n",
      "Hello abdul, thank you for logging in again\n",
      "Hello asad, thank you for logging in again\n",
      "Hello farhan, thank you for logging in again\n",
      "Hello hamza, thank you for logging in again\n"
     ]
    }
   ],
   "source": [
    "usernames = [\"admin\", \"abdul\", \"asad\", \"farhan\", \"hamza\"]\n",
    "\n",
    "for user in usernames:\n",
    "    if user == \"admin\":\n",
    "        print(\"Hello admin, would you like to see a status report?\")\n",
    "    else:\n",
    "        print(f\"Hello {user}, thank you for logging in again\")    "
   ]
  },
  {
   "cell_type": "code",
   "execution_count": null,
   "metadata": {},
   "outputs": [],
   "source": []
  },
  {
   "cell_type": "markdown",
   "metadata": {},
   "source": [
    "#### 5-9. No Users: Add an if test to hello_admin.py to make sure the list of users is not empty.\n",
    "* If the list is empty, print the message We need to find some users!\n",
    "* Remove all of the usernames from your list, and make sure the correct message is printed."
   ]
  },
  {
   "cell_type": "code",
   "execution_count": 40,
   "metadata": {},
   "outputs": [
    {
     "name": "stdout",
     "output_type": "stream",
     "text": [
      "We need to find some users\n"
     ]
    }
   ],
   "source": [
    "usernames = []\n",
    "if usernames == []:\n",
    "    print(\"We need to find some users\")"
   ]
  },
  {
   "cell_type": "code",
   "execution_count": null,
   "metadata": {},
   "outputs": [],
   "source": []
  },
  {
   "cell_type": "markdown",
   "metadata": {},
   "source": [
    "#### 5-10. Checking Usernames: Do the following to create a program that simulates how websites ensure that everyone has a unique username.\n",
    "* Make a list of five or more usernames called current_users.\n",
    "* Make another list of five usernames called new_users. Make sure one or \n",
    "two of the new usernames are also in the current_users list.\n",
    "* Loop through the new_users list to see if each new username has already \n",
    "been used. If it has, print a message that the person will need to enter a \n",
    "new username. If a username has not been used, print a message saying \n",
    "that the username is available.\n",
    "* Make sure your comparison is case insensitive. If 'John' has been used, \n",
    "'JOHN' should not be accepted. (To do this, you’ll need to make a copy of \n",
    "current_users containing the lowercase versions of all existing users.)"
   ]
  },
  {
   "cell_type": "code",
   "execution_count": 41,
   "metadata": {},
   "outputs": [
    {
     "name": "stdout",
     "output_type": "stream",
     "text": [
      "Sorry, the username 'Alice' is already taken. Please enter a new username.\n",
      "The username 'Frank' is available.\n",
      "The username 'Grace' is available.\n",
      "The username 'John' is available.\n",
      "Sorry, the username 'Charlie' is already taken. Please enter a new username.\n"
     ]
    }
   ],
   "source": [
    "# List of current users\n",
    "current_users = ['Alice', 'Bob', 'Charlie', 'David', 'Eve']\n",
    "\n",
    "# List of new users\n",
    "new_users = ['Alice', 'Frank', 'Grace', 'John', 'Charlie']\n",
    "\n",
    "# Create a copy of current_users with lowercase usernames\n",
    "current_users_lower = [user.lower() for user in current_users]\n",
    "\n",
    "# Loop through new_users to check for availability\n",
    "for new_user in new_users:\n",
    "    # Check case-insensitive availability\n",
    "    if new_user.lower() in current_users_lower:\n",
    "        print(f\"Sorry, the username '{new_user}' is already taken. Please enter a new username.\")\n",
    "    else:\n",
    "        print(f\"The username '{new_user}' is available.\")\n",
    "\n"
   ]
  },
  {
   "cell_type": "code",
   "execution_count": null,
   "metadata": {},
   "outputs": [],
   "source": []
  },
  {
   "cell_type": "markdown",
   "metadata": {},
   "source": [
    "#### 5-11. Ordinal Numbers: Ordinal numbers indicate their position in a list, such as 1st or 2nd. Most ordinal numbers end in th, except 1, 2, and 3.\n",
    "* Store the numbers 1 through 9 in a list.\n",
    "* Loop through the list.\n",
    "* Use an if-elif-else chain inside the loop to print the proper ordinal ending \n",
    "for each number. Your output should read \"1st 2nd 3rd 4th 5th 6th 7th \n",
    "8th 9th\", and each result should be on a separate line."
   ]
  },
  {
   "cell_type": "code",
   "execution_count": 49,
   "metadata": {},
   "outputs": [
    {
     "name": "stdout",
     "output_type": "stream",
     "text": [
      "1st\n",
      "2nd\n",
      "3rd\n",
      "4th\n",
      "5th\n",
      "6th\n",
      "7th\n",
      "8th\n",
      "9th\n"
     ]
    }
   ],
   "source": [
    "numbers = [1,2,3,4,5,6,7,8,9]\n",
    "\n",
    "for number in numbers:\n",
    "    if number == 1:\n",
    "        print(f\"{number}st\")\n",
    "    elif number == 2:\n",
    "        print(f\"{number}nd\")\n",
    "    elif number == 3:\n",
    "        print(f\"{number}rd\")\n",
    "    else:\n",
    "        print(f\"{number}th\")\n"
   ]
  },
  {
   "cell_type": "code",
   "execution_count": null,
   "metadata": {},
   "outputs": [],
   "source": []
  }
 ],
 "metadata": {
  "kernelspec": {
   "display_name": "base",
   "language": "python",
   "name": "python3"
  },
  "language_info": {
   "codemirror_mode": {
    "name": "ipython",
    "version": 3
   },
   "file_extension": ".py",
   "mimetype": "text/x-python",
   "name": "python",
   "nbconvert_exporter": "python",
   "pygments_lexer": "ipython3",
   "version": "3.11.5"
  }
 },
 "nbformat": 4,
 "nbformat_minor": 2
}
