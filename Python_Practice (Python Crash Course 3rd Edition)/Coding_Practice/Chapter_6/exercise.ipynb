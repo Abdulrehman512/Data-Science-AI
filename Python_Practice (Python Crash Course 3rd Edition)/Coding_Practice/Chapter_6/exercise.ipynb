{
 "cells": [
  {
   "cell_type": "markdown",
   "metadata": {},
   "source": [
    "#### 6-1. Person: Use a dictionary to store information about a person you know. Store their first name, last name, age, and the city in which they live. You should have keys such as first_name, last_name, age, and city. Print each piece of information stored in your dictionary."
   ]
  },
  {
   "cell_type": "code",
   "execution_count": 17,
   "metadata": {},
   "outputs": [
    {
     "data": {
      "text/plain": [
       "{'first_name': 'Hafiz', 'last_name': 'Hamza', 'age': 22, 'city': 'Faisalabad'}"
      ]
     },
     "execution_count": 17,
     "metadata": {},
     "output_type": "execute_result"
    }
   ],
   "source": [
    "person = {\n",
    "    \"first_name\" : \"Hafiz\",\n",
    "    \"last_name\" : \"Hamza\",\n",
    "    \"age\" : 22,\n",
    "    \"city\" : \"Faisalabad\"\n",
    "}\n",
    "\n",
    "person"
   ]
  },
  {
   "cell_type": "code",
   "execution_count": null,
   "metadata": {},
   "outputs": [],
   "source": []
  },
  {
   "cell_type": "markdown",
   "metadata": {},
   "source": [
    "#### 6-2. Favorite Numbers: Use a dictionary to store people’s favorite numbers. Think of five names, and use them as keys in your dictionary. Think of a favorite number for each person, and store each as a value in your dictionary. Print each person’s name and their favorite number. For even more fun, poll a few friends and get some actual data for your program."
   ]
  },
  {
   "cell_type": "code",
   "execution_count": 18,
   "metadata": {},
   "outputs": [
    {
     "name": "stdout",
     "output_type": "stream",
     "text": [
      "7\n",
      "17\n",
      "3\n",
      "11\n",
      "5\n"
     ]
    }
   ],
   "source": [
    "fav_numbers = {\n",
    "    \"Abdul\" : 7,\n",
    "    \"Asad\" : 17,\n",
    "    \"Farhan\" : 11,\n",
    "    \"Hamza\" :3,\n",
    "    \"Zain\" : 5,\n",
    "}\n",
    "\n",
    "print(fav_numbers[\"Abdul\"])\n",
    "print(fav_numbers[\"Asad\"])\n",
    "print(fav_numbers[\"Hamza\"])\n",
    "print(fav_numbers[\"Farhan\"])\n",
    "print(fav_numbers[\"Zain\"])"
   ]
  },
  {
   "cell_type": "code",
   "execution_count": null,
   "metadata": {},
   "outputs": [],
   "source": []
  },
  {
   "cell_type": "markdown",
   "metadata": {},
   "source": [
    "#### 6-3. Glossary: A Python dictionary can be used to model an actual dictionary. However, to avoid confusion, let’s call it a glossary.\n",
    "* Think of five programming words you’ve learned about in the previous \n",
    "chapters. Use these words as the keys in your glossary, and store their \n",
    "meanings as values.\n",
    "* Print each word and its meaning as neatly formatted output. You might \n",
    "print the word followed by a colon and then its meaning, or print the word \n",
    "on one line and then print its meaning indented on a second line. Use the \n",
    "newline character (\\n) to insert a blank line between each word-meaning \n",
    "pair in your output."
   ]
  },
  {
   "cell_type": "code",
   "execution_count": 19,
   "metadata": {},
   "outputs": [
    {
     "name": "stdout",
     "output_type": "stream",
     "text": [
      "var : \n",
      " used to store values\n",
      "int : \n",
      " used to store integer values\n",
      "float : \n",
      " defines floating point numbers\n",
      "loop : \n",
      " used to print all values one by one\n",
      "list : \n",
      " used to store more than one values in a single variable\n"
     ]
    }
   ],
   "source": [
    "glossary = {\n",
    "    \"var\" : \"used to store values\",\n",
    "    \"int\" : \"used to store integer values\",\n",
    "    \"float\" : \"defines floating point numbers\",\n",
    "    \"loop\" : \"used to print all values one by one\",\n",
    "    \"list\" : \"used to store more than one values in a single variable\"\n",
    "}\n",
    "\n",
    "print(f\"var : \\n {glossary['var']}\")\n",
    "print(f\"int : \\n {glossary['int']}\")\n",
    "print(f\"float : \\n {glossary['float']}\")\n",
    "print(f\"loop : \\n {glossary['loop']}\")\n",
    "print(f\"list : \\n {glossary['list']}\")\n",
    "\n"
   ]
  },
  {
   "cell_type": "code",
   "execution_count": null,
   "metadata": {},
   "outputs": [],
   "source": []
  },
  {
   "cell_type": "markdown",
   "metadata": {},
   "source": [
    "#### 6-4. Glossary 2: Now that you know how to loop through a dictionary, clean up the code from Exercise 6-3 (page 99) by replacing your series of print()calls with a loop that runs through the dictionary’s keys and values. When you’re sure that your loop works, add five more Python terms to your glossary. When you run your program again, these new words and meanings should automatically be included in the output."
   ]
  },
  {
   "cell_type": "code",
   "execution_count": 20,
   "metadata": {},
   "outputs": [
    {
     "name": "stdout",
     "output_type": "stream",
     "text": [
      "var : \n",
      " used to store values \n",
      "int : \n",
      " used to store integer values \n",
      "float : \n",
      " defines floating point numbers \n",
      "loop : \n",
      " used to print all values one by one \n",
      "list : \n",
      " used to store more than one values in a single variable \n"
     ]
    }
   ],
   "source": [
    "for key,value in glossary.items():\n",
    "    print(f\"{key} : \\n {value} \")"
   ]
  },
  {
   "cell_type": "code",
   "execution_count": null,
   "metadata": {},
   "outputs": [],
   "source": []
  },
  {
   "cell_type": "markdown",
   "metadata": {},
   "source": [
    "#### 6-5. Rivers: Make a dictionary containing three major rivers and the country each river runs through. One key-value pair might be 'nile': 'egypt'.\n",
    "* Use a loop to print a sentence about each river, such as The Nile runs \n",
    "through Egypt.\n",
    "* Use a loop to print the name of each river included in the dictionary.\n",
    "* Use a loop to print the name of each country included in the dictionary."
   ]
  },
  {
   "cell_type": "code",
   "execution_count": 26,
   "metadata": {},
   "outputs": [
    {
     "name": "stdout",
     "output_type": "stream",
     "text": [
      "The Swiss runs through Turkey\n",
      "The Nile runs through Egypt\n",
      "The Ravi runs through Pakistan\n",
      "\n",
      "\n",
      "Turkey\n",
      "Egypt\n",
      "Pakistan\n",
      "\n",
      "\n",
      "Swiss\n",
      "Nile\n",
      "Ravi\n"
     ]
    }
   ],
   "source": [
    "rivers = {\n",
    "    \"Turkey\" : \"Swiss\",\n",
    "    \"Egypt\" : \"Nile\",\n",
    "    \"Pakistan\" : \"Ravi\"\n",
    "}\n",
    "\n",
    "for key , value in rivers.items():\n",
    "    print(f\"The {value} runs through {key}\")\n",
    "\n",
    "print(\"\\n\")\n",
    "\n",
    "for key in rivers.keys():\n",
    "    print(key)\n",
    "\n",
    "print(\"\\n\")\n",
    "\n",
    "for value in rivers.values():\n",
    "    print(value)"
   ]
  },
  {
   "cell_type": "code",
   "execution_count": null,
   "metadata": {},
   "outputs": [],
   "source": []
  },
  {
   "cell_type": "markdown",
   "metadata": {},
   "source": [
    "#### 6-6. Polling: Use the code in favorite_languages.py (page 96).\n",
    "* Make a list of people who should take the favorite languages poll. Include \n",
    "some names that are already in the dictionary and some that are not.\n",
    "* Loop through the list of people who should take the poll. If they have \n",
    "already taken the poll, print a message thanking them for responding. \n",
    "If they have not yet taken the poll, print a message inviting them to take \n",
    "the poll."
   ]
  },
  {
   "cell_type": "code",
   "execution_count": 30,
   "metadata": {},
   "outputs": [
    {
     "name": "stdout",
     "output_type": "stream",
     "text": [
      "Jen , Thank you for your response\n",
      "Phil , Thank you for your response\n",
      "Hafiz, Please take the poll\n",
      "Farhan, Please take the poll\n"
     ]
    }
   ],
   "source": [
    "favorite_languages = {\n",
    " 'jen': 'python',\n",
    " 'sarah': 'c',\n",
    " 'edward': 'rust',\n",
    " 'phil': 'python',\n",
    " }\n",
    "\n",
    "poll = [\"jen\", \"phil\", \"hafiz\",\"farhan\"]\n",
    "\n",
    "for i in poll:\n",
    "    if i in favorite_languages:\n",
    "        print(f\"{i.title()} , Thank you for your response\")\n",
    "    else:\n",
    "        print(f\"{i.title()}, Please take the poll\")    "
   ]
  },
  {
   "cell_type": "code",
   "execution_count": null,
   "metadata": {},
   "outputs": [],
   "source": []
  },
  {
   "cell_type": "markdown",
   "metadata": {},
   "source": [
    "#### 6-7. People: Start with the program you wrote for Exercise 6-1 (page 98). Make two new dictionaries representing different people, and store all three dictionaries in a list called people. Loop through your list of people. As you loop through the list, print everything you know about each person."
   ]
  },
  {
   "cell_type": "code",
   "execution_count": 32,
   "metadata": {},
   "outputs": [
    {
     "name": "stdout",
     "output_type": "stream",
     "text": [
      "First Name: Hafiz\n",
      "Last Name: Hamza\n",
      "Age: 23\n",
      "City: Faisalabad\n",
      "First Name: M\n",
      "Last Name: Farhan\n",
      "Age: 21\n",
      "City: Faisalabad\n",
      "First Name: Abdul\n",
      "Last Name: Rehman\n",
      "Age: 22\n",
      "City: Lahore\n"
     ]
    }
   ],
   "source": [
    "person1 = {\n",
    "    \"first_name\" : \"Hafiz\",\n",
    "    \"last_name\" : \"Hamza\",\n",
    "    \"age\" : 23,\n",
    "    \"city\" : \"Faisalabad\"\n",
    "}\n",
    "\n",
    "person2 = {\n",
    "    \"first_name\" : \"M\",\n",
    "    \"last_name\" : \"Farhan\",\n",
    "    \"age\" : 21,\n",
    "    \"city\" : \"Faisalabad\"\n",
    "}\n",
    "\n",
    "person3 = {\n",
    "    \"first_name\" : \"Abdul\",\n",
    "    \"last_name\" : \"Rehman\",\n",
    "    \"age\" : 22,\n",
    "    \"city\" : \"Lahore\"\n",
    "}\n",
    "\n",
    "people = [person1,person2,person3]\n",
    "\n",
    "for person in people:\n",
    "    print(\"First Name:\", person[\"first_name\"])\n",
    "    print(\"Last Name:\", person[\"last_name\"])\n",
    "    print(\"Age:\", person[\"age\"])\n",
    "    print(\"City:\", person[\"city\"])\n",
    "\n"
   ]
  },
  {
   "cell_type": "code",
   "execution_count": null,
   "metadata": {},
   "outputs": [],
   "source": []
  },
  {
   "cell_type": "markdown",
   "metadata": {},
   "source": [
    "#### 6-8. Pets: Make several dictionaries, where each dictionary represents a different pet. In each dictionary, include the kind of animal and the owner’s name. Store these dictionaries in a list called pets. Next, loop through your list and as you do, print everything you know about each pet."
   ]
  },
  {
   "cell_type": "code",
   "execution_count": 34,
   "metadata": {},
   "outputs": [
    {
     "name": "stdout",
     "output_type": "stream",
     "text": [
      "Abdul\n",
      "pet\n",
      "Hafiz\n",
      "pet\n",
      "Farhan\n",
      "pet\n"
     ]
    }
   ],
   "source": [
    "cat = {\n",
    "    \"owners_name\" : \"Abdul\",\n",
    "    \"kind\" : \"pet\"\n",
    "}\n",
    "\n",
    "dog = {\n",
    "    \"owners_name\" : \"Hafiz\",\n",
    "    \"kind\" : \"pet\"\n",
    "}\n",
    "\n",
    "parrot = {\n",
    "    \"owners_name\" : \"Farhan\",\n",
    "    \"kind\" : \"pet\"\n",
    "}\n",
    "\n",
    "pets = [cat,dog,parrot]\n",
    "\n",
    "for pet in pets:\n",
    "    print(pet[\"owners_name\"])\n",
    "    print(pet[\"kind\"])"
   ]
  },
  {
   "cell_type": "code",
   "execution_count": null,
   "metadata": {},
   "outputs": [],
   "source": []
  },
  {
   "cell_type": "markdown",
   "metadata": {},
   "source": [
    "#### 6-9. Favorite Places: Make a dictionary called favorite_places. Think of three names to use as keys in the dictionary, and store one to three favorite places for each person. To make this exercise a bit more interesting, ask some friends to name a few of their favorite places. Loop through the dictionary, and print each person’s name and their favorite places."
   ]
  },
  {
   "cell_type": "code",
   "execution_count": null,
   "metadata": {},
   "outputs": [],
   "source": []
  }
 ],
 "metadata": {
  "kernelspec": {
   "display_name": "base",
   "language": "python",
   "name": "python3"
  },
  "language_info": {
   "codemirror_mode": {
    "name": "ipython",
    "version": 3
   },
   "file_extension": ".py",
   "mimetype": "text/x-python",
   "name": "python",
   "nbconvert_exporter": "python",
   "pygments_lexer": "ipython3",
   "version": "3.11.5"
  }
 },
 "nbformat": 4,
 "nbformat_minor": 2
}
