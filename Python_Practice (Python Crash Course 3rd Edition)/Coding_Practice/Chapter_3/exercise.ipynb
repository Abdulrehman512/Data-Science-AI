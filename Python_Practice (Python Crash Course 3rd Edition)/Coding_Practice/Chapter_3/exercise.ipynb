{
 "cells": [
  {
   "cell_type": "markdown",
   "metadata": {},
   "source": [
    "#### 3-1. Names: Store the names of a few of your friends in a list called names. Print each person’s name by accessing each element in the list, one at a time"
   ]
  },
  {
   "cell_type": "code",
   "execution_count": 1,
   "metadata": {},
   "outputs": [
    {
     "name": "stdout",
     "output_type": "stream",
     "text": [
      "['Abdul', 'Farhan', 'Hamza', 'Abdullah']\n"
     ]
    }
   ],
   "source": [
    "names = [\"Abdul\", \"Farhan\", \"Hamza\", \"Abdullah\"]\n",
    "\n",
    "print(names)"
   ]
  },
  {
   "cell_type": "markdown",
   "metadata": {},
   "source": [
    "#### 3-2. Greetings: Start with the list you used in Exercise 3-1, but instead of just printing each person’s name, print a message to them. The text of each message should be the same, but each message should be personalized with the person’s name."
   ]
  },
  {
   "cell_type": "code",
   "execution_count": 2,
   "metadata": {},
   "outputs": [
    {
     "name": "stdout",
     "output_type": "stream",
     "text": [
      "How are you? Abdul\n",
      "How are you? Farhan\n",
      "How are you? Hamza\n",
      "How are you? Abdullah\n"
     ]
    }
   ],
   "source": [
    "message = \"How are you?\"\n",
    "\n",
    "print(message, names[0])\n",
    "print(message, names[1])\n",
    "print(message, names[2])\n",
    "print(message, names[3])"
   ]
  },
  {
   "cell_type": "markdown",
   "metadata": {},
   "source": [
    "#### 3-3. Your Own List: Think of your favorite mode of transportation, such as a motorcycle or a car, and make a list that stores several examples. Use your list to print a series of statements about these items, such as “I would like to own a Honda motorcycle.”"
   ]
  },
  {
   "cell_type": "code",
   "execution_count": 3,
   "metadata": {},
   "outputs": [
    {
     "name": "stdout",
     "output_type": "stream",
     "text": [
      "I would like to own a Bike\n",
      "I would like to own a Car\n",
      "I would like to own a Plane\n",
      "I would like to own a Ship\n"
     ]
    }
   ],
   "source": [
    "fav_trans = [\"Bike\",\"Car\",\"Plane\",\"Ship\"]\n",
    "\n",
    "print(f\"I would like to own a {fav_trans[0]}\")\n",
    "print(f\"I would like to own a {fav_trans[1]}\")\n",
    "print(f\"I would like to own a {fav_trans[2]}\")\n",
    "print(f\"I would like to own a {fav_trans[3]}\")"
   ]
  },
  {
   "cell_type": "code",
   "execution_count": null,
   "metadata": {},
   "outputs": [],
   "source": []
  }
 ],
 "metadata": {
  "kernelspec": {
   "display_name": "base",
   "language": "python",
   "name": "python3"
  },
  "language_info": {
   "codemirror_mode": {
    "name": "ipython",
    "version": 3
   },
   "file_extension": ".py",
   "mimetype": "text/x-python",
   "name": "python",
   "nbconvert_exporter": "python",
   "pygments_lexer": "ipython3",
   "version": "3.11.5"
  }
 },
 "nbformat": 4,
 "nbformat_minor": 2
}
