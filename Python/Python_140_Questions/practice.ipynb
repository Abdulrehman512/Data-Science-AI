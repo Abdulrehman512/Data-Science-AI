{
 "cells": [
  {
   "cell_type": "markdown",
   "metadata": {},
   "source": [
    "### Write a Python program to print \"Hello Python\".\n"
   ]
  },
  {
   "cell_type": "code",
   "execution_count": 1,
   "metadata": {},
   "outputs": [
    {
     "name": "stdout",
     "output_type": "stream",
     "text": [
      "Hello Python\n"
     ]
    }
   ],
   "source": [
    "print(\"Hello Python\")"
   ]
  },
  {
   "cell_type": "code",
   "execution_count": null,
   "metadata": {},
   "outputs": [],
   "source": []
  },
  {
   "cell_type": "markdown",
   "metadata": {},
   "source": [
    "### Write a Python program to do arithmetical operations addition and division"
   ]
  },
  {
   "cell_type": "code",
   "execution_count": 3,
   "metadata": {},
   "outputs": [
    {
     "name": "stdout",
     "output_type": "stream",
     "text": [
      "The sum of 11.0 and 44.0 is 55.0\n"
     ]
    }
   ],
   "source": [
    "# Addition\n",
    "\n",
    "num1 = float(input(\"Enter first number\"))\n",
    "num2 = float(input(\"Enter second number\"))\n",
    "addition = num1 + num2\n",
    "\n",
    "print(f\"The sum of {num1} and {num2} is {addition}\")"
   ]
  },
  {
   "cell_type": "code",
   "execution_count": 5,
   "metadata": {},
   "outputs": [
    {
     "name": "stdout",
     "output_type": "stream",
     "text": [
      "The division of 55.0 and 5.0 is 11.0\n"
     ]
    }
   ],
   "source": [
    "# Division\n",
    "\n",
    "num3 = float(input(\"Enter dividend\"))\n",
    "num4 = float(input(\"Enter divisor\"))\n",
    "\n",
    "if num4 == 0:\n",
    "    print(\"Error: Division by zero is not allowed.\")\n",
    "else:\n",
    "    division = num3 / num4\n",
    "    print(f\"The division of {num3} and {num4} is {division}\")"
   ]
  },
  {
   "cell_type": "code",
   "execution_count": null,
   "metadata": {},
   "outputs": [],
   "source": []
  },
  {
   "cell_type": "markdown",
   "metadata": {},
   "source": [
    "### Write a Python program to find the area of a triangle.\n"
   ]
  },
  {
   "cell_type": "code",
   "execution_count": 6,
   "metadata": {},
   "outputs": [
    {
     "name": "stdout",
     "output_type": "stream",
     "text": [
      "The area of the triangle is: 7.5\n"
     ]
    }
   ],
   "source": [
    "# Input the base and height from the user\n",
    "base = float(input(\"Enter the length of the base of the triangle: \"))\n",
    "height = float(input(\"Enter the height of the triangle: \"))\n",
    "# Calculate the area of the triangle\n",
    "area = 0.5 * base * height\n",
    "# Display the result\n",
    "print(f\"The area of the triangle is: {area}\")"
   ]
  },
  {
   "cell_type": "code",
   "execution_count": null,
   "metadata": {},
   "outputs": [],
   "source": []
  },
  {
   "cell_type": "markdown",
   "metadata": {},
   "source": [
    "### Write a Python program to swap two variables.\n"
   ]
  },
  {
   "cell_type": "code",
   "execution_count": 7,
   "metadata": {},
   "outputs": [
    {
     "name": "stdout",
     "output_type": "stream",
     "text": [
      "Original values: a = 3, b = 4\n",
      "Swapped values: a = 4, b = 3\n"
     ]
    }
   ],
   "source": [
    "# Input two variables\n",
    "a = input(\"Enter the value of the first variable (a): \")\n",
    "b = input(\"Enter the value of the second variable (b): \")\n",
    "# Display the original values\n",
    "print(f\"Original values: a = {a}, b = {b}\")\n",
    "# Swap the values using a temporary variable\n",
    "temp = a\n",
    "a = b\n",
    "b = temp\n",
    "# Display the swapped values\n",
    "print(f\"Swapped values: a = {a}, b = {b}\")\n"
   ]
  },
  {
   "cell_type": "code",
   "execution_count": null,
   "metadata": {},
   "outputs": [],
   "source": []
  },
  {
   "cell_type": "markdown",
   "metadata": {},
   "source": [
    "### Write a Python program to generate a random number"
   ]
  },
  {
   "cell_type": "code",
   "execution_count": 8,
   "metadata": {},
   "outputs": [
    {
     "name": "stdout",
     "output_type": "stream",
     "text": [
      "Random number: 50\n"
     ]
    }
   ],
   "source": [
    "import random\n",
    "print(f\"Random number: {random.randint(1, 100)}\")\n"
   ]
  },
  {
   "cell_type": "code",
   "execution_count": null,
   "metadata": {},
   "outputs": [],
   "source": []
  },
  {
   "cell_type": "markdown",
   "metadata": {},
   "source": [
    "### Write a Python program to convert kilometers to miles.\n"
   ]
  },
  {
   "cell_type": "code",
   "execution_count": 1,
   "metadata": {},
   "outputs": [
    {
     "name": "stdout",
     "output_type": "stream",
     "text": [
      "44.0 Kilometers is equal to 27.340324 miles.\n"
     ]
    }
   ],
   "source": [
    "kilometers = float(input(\"Enter distance in kilometers:\"))\n",
    "\n",
    "# Conversion factor: 1 kilometer = 0.621371 miles\n",
    "\n",
    "conversion_factor = 0.621371\n",
    "\n",
    "miles = kilometers * conversion_factor\n",
    "\n",
    "print(f\"{kilometers} Kilometers is equal to {miles} miles.\")"
   ]
  },
  {
   "cell_type": "code",
   "execution_count": null,
   "metadata": {},
   "outputs": [],
   "source": []
  },
  {
   "cell_type": "markdown",
   "metadata": {},
   "source": [
    "### Write a Python program to convert Celsius to Fahrenheit."
   ]
  },
  {
   "cell_type": "code",
   "execution_count": 5,
   "metadata": {},
   "outputs": [
    {
     "name": "stdout",
     "output_type": "stream",
     "text": [
      "37.0 celcius is equal to 98.6 fahrenheit.\n"
     ]
    }
   ],
   "source": [
    "celcius = float(input(\"Enter distance in celcius:\"))\n",
    "\n",
    "# Conversion formula: Fahrenheit = (Celsius * 9/5) + 32\n",
    "\n",
    "fahrenheit = (celcius * 9/5) + 32\n",
    "\n",
    "print(f\"{celcius} celcius is equal to {fahrenheit} fahrenheit.\")"
   ]
  },
  {
   "cell_type": "code",
   "execution_count": null,
   "metadata": {},
   "outputs": [],
   "source": []
  },
  {
   "cell_type": "markdown",
   "metadata": {},
   "source": [
    "### Write a Python program to display calendar"
   ]
  },
  {
   "cell_type": "code",
   "execution_count": 7,
   "metadata": {},
   "outputs": [
    {
     "name": "stdout",
     "output_type": "stream",
     "text": [
      "     April 2024\n",
      "Mo Tu We Th Fr Sa Su\n",
      " 1  2  3  4  5  6  7\n",
      " 8  9 10 11 12 13 14\n",
      "15 16 17 18 19 20 21\n",
      "22 23 24 25 26 27 28\n",
      "29 30\n",
      "\n"
     ]
    }
   ],
   "source": [
    "import calendar\n",
    "\n",
    "year = int(input(\"Enter Year:\"))\n",
    "month = int(input(\"Enter Month:\"))\n",
    "\n",
    "cal = calendar.month(year,month)\n",
    "\n",
    "print(cal)"
   ]
  },
  {
   "cell_type": "code",
   "execution_count": null,
   "metadata": {},
   "outputs": [],
   "source": []
  },
  {
   "cell_type": "markdown",
   "metadata": {},
   "source": [
    "### Write a Python program to solve quadratic equation.\n",
    "The standard form of a quadratic equation is:\n",
    "𝑎𝑥 + 𝑏𝑥 + 𝑐 = 0\n",
    "\n",
    "where\n",
    "a, b and c are real numbers and 𝑎 ≠ 0\n",
    "\n",
    "The solutions of this quadratic equation is given by:\n",
    "\n",
    "(−𝑏 ± (𝑏 − 4𝑎𝑐 )/(2𝑎)"
   ]
  },
  {
   "cell_type": "code",
   "execution_count": 9,
   "metadata": {},
   "outputs": [
    {
     "name": "stdout",
     "output_type": "stream",
     "text": [
      "Root 1: -0.8333333333333334 + 1.2801909579781012i\n",
      "Root 2: -0.8333333333333334 - 1.2801909579781012i\n"
     ]
    }
   ],
   "source": [
    "import math\n",
    "# Input coefficients\n",
    "a = float(input(\"Enter coefficient a: \"))\n",
    "b = float(input(\"Enter coefficient b: \"))\n",
    "c = float(input(\"Enter coefficient c: \"))\n",
    "\n",
    "# Calculate the discriminant\n",
    "discriminant = b**2 - 4*a*c\n",
    "\n",
    "# Check if the discriminant is positive, negative, or zero\n",
    "if discriminant > 0:\n",
    " # Two real and distinct roots\n",
    " root1 = (-b + math.sqrt(discriminant)) / (2*a)\n",
    " root2 = (-b - math.sqrt(discriminant)) / (2*a)\n",
    " print(f\"Root 1: {root1}\")\n",
    " print(f\"Root 2: {root2}\")\n",
    "elif discriminant == 0:\n",
    " # One real root (repeated)\n",
    " root = -b / (2*a)\n",
    " print(f\"Root: {root}\")\n",
    "else:\n",
    " # Complex roots\n",
    " real_part = -b / (2*a)\n",
    " imaginary_part = math.sqrt(abs(discriminant)) / (2*a)\n",
    " print(f\"Root 1: {real_part} + {imaginary_part}i\")\n",
    " print(f\"Root 2: {real_part} - {imaginary_part}i\")\n"
   ]
  },
  {
   "cell_type": "markdown",
   "metadata": {},
   "source": [
    "### Write a Python program to swap two variables without temp variable.\n"
   ]
  },
  {
   "cell_type": "code",
   "execution_count": 8,
   "metadata": {},
   "outputs": [
    {
     "name": "stdout",
     "output_type": "stream",
     "text": [
      "After swapping:\n",
      "a = 10\n",
      "b = 5\n"
     ]
    }
   ],
   "source": [
    "a = 5\n",
    "b = 10\n",
    "\n",
    "# Swapping without a temporary variable\n",
    "a, b = b, a\n",
    "\n",
    "print(\"After swapping:\")\n",
    "print(\"a =\", a)\n",
    "print(\"b =\", b)\n"
   ]
  },
  {
   "cell_type": "code",
   "execution_count": null,
   "metadata": {},
   "outputs": [],
   "source": []
  }
 ],
 "metadata": {
  "kernelspec": {
   "display_name": "base",
   "language": "python",
   "name": "python3"
  },
  "language_info": {
   "codemirror_mode": {
    "name": "ipython",
    "version": 3
   },
   "file_extension": ".py",
   "mimetype": "text/x-python",
   "name": "python",
   "nbconvert_exporter": "python",
   "pygments_lexer": "ipython3",
   "version": "3.11.5"
  }
 },
 "nbformat": 4,
 "nbformat_minor": 2
}
