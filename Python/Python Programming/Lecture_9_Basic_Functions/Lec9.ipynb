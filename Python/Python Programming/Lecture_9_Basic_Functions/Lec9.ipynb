{
 "cells": [
  {
   "cell_type": "code",
   "execution_count": 42,
   "metadata": {},
   "outputs": [],
   "source": [
    "l = list(range(9))"
   ]
  },
  {
   "cell_type": "code",
   "execution_count": 43,
   "metadata": {},
   "outputs": [
    {
     "data": {
      "text/plain": [
       "[0, 1, 2, 3, 4, 5, 6, 7, 8]"
      ]
     },
     "execution_count": 43,
     "metadata": {},
     "output_type": "execute_result"
    }
   ],
   "source": [
    "l"
   ]
  },
  {
   "cell_type": "code",
   "execution_count": 44,
   "metadata": {},
   "outputs": [],
   "source": [
    "l = list(range(1,9))"
   ]
  },
  {
   "cell_type": "code",
   "execution_count": 45,
   "metadata": {},
   "outputs": [
    {
     "data": {
      "text/plain": [
       "[1, 2, 3, 4, 5, 6, 7, 8]"
      ]
     },
     "execution_count": 45,
     "metadata": {},
     "output_type": "execute_result"
    }
   ],
   "source": [
    "l"
   ]
  },
  {
   "cell_type": "code",
   "execution_count": 46,
   "metadata": {},
   "outputs": [
    {
     "data": {
      "text/plain": [
       "8"
      ]
     },
     "execution_count": 46,
     "metadata": {},
     "output_type": "execute_result"
    }
   ],
   "source": [
    "len(l)"
   ]
  },
  {
   "cell_type": "code",
   "execution_count": 47,
   "metadata": {},
   "outputs": [
    {
     "name": "stdout",
     "output_type": "stream",
     "text": [
      "2\n",
      "3\n",
      "4\n",
      "5\n",
      "6\n",
      "7\n",
      "8\n",
      "9\n"
     ]
    }
   ],
   "source": [
    "list_count = 0\n",
    "\n",
    "for i in l:\n",
    "    print(i+1)"
   ]
  },
  {
   "cell_type": "code",
   "execution_count": 48,
   "metadata": {},
   "outputs": [
    {
     "name": "stdout",
     "output_type": "stream",
     "text": [
      "1\n",
      "2\n",
      "3\n",
      "4\n",
      "5\n",
      "6\n",
      "7\n",
      "8\n"
     ]
    }
   ],
   "source": [
    "for _ in l:\n",
    "    print(_)"
   ]
  },
  {
   "cell_type": "code",
   "execution_count": 49,
   "metadata": {},
   "outputs": [],
   "source": [
    "list_count = 0\n",
    "\n",
    "for _ in l:\n",
    "    list_count += 1"
   ]
  },
  {
   "cell_type": "code",
   "execution_count": 50,
   "metadata": {},
   "outputs": [
    {
     "data": {
      "text/plain": [
       "8"
      ]
     },
     "execution_count": 50,
     "metadata": {},
     "output_type": "execute_result"
    }
   ],
   "source": [
    "list_count"
   ]
  },
  {
   "cell_type": "code",
   "execution_count": 51,
   "metadata": {},
   "outputs": [
    {
     "data": {
      "text/plain": [
       "36"
      ]
     },
     "execution_count": 51,
     "metadata": {},
     "output_type": "execute_result"
    }
   ],
   "source": [
    "sum(l)"
   ]
  },
  {
   "cell_type": "code",
   "execution_count": 52,
   "metadata": {},
   "outputs": [],
   "source": [
    "total = 0\n",
    "\n",
    "for i in l:\n",
    "    total += i"
   ]
  },
  {
   "cell_type": "code",
   "execution_count": 53,
   "metadata": {},
   "outputs": [
    {
     "data": {
      "text/plain": [
       "36"
      ]
     },
     "execution_count": 53,
     "metadata": {},
     "output_type": "execute_result"
    }
   ],
   "source": [
    "total"
   ]
  },
  {
   "cell_type": "code",
   "execution_count": 54,
   "metadata": {},
   "outputs": [],
   "source": [
    "url =  \"https://api.exchangerate-api.com/v4/latest/USD\""
   ]
  },
  {
   "cell_type": "code",
   "execution_count": 55,
   "metadata": {},
   "outputs": [],
   "source": [
    "import requests"
   ]
  },
  {
   "cell_type": "code",
   "execution_count": 56,
   "metadata": {},
   "outputs": [],
   "source": [
    "response = requests.get(url)"
   ]
  },
  {
   "cell_type": "code",
   "execution_count": 57,
   "metadata": {},
   "outputs": [
    {
     "data": {
      "text/plain": [
       "200"
      ]
     },
     "execution_count": 57,
     "metadata": {},
     "output_type": "execute_result"
    }
   ],
   "source": [
    "response.status_code"
   ]
  },
  {
   "cell_type": "code",
   "execution_count": 58,
   "metadata": {},
   "outputs": [],
   "source": [
    "data = response.json()"
   ]
  },
  {
   "cell_type": "code",
   "execution_count": 59,
   "metadata": {},
   "outputs": [
    {
     "data": {
      "text/plain": [
       "dict"
      ]
     },
     "execution_count": 59,
     "metadata": {},
     "output_type": "execute_result"
    }
   ],
   "source": [
    "type(data)"
   ]
  },
  {
   "cell_type": "code",
   "execution_count": 60,
   "metadata": {},
   "outputs": [
    {
     "data": {
      "text/plain": [
       "{'provider': 'https://www.exchangerate-api.com',\n",
       " 'WARNING_UPGRADE_TO_V6': 'https://www.exchangerate-api.com/docs/free',\n",
       " 'terms': 'https://www.exchangerate-api.com/terms',\n",
       " 'base': 'USD',\n",
       " 'date': '2024-01-21',\n",
       " 'time_last_updated': 1705795201,\n",
       " 'rates': {'USD': 1,\n",
       "  'AED': 3.67,\n",
       "  'AFN': 72.88,\n",
       "  'ALL': 95.72,\n",
       "  'AMD': 405.26,\n",
       "  'ANG': 1.79,\n",
       "  'AOA': 842.08,\n",
       "  'ARS': 819.75,\n",
       "  'AUD': 1.52,\n",
       "  'AWG': 1.79,\n",
       "  'AZN': 1.7,\n",
       "  'BAM': 1.8,\n",
       "  'BBD': 2,\n",
       "  'BDT': 109.63,\n",
       "  'BGN': 1.8,\n",
       "  'BHD': 0.376,\n",
       "  'BIF': 2839.91,\n",
       "  'BMD': 1,\n",
       "  'BND': 1.34,\n",
       "  'BOB': 6.89,\n",
       "  'BRL': 4.93,\n",
       "  'BSD': 1,\n",
       "  'BTN': 83.14,\n",
       "  'BWP': 13.76,\n",
       "  'BYN': 3.2,\n",
       "  'BZD': 2,\n",
       "  'CAD': 1.35,\n",
       "  'CDF': 2702.29,\n",
       "  'CHF': 0.869,\n",
       "  'CLP': 917.07,\n",
       "  'CNY': 7.2,\n",
       "  'COP': 3967.51,\n",
       "  'CRC': 516.03,\n",
       "  'CUP': 24,\n",
       "  'CVE': 101.27,\n",
       "  'CZK': 22.77,\n",
       "  'DJF': 177.72,\n",
       "  'DKK': 6.85,\n",
       "  'DOP': 58.07,\n",
       "  'DZD': 134.45,\n",
       "  'EGP': 30.98,\n",
       "  'ERN': 15,\n",
       "  'ETB': 56.59,\n",
       "  'EUR': 0.918,\n",
       "  'FJD': 2.24,\n",
       "  'FKP': 0.788,\n",
       "  'FOK': 6.85,\n",
       "  'GBP': 0.788,\n",
       "  'GEL': 2.66,\n",
       "  'GGP': 0.788,\n",
       "  'GHS': 12.16,\n",
       "  'GIP': 0.788,\n",
       "  'GMD': 65.72,\n",
       "  'GNF': 8579.88,\n",
       "  'GTQ': 7.77,\n",
       "  'GYD': 209.23,\n",
       "  'HKD': 7.82,\n",
       "  'HNL': 24.52,\n",
       "  'HRK': 6.92,\n",
       "  'HTG': 131.93,\n",
       "  'HUF': 350.89,\n",
       "  'IDR': 15617.11,\n",
       "  'ILS': 3.75,\n",
       "  'IMP': 0.788,\n",
       "  'INR': 83.14,\n",
       "  'IQD': 1307.77,\n",
       "  'IRR': 41888.46,\n",
       "  'ISK': 136.71,\n",
       "  'JEP': 0.788,\n",
       "  'JMD': 155.08,\n",
       "  'JOD': 0.709,\n",
       "  'JPY': 148.14,\n",
       "  'KES': 160.93,\n",
       "  'KGS': 89.44,\n",
       "  'KHR': 4089.54,\n",
       "  'KID': 1.52,\n",
       "  'KMF': 451.82,\n",
       "  'KRW': 1334.64,\n",
       "  'KWD': 0.307,\n",
       "  'KYD': 0.833,\n",
       "  'KZT': 450.8,\n",
       "  'LAK': 20464.14,\n",
       "  'LBP': 15000,\n",
       "  'LKR': 320.12,\n",
       "  'LRD': 190.66,\n",
       "  'LSL': 19.01,\n",
       "  'LYD': 4.82,\n",
       "  'MAD': 9.96,\n",
       "  'MDL': 17.64,\n",
       "  'MGA': 4542.7,\n",
       "  'MKD': 56.69,\n",
       "  'MMK': 2090.67,\n",
       "  'MNT': 3426.56,\n",
       "  'MOP': 8.05,\n",
       "  'MRU': 39.57,\n",
       "  'MUR': 44.11,\n",
       "  'MVR': 15.41,\n",
       "  'MWK': 1692.15,\n",
       "  'MXN': 17.11,\n",
       "  'MYR': 4.72,\n",
       "  'MZN': 63.89,\n",
       "  'NAD': 19.01,\n",
       "  'NGN': 885.47,\n",
       "  'NIO': 36.4,\n",
       "  'NOK': 10.49,\n",
       "  'NPR': 133.03,\n",
       "  'NZD': 1.64,\n",
       "  'OMR': 0.384,\n",
       "  'PAB': 1,\n",
       "  'PEN': 3.74,\n",
       "  'PGK': 3.71,\n",
       "  'PHP': 55.89,\n",
       "  'PKR': 277.14,\n",
       "  'PLN': 4.01,\n",
       "  'PYG': 7288.03,\n",
       "  'QAR': 3.64,\n",
       "  'RON': 4.57,\n",
       "  'RSD': 107.66,\n",
       "  'RUB': 89.43,\n",
       "  'RWF': 1305.35,\n",
       "  'SAR': 3.75,\n",
       "  'SBD': 8.45,\n",
       "  'SCR': 13.4,\n",
       "  'SDG': 508.97,\n",
       "  'SEK': 10.47,\n",
       "  'SGD': 1.34,\n",
       "  'SHP': 0.788,\n",
       "  'SLE': 22.7,\n",
       "  'SLL': 22701.74,\n",
       "  'SOS': 570.98,\n",
       "  'SRD': 36.86,\n",
       "  'SSP': 1099.84,\n",
       "  'STN': 22.5,\n",
       "  'SYP': 12836.55,\n",
       "  'SZL': 19.01,\n",
       "  'THB': 35.53,\n",
       "  'TJS': 10.92,\n",
       "  'TMT': 3.5,\n",
       "  'TND': 3.11,\n",
       "  'TOP': 2.33,\n",
       "  'TRY': 30.22,\n",
       "  'TTD': 6.74,\n",
       "  'TVD': 1.52,\n",
       "  'TWD': 31.34,\n",
       "  'TZS': 2517.97,\n",
       "  'UAH': 37.58,\n",
       "  'UGX': 3803.95,\n",
       "  'UYU': 39.12,\n",
       "  'UZS': 12292.77,\n",
       "  'VES': 36.15,\n",
       "  'VND': 24506.04,\n",
       "  'VUV': 120.43,\n",
       "  'WST': 2.73,\n",
       "  'XAF': 602.43,\n",
       "  'XCD': 2.7,\n",
       "  'XDR': 0.751,\n",
       "  'XOF': 602.43,\n",
       "  'XPF': 109.59,\n",
       "  'YER': 248.73,\n",
       "  'ZAR': 19.01,\n",
       "  'ZMW': 26.4,\n",
       "  'ZWL': 8902.78}}"
      ]
     },
     "execution_count": 60,
     "metadata": {},
     "output_type": "execute_result"
    }
   ],
   "source": [
    "data"
   ]
  },
  {
   "cell_type": "code",
   "execution_count": 61,
   "metadata": {},
   "outputs": [
    {
     "data": {
      "text/plain": [
       "dict_keys(['provider', 'WARNING_UPGRADE_TO_V6', 'terms', 'base', 'date', 'time_last_updated', 'rates'])"
      ]
     },
     "execution_count": 61,
     "metadata": {},
     "output_type": "execute_result"
    }
   ],
   "source": [
    "data.keys()"
   ]
  },
  {
   "cell_type": "code",
   "execution_count": 62,
   "metadata": {},
   "outputs": [
    {
     "data": {
      "text/plain": [
       "{'USD': 1,\n",
       " 'AED': 3.67,\n",
       " 'AFN': 72.88,\n",
       " 'ALL': 95.72,\n",
       " 'AMD': 405.26,\n",
       " 'ANG': 1.79,\n",
       " 'AOA': 842.08,\n",
       " 'ARS': 819.75,\n",
       " 'AUD': 1.52,\n",
       " 'AWG': 1.79,\n",
       " 'AZN': 1.7,\n",
       " 'BAM': 1.8,\n",
       " 'BBD': 2,\n",
       " 'BDT': 109.63,\n",
       " 'BGN': 1.8,\n",
       " 'BHD': 0.376,\n",
       " 'BIF': 2839.91,\n",
       " 'BMD': 1,\n",
       " 'BND': 1.34,\n",
       " 'BOB': 6.89,\n",
       " 'BRL': 4.93,\n",
       " 'BSD': 1,\n",
       " 'BTN': 83.14,\n",
       " 'BWP': 13.76,\n",
       " 'BYN': 3.2,\n",
       " 'BZD': 2,\n",
       " 'CAD': 1.35,\n",
       " 'CDF': 2702.29,\n",
       " 'CHF': 0.869,\n",
       " 'CLP': 917.07,\n",
       " 'CNY': 7.2,\n",
       " 'COP': 3967.51,\n",
       " 'CRC': 516.03,\n",
       " 'CUP': 24,\n",
       " 'CVE': 101.27,\n",
       " 'CZK': 22.77,\n",
       " 'DJF': 177.72,\n",
       " 'DKK': 6.85,\n",
       " 'DOP': 58.07,\n",
       " 'DZD': 134.45,\n",
       " 'EGP': 30.98,\n",
       " 'ERN': 15,\n",
       " 'ETB': 56.59,\n",
       " 'EUR': 0.918,\n",
       " 'FJD': 2.24,\n",
       " 'FKP': 0.788,\n",
       " 'FOK': 6.85,\n",
       " 'GBP': 0.788,\n",
       " 'GEL': 2.66,\n",
       " 'GGP': 0.788,\n",
       " 'GHS': 12.16,\n",
       " 'GIP': 0.788,\n",
       " 'GMD': 65.72,\n",
       " 'GNF': 8579.88,\n",
       " 'GTQ': 7.77,\n",
       " 'GYD': 209.23,\n",
       " 'HKD': 7.82,\n",
       " 'HNL': 24.52,\n",
       " 'HRK': 6.92,\n",
       " 'HTG': 131.93,\n",
       " 'HUF': 350.89,\n",
       " 'IDR': 15617.11,\n",
       " 'ILS': 3.75,\n",
       " 'IMP': 0.788,\n",
       " 'INR': 83.14,\n",
       " 'IQD': 1307.77,\n",
       " 'IRR': 41888.46,\n",
       " 'ISK': 136.71,\n",
       " 'JEP': 0.788,\n",
       " 'JMD': 155.08,\n",
       " 'JOD': 0.709,\n",
       " 'JPY': 148.14,\n",
       " 'KES': 160.93,\n",
       " 'KGS': 89.44,\n",
       " 'KHR': 4089.54,\n",
       " 'KID': 1.52,\n",
       " 'KMF': 451.82,\n",
       " 'KRW': 1334.64,\n",
       " 'KWD': 0.307,\n",
       " 'KYD': 0.833,\n",
       " 'KZT': 450.8,\n",
       " 'LAK': 20464.14,\n",
       " 'LBP': 15000,\n",
       " 'LKR': 320.12,\n",
       " 'LRD': 190.66,\n",
       " 'LSL': 19.01,\n",
       " 'LYD': 4.82,\n",
       " 'MAD': 9.96,\n",
       " 'MDL': 17.64,\n",
       " 'MGA': 4542.7,\n",
       " 'MKD': 56.69,\n",
       " 'MMK': 2090.67,\n",
       " 'MNT': 3426.56,\n",
       " 'MOP': 8.05,\n",
       " 'MRU': 39.57,\n",
       " 'MUR': 44.11,\n",
       " 'MVR': 15.41,\n",
       " 'MWK': 1692.15,\n",
       " 'MXN': 17.11,\n",
       " 'MYR': 4.72,\n",
       " 'MZN': 63.89,\n",
       " 'NAD': 19.01,\n",
       " 'NGN': 885.47,\n",
       " 'NIO': 36.4,\n",
       " 'NOK': 10.49,\n",
       " 'NPR': 133.03,\n",
       " 'NZD': 1.64,\n",
       " 'OMR': 0.384,\n",
       " 'PAB': 1,\n",
       " 'PEN': 3.74,\n",
       " 'PGK': 3.71,\n",
       " 'PHP': 55.89,\n",
       " 'PKR': 277.14,\n",
       " 'PLN': 4.01,\n",
       " 'PYG': 7288.03,\n",
       " 'QAR': 3.64,\n",
       " 'RON': 4.57,\n",
       " 'RSD': 107.66,\n",
       " 'RUB': 89.43,\n",
       " 'RWF': 1305.35,\n",
       " 'SAR': 3.75,\n",
       " 'SBD': 8.45,\n",
       " 'SCR': 13.4,\n",
       " 'SDG': 508.97,\n",
       " 'SEK': 10.47,\n",
       " 'SGD': 1.34,\n",
       " 'SHP': 0.788,\n",
       " 'SLE': 22.7,\n",
       " 'SLL': 22701.74,\n",
       " 'SOS': 570.98,\n",
       " 'SRD': 36.86,\n",
       " 'SSP': 1099.84,\n",
       " 'STN': 22.5,\n",
       " 'SYP': 12836.55,\n",
       " 'SZL': 19.01,\n",
       " 'THB': 35.53,\n",
       " 'TJS': 10.92,\n",
       " 'TMT': 3.5,\n",
       " 'TND': 3.11,\n",
       " 'TOP': 2.33,\n",
       " 'TRY': 30.22,\n",
       " 'TTD': 6.74,\n",
       " 'TVD': 1.52,\n",
       " 'TWD': 31.34,\n",
       " 'TZS': 2517.97,\n",
       " 'UAH': 37.58,\n",
       " 'UGX': 3803.95,\n",
       " 'UYU': 39.12,\n",
       " 'UZS': 12292.77,\n",
       " 'VES': 36.15,\n",
       " 'VND': 24506.04,\n",
       " 'VUV': 120.43,\n",
       " 'WST': 2.73,\n",
       " 'XAF': 602.43,\n",
       " 'XCD': 2.7,\n",
       " 'XDR': 0.751,\n",
       " 'XOF': 602.43,\n",
       " 'XPF': 109.59,\n",
       " 'YER': 248.73,\n",
       " 'ZAR': 19.01,\n",
       " 'ZMW': 26.4,\n",
       " 'ZWL': 8902.78}"
      ]
     },
     "execution_count": 62,
     "metadata": {},
     "output_type": "execute_result"
    }
   ],
   "source": [
    "data[\"rates\"]# dictonary"
   ]
  },
  {
   "cell_type": "code",
   "execution_count": 63,
   "metadata": {},
   "outputs": [
    {
     "data": {
      "text/plain": [
       "78.8"
      ]
     },
     "execution_count": 63,
     "metadata": {},
     "output_type": "execute_result"
    }
   ],
   "source": [
    "data[\"rates\"][\"GBP\"]*100"
   ]
  },
  {
   "cell_type": "code",
   "execution_count": 64,
   "metadata": {},
   "outputs": [],
   "source": [
    "def curr_conv():\n",
    "    response=requests.get(url)\n",
    "    data = response.json()\n",
    "    amount = 100\n",
    "    conversion_currency = \"GBP\"\n",
    "    data[\"rates\"][conversion_currency]*amount"
   ]
  },
  {
   "cell_type": "code",
   "execution_count": 65,
   "metadata": {},
   "outputs": [],
   "source": [
    "curr_conv()"
   ]
  },
  {
   "cell_type": "code",
   "execution_count": 66,
   "metadata": {},
   "outputs": [],
   "source": [
    "def curr_conv():\n",
    "    response = requests.get(url)\n",
    "    data = response.json()\n",
    "    amount = 100 \n",
    "    conversion_currency = \"GBP\"\n",
    "    data[\"rates\"][conversion_currency]*100\n",
    "    return \"Abdul\""
   ]
  },
  {
   "cell_type": "code",
   "execution_count": 67,
   "metadata": {},
   "outputs": [
    {
     "data": {
      "text/plain": [
       "'Abdul'"
      ]
     },
     "execution_count": 67,
     "metadata": {},
     "output_type": "execute_result"
    }
   ],
   "source": [
    "curr_conv()"
   ]
  },
  {
   "cell_type": "code",
   "execution_count": 68,
   "metadata": {},
   "outputs": [],
   "source": [
    "def curr_conv():\n",
    "    response = requests.get(url)\n",
    "    data = response.json()\n",
    "    amount = 100 \n",
    "    conversion_currency = \"GBP\"\n",
    "    conv = data[\"rates\"][conversion_currency]*100\n",
    "    return conv"
   ]
  },
  {
   "cell_type": "code",
   "execution_count": 69,
   "metadata": {},
   "outputs": [
    {
     "data": {
      "text/plain": [
       "78.8"
      ]
     },
     "execution_count": 69,
     "metadata": {},
     "output_type": "execute_result"
    }
   ],
   "source": [
    "curr_conv()"
   ]
  },
  {
   "cell_type": "code",
   "execution_count": 72,
   "metadata": {},
   "outputs": [],
   "source": [
    "def curr_conv(amount):\n",
    "    response = requests.get(url)\n",
    "    data = response.json()\n",
    "    # amount = 100 \n",
    "    conversion_currency = \"GBP\"\n",
    "    conv = data[\"rates\"][conversion_currency]*amount\n",
    "    return conv"
   ]
  },
  {
   "cell_type": "code",
   "execution_count": 73,
   "metadata": {},
   "outputs": [
    {
     "data": {
      "text/plain": [
       "437.34000000000003"
      ]
     },
     "execution_count": 73,
     "metadata": {},
     "output_type": "execute_result"
    }
   ],
   "source": [
    "curr_conv(555)"
   ]
  },
  {
   "cell_type": "code",
   "execution_count": 74,
   "metadata": {},
   "outputs": [],
   "source": [
    "def curr_conv(amount, targrt_curr):\n",
    "    response = requests.get(url)\n",
    "    data = response.json()\n",
    "    # amount = 100 \n",
    "    # conversion_currency = \"GBP\"\n",
    "    conv = data[\"rates\"][targrt_curr]*amount\n",
    "    return conv"
   ]
  },
  {
   "cell_type": "code",
   "execution_count": 76,
   "metadata": {},
   "outputs": [
    {
     "data": {
      "text/plain": [
       "449.55"
      ]
     },
     "execution_count": 76,
     "metadata": {},
     "output_type": "execute_result"
    }
   ],
   "source": [
    "curr_conv(333,\"CAD\")"
   ]
  },
  {
   "cell_type": "code",
   "execution_count": 77,
   "metadata": {},
   "outputs": [
    {
     "data": {
      "text/plain": [
       "277.14"
      ]
     },
     "execution_count": 77,
     "metadata": {},
     "output_type": "execute_result"
    }
   ],
   "source": [
    "curr_conv(1,\"PKR\")"
   ]
  },
  {
   "cell_type": "code",
   "execution_count": 78,
   "metadata": {},
   "outputs": [
    {
     "data": {
      "text/plain": [
       "83.14"
      ]
     },
     "execution_count": 78,
     "metadata": {},
     "output_type": "execute_result"
    }
   ],
   "source": [
    "curr_conv(1, \"INR\")"
   ]
  },
  {
   "cell_type": "code",
   "execution_count": 79,
   "metadata": {},
   "outputs": [],
   "source": [
    "def curr_conv(amount, targrt_curr):\n",
    "    response = requests.get(url)\n",
    "    data = response.json()\n",
    "    # amount = 100 \n",
    "    # conversion_currency = \"GBP\"\n",
    "    conv = data[\"rates\"][targrt_curr]*amount\n",
    "    return targrt_curr + \" \" + str(conv)"
   ]
  },
  {
   "cell_type": "code",
   "execution_count": 80,
   "metadata": {},
   "outputs": [
    {
     "data": {
      "text/plain": [
       "'JPY 296.28'"
      ]
     },
     "execution_count": 80,
     "metadata": {},
     "output_type": "execute_result"
    }
   ],
   "source": [
    "curr_conv(2,\"JPY\")"
   ]
  },
  {
   "cell_type": "code",
   "execution_count": 81,
   "metadata": {},
   "outputs": [],
   "source": [
    "import json"
   ]
  },
  {
   "cell_type": "code",
   "execution_count": 82,
   "metadata": {},
   "outputs": [],
   "source": [
    "with open(\"sales.json\") as f:\n",
    "    sales = json.load(f)"
   ]
  },
  {
   "cell_type": "code",
   "execution_count": 83,
   "metadata": {},
   "outputs": [
    {
     "data": {
      "text/plain": [
       "dict"
      ]
     },
     "execution_count": 83,
     "metadata": {},
     "output_type": "execute_result"
    }
   ],
   "source": [
    "type(sales)"
   ]
  },
  {
   "cell_type": "code",
   "execution_count": 84,
   "metadata": {},
   "outputs": [
    {
     "name": "stdout",
     "output_type": "stream",
     "text": [
      "{'3942': {'purchase_total': 100.5, 'currency': 'CAD'}, '8791': {'purchase_total': 75.25, 'currency': 'EUR'}, '5623': {'purchase_total': 50.75, 'currency': 'GBP'}, '1234': {'purchase_total': 200.1, 'currency': 'USD'}, '5678': {'purchase_total': 150.75, 'currency': 'JPY'}, '9876': {'purchase_total': 300.5, 'currency': 'CAD'}, '2457': {'purchase_total': 80.0, 'currency': 'USD'}, '7365': {'purchase_total': 55.25, 'currency': 'GBP'}, '8910': {'purchase_total': 120.6, 'currency': 'CAD'}, '4321': {'purchase_total': 180.25, 'currency': 'EUR'}, '6789': {'purchase_total': 90.75, 'currency': 'JPY'}, '5432': {'purchase_total': 250.9, 'currency': 'USD'}, '1098': {'purchase_total': 70.25, 'currency': 'GBP'}, '3647': {'purchase_total': 140.5, 'currency': 'CAD'}, '2190': {'purchase_total': 95.8, 'currency': 'EUR'}, '8765': {'purchase_total': 180.75, 'currency': 'JPY'}, '9875': {'purchase_total': 210.25, 'currency': 'USD'}, '1342': {'purchase_total': 65.5, 'currency': 'GBP'}, '7690': {'purchase_total': 110.2, 'currency': 'CAD'}, '2389': {'purchase_total': 155.35, 'currency': 'EUR'}, '6574': {'purchase_total': 80.75, 'currency': 'JPY'}, '9832': {'purchase_total': 280.4, 'currency': 'USD'}, '3257': {'purchase_total': 60.25, 'currency': 'GBP'}, '7194': {'purchase_total': 130.75, 'currency': 'CAD'}, '8746': {'purchase_total': 175.9, 'currency': 'EUR'}, '2019': {'purchase_total': 85.75, 'currency': 'JPY'}, '5437': {'purchase_total': 195.25, 'currency': 'USD'}, '1025': {'purchase_total': 50.5, 'currency': 'GBP'}, '6932': {'purchase_total': 120.3, 'currency': 'CAD'}}\n"
     ]
    }
   ],
   "source": [
    "print(sales)"
   ]
  },
  {
   "cell_type": "code",
   "execution_count": 85,
   "metadata": {},
   "outputs": [
    {
     "data": {
      "text/plain": [
       "{'3942': {'purchase_total': 100.5, 'currency': 'CAD'},\n",
       " '8791': {'purchase_total': 75.25, 'currency': 'EUR'},\n",
       " '5623': {'purchase_total': 50.75, 'currency': 'GBP'},\n",
       " '1234': {'purchase_total': 200.1, 'currency': 'USD'},\n",
       " '5678': {'purchase_total': 150.75, 'currency': 'JPY'},\n",
       " '9876': {'purchase_total': 300.5, 'currency': 'CAD'},\n",
       " '2457': {'purchase_total': 80.0, 'currency': 'USD'},\n",
       " '7365': {'purchase_total': 55.25, 'currency': 'GBP'},\n",
       " '8910': {'purchase_total': 120.6, 'currency': 'CAD'},\n",
       " '4321': {'purchase_total': 180.25, 'currency': 'EUR'},\n",
       " '6789': {'purchase_total': 90.75, 'currency': 'JPY'},\n",
       " '5432': {'purchase_total': 250.9, 'currency': 'USD'},\n",
       " '1098': {'purchase_total': 70.25, 'currency': 'GBP'},\n",
       " '3647': {'purchase_total': 140.5, 'currency': 'CAD'},\n",
       " '2190': {'purchase_total': 95.8, 'currency': 'EUR'},\n",
       " '8765': {'purchase_total': 180.75, 'currency': 'JPY'},\n",
       " '9875': {'purchase_total': 210.25, 'currency': 'USD'},\n",
       " '1342': {'purchase_total': 65.5, 'currency': 'GBP'},\n",
       " '7690': {'purchase_total': 110.2, 'currency': 'CAD'},\n",
       " '2389': {'purchase_total': 155.35, 'currency': 'EUR'},\n",
       " '6574': {'purchase_total': 80.75, 'currency': 'JPY'},\n",
       " '9832': {'purchase_total': 280.4, 'currency': 'USD'},\n",
       " '3257': {'purchase_total': 60.25, 'currency': 'GBP'},\n",
       " '7194': {'purchase_total': 130.75, 'currency': 'CAD'},\n",
       " '8746': {'purchase_total': 175.9, 'currency': 'EUR'},\n",
       " '2019': {'purchase_total': 85.75, 'currency': 'JPY'},\n",
       " '5437': {'purchase_total': 195.25, 'currency': 'USD'},\n",
       " '1025': {'purchase_total': 50.5, 'currency': 'GBP'},\n",
       " '6932': {'purchase_total': 120.3, 'currency': 'CAD'}}"
      ]
     },
     "execution_count": 85,
     "metadata": {},
     "output_type": "execute_result"
    }
   ],
   "source": [
    "sales"
   ]
  },
  {
   "cell_type": "code",
   "execution_count": 86,
   "metadata": {},
   "outputs": [
    {
     "data": {
      "text/plain": [
       "29"
      ]
     },
     "execution_count": 86,
     "metadata": {},
     "output_type": "execute_result"
    }
   ],
   "source": [
    "len(sales)"
   ]
  },
  {
   "cell_type": "code",
   "execution_count": 87,
   "metadata": {},
   "outputs": [
    {
     "name": "stdout",
     "output_type": "stream",
     "text": [
      "3942\n",
      "8791\n",
      "5623\n",
      "1234\n",
      "5678\n",
      "9876\n",
      "2457\n",
      "7365\n",
      "8910\n",
      "4321\n",
      "6789\n",
      "5432\n",
      "1098\n",
      "3647\n",
      "2190\n",
      "8765\n",
      "9875\n",
      "1342\n",
      "7690\n",
      "2389\n",
      "6574\n",
      "9832\n",
      "3257\n",
      "7194\n",
      "8746\n",
      "2019\n",
      "5437\n",
      "1025\n",
      "6932\n"
     ]
    }
   ],
   "source": [
    "for i in sales:\n",
    "    print(i)"
   ]
  },
  {
   "cell_type": "code",
   "execution_count": 89,
   "metadata": {},
   "outputs": [
    {
     "name": "stdout",
     "output_type": "stream",
     "text": [
      "{'purchase_total': 100.5, 'currency': 'CAD'}\n",
      "{'purchase_total': 75.25, 'currency': 'EUR'}\n",
      "{'purchase_total': 50.75, 'currency': 'GBP'}\n",
      "{'purchase_total': 200.1, 'currency': 'USD'}\n",
      "{'purchase_total': 150.75, 'currency': 'JPY'}\n",
      "{'purchase_total': 300.5, 'currency': 'CAD'}\n",
      "{'purchase_total': 80.0, 'currency': 'USD'}\n",
      "{'purchase_total': 55.25, 'currency': 'GBP'}\n",
      "{'purchase_total': 120.6, 'currency': 'CAD'}\n",
      "{'purchase_total': 180.25, 'currency': 'EUR'}\n",
      "{'purchase_total': 90.75, 'currency': 'JPY'}\n",
      "{'purchase_total': 250.9, 'currency': 'USD'}\n",
      "{'purchase_total': 70.25, 'currency': 'GBP'}\n",
      "{'purchase_total': 140.5, 'currency': 'CAD'}\n",
      "{'purchase_total': 95.8, 'currency': 'EUR'}\n",
      "{'purchase_total': 180.75, 'currency': 'JPY'}\n",
      "{'purchase_total': 210.25, 'currency': 'USD'}\n",
      "{'purchase_total': 65.5, 'currency': 'GBP'}\n",
      "{'purchase_total': 110.2, 'currency': 'CAD'}\n",
      "{'purchase_total': 155.35, 'currency': 'EUR'}\n",
      "{'purchase_total': 80.75, 'currency': 'JPY'}\n",
      "{'purchase_total': 280.4, 'currency': 'USD'}\n",
      "{'purchase_total': 60.25, 'currency': 'GBP'}\n",
      "{'purchase_total': 130.75, 'currency': 'CAD'}\n",
      "{'purchase_total': 175.9, 'currency': 'EUR'}\n",
      "{'purchase_total': 85.75, 'currency': 'JPY'}\n",
      "{'purchase_total': 195.25, 'currency': 'USD'}\n",
      "{'purchase_total': 50.5, 'currency': 'GBP'}\n",
      "{'purchase_total': 120.3, 'currency': 'CAD'}\n"
     ]
    }
   ],
   "source": [
    "for v in sales.values():\n",
    "    print(v)"
   ]
  },
  {
   "cell_type": "code",
   "execution_count": 90,
   "metadata": {},
   "outputs": [
    {
     "name": "stdout",
     "output_type": "stream",
     "text": [
      "100.5 CAD\n",
      "75.25 EUR\n",
      "50.75 GBP\n",
      "200.1 USD\n",
      "150.75 JPY\n",
      "300.5 CAD\n",
      "80.0 USD\n",
      "55.25 GBP\n",
      "120.6 CAD\n",
      "180.25 EUR\n",
      "90.75 JPY\n",
      "250.9 USD\n",
      "70.25 GBP\n",
      "140.5 CAD\n",
      "95.8 EUR\n",
      "180.75 JPY\n",
      "210.25 USD\n",
      "65.5 GBP\n",
      "110.2 CAD\n",
      "155.35 EUR\n",
      "80.75 JPY\n",
      "280.4 USD\n",
      "60.25 GBP\n",
      "130.75 CAD\n",
      "175.9 EUR\n",
      "85.75 JPY\n",
      "195.25 USD\n",
      "50.5 GBP\n",
      "120.3 CAD\n"
     ]
    }
   ],
   "source": [
    "for v in sales.values():\n",
    "    purchase_total = v[\"purchase_total\"]\n",
    "    currency = v[\"currency\"]\n",
    "\n",
    "    print(purchase_total,currency)"
   ]
  },
  {
   "cell_type": "code",
   "execution_count": 91,
   "metadata": {},
   "outputs": [
    {
     "name": "stdout",
     "output_type": "stream",
     "text": [
      "74.44444444444444\n",
      "81.97167755991285\n",
      "64.40355329949239\n",
      "200.1\n",
      "1.017618469015796\n",
      "222.59259259259258\n",
      "80.0\n",
      "70.11421319796953\n",
      "89.33333333333333\n",
      "196.35076252723312\n",
      "0.6125961927906035\n",
      "250.9\n",
      "89.1497461928934\n",
      "104.07407407407406\n",
      "104.35729847494552\n",
      "1.2201296071283922\n",
      "210.25\n",
      "83.12182741116752\n",
      "81.62962962962963\n",
      "169.22657952069716\n",
      "0.5450924800864048\n",
      "280.4\n",
      "76.45939086294416\n",
      "96.85185185185185\n",
      "191.61220043572985\n",
      "0.5788443364385042\n",
      "195.25\n",
      "64.08629441624365\n",
      "89.1111111111111\n"
     ]
    }
   ],
   "source": [
    "for v in sales.values():\n",
    "    purchase_total = v[\"purchase_total\"]\n",
    "    currency = v[\"currency\"]\n",
    "    \n",
    "    data = requests.get(url).json()\n",
    "    exc_rates = data[\"rates\"][currency]\n",
    "\n",
    "    usd = purchase_total/exc_rates\n",
    "\n",
    "    print(usd)"
   ]
  },
  {
   "cell_type": "code",
   "execution_count": 92,
   "metadata": {},
   "outputs": [
    {
     "name": "stdout",
     "output_type": "stream",
     "text": [
      "74.44444444444444 CAD\n",
      "81.97167755991285 EUR\n",
      "64.40355329949239 GBP\n",
      "200.1 USD\n",
      "1.017618469015796 JPY\n",
      "222.59259259259258 CAD\n",
      "80.0 USD\n",
      "70.11421319796953 GBP\n",
      "89.33333333333333 CAD\n",
      "196.35076252723312 EUR\n",
      "0.6125961927906035 JPY\n",
      "250.9 USD\n",
      "89.1497461928934 GBP\n",
      "104.07407407407406 CAD\n",
      "104.35729847494552 EUR\n",
      "1.2201296071283922 JPY\n",
      "210.25 USD\n",
      "83.12182741116752 GBP\n",
      "81.62962962962963 CAD\n",
      "169.22657952069716 EUR\n",
      "0.5450924800864048 JPY\n",
      "280.4 USD\n",
      "76.45939086294416 GBP\n",
      "96.85185185185185 CAD\n",
      "191.61220043572985 EUR\n",
      "0.5788443364385042 JPY\n",
      "195.25 USD\n",
      "64.08629441624365 GBP\n",
      "89.1111111111111 CAD\n"
     ]
    }
   ],
   "source": [
    "for v in sales.values():\n",
    "    purchase_total = v[\"purchase_total\"]\n",
    "    currency = v[\"currency\"]\n",
    "    \n",
    "    data = requests.get(url).json()\n",
    "    exc_rates = data[\"rates\"][currency]\n",
    "\n",
    "    usd = purchase_total/exc_rates\n",
    "\n",
    "    print(usd, currency)"
   ]
  },
  {
   "cell_type": "code",
   "execution_count": 93,
   "metadata": {},
   "outputs": [],
   "source": [
    "total_sales_usd = 0\n",
    "for v in sales.values():\n",
    "    purchase_total = v[\"purchase_total\"]\n",
    "    currency = v[\"currency\"]\n",
    "\n",
    "    exc_rates = data[\"rates\"][currency]\n",
    "\n",
    "    usd_amount = purchase_total/exc_rates\n",
    "\n",
    "    total_sales_usd += usd_amount"
   ]
  },
  {
   "cell_type": "code",
   "execution_count": 94,
   "metadata": {},
   "outputs": [
    {
     "data": {
      "text/plain": [
       "3169.7648620217265"
      ]
     },
     "execution_count": 94,
     "metadata": {},
     "output_type": "execute_result"
    }
   ],
   "source": [
    "total_sales_usd"
   ]
  },
  {
   "cell_type": "code",
   "execution_count": 98,
   "metadata": {},
   "outputs": [],
   "source": [
    "def usd_sales():\n",
    "\n",
    "    total_sales_usd = 0\n",
    "    for v in sales.values():\n",
    "        purchase_total = v['purchase_total']\n",
    "        currency = v['currency']\n",
    "\n",
    "    #     data = requests.get(url).json()\n",
    "        exc_rates = data[\"rates\"][currency]\n",
    "\n",
    "        usd_amount = purchase_total/exc_rates\n",
    "\n",
    "        total_sales_usd += usd_amount\n",
    "    return total_sales_usd  "
   ]
  },
  {
   "cell_type": "code",
   "execution_count": 101,
   "metadata": {},
   "outputs": [
    {
     "data": {
      "text/plain": [
       "3169.7648620217265"
      ]
     },
     "execution_count": 101,
     "metadata": {},
     "output_type": "execute_result"
    }
   ],
   "source": [
    "usd_sales()"
   ]
  },
  {
   "cell_type": "code",
   "execution_count": 102,
   "metadata": {},
   "outputs": [],
   "source": [
    "def usd_sales(reporting_curr, ):\n",
    "    \n",
    "    \"\"\"\n",
    "    This is build to produce a total sales in reporting currency\n",
    "    \"\"\"\n",
    "\n",
    "    total_sales = 0\n",
    "    for v in sales.values():\n",
    "        purchase_total = v['purchase_total']\n",
    "        currency = v['currency']\n",
    "\n",
    "    #     data = requests.get(url).json()\n",
    "        exc_rates = data[\"rates\"][currency]\n",
    "\n",
    "        usd_amount = purchase_total/exc_rates\n",
    "\n",
    "        total_sales_usd += usd_amount\n",
    "    return total_sales_usd  "
   ]
  },
  {
   "cell_type": "code",
   "execution_count": 103,
   "metadata": {},
   "outputs": [
    {
     "data": {
      "text/plain": [
       "'\\n    This is build to produce a total sales in reporting currency\\n    \\n    abbbcbbcbcbc\\n    bababab\\n    \\n    \\n    '"
      ]
     },
     "execution_count": 103,
     "metadata": {},
     "output_type": "execute_result"
    }
   ],
   "source": [
    "usd_sales.__doc__"
   ]
  },
  {
   "cell_type": "code",
   "execution_count": 104,
   "metadata": {},
   "outputs": [
    {
     "data": {
      "text/plain": [
       "'Return the number of items in a container.'"
      ]
     },
     "execution_count": 104,
     "metadata": {},
     "output_type": "execute_result"
    }
   ],
   "source": [
    "len.__doc__"
   ]
  },
  {
   "cell_type": "code",
   "execution_count": 105,
   "metadata": {},
   "outputs": [
    {
     "name": "stdout",
     "output_type": "stream",
     "text": [
      "type(object) -> the object's type\n",
      "type(name, bases, dict, **kwds) -> a new type\n"
     ]
    }
   ],
   "source": [
    "print(type.__doc__)"
   ]
  },
  {
   "cell_type": "code",
   "execution_count": 106,
   "metadata": {},
   "outputs": [
    {
     "name": "stdout",
     "output_type": "stream",
     "text": [
      "range(stop) -> range object\n",
      "range(start, stop[, step]) -> range object\n",
      "\n",
      "Return an object that produces a sequence of integers from start (inclusive)\n",
      "to stop (exclusive) by step.  range(i, j) produces i, i+1, i+2, ..., j-1.\n",
      "start defaults to 0, and stop is omitted!  range(4) produces 0, 1, 2, 3.\n",
      "These are exactly the valid indices for a list of 4 elements.\n",
      "When step is given, it specifies the increment (or decrement).\n"
     ]
    }
   ],
   "source": [
    "print(range.__doc__)"
   ]
  },
  {
   "cell_type": "code",
   "execution_count": 107,
   "metadata": {},
   "outputs": [
    {
     "name": "stdout",
     "output_type": "stream",
     "text": [
      "max(iterable, *[, default=obj, key=func]) -> value\n",
      "max(arg1, arg2, *args, *[, key=func]) -> value\n",
      "\n",
      "With a single iterable argument, return its biggest item. The\n",
      "default keyword-only argument specifies an object to return if\n",
      "the provided iterable is empty.\n",
      "With two or more arguments, return the largest argument.\n"
     ]
    }
   ],
   "source": [
    "print(max.__doc__)"
   ]
  },
  {
   "cell_type": "code",
   "execution_count": 108,
   "metadata": {},
   "outputs": [
    {
     "data": {
      "text/plain": [
       "'Prints the values to a stream, or to sys.stdout by default.\\n\\n  sep\\n    string inserted between values, default a space.\\n  end\\n    string appended after the last value, default a newline.\\n  file\\n    a file-like object (stream); defaults to the current sys.stdout.\\n  flush\\n    whether to forcibly flush the stream.'"
      ]
     },
     "execution_count": 108,
     "metadata": {},
     "output_type": "execute_result"
    }
   ],
   "source": [
    "print.__doc__"
   ]
  },
  {
   "cell_type": "code",
   "execution_count": null,
   "metadata": {},
   "outputs": [],
   "source": []
  }
 ],
 "metadata": {
  "kernelspec": {
   "display_name": "base",
   "language": "python",
   "name": "python3"
  },
  "language_info": {
   "codemirror_mode": {
    "name": "ipython",
    "version": 3
   },
   "file_extension": ".py",
   "mimetype": "text/x-python",
   "name": "python",
   "nbconvert_exporter": "python",
   "pygments_lexer": "ipython3",
   "version": "3.11.5"
  }
 },
 "nbformat": 4,
 "nbformat_minor": 2
}
