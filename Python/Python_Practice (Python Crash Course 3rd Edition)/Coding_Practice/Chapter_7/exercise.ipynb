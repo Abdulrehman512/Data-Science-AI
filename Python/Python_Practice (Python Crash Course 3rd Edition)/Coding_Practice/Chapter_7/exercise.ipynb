{
 "cells": [
  {
   "cell_type": "markdown",
   "metadata": {},
   "source": [
    "#### 7-1. Rental Car: Write a program that asks the user what kind of rental car they would like. Print a message about that car, such as “Let me see if I can find you a Subaru.”"
   ]
  },
  {
   "cell_type": "code",
   "execution_count": 1,
   "metadata": {},
   "outputs": [
    {
     "name": "stdout",
     "output_type": "stream",
     "text": [
      "Let me see if I can find you a Civic\n"
     ]
    }
   ],
   "source": [
    "message = input(\"What kind of rental car would you like?\")\n",
    "print(f\"Let me see if I can find you a {message.title()}\")"
   ]
  },
  {
   "cell_type": "markdown",
   "metadata": {},
   "source": [
    "#### 7-2. Restaurant Seating: Write a program that asks the user how many people are in their dinner group. If the answer is more than eight, print a message saying they’ll have to wait for a table. Otherwise, report that their table is ready."
   ]
  },
  {
   "cell_type": "code",
   "execution_count": 3,
   "metadata": {},
   "outputs": [
    {
     "name": "stdout",
     "output_type": "stream",
     "text": [
      "Yuo will have to wait for a table\n"
     ]
    }
   ],
   "source": [
    "message = int(input(\"How many people are in your dinner group?\"))\n",
    "if message > 8:\n",
    "    print(\"Yuo will have to wait for a table\")\n",
    "else:\n",
    "    print(\"Table is ready\")    "
   ]
  },
  {
   "cell_type": "markdown",
   "metadata": {},
   "source": [
    "#### 7-3. Multiples of Ten: Ask the user for a number, and then report whether the number is a multiple of 10 or not"
   ]
  },
  {
   "cell_type": "code",
   "execution_count": 4,
   "metadata": {},
   "outputs": [
    {
     "name": "stdout",
     "output_type": "stream",
     "text": [
      "It is not a multiple of 10\n"
     ]
    }
   ],
   "source": [
    "prompt = int(input(\"Enter a number :\"))\n",
    "if prompt % 10 == 0:\n",
    "    print(\"It is a multiple of 10\")\n",
    "else:\n",
    "    print(\"It is not a multiple of 10\")    "
   ]
  },
  {
   "cell_type": "markdown",
   "metadata": {},
   "source": [
    "#### 7-4. Pizza Toppings: Write a loop that prompts the user to enter a series of pizza toppings until they enter a 'quit' value. As they enter each topping, print a message saying you’ll add that topping to their pizza."
   ]
  },
  {
   "cell_type": "code",
   "execution_count": 5,
   "metadata": {},
   "outputs": [
    {
     "name": "stdout",
     "output_type": "stream",
     "text": [
      "Adding pepperoni to your pizza.\n",
      "Adding cheeze to your pizza.\n",
      "\n",
      "Your pizza will have the following toppings:\n",
      "- pepperoni\n",
      "- cheeze\n"
     ]
    }
   ],
   "source": [
    "# Initialize an empty list to store toppings\n",
    "pizza_toppings = []\n",
    "\n",
    "# Start the loop\n",
    "while True:\n",
    "    # Prompt the user for a topping\n",
    "    topping = input(\"Enter a pizza topping (type 'quit' to finish): \")\n",
    "\n",
    "    # Check if the user wants to quit\n",
    "    if topping.lower() == 'quit':\n",
    "        break  # Exit the loop if 'quit' is entered\n",
    "\n",
    "    # Add the topping to the list\n",
    "    pizza_toppings.append(topping)\n",
    "\n",
    "    # Print a message indicating the topping will be added\n",
    "    print(f\"Adding {topping} to your pizza.\")\n",
    "\n",
    "# Print the final list of toppings\n",
    "print(\"\\nYour pizza will have the following toppings:\")\n",
    "for topping in pizza_toppings:\n",
    "    print(\"- \" + topping)\n"
   ]
  },
  {
   "cell_type": "markdown",
   "metadata": {},
   "source": [
    "#### 7-5. Movie Tickets: A movie theater charges different ticket prices depending on a person’s age. If a person is under the age of 3, the ticket is free; if they are between 3 and 12, the ticket is $10; and if they are over age 12, the ticket is $15. Write a loop in which you ask users their age, and then tell them the cost of their movie ticket."
   ]
  },
  {
   "cell_type": "code",
   "execution_count": 8,
   "metadata": {},
   "outputs": [
    {
     "name": "stdout",
     "output_type": "stream",
     "text": [
      "The cost of your movie ticket is $10.\n",
      "\n",
      "The cost of your movie ticket is $15.\n",
      "\n"
     ]
    }
   ],
   "source": [
    "# Start the loop\n",
    "while True:\n",
    "    # Prompt the user for their age\n",
    "    age_input = input(\"Enter your age (type 'quit' to exit): \")\n",
    "\n",
    "    # Check if the user wants to quit\n",
    "    if age_input.lower() == 'quit':\n",
    "        break  # Exit the loop if 'quit' is entered\n",
    "\n",
    "    # Convert the input to an integer\n",
    "    age = int(age_input)\n",
    "\n",
    "    # Determine the ticket price based on age\n",
    "    if age < 3:\n",
    "        ticket_price = 0  # Ticket is free for age under 3\n",
    "    elif 3 <= age <= 12:\n",
    "        ticket_price = 10  # Ticket is $10 for age between 3 and 12\n",
    "    else:\n",
    "        ticket_price = 15  # Ticket is $15 for age over 12\n",
    "\n",
    "    # Print the cost of the movie ticket\n",
    "    print(f\"The cost of your movie ticket is ${ticket_price}.\\n\")\n"
   ]
  },
  {
   "cell_type": "markdown",
   "metadata": {},
   "source": [
    "#### 7-6. Three Exits: Write different versions of either Exercise 7-4 or 7-5 that do each of the following at least once:\n",
    "* Use a conditional test in the while statement to stop the loop.\n",
    "* Use an active variable to control how long the loop runs.\n",
    "* Use a break statement to exit the loop when the user enters a 'quit' value."
   ]
  },
  {
   "cell_type": "code",
   "execution_count": 10,
   "metadata": {},
   "outputs": [
    {
     "name": "stdout",
     "output_type": "stream",
     "text": [
      "The cost of your movie ticket is $15.\n",
      "\n"
     ]
    }
   ],
   "source": [
    "# Use a conditional test in the while statement to stop the loop\n",
    "age = None  # Initialize age to None\n",
    "while age != 'quit':\n",
    "    age = input(\"Enter your age (type 'quit' to exit): \")\n",
    "\n",
    "    if age.lower() != 'quit':\n",
    "        age = int(age)\n",
    "\n",
    "        # Determine the ticket price based on age\n",
    "        if age < 3:\n",
    "            ticket_price = 0\n",
    "        elif 3 <= age <= 12:\n",
    "            ticket_price = 10\n",
    "        else:\n",
    "            ticket_price = 15\n",
    "\n",
    "        # Print the cost of the movie ticket\n",
    "        print(f\"The cost of your movie ticket is ${ticket_price}.\\n\")\n"
   ]
  },
  {
   "cell_type": "code",
   "execution_count": 11,
   "metadata": {},
   "outputs": [],
   "source": [
    "# Use an active variable to control how long the loop runs\n",
    "active = True\n",
    "while active:\n",
    "    age = input(\"Enter your age (type 'quit' to exit): \")\n",
    "\n",
    "    if age.lower() == 'quit':\n",
    "        active = False\n",
    "    else:\n",
    "        age = int(age)\n",
    "\n",
    "        # Determine the ticket price based on age\n",
    "        if age < 3:\n",
    "            ticket_price = 0\n",
    "        elif 3 <= age <= 12:\n",
    "            ticket_price = 10\n",
    "        else:\n",
    "            ticket_price = 15\n",
    "\n",
    "        # Print the cost of the movie ticket\n",
    "        print(f\"The cost of your movie ticket is ${ticket_price}.\\n\")\n"
   ]
  },
  {
   "cell_type": "code",
   "execution_count": 12,
   "metadata": {},
   "outputs": [],
   "source": [
    "# Use a break statement to exit the loop when the user enters a 'quit' value\n",
    "while True:\n",
    "    age = input(\"Enter your age (type 'quit' to exit): \")\n",
    "\n",
    "    if age.lower() == 'quit':\n",
    "        break\n",
    "    else:\n",
    "        age = int(age)\n",
    "\n",
    "        # Determine the ticket price based on age\n",
    "        if age < 3:\n",
    "            ticket_price = 0\n",
    "        elif 3 <= age <= 12:\n",
    "            ticket_price = 10\n",
    "        else:\n",
    "            ticket_price = 15\n",
    "\n",
    "        # Print the cost of the movie ticket\n",
    "        print(f\"The cost of your movie ticket is ${ticket_price}.\\n\")\n"
   ]
  },
  {
   "cell_type": "markdown",
   "metadata": {},
   "source": [
    "#### 7-7. Infinity: Write a loop that never ends, and run it. (To end the loop, press CTRL-C or close the window displaying the output.)"
   ]
  },
  {
   "cell_type": "code",
   "execution_count": 16,
   "metadata": {},
   "outputs": [],
   "source": [
    "# # Infinite loop\n",
    "# while True:\n",
    "#     print(\"This loop will never end. Press CTRL-C to stop.\")\n"
   ]
  },
  {
   "cell_type": "markdown",
   "metadata": {},
   "source": [
    "#### 7-8. Deli: Make a list called sandwich_orders and fill it with the names of various sandwiches. Then make an empty list called finished_sandwiches. Loop through the list of sandwich orders and print a message for each order, such as I made your tuna sandwich. As each sandwich is made, move it to the list of finished sandwiches. After all the sandwiches have been made, print a message listing each sandwich that was made."
   ]
  },
  {
   "cell_type": "code",
   "execution_count": 17,
   "metadata": {},
   "outputs": [
    {
     "name": "stdout",
     "output_type": "stream",
     "text": [
      "I made your turkey sandwich.\n",
      "I made your ham and cheese sandwich.\n",
      "I made your vegetarian sandwich.\n",
      "I made your BLT sandwich.\n",
      "I made your chicken sandwich.\n",
      "\n",
      "Finished sandwiches:\n",
      "- turkey\n",
      "- ham and cheese\n",
      "- vegetarian\n",
      "- BLT\n",
      "- chicken\n"
     ]
    }
   ],
   "source": [
    "# Make a list of sandwich orders\n",
    "sandwich_orders = [\"turkey\", \"ham and cheese\", \"vegetarian\", \"BLT\", \"chicken\"]\n",
    "\n",
    "# Make an empty list for finished sandwiches\n",
    "finished_sandwiches = []\n",
    "\n",
    "# Loop through the list of sandwich orders\n",
    "while sandwich_orders:\n",
    "    current_order = sandwich_orders.pop(0)  # Take the first order from the list\n",
    "\n",
    "    # Print a message for each order\n",
    "    print(f\"I made your {current_order} sandwich.\")\n",
    "\n",
    "    # Add the finished sandwich to the list\n",
    "    finished_sandwiches.append(current_order)\n",
    "\n",
    "# Print a message listing each sandwich that was made\n",
    "print(\"\\nFinished sandwiches:\")\n",
    "for sandwich in finished_sandwiches:\n",
    "    print(\"- \" + sandwich)\n",
    "\n"
   ]
  },
  {
   "cell_type": "markdown",
   "metadata": {},
   "source": [
    "#### 7-9. No Pastrami: Using the list sandwich_orders from Exercise 7-8, make sure the sandwich 'pastrami' appears in the list at least three times. Add code near the beginning of your program to print a message saying the deli has run out of pastrami, and then use a while loop to remove all occurrences of 'pastrami' from sandwich_orders. Make sure no pastrami sandwiches end up in finished_sandwiches"
   ]
  },
  {
   "cell_type": "code",
   "execution_count": 18,
   "metadata": {},
   "outputs": [
    {
     "name": "stdout",
     "output_type": "stream",
     "text": [
      "Sorry, the deli has run out of pastrami.\n",
      "\n",
      "I made your turkey sandwich.\n",
      "I made your ham and cheese sandwich.\n",
      "I made your vegetarian sandwich.\n",
      "I made your BLT sandwich.\n",
      "I made your chicken sandwich.\n",
      "\n",
      "Finished sandwiches:\n",
      "- turkey\n",
      "- ham and cheese\n",
      "- vegetarian\n",
      "- BLT\n",
      "- chicken\n"
     ]
    }
   ],
   "source": [
    "# Make a list of sandwich orders with 'pastrami' appearing at least three times\n",
    "sandwich_orders = [\"pastrami\", \"turkey\", \"pastrami\", \"ham and cheese\", \"pastrami\", \"vegetarian\", \"BLT\", \"chicken\"]\n",
    "\n",
    "# Make an empty list for finished sandwiches\n",
    "finished_sandwiches = []\n",
    "\n",
    "# Print a message about running out of pastrami\n",
    "print(\"Sorry, the deli has run out of pastrami.\\n\")\n",
    "\n",
    "# Remove all occurrences of 'pastrami' from sandwich_orders using a while loop\n",
    "while \"pastrami\" in sandwich_orders:\n",
    "    sandwich_orders.remove(\"pastrami\")\n",
    "\n",
    "# Loop through the list of remaining sandwich orders\n",
    "while sandwich_orders:\n",
    "    current_order = sandwich_orders.pop(0)  # Take the first order from the list\n",
    "\n",
    "    # Print a message for each order (excluding pastrami)\n",
    "    print(f\"I made your {current_order} sandwich.\")\n",
    "\n",
    "    # Add the finished sandwich to the list\n",
    "    finished_sandwiches.append(current_order)\n",
    "\n",
    "# Print a message listing each sandwich that was made\n",
    "print(\"\\nFinished sandwiches:\")\n",
    "for sandwich in finished_sandwiches:\n",
    "    print(\"- \" + sandwich)\n"
   ]
  },
  {
   "cell_type": "markdown",
   "metadata": {},
   "source": [
    "#### acation: Write a program that polls users about their dream vacation. Write a prompt similar to If you could visit one place in the world, where would you go? Include a block of code that prints the results of the poll."
   ]
  },
  {
   "cell_type": "code",
   "execution_count": 19,
   "metadata": {},
   "outputs": [
    {
     "name": "stdout",
     "output_type": "stream",
     "text": [
      "\n",
      "Poll Results:\n",
      "nc: 2 votes\n",
      "silicon valley: 1 votes\n"
     ]
    }
   ],
   "source": [
    "# Initialize an empty dictionary to store the poll results\n",
    "dream_vacations = {}\n",
    "\n",
    "# Set a flag to indicate when the poll should stop\n",
    "poll_active = True\n",
    "\n",
    "# Poll users about their dream vacation\n",
    "while poll_active:\n",
    "    # Prompt the user for their dream vacation destination\n",
    "    response = input(\"If you could visit one place in the world, where would you go? \")\n",
    "    \n",
    "    # Add the response to the dictionary\n",
    "    if response.lower() == 'quit':\n",
    "        poll_active = False\n",
    "    else:\n",
    "        dream_vacations.setdefault(response, 0)\n",
    "        dream_vacations[response] += 1\n",
    "\n",
    "# Print the results of the poll\n",
    "print(\"\\nPoll Results:\")\n",
    "for destination, count in dream_vacations.items():\n",
    "    print(f\"{destination}: {count} votes\")\n"
   ]
  },
  {
   "cell_type": "code",
   "execution_count": null,
   "metadata": {},
   "outputs": [],
   "source": []
  }
 ],
 "metadata": {
  "kernelspec": {
   "display_name": "base",
   "language": "python",
   "name": "python3"
  },
  "language_info": {
   "codemirror_mode": {
    "name": "ipython",
    "version": 3
   },
   "file_extension": ".py",
   "mimetype": "text/x-python",
   "name": "python",
   "nbconvert_exporter": "python",
   "pygments_lexer": "ipython3",
   "version": "3.11.5"
  }
 },
 "nbformat": 4,
 "nbformat_minor": 2
}
