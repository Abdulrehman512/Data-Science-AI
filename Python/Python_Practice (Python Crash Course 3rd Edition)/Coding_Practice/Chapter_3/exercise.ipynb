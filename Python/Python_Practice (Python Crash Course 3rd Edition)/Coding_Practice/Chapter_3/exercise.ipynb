{
 "cells": [
  {
   "cell_type": "markdown",
   "metadata": {},
   "source": [
    "#### 3-1. Names: Store the names of a few of your friends in a list called names. Print each person’s name by accessing each element in the list, one at a time"
   ]
  },
  {
   "cell_type": "code",
   "execution_count": 1,
   "metadata": {},
   "outputs": [
    {
     "name": "stdout",
     "output_type": "stream",
     "text": [
      "['Abdul', 'Farhan', 'Hamza', 'Abdullah']\n"
     ]
    }
   ],
   "source": [
    "names = [\"Abdul\", \"Farhan\", \"Hamza\", \"Abdullah\"]\n",
    "\n",
    "print(names)"
   ]
  },
  {
   "cell_type": "markdown",
   "metadata": {},
   "source": [
    "#### 3-2. Greetings: Start with the list you used in Exercise 3-1, but instead of just printing each person’s name, print a message to them. The text of each message should be the same, but each message should be personalized with the person’s name."
   ]
  },
  {
   "cell_type": "code",
   "execution_count": 2,
   "metadata": {},
   "outputs": [
    {
     "name": "stdout",
     "output_type": "stream",
     "text": [
      "How are you? Abdul\n",
      "How are you? Farhan\n",
      "How are you? Hamza\n",
      "How are you? Abdullah\n"
     ]
    }
   ],
   "source": [
    "message = \"How are you?\"\n",
    "\n",
    "print(message, names[0])\n",
    "print(message, names[1])\n",
    "print(message, names[2])\n",
    "print(message, names[3])"
   ]
  },
  {
   "cell_type": "markdown",
   "metadata": {},
   "source": [
    "#### 3-3. Your Own List: Think of your favorite mode of transportation, such as a motorcycle or a car, and make a list that stores several examples. Use your list to print a series of statements about these items, such as “I would like to own a Honda motorcycle.”"
   ]
  },
  {
   "cell_type": "code",
   "execution_count": 3,
   "metadata": {},
   "outputs": [
    {
     "name": "stdout",
     "output_type": "stream",
     "text": [
      "I would like to own a Bike\n",
      "I would like to own a Car\n",
      "I would like to own a Plane\n",
      "I would like to own a Ship\n"
     ]
    }
   ],
   "source": [
    "fav_trans = [\"Bike\",\"Car\",\"Plane\",\"Ship\"]\n",
    "\n",
    "print(f\"I would like to own a {fav_trans[0]}\")\n",
    "print(f\"I would like to own a {fav_trans[1]}\")\n",
    "print(f\"I would like to own a {fav_trans[2]}\")\n",
    "print(f\"I would like to own a {fav_trans[3]}\")"
   ]
  },
  {
   "cell_type": "markdown",
   "metadata": {},
   "source": [
    "#### 3-4. Guest List: If you could invite anyone, living or deceased, to dinner, who would you invite? Make a list that includes at least three people you’d like to invite to dinner. Then use your list to print a message to each person, inviting them to dinner."
   ]
  },
  {
   "cell_type": "code",
   "execution_count": 2,
   "metadata": {},
   "outputs": [
    {
     "name": "stdout",
     "output_type": "stream",
     "text": [
      "Hi Quaid-e-Azam, You are invited to Dinner on 1st March,2024 \n",
      "Hi Allama Iqbal, You are invited to Dinner on 1st March,2024 \n",
      "Hi Imran Khan, You are invited to Dinner on 1st March,2024 \n"
     ]
    }
   ],
   "source": [
    "guest_list = [\"Quaid-e-Azam\", \"Allama Iqbal\", \"Imran Khan\"]\n",
    "message = \"You are invited to Dinner on 1st March,2024\"\n",
    "\n",
    "for guest in guest_list:\n",
    "    print(f\"Hi {guest}, {message} \")"
   ]
  },
  {
   "cell_type": "markdown",
   "metadata": {},
   "source": [
    "#### 3-5. Changing Guest List: You just heard that one of your guests can’t make the dinner, so you need to send out a new set of invitations. You’ll have to think of someone else to invite.\n",
    "* Start with your program from Exercise 3-4. Add a print() call at the end of \n",
    "your program, stating the name of the guest who can’t make it.\n",
    "* Modify your list, replacing the name of the guest who can’t make it with the \n",
    "name of the new person you are inviting.\n",
    "* Print a second set of invitation messages, one for each person who is still in \n",
    "your list"
   ]
  },
  {
   "cell_type": "code",
   "execution_count": 3,
   "metadata": {},
   "outputs": [
    {
     "name": "stdout",
     "output_type": "stream",
     "text": [
      "Quaid-e-Azam cannot join us at dinner\n"
     ]
    }
   ],
   "source": [
    "print(guest_list[0], \"cannot join us at dinner\")"
   ]
  },
  {
   "cell_type": "code",
   "execution_count": 4,
   "metadata": {},
   "outputs": [
    {
     "name": "stdout",
     "output_type": "stream",
     "text": [
      "['Molana Rumi', 'Allama Iqbal', 'Imran Khan']\n"
     ]
    }
   ],
   "source": [
    "guest_list[0] = \"Molana Rumi\"\n",
    "print(guest_list)"
   ]
  },
  {
   "cell_type": "code",
   "execution_count": 6,
   "metadata": {},
   "outputs": [
    {
     "name": "stdout",
     "output_type": "stream",
     "text": [
      "Hi Molana Rumi, You are invited to Dinner on 1st March,2024 \n",
      " I just found a bigger table for Dinner\n",
      "Hi Allama Iqbal, You are invited to Dinner on 1st March,2024 \n",
      " I just found a bigger table for Dinner\n",
      "Hi Imran Khan, You are invited to Dinner on 1st March,2024 \n",
      " I just found a bigger table for Dinner\n"
     ]
    }
   ],
   "source": [
    "for guest in guest_list:\n",
    "    print(f\"Hi {guest}, {message} \")\n",
    "\n",
    "    print(\" I just found a bigger table for Dinner\")"
   ]
  },
  {
   "cell_type": "markdown",
   "metadata": {},
   "source": [
    "#### 3-6. More Guests: You just found a bigger dinner table, so now more space is available. Think of three more guests to invite to dinner.\n",
    "* Start with your program from Exercise 3-4 or 3-5. Add a print() call to the \n",
    "end of your program, informing people that you found a bigger table.\n",
    "* Use insert() to add one new guest to the beginning of your list.\n",
    "* Use insert() to add one new guest to the middle of your list.\n",
    "* Use append() to add one new guest to the end of your list.\n",
    "* Print a new set of invitation messages, one for each person in your list"
   ]
  },
  {
   "cell_type": "code",
   "execution_count": 11,
   "metadata": {},
   "outputs": [
    {
     "name": "stdout",
     "output_type": "stream",
     "text": [
      "['Asad', 'Asad', 'Asad', 'Hafiz', 'Asad', 'Hafiz', 'Molana Rumi', 'Hafiz', 'Allama Iqbal', 'Imran Khan', 'Farhan', 'Farhan', 'Farhan']\n",
      "Hi Asad, You are invited to Dinner on 1st March,2024 \n",
      "Hi Asad, You are invited to Dinner on 1st March,2024 \n",
      "Hi Asad, You are invited to Dinner on 1st March,2024 \n",
      "Hi Hafiz, You are invited to Dinner on 1st March,2024 \n",
      "Hi Asad, You are invited to Dinner on 1st March,2024 \n",
      "Hi Hafiz, You are invited to Dinner on 1st March,2024 \n",
      "Hi Molana Rumi, You are invited to Dinner on 1st March,2024 \n",
      "Hi Hafiz, You are invited to Dinner on 1st March,2024 \n",
      "Hi Allama Iqbal, You are invited to Dinner on 1st March,2024 \n",
      "Hi Imran Khan, You are invited to Dinner on 1st March,2024 \n",
      "Hi Farhan, You are invited to Dinner on 1st March,2024 \n",
      "Hi Farhan, You are invited to Dinner on 1st March,2024 \n",
      "Hi Farhan, You are invited to Dinner on 1st March,2024 \n"
     ]
    }
   ],
   "source": [
    "guest_list.insert(0, \"Asad\")\n",
    "\n",
    "guest_list.insert(3, \"Hafiz\")\n",
    "\n",
    "guest_list.append(\"Farhan\")\n",
    "print(guest_list)\n",
    "\n",
    "for guest in guest_list:\n",
    "    print(f\"Hi {guest}, {message} \")"
   ]
  },
  {
   "cell_type": "markdown",
   "metadata": {},
   "source": [
    "#### 3-7. Shrinking Guest List: You just found out that your new dinner table won’t arrive in time for the dinner, and now you have space for only two guests.\n",
    "* Start with your program from Exercise 3-6. Add a new line that prints a \n",
    "message saying that you can invite only two people for dinner.\n",
    "* Use pop() to remove guests from your list one at a time until only two \n",
    "names remain in your list. Each time you pop a name from your list, print a \n",
    "message to that person letting them know you’re sorry you can’t invite them \n",
    "to dinner.\n",
    "* Print a message to each of the two people still on your list, letting them \n",
    "know they’re still invited.\n",
    "* Use del to remove the last two names from your list, so you have an empty \n",
    "list. Print your list to make sure you actually have an empty list at the end of \n",
    "your program.\n"
   ]
  },
  {
   "cell_type": "code",
   "execution_count": null,
   "metadata": {},
   "outputs": [],
   "source": []
  },
  {
   "cell_type": "markdown",
   "metadata": {},
   "source": [
    "#### 3-8. Seeing the World: Think of at least five places in the world you’d like to visit.\n",
    "* Store the locations in a list. Make sure the list is not in alphabetical order.\n",
    "* Print your list in its original order. Don’t worry about printing the list neatly; \n",
    "just print it as a raw Python list.\n",
    "* Use sorted() to print your list in alphabetical order without modifying the \n",
    "actual list.\n",
    "* Show that your list is still in its original order by printing it.\n",
    "* Use sorted() to print your list in reverse-alphabetical order without changing the order of the original list.\n",
    "* Show that your list is still in its original order by printing it again.\n",
    "* Use reverse() to change the order of your list. Print the list to show that its \n",
    "order has changed.\n",
    "* Use reverse() to change the order of your list again. Print the list to show \n",
    "it’s back to its original order.\n",
    "* Use sort() to change your list so it’s stored in alphabetical order. Print the \n",
    "list to show that its order has been changed.\n",
    "* Use sort() to change your list so it’s stored in reverse-alphabetical order. \n",
    "Print the list to show that its order has changed"
   ]
  },
  {
   "cell_type": "code",
   "execution_count": 22,
   "metadata": {},
   "outputs": [
    {
     "name": "stdout",
     "output_type": "stream",
     "text": [
      "['Switzerland', 'California', 'New Orleans', 'Saudi Arabia', 'Dubai']\n",
      "['California', 'Dubai', 'New Orleans', 'Saudi Arabia', 'Switzerland']\n",
      "['California', 'Dubai', 'New Orleans', 'Saudi Arabia', 'Switzerland']\n",
      "['Switzerland', 'Saudi Arabia', 'New Orleans', 'Dubai', 'California']\n",
      "['California', 'Dubai', 'New Orleans', 'Saudi Arabia', 'Switzerland']\n",
      "['California', 'Dubai', 'New Orleans', 'Saudi Arabia', 'Switzerland']\n",
      "['California', 'Dubai', 'New Orleans', 'Saudi Arabia', 'Switzerland']\n"
     ]
    }
   ],
   "source": [
    "locations = [\"Switzerland\",\"California\",\"New Orleans\",\"Saudi Arabia\",\"Dubai\"]\n",
    "print(locations)\n",
    "\n",
    "locations.sort()\n",
    "print(locations)\n",
    "\n",
    "locations.sort()\n",
    "print(locations)\n",
    "\n",
    "locations.reverse()\n",
    "print(locations)\n",
    "\n",
    "locations.reverse()\n",
    "print(locations)\n",
    "\n",
    "locations.sort()\n",
    "print(locations)\n",
    "\n",
    "locations.sort()\n",
    "print(locations)"
   ]
  },
  {
   "cell_type": "markdown",
   "metadata": {},
   "source": [
    "#### 3-10. Every Function: Think of things you could store in a list. For example, you could make a list of mountains, rivers, countries, cities, languages, or anything else you’d like. Write a program that creates a list containing these items and then uses each function introduced in this chapter at least once."
   ]
  },
  {
   "cell_type": "code",
   "execution_count": 26,
   "metadata": {},
   "outputs": [
    {
     "name": "stdout",
     "output_type": "stream",
     "text": [
      "['USA', 'K2', 'Tokyo', 'Urdu', 'Indus River']\n",
      "['Indus River', 'K2', 'Tokyo', 'USA', 'Urdu']\n",
      "['Urdu', 'USA', 'Tokyo', 'K2', 'Indus River']\n",
      "['Urdu', 'USA', 'Tokyo', 'K2']\n"
     ]
    }
   ],
   "source": [
    "fav_places = [\"USA\",\"K2\",\"Tokyo\",\"Urdu\",\"Indus River\"]\n",
    "print(fav_places)\n",
    "\n",
    "fav_places.sort()\n",
    "print(fav_places)\n",
    "\n",
    "fav_places.reverse()\n",
    "print(fav_places)\n",
    "\n",
    "fav_places.pop()\n",
    "print(fav_places)"
   ]
  },
  {
   "cell_type": "markdown",
   "metadata": {},
   "source": [
    "#### 3-11. Intentional Error: If you haven’t received an index error in one of your programs yet, try to make one happen. Change an index in one of your programs to produce an index error. Make sure you correct the error before closing the program."
   ]
  },
  {
   "cell_type": "code",
   "execution_count": 27,
   "metadata": {},
   "outputs": [
    {
     "ename": "IndexError",
     "evalue": "list index out of range",
     "output_type": "error",
     "traceback": [
      "\u001b[1;31m---------------------------------------------------------------------------\u001b[0m",
      "\u001b[1;31mIndexError\u001b[0m                                Traceback (most recent call last)",
      "Cell \u001b[1;32mIn[27], line 2\u001b[0m\n\u001b[0;32m      1\u001b[0m fav_places \u001b[38;5;241m=\u001b[39m [\u001b[38;5;124m\"\u001b[39m\u001b[38;5;124mUSA\u001b[39m\u001b[38;5;124m\"\u001b[39m,\u001b[38;5;124m\"\u001b[39m\u001b[38;5;124mK2\u001b[39m\u001b[38;5;124m\"\u001b[39m,\u001b[38;5;124m\"\u001b[39m\u001b[38;5;124mTokyo\u001b[39m\u001b[38;5;124m\"\u001b[39m,\u001b[38;5;124m\"\u001b[39m\u001b[38;5;124mUrdu\u001b[39m\u001b[38;5;124m\"\u001b[39m,\u001b[38;5;124m\"\u001b[39m\u001b[38;5;124mIndus River\u001b[39m\u001b[38;5;124m\"\u001b[39m]\n\u001b[1;32m----> 2\u001b[0m \u001b[38;5;28mprint\u001b[39m(fav_places[\u001b[38;5;241m6\u001b[39m])\n",
      "\u001b[1;31mIndexError\u001b[0m: list index out of range"
     ]
    }
   ],
   "source": [
    "fav_places = [\"USA\",\"K2\",\"Tokyo\",\"Urdu\",\"Indus River\"]\n",
    "print(fav_places[6])"
   ]
  },
  {
   "cell_type": "code",
   "execution_count": 28,
   "metadata": {},
   "outputs": [
    {
     "name": "stdout",
     "output_type": "stream",
     "text": [
      "Urdu\n"
     ]
    }
   ],
   "source": [
    "fav_places = [\"USA\",\"K2\",\"Tokyo\",\"Urdu\",\"Indus River\"]\n",
    "print(fav_places[3])"
   ]
  },
  {
   "cell_type": "code",
   "execution_count": null,
   "metadata": {},
   "outputs": [],
   "source": []
  }
 ],
 "metadata": {
  "kernelspec": {
   "display_name": "base",
   "language": "python",
   "name": "python3"
  },
  "language_info": {
   "codemirror_mode": {
    "name": "ipython",
    "version": 3
   },
   "file_extension": ".py",
   "mimetype": "text/x-python",
   "name": "python",
   "nbconvert_exporter": "python",
   "pygments_lexer": "ipython3",
   "version": "3.11.5"
  }
 },
 "nbformat": 4,
 "nbformat_minor": 2
}
